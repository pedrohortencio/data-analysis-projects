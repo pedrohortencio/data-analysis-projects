{
  "nbformat": 4,
  "nbformat_minor": 0,
  "metadata": {
    "colab": {
      "name": "Pandas e Matplotlib: Uma Introdução.ipynb",
      "provenance": [],
      "collapsed_sections": [],
      "authorship_tag": "ABX9TyPQgnRp3DwBtV4BNFNLn5LJ",
      "include_colab_link": true
    },
    "kernelspec": {
      "name": "python3",
      "display_name": "Python 3"
    },
    "language_info": {
      "name": "python"
    }
  },
  "cells": [
    {
      "cell_type": "markdown",
      "metadata": {
        "id": "view-in-github",
        "colab_type": "text"
      },
      "source": [
        "<a href=\"https://colab.research.google.com/github/pedrohortencio/data-analysis-projects/blob/main/World%20Happiness%20Report/Pandas_e_Matplotlib_Uma_Introdu%C3%A7%C3%A3o.ipynb\" target=\"_parent\"><img src=\"https://colab.research.google.com/assets/colab-badge.svg\" alt=\"Open In Colab\"/></a>"
      ]
    },
    {
      "cell_type": "markdown",
      "metadata": {
        "id": "V1LkcOOieE8H"
      },
      "source": [
        "#_pandas_\n"
      ]
    },
    {
      "cell_type": "markdown",
      "metadata": {
        "id": "Efqunea7r8NJ"
      },
      "source": [
        "\n",
        "_pandas_ é tanto uma forma resumida de _\"panel data\"_, que em estatística e econometria significa dados longitudinais e multidimensionais que representam medidas em relação ao tempo, quanto uma abreviação de _\"Python data analysis\"_.\n",
        "\n",
        "A versão curta: a biblioteca é utilizada para manipulação de dados tabulares.\n",
        "\n",
        "Já para uma versão não tão curta, é preciso buscar referências. Segundo a própria documentação do _pandas_, a biblioteca é utilizada em diversos casos:\n",
        "* Importação e exportação de dados em diversos formatos (CSV, Excel, Hierarchical Data Format [(HDF5)](https://pt.wikipedia.org/wiki/Hierarchical_Data_Format#:~:text=Hierarchical%20Data%20Format%20(HDF%2C%20HDF4,grandes%20quantidades%20de%20dados%20num%C3%A9ricos.), estruturas do Python e arquivos de texto);\n",
        "* Manipulação de dados;\n",
        "* Alinhamento e limpeza de dados;\n",
        "* Tratamento de grandes quantidades de dados;\n",
        "* Agregação de dados;\n",
        "* Todo o processo de [_data wrangling_](https://oestatistico.com.br/data-wrangling-dados/);\n",
        "\n",
        "Ou seja: o _pandas_ abriga todo o processo de análise de dados, desde a importação dos dados, passando por todas as etapas de processamento, até a exportação final. Inclusive há suporte para a ingestão desses dados em sistemas de Big Data e de Machine Learning.\n",
        "\n",
        "A biblioteca nasceu, em 2008, a partir da necessidade de cientistas de dados da empresa [AQR Capital Management](https://www.aqr.com/) terem ferramentas que automatizem certas tarefas (como, por exemplo, a manipulação de datasets que contenham [_missing values_](https://isitics.com/2018/10/05/o-que-sao-missing-values/)). Se tornou open source em 2010 e, hoje, conta com mais de 800 contribuidores. É praticamente uma linguagem por si só.\n",
        "\n",
        "Um resumo do motivo da existência da biblioteca pode ser encontrado na sua \"Missão\", descrita na documentação:\n",
        "\n",
        "> \"_pandas_ tem o objetivo de ser o bloco de alto nível fundamental para a realização de análise de dados prática, no mundo real, com Python. Adicionalmente, há o objetivo mais geral de ser a ferrmanete open source de análise de dados mais flexível e poderosa em qualquer linguagem.\"\n",
        "\n",
        "Premissas ambiciosas. Condizentes com a realidade, pois **não existe projeto de análise de dados em Python que não utilize a biblioteca _pandas_**."
      ]
    },
    {
      "cell_type": "markdown",
      "metadata": {
        "id": "pPy-1QGiiJME"
      },
      "source": [
        "## Básico\n"
      ]
    },
    {
      "cell_type": "markdown",
      "metadata": {
        "id": "cyPVO0NnsAah"
      },
      "source": [
        "A primeira coisa a se ter em mente: a biblioteca é _extremamente_ densa. Existem diversas funções, vários métodos, extensas ferramentas para manipulação das duas estruturas de dados da biblioteca (_Series_ e _DataFrames_). A biblioteca possui, além disso, uma linguagem própria, com mecanismos próprios para executar determinadas ações.\n",
        "\n",
        "Como se não bastasse, é uma característica do _pandas_ possuir métodos e funções com **vários** argumentos. Isso surgiu da necessidade de se adequar a dados com diferentes formatações, erros, missing values e características. Um exemplo é a função que lê um arquivo csv:\n",
        "\n",
        "```pandas.read_csv(filepath_or_buffer, sep=<object object>, delimiter=None, header='infer', names=None, index_col=None, usecols=None, squeeze=False, prefix=None, mangle_dupe_cols=True, dtype=None, engine=None, converters=None, true_values=None, false_values=None, skipinitialspace=False, skiprows=None, skipfooter=0, nrows=None, na_values=None, keep_default_na=True, na_filter=True, verbose=False, skip_blank_lines=True, parse_dates=False, infer_datetime_format=False, keep_date_col=False, date_parser=None, dayfirst=False, cache_dates=True, iterator=False, chunksize=None, compression='infer', thousands=None, decimal='.', lineterminator=None, quotechar='\"', quoting=0, doublequote=True, escapechar=None, comment=None, encoding=None, dialect=None, error_bad_lines=True, warn_bad_lines=True, delim_whitespace=False, low_memory=True, memory_map=False, float_precision=None, storage_options=None)```\n",
        "\n",
        "Ou seja, é difícil (se não impossível) se tornar proficiente em _pandas_ sem prática. É necessário práticar com diferentes datasets, de diferentes fontes, para adquirir conhecimento sobre todas as funções do _pandas_.\n",
        "\n",
        "Isso se torna algo fácil pelo seguinte ponto: _pandas_ é uma biblioteca com **muito** suporte. A documentação é extensa e conta com exemplos e a comunidade no Stack Overflow é uma das mais ativas da plataforma. É extremamente comum, inclusive, encontrar questões respondidas pelos próprios criadores do _pandas_, que ativamente prestam suporte ao uso da biblioteca."
      ]
    },
    {
      "cell_type": "code",
      "metadata": {
        "id": "HvE209Apghwt"
      },
      "source": [
        "# Uma convenção:\n",
        "import pandas as pd"
      ],
      "execution_count": 1,
      "outputs": []
    },
    {
      "cell_type": "markdown",
      "metadata": {
        "id": "6LSnGYiMtHyL"
      },
      "source": [
        "O pandas introduz dois tipos de estruturas de dados extremamente úteis: _Series_ e _DataFrames_. Um pode ser visto como complemento do outro."
      ]
    },
    {
      "cell_type": "markdown",
      "metadata": {
        "id": "qsEa7eI_iK71"
      },
      "source": [
        "### Séries"
      ]
    },
    {
      "cell_type": "markdown",
      "metadata": {
        "id": "3kpMBIEsurBJ"
      },
      "source": [
        "Series são objetos parecidos com arrays, de uma dimensão, que contém:\n",
        "\n",
        "* values: sequencia de valores\n",
        "* index: um array de labels para os valores\n",
        "\n",
        "Ambos, obrigatoriamente, do mesmo comprimeiro."
      ]
    },
    {
      "cell_type": "code",
      "metadata": {
        "id": "EyCbnxjCiMc9",
        "colab": {
          "base_uri": "https://localhost:8080/"
        },
        "outputId": "7e4756b6-3cfe-47f0-f11e-4a703e195eb0"
      },
      "source": [
        "serie1 = pd.Series([10, 73, 89, 1, 6, -20, -10, 8])\n",
        "serie1"
      ],
      "execution_count": 2,
      "outputs": [
        {
          "output_type": "execute_result",
          "data": {
            "text/plain": [
              "0    10\n",
              "1    73\n",
              "2    89\n",
              "3     1\n",
              "4     6\n",
              "5   -20\n",
              "6   -10\n",
              "7     8\n",
              "dtype: int64"
            ]
          },
          "metadata": {
            "tags": []
          },
          "execution_count": 2
        }
      ]
    },
    {
      "cell_type": "code",
      "metadata": {
        "colab": {
          "base_uri": "https://localhost:8080/"
        },
        "id": "l7HOWVybvpA4",
        "outputId": "00acce5a-146a-43b5-8e26-634c24318eb7"
      },
      "source": [
        "# Como dito anteriormente, toda série tem uma sequência de valores:\n",
        "serie1.values"
      ],
      "execution_count": 3,
      "outputs": [
        {
          "output_type": "execute_result",
          "data": {
            "text/plain": [
              "array([ 10,  73,  89,   1,   6, -20, -10,   8])"
            ]
          },
          "metadata": {
            "tags": []
          },
          "execution_count": 3
        }
      ]
    },
    {
      "cell_type": "code",
      "metadata": {
        "colab": {
          "base_uri": "https://localhost:8080/"
        },
        "id": "78R8cwK8vurY",
        "outputId": "6c9e8843-1e70-49dd-ba2c-b01d3a805e90"
      },
      "source": [
        "# e um conjunto de labels:\n",
        "serie1.index    # parecido com o range(8)"
      ],
      "execution_count": 4,
      "outputs": [
        {
          "output_type": "execute_result",
          "data": {
            "text/plain": [
              "RangeIndex(start=0, stop=8, step=1)"
            ]
          },
          "metadata": {
            "tags": []
          },
          "execution_count": 4
        }
      ]
    },
    {
      "cell_type": "markdown",
      "metadata": {
        "id": "3qGzxIstwAS3"
      },
      "source": [
        "> É possível criar uma série e fornecer um index específico"
      ]
    },
    {
      "cell_type": "code",
      "metadata": {
        "colab": {
          "base_uri": "https://localhost:8080/"
        },
        "id": "ESJUeyhPwAE3",
        "outputId": "046d45d5-5799-4e48-c2ca-074c9c4272c9"
      },
      "source": [
        "serie2 = pd.Series(['p', 'a', 'n', 'd', 'a', 's'], index=['primeiro', 'segundo', 'terceiro', 'quarto', 'quinto', 'sexto'])\n",
        "serie2"
      ],
      "execution_count": 5,
      "outputs": [
        {
          "output_type": "execute_result",
          "data": {
            "text/plain": [
              "primeiro    p\n",
              "segundo     a\n",
              "terceiro    n\n",
              "quarto      d\n",
              "quinto      a\n",
              "sexto       s\n",
              "dtype: object"
            ]
          },
          "metadata": {
            "tags": []
          },
          "execution_count": 5
        }
      ]
    },
    {
      "cell_type": "code",
      "metadata": {
        "colab": {
          "base_uri": "https://localhost:8080/"
        },
        "id": "bJfg5UoLwVCC",
        "outputId": "2ac6aa55-2e15-4c14-8f0e-108303e5bf26"
      },
      "source": [
        "serie2.values"
      ],
      "execution_count": 6,
      "outputs": [
        {
          "output_type": "execute_result",
          "data": {
            "text/plain": [
              "array(['p', 'a', 'n', 'd', 'a', 's'], dtype=object)"
            ]
          },
          "metadata": {
            "tags": []
          },
          "execution_count": 6
        }
      ]
    },
    {
      "cell_type": "code",
      "metadata": {
        "colab": {
          "base_uri": "https://localhost:8080/"
        },
        "id": "4t4xs6WiwW8p",
        "outputId": "2838c321-dce7-4817-c81e-f8e0c5e2b6b8"
      },
      "source": [
        "serie2.index"
      ],
      "execution_count": 7,
      "outputs": [
        {
          "output_type": "execute_result",
          "data": {
            "text/plain": [
              "Index(['primeiro', 'segundo', 'terceiro', 'quarto', 'quinto', 'sexto'], dtype='object')"
            ]
          },
          "metadata": {
            "tags": []
          },
          "execution_count": 7
        }
      ]
    },
    {
      "cell_type": "markdown",
      "metadata": {
        "id": "cFLKel4ntWV4"
      },
      "source": [
        "### DataFrame"
      ]
    },
    {
      "cell_type": "markdown",
      "metadata": {
        "id": "W6ksUYrbwhaH"
      },
      "source": [
        "Um DataFrame pode ser pensado como um conjunto de ao menos 2 séries, todas compartilhando do mesmo Index.\n",
        "\n",
        "Na prática, um DataFrame é uma tabela. Possui linhas, colunas e um índice. É possível, inclusive, ler tabelas em formato Excel e CSV com o _pandas_, transformando o arquivo em um DataFrame (e, assim, realizar as manipulações necessárias nos dados)."
      ]
    },
    {
      "cell_type": "code",
      "metadata": {
        "id": "5aN40RYotWFf"
      },
      "source": [
        "# Há várias formas de criar um DataFrame, vamos começar criando a partir de um dict:\n",
        "\n",
        "data = {'Nome':['Pedro', 'Jorge', 'Maria Joaquina', 'Emma Watson', 'Hugh Jackman', 'Britney Spears'],\n",
        "        'Idade':[22, 17, 13, 30, 52, 39],\n",
        "        'Comida Preferida':['Todas', \"McDonald's\", 'Comida da Disney', 'Mexicana', 'Vinho e Queijo', 'Chocolate'],\n",
        "        'País':['Brasil', 'Brasil', 'Brasil', 'EUA', 'EUA', 'EUA']}\n",
        "\n",
        "df1 = pd.DataFrame(data)"
      ],
      "execution_count": 8,
      "outputs": []
    },
    {
      "cell_type": "code",
      "metadata": {
        "colab": {
          "base_uri": "https://localhost:8080/",
          "height": 235
        },
        "id": "BWU3iJFiyLIX",
        "outputId": "5fdfd7a3-a959-4629-f89b-4ed4c209c778"
      },
      "source": [
        "df1"
      ],
      "execution_count": 9,
      "outputs": [
        {
          "output_type": "execute_result",
          "data": {
            "text/html": [
              "<div>\n",
              "<style scoped>\n",
              "    .dataframe tbody tr th:only-of-type {\n",
              "        vertical-align: middle;\n",
              "    }\n",
              "\n",
              "    .dataframe tbody tr th {\n",
              "        vertical-align: top;\n",
              "    }\n",
              "\n",
              "    .dataframe thead th {\n",
              "        text-align: right;\n",
              "    }\n",
              "</style>\n",
              "<table border=\"1\" class=\"dataframe\">\n",
              "  <thead>\n",
              "    <tr style=\"text-align: right;\">\n",
              "      <th></th>\n",
              "      <th>Nome</th>\n",
              "      <th>Idade</th>\n",
              "      <th>Comida Preferida</th>\n",
              "      <th>País</th>\n",
              "    </tr>\n",
              "  </thead>\n",
              "  <tbody>\n",
              "    <tr>\n",
              "      <th>0</th>\n",
              "      <td>Pedro</td>\n",
              "      <td>22</td>\n",
              "      <td>Todas</td>\n",
              "      <td>Brasil</td>\n",
              "    </tr>\n",
              "    <tr>\n",
              "      <th>1</th>\n",
              "      <td>Jorge</td>\n",
              "      <td>17</td>\n",
              "      <td>McDonald's</td>\n",
              "      <td>Brasil</td>\n",
              "    </tr>\n",
              "    <tr>\n",
              "      <th>2</th>\n",
              "      <td>Maria Joaquina</td>\n",
              "      <td>13</td>\n",
              "      <td>Comida da Disney</td>\n",
              "      <td>Brasil</td>\n",
              "    </tr>\n",
              "    <tr>\n",
              "      <th>3</th>\n",
              "      <td>Emma Watson</td>\n",
              "      <td>30</td>\n",
              "      <td>Mexicana</td>\n",
              "      <td>EUA</td>\n",
              "    </tr>\n",
              "    <tr>\n",
              "      <th>4</th>\n",
              "      <td>Hugh Jackman</td>\n",
              "      <td>52</td>\n",
              "      <td>Vinho e Queijo</td>\n",
              "      <td>EUA</td>\n",
              "    </tr>\n",
              "    <tr>\n",
              "      <th>5</th>\n",
              "      <td>Britney Spears</td>\n",
              "      <td>39</td>\n",
              "      <td>Chocolate</td>\n",
              "      <td>EUA</td>\n",
              "    </tr>\n",
              "  </tbody>\n",
              "</table>\n",
              "</div>"
            ],
            "text/plain": [
              "             Nome  Idade  Comida Preferida    País\n",
              "0           Pedro     22             Todas  Brasil\n",
              "1           Jorge     17        McDonald's  Brasil\n",
              "2  Maria Joaquina     13  Comida da Disney  Brasil\n",
              "3     Emma Watson     30          Mexicana     EUA\n",
              "4    Hugh Jackman     52    Vinho e Queijo     EUA\n",
              "5  Britney Spears     39         Chocolate     EUA"
            ]
          },
          "metadata": {
            "tags": []
          },
          "execution_count": 9
        }
      ]
    },
    {
      "cell_type": "code",
      "metadata": {
        "colab": {
          "base_uri": "https://localhost:8080/",
          "height": 111
        },
        "id": "10NtkLY6yYBW",
        "outputId": "72a47493-8212-4e50-dfe7-85b148c53133"
      },
      "source": [
        "df1.head(2)"
      ],
      "execution_count": 10,
      "outputs": [
        {
          "output_type": "execute_result",
          "data": {
            "text/html": [
              "<div>\n",
              "<style scoped>\n",
              "    .dataframe tbody tr th:only-of-type {\n",
              "        vertical-align: middle;\n",
              "    }\n",
              "\n",
              "    .dataframe tbody tr th {\n",
              "        vertical-align: top;\n",
              "    }\n",
              "\n",
              "    .dataframe thead th {\n",
              "        text-align: right;\n",
              "    }\n",
              "</style>\n",
              "<table border=\"1\" class=\"dataframe\">\n",
              "  <thead>\n",
              "    <tr style=\"text-align: right;\">\n",
              "      <th></th>\n",
              "      <th>Nome</th>\n",
              "      <th>Idade</th>\n",
              "      <th>Comida Preferida</th>\n",
              "      <th>País</th>\n",
              "    </tr>\n",
              "  </thead>\n",
              "  <tbody>\n",
              "    <tr>\n",
              "      <th>0</th>\n",
              "      <td>Pedro</td>\n",
              "      <td>22</td>\n",
              "      <td>Todas</td>\n",
              "      <td>Brasil</td>\n",
              "    </tr>\n",
              "    <tr>\n",
              "      <th>1</th>\n",
              "      <td>Jorge</td>\n",
              "      <td>17</td>\n",
              "      <td>McDonald's</td>\n",
              "      <td>Brasil</td>\n",
              "    </tr>\n",
              "  </tbody>\n",
              "</table>\n",
              "</div>"
            ],
            "text/plain": [
              "    Nome  Idade Comida Preferida    País\n",
              "0  Pedro     22            Todas  Brasil\n",
              "1  Jorge     17       McDonald's  Brasil"
            ]
          },
          "metadata": {
            "tags": []
          },
          "execution_count": 10
        }
      ]
    },
    {
      "cell_type": "code",
      "metadata": {
        "colab": {
          "base_uri": "https://localhost:8080/",
          "height": 111
        },
        "id": "VVisCMyDyZrI",
        "outputId": "26ce9ef5-04b1-438d-cf06-e58f15deabc0"
      },
      "source": [
        "df1.tail(2)"
      ],
      "execution_count": 11,
      "outputs": [
        {
          "output_type": "execute_result",
          "data": {
            "text/html": [
              "<div>\n",
              "<style scoped>\n",
              "    .dataframe tbody tr th:only-of-type {\n",
              "        vertical-align: middle;\n",
              "    }\n",
              "\n",
              "    .dataframe tbody tr th {\n",
              "        vertical-align: top;\n",
              "    }\n",
              "\n",
              "    .dataframe thead th {\n",
              "        text-align: right;\n",
              "    }\n",
              "</style>\n",
              "<table border=\"1\" class=\"dataframe\">\n",
              "  <thead>\n",
              "    <tr style=\"text-align: right;\">\n",
              "      <th></th>\n",
              "      <th>Nome</th>\n",
              "      <th>Idade</th>\n",
              "      <th>Comida Preferida</th>\n",
              "      <th>País</th>\n",
              "    </tr>\n",
              "  </thead>\n",
              "  <tbody>\n",
              "    <tr>\n",
              "      <th>4</th>\n",
              "      <td>Hugh Jackman</td>\n",
              "      <td>52</td>\n",
              "      <td>Vinho e Queijo</td>\n",
              "      <td>EUA</td>\n",
              "    </tr>\n",
              "    <tr>\n",
              "      <th>5</th>\n",
              "      <td>Britney Spears</td>\n",
              "      <td>39</td>\n",
              "      <td>Chocolate</td>\n",
              "      <td>EUA</td>\n",
              "    </tr>\n",
              "  </tbody>\n",
              "</table>\n",
              "</div>"
            ],
            "text/plain": [
              "             Nome  Idade Comida Preferida País\n",
              "4    Hugh Jackman     52   Vinho e Queijo  EUA\n",
              "5  Britney Spears     39        Chocolate  EUA"
            ]
          },
          "metadata": {
            "tags": []
          },
          "execution_count": 11
        }
      ]
    },
    {
      "cell_type": "code",
      "metadata": {
        "colab": {
          "base_uri": "https://localhost:8080/",
          "height": 111
        },
        "id": "Y4h_VrYeybam",
        "outputId": "a19ef423-09cf-4d1f-8aef-1c99c2125ee3"
      },
      "source": [
        "df1.sample(2)"
      ],
      "execution_count": 12,
      "outputs": [
        {
          "output_type": "execute_result",
          "data": {
            "text/html": [
              "<div>\n",
              "<style scoped>\n",
              "    .dataframe tbody tr th:only-of-type {\n",
              "        vertical-align: middle;\n",
              "    }\n",
              "\n",
              "    .dataframe tbody tr th {\n",
              "        vertical-align: top;\n",
              "    }\n",
              "\n",
              "    .dataframe thead th {\n",
              "        text-align: right;\n",
              "    }\n",
              "</style>\n",
              "<table border=\"1\" class=\"dataframe\">\n",
              "  <thead>\n",
              "    <tr style=\"text-align: right;\">\n",
              "      <th></th>\n",
              "      <th>Nome</th>\n",
              "      <th>Idade</th>\n",
              "      <th>Comida Preferida</th>\n",
              "      <th>País</th>\n",
              "    </tr>\n",
              "  </thead>\n",
              "  <tbody>\n",
              "    <tr>\n",
              "      <th>2</th>\n",
              "      <td>Maria Joaquina</td>\n",
              "      <td>13</td>\n",
              "      <td>Comida da Disney</td>\n",
              "      <td>Brasil</td>\n",
              "    </tr>\n",
              "    <tr>\n",
              "      <th>3</th>\n",
              "      <td>Emma Watson</td>\n",
              "      <td>30</td>\n",
              "      <td>Mexicana</td>\n",
              "      <td>EUA</td>\n",
              "    </tr>\n",
              "  </tbody>\n",
              "</table>\n",
              "</div>"
            ],
            "text/plain": [
              "             Nome  Idade  Comida Preferida    País\n",
              "2  Maria Joaquina     13  Comida da Disney  Brasil\n",
              "3     Emma Watson     30          Mexicana     EUA"
            ]
          },
          "metadata": {
            "tags": []
          },
          "execution_count": 12
        }
      ]
    },
    {
      "cell_type": "code",
      "metadata": {
        "colab": {
          "base_uri": "https://localhost:8080/"
        },
        "id": "4z6batLryizm",
        "outputId": "b1a608c5-2f4c-4982-a228-64e7ae2d17e5"
      },
      "source": [
        "df1.País"
      ],
      "execution_count": 13,
      "outputs": [
        {
          "output_type": "execute_result",
          "data": {
            "text/plain": [
              "0    Brasil\n",
              "1    Brasil\n",
              "2    Brasil\n",
              "3       EUA\n",
              "4       EUA\n",
              "5       EUA\n",
              "Name: País, dtype: object"
            ]
          },
          "metadata": {
            "tags": []
          },
          "execution_count": 13
        }
      ]
    },
    {
      "cell_type": "code",
      "metadata": {
        "colab": {
          "base_uri": "https://localhost:8080/"
        },
        "id": "H45W96UCy0cl",
        "outputId": "cf31deef-5f9e-40e1-d65b-4265fb540629"
      },
      "source": [
        "df1[\"País\"]"
      ],
      "execution_count": 14,
      "outputs": [
        {
          "output_type": "execute_result",
          "data": {
            "text/plain": [
              "0    Brasil\n",
              "1    Brasil\n",
              "2    Brasil\n",
              "3       EUA\n",
              "4       EUA\n",
              "5       EUA\n",
              "Name: País, dtype: object"
            ]
          },
          "metadata": {
            "tags": []
          },
          "execution_count": 14
        }
      ]
    },
    {
      "cell_type": "code",
      "metadata": {
        "colab": {
          "base_uri": "https://localhost:8080/"
        },
        "id": "HjEokLmSywKu",
        "outputId": "81741db7-c730-4bd2-d848-6935767c53a4"
      },
      "source": [
        "print(type(df1.País))\n",
        "print(type(df1['País']))"
      ],
      "execution_count": 15,
      "outputs": [
        {
          "output_type": "stream",
          "text": [
            "<class 'pandas.core.series.Series'>\n",
            "<class 'pandas.core.series.Series'>\n"
          ],
          "name": "stdout"
        }
      ]
    },
    {
      "cell_type": "markdown",
      "metadata": {
        "id": "ThKZnvRHzUXA"
      },
      "source": [
        "> Há operações realizadas nos DataFrames (e em Séries também) que:\n",
        "* Alteram o DataFrame _inplace_\n",
        "* Retornam uma cópia do DataFrame, mantendo o original inalterado"
      ]
    },
    {
      "cell_type": "code",
      "metadata": {
        "colab": {
          "base_uri": "https://localhost:8080/",
          "height": 235
        },
        "id": "00frfcPmzGbm",
        "outputId": "fac496a6-c40b-4529-fe4e-f09b4453b82d"
      },
      "source": [
        "df1['Nova Coluna'] = 'TESTE'\n",
        "df1"
      ],
      "execution_count": 16,
      "outputs": [
        {
          "output_type": "execute_result",
          "data": {
            "text/html": [
              "<div>\n",
              "<style scoped>\n",
              "    .dataframe tbody tr th:only-of-type {\n",
              "        vertical-align: middle;\n",
              "    }\n",
              "\n",
              "    .dataframe tbody tr th {\n",
              "        vertical-align: top;\n",
              "    }\n",
              "\n",
              "    .dataframe thead th {\n",
              "        text-align: right;\n",
              "    }\n",
              "</style>\n",
              "<table border=\"1\" class=\"dataframe\">\n",
              "  <thead>\n",
              "    <tr style=\"text-align: right;\">\n",
              "      <th></th>\n",
              "      <th>Nome</th>\n",
              "      <th>Idade</th>\n",
              "      <th>Comida Preferida</th>\n",
              "      <th>País</th>\n",
              "      <th>Nova Coluna</th>\n",
              "    </tr>\n",
              "  </thead>\n",
              "  <tbody>\n",
              "    <tr>\n",
              "      <th>0</th>\n",
              "      <td>Pedro</td>\n",
              "      <td>22</td>\n",
              "      <td>Todas</td>\n",
              "      <td>Brasil</td>\n",
              "      <td>TESTE</td>\n",
              "    </tr>\n",
              "    <tr>\n",
              "      <th>1</th>\n",
              "      <td>Jorge</td>\n",
              "      <td>17</td>\n",
              "      <td>McDonald's</td>\n",
              "      <td>Brasil</td>\n",
              "      <td>TESTE</td>\n",
              "    </tr>\n",
              "    <tr>\n",
              "      <th>2</th>\n",
              "      <td>Maria Joaquina</td>\n",
              "      <td>13</td>\n",
              "      <td>Comida da Disney</td>\n",
              "      <td>Brasil</td>\n",
              "      <td>TESTE</td>\n",
              "    </tr>\n",
              "    <tr>\n",
              "      <th>3</th>\n",
              "      <td>Emma Watson</td>\n",
              "      <td>30</td>\n",
              "      <td>Mexicana</td>\n",
              "      <td>EUA</td>\n",
              "      <td>TESTE</td>\n",
              "    </tr>\n",
              "    <tr>\n",
              "      <th>4</th>\n",
              "      <td>Hugh Jackman</td>\n",
              "      <td>52</td>\n",
              "      <td>Vinho e Queijo</td>\n",
              "      <td>EUA</td>\n",
              "      <td>TESTE</td>\n",
              "    </tr>\n",
              "    <tr>\n",
              "      <th>5</th>\n",
              "      <td>Britney Spears</td>\n",
              "      <td>39</td>\n",
              "      <td>Chocolate</td>\n",
              "      <td>EUA</td>\n",
              "      <td>TESTE</td>\n",
              "    </tr>\n",
              "  </tbody>\n",
              "</table>\n",
              "</div>"
            ],
            "text/plain": [
              "             Nome  Idade  Comida Preferida    País Nova Coluna\n",
              "0           Pedro     22             Todas  Brasil       TESTE\n",
              "1           Jorge     17        McDonald's  Brasil       TESTE\n",
              "2  Maria Joaquina     13  Comida da Disney  Brasil       TESTE\n",
              "3     Emma Watson     30          Mexicana     EUA       TESTE\n",
              "4    Hugh Jackman     52    Vinho e Queijo     EUA       TESTE\n",
              "5  Britney Spears     39         Chocolate     EUA       TESTE"
            ]
          },
          "metadata": {
            "tags": []
          },
          "execution_count": 16
        }
      ]
    },
    {
      "cell_type": "code",
      "metadata": {
        "colab": {
          "base_uri": "https://localhost:8080/",
          "height": 235
        },
        "id": "cikflx1szM22",
        "outputId": "00617554-5a65-4140-87be-4f5888cf88ea"
      },
      "source": [
        "df1['Nova Coluna'] = 'DEU CERTO'\n",
        "df1"
      ],
      "execution_count": 17,
      "outputs": [
        {
          "output_type": "execute_result",
          "data": {
            "text/html": [
              "<div>\n",
              "<style scoped>\n",
              "    .dataframe tbody tr th:only-of-type {\n",
              "        vertical-align: middle;\n",
              "    }\n",
              "\n",
              "    .dataframe tbody tr th {\n",
              "        vertical-align: top;\n",
              "    }\n",
              "\n",
              "    .dataframe thead th {\n",
              "        text-align: right;\n",
              "    }\n",
              "</style>\n",
              "<table border=\"1\" class=\"dataframe\">\n",
              "  <thead>\n",
              "    <tr style=\"text-align: right;\">\n",
              "      <th></th>\n",
              "      <th>Nome</th>\n",
              "      <th>Idade</th>\n",
              "      <th>Comida Preferida</th>\n",
              "      <th>País</th>\n",
              "      <th>Nova Coluna</th>\n",
              "    </tr>\n",
              "  </thead>\n",
              "  <tbody>\n",
              "    <tr>\n",
              "      <th>0</th>\n",
              "      <td>Pedro</td>\n",
              "      <td>22</td>\n",
              "      <td>Todas</td>\n",
              "      <td>Brasil</td>\n",
              "      <td>DEU CERTO</td>\n",
              "    </tr>\n",
              "    <tr>\n",
              "      <th>1</th>\n",
              "      <td>Jorge</td>\n",
              "      <td>17</td>\n",
              "      <td>McDonald's</td>\n",
              "      <td>Brasil</td>\n",
              "      <td>DEU CERTO</td>\n",
              "    </tr>\n",
              "    <tr>\n",
              "      <th>2</th>\n",
              "      <td>Maria Joaquina</td>\n",
              "      <td>13</td>\n",
              "      <td>Comida da Disney</td>\n",
              "      <td>Brasil</td>\n",
              "      <td>DEU CERTO</td>\n",
              "    </tr>\n",
              "    <tr>\n",
              "      <th>3</th>\n",
              "      <td>Emma Watson</td>\n",
              "      <td>30</td>\n",
              "      <td>Mexicana</td>\n",
              "      <td>EUA</td>\n",
              "      <td>DEU CERTO</td>\n",
              "    </tr>\n",
              "    <tr>\n",
              "      <th>4</th>\n",
              "      <td>Hugh Jackman</td>\n",
              "      <td>52</td>\n",
              "      <td>Vinho e Queijo</td>\n",
              "      <td>EUA</td>\n",
              "      <td>DEU CERTO</td>\n",
              "    </tr>\n",
              "    <tr>\n",
              "      <th>5</th>\n",
              "      <td>Britney Spears</td>\n",
              "      <td>39</td>\n",
              "      <td>Chocolate</td>\n",
              "      <td>EUA</td>\n",
              "      <td>DEU CERTO</td>\n",
              "    </tr>\n",
              "  </tbody>\n",
              "</table>\n",
              "</div>"
            ],
            "text/plain": [
              "             Nome  Idade  Comida Preferida    País Nova Coluna\n",
              "0           Pedro     22             Todas  Brasil   DEU CERTO\n",
              "1           Jorge     17        McDonald's  Brasil   DEU CERTO\n",
              "2  Maria Joaquina     13  Comida da Disney  Brasil   DEU CERTO\n",
              "3     Emma Watson     30          Mexicana     EUA   DEU CERTO\n",
              "4    Hugh Jackman     52    Vinho e Queijo     EUA   DEU CERTO\n",
              "5  Britney Spears     39         Chocolate     EUA   DEU CERTO"
            ]
          },
          "metadata": {
            "tags": []
          },
          "execution_count": 17
        }
      ]
    },
    {
      "cell_type": "code",
      "metadata": {
        "colab": {
          "base_uri": "https://localhost:8080/",
          "height": 235
        },
        "id": "Rktjz3Hozh-1",
        "outputId": "212eca1e-0fd7-4194-c7aa-dfac6cd46081"
      },
      "source": [
        "df1.drop(\"Nova Coluna\", axis=1)"
      ],
      "execution_count": 18,
      "outputs": [
        {
          "output_type": "execute_result",
          "data": {
            "text/html": [
              "<div>\n",
              "<style scoped>\n",
              "    .dataframe tbody tr th:only-of-type {\n",
              "        vertical-align: middle;\n",
              "    }\n",
              "\n",
              "    .dataframe tbody tr th {\n",
              "        vertical-align: top;\n",
              "    }\n",
              "\n",
              "    .dataframe thead th {\n",
              "        text-align: right;\n",
              "    }\n",
              "</style>\n",
              "<table border=\"1\" class=\"dataframe\">\n",
              "  <thead>\n",
              "    <tr style=\"text-align: right;\">\n",
              "      <th></th>\n",
              "      <th>Nome</th>\n",
              "      <th>Idade</th>\n",
              "      <th>Comida Preferida</th>\n",
              "      <th>País</th>\n",
              "    </tr>\n",
              "  </thead>\n",
              "  <tbody>\n",
              "    <tr>\n",
              "      <th>0</th>\n",
              "      <td>Pedro</td>\n",
              "      <td>22</td>\n",
              "      <td>Todas</td>\n",
              "      <td>Brasil</td>\n",
              "    </tr>\n",
              "    <tr>\n",
              "      <th>1</th>\n",
              "      <td>Jorge</td>\n",
              "      <td>17</td>\n",
              "      <td>McDonald's</td>\n",
              "      <td>Brasil</td>\n",
              "    </tr>\n",
              "    <tr>\n",
              "      <th>2</th>\n",
              "      <td>Maria Joaquina</td>\n",
              "      <td>13</td>\n",
              "      <td>Comida da Disney</td>\n",
              "      <td>Brasil</td>\n",
              "    </tr>\n",
              "    <tr>\n",
              "      <th>3</th>\n",
              "      <td>Emma Watson</td>\n",
              "      <td>30</td>\n",
              "      <td>Mexicana</td>\n",
              "      <td>EUA</td>\n",
              "    </tr>\n",
              "    <tr>\n",
              "      <th>4</th>\n",
              "      <td>Hugh Jackman</td>\n",
              "      <td>52</td>\n",
              "      <td>Vinho e Queijo</td>\n",
              "      <td>EUA</td>\n",
              "    </tr>\n",
              "    <tr>\n",
              "      <th>5</th>\n",
              "      <td>Britney Spears</td>\n",
              "      <td>39</td>\n",
              "      <td>Chocolate</td>\n",
              "      <td>EUA</td>\n",
              "    </tr>\n",
              "  </tbody>\n",
              "</table>\n",
              "</div>"
            ],
            "text/plain": [
              "             Nome  Idade  Comida Preferida    País\n",
              "0           Pedro     22             Todas  Brasil\n",
              "1           Jorge     17        McDonald's  Brasil\n",
              "2  Maria Joaquina     13  Comida da Disney  Brasil\n",
              "3     Emma Watson     30          Mexicana     EUA\n",
              "4    Hugh Jackman     52    Vinho e Queijo     EUA\n",
              "5  Britney Spears     39         Chocolate     EUA"
            ]
          },
          "metadata": {
            "tags": []
          },
          "execution_count": 18
        }
      ]
    },
    {
      "cell_type": "code",
      "metadata": {
        "colab": {
          "base_uri": "https://localhost:8080/",
          "height": 235
        },
        "id": "wgsVh8x5zmSt",
        "outputId": "b7934b3f-79af-4d74-cf6f-4cb4c60230f5"
      },
      "source": [
        "df1"
      ],
      "execution_count": 19,
      "outputs": [
        {
          "output_type": "execute_result",
          "data": {
            "text/html": [
              "<div>\n",
              "<style scoped>\n",
              "    .dataframe tbody tr th:only-of-type {\n",
              "        vertical-align: middle;\n",
              "    }\n",
              "\n",
              "    .dataframe tbody tr th {\n",
              "        vertical-align: top;\n",
              "    }\n",
              "\n",
              "    .dataframe thead th {\n",
              "        text-align: right;\n",
              "    }\n",
              "</style>\n",
              "<table border=\"1\" class=\"dataframe\">\n",
              "  <thead>\n",
              "    <tr style=\"text-align: right;\">\n",
              "      <th></th>\n",
              "      <th>Nome</th>\n",
              "      <th>Idade</th>\n",
              "      <th>Comida Preferida</th>\n",
              "      <th>País</th>\n",
              "      <th>Nova Coluna</th>\n",
              "    </tr>\n",
              "  </thead>\n",
              "  <tbody>\n",
              "    <tr>\n",
              "      <th>0</th>\n",
              "      <td>Pedro</td>\n",
              "      <td>22</td>\n",
              "      <td>Todas</td>\n",
              "      <td>Brasil</td>\n",
              "      <td>DEU CERTO</td>\n",
              "    </tr>\n",
              "    <tr>\n",
              "      <th>1</th>\n",
              "      <td>Jorge</td>\n",
              "      <td>17</td>\n",
              "      <td>McDonald's</td>\n",
              "      <td>Brasil</td>\n",
              "      <td>DEU CERTO</td>\n",
              "    </tr>\n",
              "    <tr>\n",
              "      <th>2</th>\n",
              "      <td>Maria Joaquina</td>\n",
              "      <td>13</td>\n",
              "      <td>Comida da Disney</td>\n",
              "      <td>Brasil</td>\n",
              "      <td>DEU CERTO</td>\n",
              "    </tr>\n",
              "    <tr>\n",
              "      <th>3</th>\n",
              "      <td>Emma Watson</td>\n",
              "      <td>30</td>\n",
              "      <td>Mexicana</td>\n",
              "      <td>EUA</td>\n",
              "      <td>DEU CERTO</td>\n",
              "    </tr>\n",
              "    <tr>\n",
              "      <th>4</th>\n",
              "      <td>Hugh Jackman</td>\n",
              "      <td>52</td>\n",
              "      <td>Vinho e Queijo</td>\n",
              "      <td>EUA</td>\n",
              "      <td>DEU CERTO</td>\n",
              "    </tr>\n",
              "    <tr>\n",
              "      <th>5</th>\n",
              "      <td>Britney Spears</td>\n",
              "      <td>39</td>\n",
              "      <td>Chocolate</td>\n",
              "      <td>EUA</td>\n",
              "      <td>DEU CERTO</td>\n",
              "    </tr>\n",
              "  </tbody>\n",
              "</table>\n",
              "</div>"
            ],
            "text/plain": [
              "             Nome  Idade  Comida Preferida    País Nova Coluna\n",
              "0           Pedro     22             Todas  Brasil   DEU CERTO\n",
              "1           Jorge     17        McDonald's  Brasil   DEU CERTO\n",
              "2  Maria Joaquina     13  Comida da Disney  Brasil   DEU CERTO\n",
              "3     Emma Watson     30          Mexicana     EUA   DEU CERTO\n",
              "4    Hugh Jackman     52    Vinho e Queijo     EUA   DEU CERTO\n",
              "5  Britney Spears     39         Chocolate     EUA   DEU CERTO"
            ]
          },
          "metadata": {
            "tags": []
          },
          "execution_count": 19
        }
      ]
    },
    {
      "cell_type": "code",
      "metadata": {
        "colab": {
          "base_uri": "https://localhost:8080/",
          "height": 235
        },
        "id": "RGLTamdczoFd",
        "outputId": "c33b4622-6f2a-4122-bc19-cdc09f0c7e63"
      },
      "source": [
        "df1.drop(\"Nova Coluna\", axis=1, inplace=True)\n",
        "df1\n",
        "\n",
        "# Uma alternativa:\n",
        "#df1 = df1.drop(\"Nova Coluna\", axis=1)\n",
        "#df1"
      ],
      "execution_count": 20,
      "outputs": [
        {
          "output_type": "execute_result",
          "data": {
            "text/html": [
              "<div>\n",
              "<style scoped>\n",
              "    .dataframe tbody tr th:only-of-type {\n",
              "        vertical-align: middle;\n",
              "    }\n",
              "\n",
              "    .dataframe tbody tr th {\n",
              "        vertical-align: top;\n",
              "    }\n",
              "\n",
              "    .dataframe thead th {\n",
              "        text-align: right;\n",
              "    }\n",
              "</style>\n",
              "<table border=\"1\" class=\"dataframe\">\n",
              "  <thead>\n",
              "    <tr style=\"text-align: right;\">\n",
              "      <th></th>\n",
              "      <th>Nome</th>\n",
              "      <th>Idade</th>\n",
              "      <th>Comida Preferida</th>\n",
              "      <th>País</th>\n",
              "    </tr>\n",
              "  </thead>\n",
              "  <tbody>\n",
              "    <tr>\n",
              "      <th>0</th>\n",
              "      <td>Pedro</td>\n",
              "      <td>22</td>\n",
              "      <td>Todas</td>\n",
              "      <td>Brasil</td>\n",
              "    </tr>\n",
              "    <tr>\n",
              "      <th>1</th>\n",
              "      <td>Jorge</td>\n",
              "      <td>17</td>\n",
              "      <td>McDonald's</td>\n",
              "      <td>Brasil</td>\n",
              "    </tr>\n",
              "    <tr>\n",
              "      <th>2</th>\n",
              "      <td>Maria Joaquina</td>\n",
              "      <td>13</td>\n",
              "      <td>Comida da Disney</td>\n",
              "      <td>Brasil</td>\n",
              "    </tr>\n",
              "    <tr>\n",
              "      <th>3</th>\n",
              "      <td>Emma Watson</td>\n",
              "      <td>30</td>\n",
              "      <td>Mexicana</td>\n",
              "      <td>EUA</td>\n",
              "    </tr>\n",
              "    <tr>\n",
              "      <th>4</th>\n",
              "      <td>Hugh Jackman</td>\n",
              "      <td>52</td>\n",
              "      <td>Vinho e Queijo</td>\n",
              "      <td>EUA</td>\n",
              "    </tr>\n",
              "    <tr>\n",
              "      <th>5</th>\n",
              "      <td>Britney Spears</td>\n",
              "      <td>39</td>\n",
              "      <td>Chocolate</td>\n",
              "      <td>EUA</td>\n",
              "    </tr>\n",
              "  </tbody>\n",
              "</table>\n",
              "</div>"
            ],
            "text/plain": [
              "             Nome  Idade  Comida Preferida    País\n",
              "0           Pedro     22             Todas  Brasil\n",
              "1           Jorge     17        McDonald's  Brasil\n",
              "2  Maria Joaquina     13  Comida da Disney  Brasil\n",
              "3     Emma Watson     30          Mexicana     EUA\n",
              "4    Hugh Jackman     52    Vinho e Queijo     EUA\n",
              "5  Britney Spears     39         Chocolate     EUA"
            ]
          },
          "metadata": {
            "tags": []
          },
          "execution_count": 20
        }
      ]
    },
    {
      "cell_type": "markdown",
      "metadata": {
        "id": "SRfEoJhAz9nB"
      },
      "source": [
        "> É possível adicionar uma série a um DataFrame, como se fosse uma nova coluna:"
      ]
    },
    {
      "cell_type": "code",
      "metadata": {
        "colab": {
          "base_uri": "https://localhost:8080/",
          "height": 235
        },
        "id": "YY2Zd2Ubz9Ln",
        "outputId": "2b4e1b82-d67e-4082-8ec1-3820cf09fea9"
      },
      "source": [
        "cidade = pd.Series(['Goiânia', 'Goiânia', 'São Paulo'], index=[0, 1, 2])\n",
        "\n",
        "df1['Cidade'] = cidade\n",
        "\n",
        "df1"
      ],
      "execution_count": 21,
      "outputs": [
        {
          "output_type": "execute_result",
          "data": {
            "text/html": [
              "<div>\n",
              "<style scoped>\n",
              "    .dataframe tbody tr th:only-of-type {\n",
              "        vertical-align: middle;\n",
              "    }\n",
              "\n",
              "    .dataframe tbody tr th {\n",
              "        vertical-align: top;\n",
              "    }\n",
              "\n",
              "    .dataframe thead th {\n",
              "        text-align: right;\n",
              "    }\n",
              "</style>\n",
              "<table border=\"1\" class=\"dataframe\">\n",
              "  <thead>\n",
              "    <tr style=\"text-align: right;\">\n",
              "      <th></th>\n",
              "      <th>Nome</th>\n",
              "      <th>Idade</th>\n",
              "      <th>Comida Preferida</th>\n",
              "      <th>País</th>\n",
              "      <th>Cidade</th>\n",
              "    </tr>\n",
              "  </thead>\n",
              "  <tbody>\n",
              "    <tr>\n",
              "      <th>0</th>\n",
              "      <td>Pedro</td>\n",
              "      <td>22</td>\n",
              "      <td>Todas</td>\n",
              "      <td>Brasil</td>\n",
              "      <td>Goiânia</td>\n",
              "    </tr>\n",
              "    <tr>\n",
              "      <th>1</th>\n",
              "      <td>Jorge</td>\n",
              "      <td>17</td>\n",
              "      <td>McDonald's</td>\n",
              "      <td>Brasil</td>\n",
              "      <td>Goiânia</td>\n",
              "    </tr>\n",
              "    <tr>\n",
              "      <th>2</th>\n",
              "      <td>Maria Joaquina</td>\n",
              "      <td>13</td>\n",
              "      <td>Comida da Disney</td>\n",
              "      <td>Brasil</td>\n",
              "      <td>São Paulo</td>\n",
              "    </tr>\n",
              "    <tr>\n",
              "      <th>3</th>\n",
              "      <td>Emma Watson</td>\n",
              "      <td>30</td>\n",
              "      <td>Mexicana</td>\n",
              "      <td>EUA</td>\n",
              "      <td>NaN</td>\n",
              "    </tr>\n",
              "    <tr>\n",
              "      <th>4</th>\n",
              "      <td>Hugh Jackman</td>\n",
              "      <td>52</td>\n",
              "      <td>Vinho e Queijo</td>\n",
              "      <td>EUA</td>\n",
              "      <td>NaN</td>\n",
              "    </tr>\n",
              "    <tr>\n",
              "      <th>5</th>\n",
              "      <td>Britney Spears</td>\n",
              "      <td>39</td>\n",
              "      <td>Chocolate</td>\n",
              "      <td>EUA</td>\n",
              "      <td>NaN</td>\n",
              "    </tr>\n",
              "  </tbody>\n",
              "</table>\n",
              "</div>"
            ],
            "text/plain": [
              "             Nome  Idade  Comida Preferida    País     Cidade\n",
              "0           Pedro     22             Todas  Brasil    Goiânia\n",
              "1           Jorge     17        McDonald's  Brasil    Goiânia\n",
              "2  Maria Joaquina     13  Comida da Disney  Brasil  São Paulo\n",
              "3     Emma Watson     30          Mexicana     EUA        NaN\n",
              "4    Hugh Jackman     52    Vinho e Queijo     EUA        NaN\n",
              "5  Britney Spears     39         Chocolate     EUA        NaN"
            ]
          },
          "metadata": {
            "tags": []
          },
          "execution_count": 21
        }
      ]
    },
    {
      "cell_type": "markdown",
      "metadata": {
        "id": "gOxFwscW0cpO"
      },
      "source": [
        "> Sempre que houver valores não preenchidos (ou com valores inválidos), eles serão inseridos como NaN (Not a Number). É um padrão estabelecido pela biblioteca NumPy, usada para identificar missing values."
      ]
    },
    {
      "cell_type": "markdown",
      "metadata": {
        "id": "XeReeYKK0-gn"
      },
      "source": [
        "> Existem várias formas de checar missing values (entradas marcadas como NaN no DataFrame ou Serie), como [nesses exemplos](https://datatofish.com/check-nan-pandas-dataframe/)."
      ]
    },
    {
      "cell_type": "code",
      "metadata": {
        "colab": {
          "base_uri": "https://localhost:8080/"
        },
        "id": "kpdLfSE_0oNG",
        "outputId": "62fd08ff-aa2b-4af3-ecf8-db0fdf6eb001"
      },
      "source": [
        "# Retorna a quantidade de valores NaN para cada coluna do DataFrame\n",
        "df1.isnull().sum()"
      ],
      "execution_count": 22,
      "outputs": [
        {
          "output_type": "execute_result",
          "data": {
            "text/plain": [
              "Nome                0\n",
              "Idade               0\n",
              "Comida Preferida    0\n",
              "País                0\n",
              "Cidade              3\n",
              "dtype: int64"
            ]
          },
          "metadata": {
            "tags": []
          },
          "execution_count": 22
        }
      ]
    },
    {
      "cell_type": "code",
      "metadata": {
        "colab": {
          "base_uri": "https://localhost:8080/",
          "height": 142
        },
        "id": "Z8xUbcwB0Z3n",
        "outputId": "1c661a7b-5371-4bf3-9ff7-f02d63fad581"
      },
      "source": [
        "# Retorna as linhas onde há valores NaN na coluna \"Cidade\" (mais detalhes na sessão \"Querry\")\n",
        "df1[df1['Cidade'].isnull()]"
      ],
      "execution_count": 23,
      "outputs": [
        {
          "output_type": "execute_result",
          "data": {
            "text/html": [
              "<div>\n",
              "<style scoped>\n",
              "    .dataframe tbody tr th:only-of-type {\n",
              "        vertical-align: middle;\n",
              "    }\n",
              "\n",
              "    .dataframe tbody tr th {\n",
              "        vertical-align: top;\n",
              "    }\n",
              "\n",
              "    .dataframe thead th {\n",
              "        text-align: right;\n",
              "    }\n",
              "</style>\n",
              "<table border=\"1\" class=\"dataframe\">\n",
              "  <thead>\n",
              "    <tr style=\"text-align: right;\">\n",
              "      <th></th>\n",
              "      <th>Nome</th>\n",
              "      <th>Idade</th>\n",
              "      <th>Comida Preferida</th>\n",
              "      <th>País</th>\n",
              "      <th>Cidade</th>\n",
              "    </tr>\n",
              "  </thead>\n",
              "  <tbody>\n",
              "    <tr>\n",
              "      <th>3</th>\n",
              "      <td>Emma Watson</td>\n",
              "      <td>30</td>\n",
              "      <td>Mexicana</td>\n",
              "      <td>EUA</td>\n",
              "      <td>NaN</td>\n",
              "    </tr>\n",
              "    <tr>\n",
              "      <th>4</th>\n",
              "      <td>Hugh Jackman</td>\n",
              "      <td>52</td>\n",
              "      <td>Vinho e Queijo</td>\n",
              "      <td>EUA</td>\n",
              "      <td>NaN</td>\n",
              "    </tr>\n",
              "    <tr>\n",
              "      <th>5</th>\n",
              "      <td>Britney Spears</td>\n",
              "      <td>39</td>\n",
              "      <td>Chocolate</td>\n",
              "      <td>EUA</td>\n",
              "      <td>NaN</td>\n",
              "    </tr>\n",
              "  </tbody>\n",
              "</table>\n",
              "</div>"
            ],
            "text/plain": [
              "             Nome  Idade Comida Preferida País Cidade\n",
              "3     Emma Watson     30         Mexicana  EUA    NaN\n",
              "4    Hugh Jackman     52   Vinho e Queijo  EUA    NaN\n",
              "5  Britney Spears     39        Chocolate  EUA    NaN"
            ]
          },
          "metadata": {
            "tags": []
          },
          "execution_count": 23
        }
      ]
    },
    {
      "cell_type": "code",
      "metadata": {
        "colab": {
          "base_uri": "https://localhost:8080/",
          "height": 235
        },
        "id": "8FEwaV3q1m_t",
        "outputId": "2b22aa41-2acb-4ba2-f373-3e66fd93f029"
      },
      "source": [
        "df1.fillna(value='Desconhecido')"
      ],
      "execution_count": 24,
      "outputs": [
        {
          "output_type": "execute_result",
          "data": {
            "text/html": [
              "<div>\n",
              "<style scoped>\n",
              "    .dataframe tbody tr th:only-of-type {\n",
              "        vertical-align: middle;\n",
              "    }\n",
              "\n",
              "    .dataframe tbody tr th {\n",
              "        vertical-align: top;\n",
              "    }\n",
              "\n",
              "    .dataframe thead th {\n",
              "        text-align: right;\n",
              "    }\n",
              "</style>\n",
              "<table border=\"1\" class=\"dataframe\">\n",
              "  <thead>\n",
              "    <tr style=\"text-align: right;\">\n",
              "      <th></th>\n",
              "      <th>Nome</th>\n",
              "      <th>Idade</th>\n",
              "      <th>Comida Preferida</th>\n",
              "      <th>País</th>\n",
              "      <th>Cidade</th>\n",
              "    </tr>\n",
              "  </thead>\n",
              "  <tbody>\n",
              "    <tr>\n",
              "      <th>0</th>\n",
              "      <td>Pedro</td>\n",
              "      <td>22</td>\n",
              "      <td>Todas</td>\n",
              "      <td>Brasil</td>\n",
              "      <td>Goiânia</td>\n",
              "    </tr>\n",
              "    <tr>\n",
              "      <th>1</th>\n",
              "      <td>Jorge</td>\n",
              "      <td>17</td>\n",
              "      <td>McDonald's</td>\n",
              "      <td>Brasil</td>\n",
              "      <td>Goiânia</td>\n",
              "    </tr>\n",
              "    <tr>\n",
              "      <th>2</th>\n",
              "      <td>Maria Joaquina</td>\n",
              "      <td>13</td>\n",
              "      <td>Comida da Disney</td>\n",
              "      <td>Brasil</td>\n",
              "      <td>São Paulo</td>\n",
              "    </tr>\n",
              "    <tr>\n",
              "      <th>3</th>\n",
              "      <td>Emma Watson</td>\n",
              "      <td>30</td>\n",
              "      <td>Mexicana</td>\n",
              "      <td>EUA</td>\n",
              "      <td>Desconhecido</td>\n",
              "    </tr>\n",
              "    <tr>\n",
              "      <th>4</th>\n",
              "      <td>Hugh Jackman</td>\n",
              "      <td>52</td>\n",
              "      <td>Vinho e Queijo</td>\n",
              "      <td>EUA</td>\n",
              "      <td>Desconhecido</td>\n",
              "    </tr>\n",
              "    <tr>\n",
              "      <th>5</th>\n",
              "      <td>Britney Spears</td>\n",
              "      <td>39</td>\n",
              "      <td>Chocolate</td>\n",
              "      <td>EUA</td>\n",
              "      <td>Desconhecido</td>\n",
              "    </tr>\n",
              "  </tbody>\n",
              "</table>\n",
              "</div>"
            ],
            "text/plain": [
              "             Nome  Idade  Comida Preferida    País        Cidade\n",
              "0           Pedro     22             Todas  Brasil       Goiânia\n",
              "1           Jorge     17        McDonald's  Brasil       Goiânia\n",
              "2  Maria Joaquina     13  Comida da Disney  Brasil     São Paulo\n",
              "3     Emma Watson     30          Mexicana     EUA  Desconhecido\n",
              "4    Hugh Jackman     52    Vinho e Queijo     EUA  Desconhecido\n",
              "5  Britney Spears     39         Chocolate     EUA  Desconhecido"
            ]
          },
          "metadata": {
            "tags": []
          },
          "execution_count": 24
        }
      ]
    },
    {
      "cell_type": "code",
      "metadata": {
        "colab": {
          "base_uri": "https://localhost:8080/",
          "height": 235
        },
        "id": "qSRagwol1qxk",
        "outputId": "af09558f-aecb-4986-96a7-13b95771f036"
      },
      "source": [
        "df1"
      ],
      "execution_count": 25,
      "outputs": [
        {
          "output_type": "execute_result",
          "data": {
            "text/html": [
              "<div>\n",
              "<style scoped>\n",
              "    .dataframe tbody tr th:only-of-type {\n",
              "        vertical-align: middle;\n",
              "    }\n",
              "\n",
              "    .dataframe tbody tr th {\n",
              "        vertical-align: top;\n",
              "    }\n",
              "\n",
              "    .dataframe thead th {\n",
              "        text-align: right;\n",
              "    }\n",
              "</style>\n",
              "<table border=\"1\" class=\"dataframe\">\n",
              "  <thead>\n",
              "    <tr style=\"text-align: right;\">\n",
              "      <th></th>\n",
              "      <th>Nome</th>\n",
              "      <th>Idade</th>\n",
              "      <th>Comida Preferida</th>\n",
              "      <th>País</th>\n",
              "      <th>Cidade</th>\n",
              "    </tr>\n",
              "  </thead>\n",
              "  <tbody>\n",
              "    <tr>\n",
              "      <th>0</th>\n",
              "      <td>Pedro</td>\n",
              "      <td>22</td>\n",
              "      <td>Todas</td>\n",
              "      <td>Brasil</td>\n",
              "      <td>Goiânia</td>\n",
              "    </tr>\n",
              "    <tr>\n",
              "      <th>1</th>\n",
              "      <td>Jorge</td>\n",
              "      <td>17</td>\n",
              "      <td>McDonald's</td>\n",
              "      <td>Brasil</td>\n",
              "      <td>Goiânia</td>\n",
              "    </tr>\n",
              "    <tr>\n",
              "      <th>2</th>\n",
              "      <td>Maria Joaquina</td>\n",
              "      <td>13</td>\n",
              "      <td>Comida da Disney</td>\n",
              "      <td>Brasil</td>\n",
              "      <td>São Paulo</td>\n",
              "    </tr>\n",
              "    <tr>\n",
              "      <th>3</th>\n",
              "      <td>Emma Watson</td>\n",
              "      <td>30</td>\n",
              "      <td>Mexicana</td>\n",
              "      <td>EUA</td>\n",
              "      <td>NaN</td>\n",
              "    </tr>\n",
              "    <tr>\n",
              "      <th>4</th>\n",
              "      <td>Hugh Jackman</td>\n",
              "      <td>52</td>\n",
              "      <td>Vinho e Queijo</td>\n",
              "      <td>EUA</td>\n",
              "      <td>NaN</td>\n",
              "    </tr>\n",
              "    <tr>\n",
              "      <th>5</th>\n",
              "      <td>Britney Spears</td>\n",
              "      <td>39</td>\n",
              "      <td>Chocolate</td>\n",
              "      <td>EUA</td>\n",
              "      <td>NaN</td>\n",
              "    </tr>\n",
              "  </tbody>\n",
              "</table>\n",
              "</div>"
            ],
            "text/plain": [
              "             Nome  Idade  Comida Preferida    País     Cidade\n",
              "0           Pedro     22             Todas  Brasil    Goiânia\n",
              "1           Jorge     17        McDonald's  Brasil    Goiânia\n",
              "2  Maria Joaquina     13  Comida da Disney  Brasil  São Paulo\n",
              "3     Emma Watson     30          Mexicana     EUA        NaN\n",
              "4    Hugh Jackman     52    Vinho e Queijo     EUA        NaN\n",
              "5  Britney Spears     39         Chocolate     EUA        NaN"
            ]
          },
          "metadata": {
            "tags": []
          },
          "execution_count": 25
        }
      ]
    },
    {
      "cell_type": "code",
      "metadata": {
        "colab": {
          "base_uri": "https://localhost:8080/",
          "height": 235
        },
        "id": "dJ6tkl-D1sUV",
        "outputId": "007367fc-06ac-4ccb-9b93-ae6027ea01a3"
      },
      "source": [
        "df1.fillna(value='Desconhecido', inplace=True)\n",
        "df1"
      ],
      "execution_count": 26,
      "outputs": [
        {
          "output_type": "execute_result",
          "data": {
            "text/html": [
              "<div>\n",
              "<style scoped>\n",
              "    .dataframe tbody tr th:only-of-type {\n",
              "        vertical-align: middle;\n",
              "    }\n",
              "\n",
              "    .dataframe tbody tr th {\n",
              "        vertical-align: top;\n",
              "    }\n",
              "\n",
              "    .dataframe thead th {\n",
              "        text-align: right;\n",
              "    }\n",
              "</style>\n",
              "<table border=\"1\" class=\"dataframe\">\n",
              "  <thead>\n",
              "    <tr style=\"text-align: right;\">\n",
              "      <th></th>\n",
              "      <th>Nome</th>\n",
              "      <th>Idade</th>\n",
              "      <th>Comida Preferida</th>\n",
              "      <th>País</th>\n",
              "      <th>Cidade</th>\n",
              "    </tr>\n",
              "  </thead>\n",
              "  <tbody>\n",
              "    <tr>\n",
              "      <th>0</th>\n",
              "      <td>Pedro</td>\n",
              "      <td>22</td>\n",
              "      <td>Todas</td>\n",
              "      <td>Brasil</td>\n",
              "      <td>Goiânia</td>\n",
              "    </tr>\n",
              "    <tr>\n",
              "      <th>1</th>\n",
              "      <td>Jorge</td>\n",
              "      <td>17</td>\n",
              "      <td>McDonald's</td>\n",
              "      <td>Brasil</td>\n",
              "      <td>Goiânia</td>\n",
              "    </tr>\n",
              "    <tr>\n",
              "      <th>2</th>\n",
              "      <td>Maria Joaquina</td>\n",
              "      <td>13</td>\n",
              "      <td>Comida da Disney</td>\n",
              "      <td>Brasil</td>\n",
              "      <td>São Paulo</td>\n",
              "    </tr>\n",
              "    <tr>\n",
              "      <th>3</th>\n",
              "      <td>Emma Watson</td>\n",
              "      <td>30</td>\n",
              "      <td>Mexicana</td>\n",
              "      <td>EUA</td>\n",
              "      <td>Desconhecido</td>\n",
              "    </tr>\n",
              "    <tr>\n",
              "      <th>4</th>\n",
              "      <td>Hugh Jackman</td>\n",
              "      <td>52</td>\n",
              "      <td>Vinho e Queijo</td>\n",
              "      <td>EUA</td>\n",
              "      <td>Desconhecido</td>\n",
              "    </tr>\n",
              "    <tr>\n",
              "      <th>5</th>\n",
              "      <td>Britney Spears</td>\n",
              "      <td>39</td>\n",
              "      <td>Chocolate</td>\n",
              "      <td>EUA</td>\n",
              "      <td>Desconhecido</td>\n",
              "    </tr>\n",
              "  </tbody>\n",
              "</table>\n",
              "</div>"
            ],
            "text/plain": [
              "             Nome  Idade  Comida Preferida    País        Cidade\n",
              "0           Pedro     22             Todas  Brasil       Goiânia\n",
              "1           Jorge     17        McDonald's  Brasil       Goiânia\n",
              "2  Maria Joaquina     13  Comida da Disney  Brasil     São Paulo\n",
              "3     Emma Watson     30          Mexicana     EUA  Desconhecido\n",
              "4    Hugh Jackman     52    Vinho e Queijo     EUA  Desconhecido\n",
              "5  Britney Spears     39         Chocolate     EUA  Desconhecido"
            ]
          },
          "metadata": {
            "tags": []
          },
          "execution_count": 26
        }
      ]
    },
    {
      "cell_type": "markdown",
      "metadata": {
        "id": "qpWQW9mL4OOs"
      },
      "source": [
        "> Assim como uma Serie, um DF também tem métodos para exibir o Index e os valores. Há, também, método para exibir as colunas:"
      ]
    },
    {
      "cell_type": "code",
      "metadata": {
        "colab": {
          "base_uri": "https://localhost:8080/"
        },
        "id": "R7NtdMR24UJ6",
        "outputId": "45e59ed0-a633-472c-ff06-3cb879ef173f"
      },
      "source": [
        "df1.values"
      ],
      "execution_count": 27,
      "outputs": [
        {
          "output_type": "execute_result",
          "data": {
            "text/plain": [
              "array([['Pedro', 22, 'Todas', 'Brasil', 'Goiânia'],\n",
              "       ['Jorge', 17, \"McDonald's\", 'Brasil', 'Goiânia'],\n",
              "       ['Maria Joaquina', 13, 'Comida da Disney', 'Brasil', 'São Paulo'],\n",
              "       ['Emma Watson', 30, 'Mexicana', 'EUA', 'Desconhecido'],\n",
              "       ['Hugh Jackman', 52, 'Vinho e Queijo', 'EUA', 'Desconhecido'],\n",
              "       ['Britney Spears', 39, 'Chocolate', 'EUA', 'Desconhecido']],\n",
              "      dtype=object)"
            ]
          },
          "metadata": {
            "tags": []
          },
          "execution_count": 27
        }
      ]
    },
    {
      "cell_type": "code",
      "metadata": {
        "colab": {
          "base_uri": "https://localhost:8080/"
        },
        "id": "IAFVZG2_4Vt2",
        "outputId": "d9179c09-60b4-4a8d-8b1b-c045c8c624e4"
      },
      "source": [
        "df1.index"
      ],
      "execution_count": 28,
      "outputs": [
        {
          "output_type": "execute_result",
          "data": {
            "text/plain": [
              "RangeIndex(start=0, stop=6, step=1)"
            ]
          },
          "metadata": {
            "tags": []
          },
          "execution_count": 28
        }
      ]
    },
    {
      "cell_type": "code",
      "metadata": {
        "colab": {
          "base_uri": "https://localhost:8080/"
        },
        "id": "mX-oXEWX4W2d",
        "outputId": "47a8b353-c442-40df-c20c-29f684c16168"
      },
      "source": [
        "df1.columns"
      ],
      "execution_count": 29,
      "outputs": [
        {
          "output_type": "execute_result",
          "data": {
            "text/plain": [
              "Index(['Nome', 'Idade', 'Comida Preferida', 'País', 'Cidade'], dtype='object')"
            ]
          },
          "metadata": {
            "tags": []
          },
          "execution_count": 29
        }
      ]
    },
    {
      "cell_type": "markdown",
      "metadata": {
        "id": "hQOJPO6K4ZP0"
      },
      "source": [
        "> Sendo objetos análogos ao NumPy, tanto DataFrames quanto Series possuem o método .shape, que retorna o formato do DataFrame:"
      ]
    },
    {
      "cell_type": "code",
      "metadata": {
        "colab": {
          "base_uri": "https://localhost:8080/"
        },
        "id": "WgCnW6g74g41",
        "outputId": "f9f4bd6d-acd0-44fa-f635-4ed8a37065b1"
      },
      "source": [
        "df1.shape"
      ],
      "execution_count": 30,
      "outputs": [
        {
          "output_type": "execute_result",
          "data": {
            "text/plain": [
              "(6, 5)"
            ]
          },
          "metadata": {
            "tags": []
          },
          "execution_count": 30
        }
      ]
    },
    {
      "cell_type": "code",
      "metadata": {
        "colab": {
          "base_uri": "https://localhost:8080/",
          "height": 297
        },
        "id": "V8gXC0B_4s7O",
        "outputId": "2e0cc426-db15-4e7a-9d2f-18ceeac03bc0"
      },
      "source": [
        "# O método .describe() retorna estatísticas sobre as colunas que possuem valores numéricos:\n",
        "df1.describe()"
      ],
      "execution_count": 31,
      "outputs": [
        {
          "output_type": "execute_result",
          "data": {
            "text/html": [
              "<div>\n",
              "<style scoped>\n",
              "    .dataframe tbody tr th:only-of-type {\n",
              "        vertical-align: middle;\n",
              "    }\n",
              "\n",
              "    .dataframe tbody tr th {\n",
              "        vertical-align: top;\n",
              "    }\n",
              "\n",
              "    .dataframe thead th {\n",
              "        text-align: right;\n",
              "    }\n",
              "</style>\n",
              "<table border=\"1\" class=\"dataframe\">\n",
              "  <thead>\n",
              "    <tr style=\"text-align: right;\">\n",
              "      <th></th>\n",
              "      <th>Idade</th>\n",
              "    </tr>\n",
              "  </thead>\n",
              "  <tbody>\n",
              "    <tr>\n",
              "      <th>count</th>\n",
              "      <td>6.000000</td>\n",
              "    </tr>\n",
              "    <tr>\n",
              "      <th>mean</th>\n",
              "      <td>28.833333</td>\n",
              "    </tr>\n",
              "    <tr>\n",
              "      <th>std</th>\n",
              "      <td>14.688998</td>\n",
              "    </tr>\n",
              "    <tr>\n",
              "      <th>min</th>\n",
              "      <td>13.000000</td>\n",
              "    </tr>\n",
              "    <tr>\n",
              "      <th>25%</th>\n",
              "      <td>18.250000</td>\n",
              "    </tr>\n",
              "    <tr>\n",
              "      <th>50%</th>\n",
              "      <td>26.000000</td>\n",
              "    </tr>\n",
              "    <tr>\n",
              "      <th>75%</th>\n",
              "      <td>36.750000</td>\n",
              "    </tr>\n",
              "    <tr>\n",
              "      <th>max</th>\n",
              "      <td>52.000000</td>\n",
              "    </tr>\n",
              "  </tbody>\n",
              "</table>\n",
              "</div>"
            ],
            "text/plain": [
              "           Idade\n",
              "count   6.000000\n",
              "mean   28.833333\n",
              "std    14.688998\n",
              "min    13.000000\n",
              "25%    18.250000\n",
              "50%    26.000000\n",
              "75%    36.750000\n",
              "max    52.000000"
            ]
          },
          "metadata": {
            "tags": []
          },
          "execution_count": 31
        }
      ]
    },
    {
      "cell_type": "code",
      "metadata": {
        "colab": {
          "base_uri": "https://localhost:8080/"
        },
        "id": "5UjbYrkfBb71",
        "outputId": "3df157c3-2c94-41b9-ed8a-9984cb339cfc"
      },
      "source": [
        "# df['Coluna'].unique() retorna os valores que ocorrem ao menos uma vez naquela coluna\n",
        "df1['País'].unique()"
      ],
      "execution_count": 32,
      "outputs": [
        {
          "output_type": "execute_result",
          "data": {
            "text/plain": [
              "array(['Brasil', 'EUA'], dtype=object)"
            ]
          },
          "metadata": {
            "tags": []
          },
          "execution_count": 32
        }
      ]
    },
    {
      "cell_type": "markdown",
      "metadata": {
        "id": "DtOB-II9tg6S"
      },
      "source": [
        "### Index"
      ]
    },
    {
      "cell_type": "markdown",
      "metadata": {
        "id": "hO56SsXH15If"
      },
      "source": [
        "> Há várias operações envolvendo os Index."
      ]
    },
    {
      "cell_type": "code",
      "metadata": {
        "colab": {
          "base_uri": "https://localhost:8080/",
          "height": 266
        },
        "id": "IYQ-TWPkth-R",
        "outputId": "436db827-848c-43d7-c35b-1717dd012536"
      },
      "source": [
        "# O método .set_index(new_index) é usado para atualizar o index de um DF\n",
        "df1.set_index('Nome', inplace=True)     # transforma a coluna \"Nome\" em Index\n",
        "df1"
      ],
      "execution_count": 33,
      "outputs": [
        {
          "output_type": "execute_result",
          "data": {
            "text/html": [
              "<div>\n",
              "<style scoped>\n",
              "    .dataframe tbody tr th:only-of-type {\n",
              "        vertical-align: middle;\n",
              "    }\n",
              "\n",
              "    .dataframe tbody tr th {\n",
              "        vertical-align: top;\n",
              "    }\n",
              "\n",
              "    .dataframe thead th {\n",
              "        text-align: right;\n",
              "    }\n",
              "</style>\n",
              "<table border=\"1\" class=\"dataframe\">\n",
              "  <thead>\n",
              "    <tr style=\"text-align: right;\">\n",
              "      <th></th>\n",
              "      <th>Idade</th>\n",
              "      <th>Comida Preferida</th>\n",
              "      <th>País</th>\n",
              "      <th>Cidade</th>\n",
              "    </tr>\n",
              "    <tr>\n",
              "      <th>Nome</th>\n",
              "      <th></th>\n",
              "      <th></th>\n",
              "      <th></th>\n",
              "      <th></th>\n",
              "    </tr>\n",
              "  </thead>\n",
              "  <tbody>\n",
              "    <tr>\n",
              "      <th>Pedro</th>\n",
              "      <td>22</td>\n",
              "      <td>Todas</td>\n",
              "      <td>Brasil</td>\n",
              "      <td>Goiânia</td>\n",
              "    </tr>\n",
              "    <tr>\n",
              "      <th>Jorge</th>\n",
              "      <td>17</td>\n",
              "      <td>McDonald's</td>\n",
              "      <td>Brasil</td>\n",
              "      <td>Goiânia</td>\n",
              "    </tr>\n",
              "    <tr>\n",
              "      <th>Maria Joaquina</th>\n",
              "      <td>13</td>\n",
              "      <td>Comida da Disney</td>\n",
              "      <td>Brasil</td>\n",
              "      <td>São Paulo</td>\n",
              "    </tr>\n",
              "    <tr>\n",
              "      <th>Emma Watson</th>\n",
              "      <td>30</td>\n",
              "      <td>Mexicana</td>\n",
              "      <td>EUA</td>\n",
              "      <td>Desconhecido</td>\n",
              "    </tr>\n",
              "    <tr>\n",
              "      <th>Hugh Jackman</th>\n",
              "      <td>52</td>\n",
              "      <td>Vinho e Queijo</td>\n",
              "      <td>EUA</td>\n",
              "      <td>Desconhecido</td>\n",
              "    </tr>\n",
              "    <tr>\n",
              "      <th>Britney Spears</th>\n",
              "      <td>39</td>\n",
              "      <td>Chocolate</td>\n",
              "      <td>EUA</td>\n",
              "      <td>Desconhecido</td>\n",
              "    </tr>\n",
              "  </tbody>\n",
              "</table>\n",
              "</div>"
            ],
            "text/plain": [
              "                Idade  Comida Preferida    País        Cidade\n",
              "Nome                                                         \n",
              "Pedro              22             Todas  Brasil       Goiânia\n",
              "Jorge              17        McDonald's  Brasil       Goiânia\n",
              "Maria Joaquina     13  Comida da Disney  Brasil     São Paulo\n",
              "Emma Watson        30          Mexicana     EUA  Desconhecido\n",
              "Hugh Jackman       52    Vinho e Queijo     EUA  Desconhecido\n",
              "Britney Spears     39         Chocolate     EUA  Desconhecido"
            ]
          },
          "metadata": {
            "tags": []
          },
          "execution_count": 33
        }
      ]
    },
    {
      "cell_type": "code",
      "metadata": {
        "colab": {
          "base_uri": "https://localhost:8080/"
        },
        "id": "uwTJwVbo4I1t",
        "outputId": "1cd714b7-4a2f-49ae-dc4a-cbcfe716b340"
      },
      "source": [
        "df1.index"
      ],
      "execution_count": 34,
      "outputs": [
        {
          "output_type": "execute_result",
          "data": {
            "text/plain": [
              "Index(['Pedro', 'Jorge', 'Maria Joaquina', 'Emma Watson', 'Hugh Jackman',\n",
              "       'Britney Spears'],\n",
              "      dtype='object', name='Nome')"
            ]
          },
          "metadata": {
            "tags": []
          },
          "execution_count": 34
        }
      ]
    },
    {
      "cell_type": "code",
      "metadata": {
        "colab": {
          "base_uri": "https://localhost:8080/"
        },
        "id": "0j-Oos-_4K2E",
        "outputId": "cb8b1b4b-95e5-416e-a0b5-0d2f435f39d3"
      },
      "source": [
        "df1.values"
      ],
      "execution_count": 35,
      "outputs": [
        {
          "output_type": "execute_result",
          "data": {
            "text/plain": [
              "array([[22, 'Todas', 'Brasil', 'Goiânia'],\n",
              "       [17, \"McDonald's\", 'Brasil', 'Goiânia'],\n",
              "       [13, 'Comida da Disney', 'Brasil', 'São Paulo'],\n",
              "       [30, 'Mexicana', 'EUA', 'Desconhecido'],\n",
              "       [52, 'Vinho e Queijo', 'EUA', 'Desconhecido'],\n",
              "       [39, 'Chocolate', 'EUA', 'Desconhecido']], dtype=object)"
            ]
          },
          "metadata": {
            "tags": []
          },
          "execution_count": 35
        }
      ]
    },
    {
      "cell_type": "markdown",
      "metadata": {
        "id": "E7ppejAQ6VB_"
      },
      "source": [
        "> O Index também pode ser atualizado por atribuição"
      ]
    },
    {
      "cell_type": "code",
      "metadata": {
        "colab": {
          "base_uri": "https://localhost:8080/",
          "height": 235
        },
        "id": "Np9VywDd6Myz",
        "outputId": "011b2615-2ab6-4707-ebae-61dc4a77af89"
      },
      "source": [
        "df1.index = ['Pedro Hortêncio', 'Jorge Henrique', 'Maria Joaquina', 'Emma Watson', 'Hugh Jackman',\n",
        "       'Britney Spears']\n",
        "df1"
      ],
      "execution_count": 36,
      "outputs": [
        {
          "output_type": "execute_result",
          "data": {
            "text/html": [
              "<div>\n",
              "<style scoped>\n",
              "    .dataframe tbody tr th:only-of-type {\n",
              "        vertical-align: middle;\n",
              "    }\n",
              "\n",
              "    .dataframe tbody tr th {\n",
              "        vertical-align: top;\n",
              "    }\n",
              "\n",
              "    .dataframe thead th {\n",
              "        text-align: right;\n",
              "    }\n",
              "</style>\n",
              "<table border=\"1\" class=\"dataframe\">\n",
              "  <thead>\n",
              "    <tr style=\"text-align: right;\">\n",
              "      <th></th>\n",
              "      <th>Idade</th>\n",
              "      <th>Comida Preferida</th>\n",
              "      <th>País</th>\n",
              "      <th>Cidade</th>\n",
              "    </tr>\n",
              "  </thead>\n",
              "  <tbody>\n",
              "    <tr>\n",
              "      <th>Pedro Hortêncio</th>\n",
              "      <td>22</td>\n",
              "      <td>Todas</td>\n",
              "      <td>Brasil</td>\n",
              "      <td>Goiânia</td>\n",
              "    </tr>\n",
              "    <tr>\n",
              "      <th>Jorge Henrique</th>\n",
              "      <td>17</td>\n",
              "      <td>McDonald's</td>\n",
              "      <td>Brasil</td>\n",
              "      <td>Goiânia</td>\n",
              "    </tr>\n",
              "    <tr>\n",
              "      <th>Maria Joaquina</th>\n",
              "      <td>13</td>\n",
              "      <td>Comida da Disney</td>\n",
              "      <td>Brasil</td>\n",
              "      <td>São Paulo</td>\n",
              "    </tr>\n",
              "    <tr>\n",
              "      <th>Emma Watson</th>\n",
              "      <td>30</td>\n",
              "      <td>Mexicana</td>\n",
              "      <td>EUA</td>\n",
              "      <td>Desconhecido</td>\n",
              "    </tr>\n",
              "    <tr>\n",
              "      <th>Hugh Jackman</th>\n",
              "      <td>52</td>\n",
              "      <td>Vinho e Queijo</td>\n",
              "      <td>EUA</td>\n",
              "      <td>Desconhecido</td>\n",
              "    </tr>\n",
              "    <tr>\n",
              "      <th>Britney Spears</th>\n",
              "      <td>39</td>\n",
              "      <td>Chocolate</td>\n",
              "      <td>EUA</td>\n",
              "      <td>Desconhecido</td>\n",
              "    </tr>\n",
              "  </tbody>\n",
              "</table>\n",
              "</div>"
            ],
            "text/plain": [
              "                 Idade  Comida Preferida    País        Cidade\n",
              "Pedro Hortêncio     22             Todas  Brasil       Goiânia\n",
              "Jorge Henrique      17        McDonald's  Brasil       Goiânia\n",
              "Maria Joaquina      13  Comida da Disney  Brasil     São Paulo\n",
              "Emma Watson         30          Mexicana     EUA  Desconhecido\n",
              "Hugh Jackman        52    Vinho e Queijo     EUA  Desconhecido\n",
              "Britney Spears      39         Chocolate     EUA  Desconhecido"
            ]
          },
          "metadata": {
            "tags": []
          },
          "execution_count": 36
        }
      ]
    },
    {
      "cell_type": "markdown",
      "metadata": {
        "id": "hh0ktgSA5CBU"
      },
      "source": [
        "> É possível alterar o nome do Index (e de colunas):"
      ]
    },
    {
      "cell_type": "code",
      "metadata": {
        "colab": {
          "base_uri": "https://localhost:8080/",
          "height": 266
        },
        "id": "VUPgx0_95FZF",
        "outputId": "b6897bad-25d5-47bd-a833-558d1219d880"
      },
      "source": [
        "df1.index.names = [\"NOME\"]\n",
        "df1"
      ],
      "execution_count": 37,
      "outputs": [
        {
          "output_type": "execute_result",
          "data": {
            "text/html": [
              "<div>\n",
              "<style scoped>\n",
              "    .dataframe tbody tr th:only-of-type {\n",
              "        vertical-align: middle;\n",
              "    }\n",
              "\n",
              "    .dataframe tbody tr th {\n",
              "        vertical-align: top;\n",
              "    }\n",
              "\n",
              "    .dataframe thead th {\n",
              "        text-align: right;\n",
              "    }\n",
              "</style>\n",
              "<table border=\"1\" class=\"dataframe\">\n",
              "  <thead>\n",
              "    <tr style=\"text-align: right;\">\n",
              "      <th></th>\n",
              "      <th>Idade</th>\n",
              "      <th>Comida Preferida</th>\n",
              "      <th>País</th>\n",
              "      <th>Cidade</th>\n",
              "    </tr>\n",
              "    <tr>\n",
              "      <th>NOME</th>\n",
              "      <th></th>\n",
              "      <th></th>\n",
              "      <th></th>\n",
              "      <th></th>\n",
              "    </tr>\n",
              "  </thead>\n",
              "  <tbody>\n",
              "    <tr>\n",
              "      <th>Pedro Hortêncio</th>\n",
              "      <td>22</td>\n",
              "      <td>Todas</td>\n",
              "      <td>Brasil</td>\n",
              "      <td>Goiânia</td>\n",
              "    </tr>\n",
              "    <tr>\n",
              "      <th>Jorge Henrique</th>\n",
              "      <td>17</td>\n",
              "      <td>McDonald's</td>\n",
              "      <td>Brasil</td>\n",
              "      <td>Goiânia</td>\n",
              "    </tr>\n",
              "    <tr>\n",
              "      <th>Maria Joaquina</th>\n",
              "      <td>13</td>\n",
              "      <td>Comida da Disney</td>\n",
              "      <td>Brasil</td>\n",
              "      <td>São Paulo</td>\n",
              "    </tr>\n",
              "    <tr>\n",
              "      <th>Emma Watson</th>\n",
              "      <td>30</td>\n",
              "      <td>Mexicana</td>\n",
              "      <td>EUA</td>\n",
              "      <td>Desconhecido</td>\n",
              "    </tr>\n",
              "    <tr>\n",
              "      <th>Hugh Jackman</th>\n",
              "      <td>52</td>\n",
              "      <td>Vinho e Queijo</td>\n",
              "      <td>EUA</td>\n",
              "      <td>Desconhecido</td>\n",
              "    </tr>\n",
              "    <tr>\n",
              "      <th>Britney Spears</th>\n",
              "      <td>39</td>\n",
              "      <td>Chocolate</td>\n",
              "      <td>EUA</td>\n",
              "      <td>Desconhecido</td>\n",
              "    </tr>\n",
              "  </tbody>\n",
              "</table>\n",
              "</div>"
            ],
            "text/plain": [
              "                 Idade  Comida Preferida    País        Cidade\n",
              "NOME                                                          \n",
              "Pedro Hortêncio     22             Todas  Brasil       Goiânia\n",
              "Jorge Henrique      17        McDonald's  Brasil       Goiânia\n",
              "Maria Joaquina      13  Comida da Disney  Brasil     São Paulo\n",
              "Emma Watson         30          Mexicana     EUA  Desconhecido\n",
              "Hugh Jackman        52    Vinho e Queijo     EUA  Desconhecido\n",
              "Britney Spears      39         Chocolate     EUA  Desconhecido"
            ]
          },
          "metadata": {
            "tags": []
          },
          "execution_count": 37
        }
      ]
    },
    {
      "cell_type": "code",
      "metadata": {
        "colab": {
          "base_uri": "https://localhost:8080/",
          "height": 266
        },
        "id": "31V1rcEL5uhZ",
        "outputId": "72718772-c3bb-4238-ceea-c95d9be35744"
      },
      "source": [
        "# Para colunas\n",
        "df1 = df1.rename(columns={\"País\": \"Região\"})\n",
        "df1"
      ],
      "execution_count": 38,
      "outputs": [
        {
          "output_type": "execute_result",
          "data": {
            "text/html": [
              "<div>\n",
              "<style scoped>\n",
              "    .dataframe tbody tr th:only-of-type {\n",
              "        vertical-align: middle;\n",
              "    }\n",
              "\n",
              "    .dataframe tbody tr th {\n",
              "        vertical-align: top;\n",
              "    }\n",
              "\n",
              "    .dataframe thead th {\n",
              "        text-align: right;\n",
              "    }\n",
              "</style>\n",
              "<table border=\"1\" class=\"dataframe\">\n",
              "  <thead>\n",
              "    <tr style=\"text-align: right;\">\n",
              "      <th></th>\n",
              "      <th>Idade</th>\n",
              "      <th>Comida Preferida</th>\n",
              "      <th>Região</th>\n",
              "      <th>Cidade</th>\n",
              "    </tr>\n",
              "    <tr>\n",
              "      <th>NOME</th>\n",
              "      <th></th>\n",
              "      <th></th>\n",
              "      <th></th>\n",
              "      <th></th>\n",
              "    </tr>\n",
              "  </thead>\n",
              "  <tbody>\n",
              "    <tr>\n",
              "      <th>Pedro Hortêncio</th>\n",
              "      <td>22</td>\n",
              "      <td>Todas</td>\n",
              "      <td>Brasil</td>\n",
              "      <td>Goiânia</td>\n",
              "    </tr>\n",
              "    <tr>\n",
              "      <th>Jorge Henrique</th>\n",
              "      <td>17</td>\n",
              "      <td>McDonald's</td>\n",
              "      <td>Brasil</td>\n",
              "      <td>Goiânia</td>\n",
              "    </tr>\n",
              "    <tr>\n",
              "      <th>Maria Joaquina</th>\n",
              "      <td>13</td>\n",
              "      <td>Comida da Disney</td>\n",
              "      <td>Brasil</td>\n",
              "      <td>São Paulo</td>\n",
              "    </tr>\n",
              "    <tr>\n",
              "      <th>Emma Watson</th>\n",
              "      <td>30</td>\n",
              "      <td>Mexicana</td>\n",
              "      <td>EUA</td>\n",
              "      <td>Desconhecido</td>\n",
              "    </tr>\n",
              "    <tr>\n",
              "      <th>Hugh Jackman</th>\n",
              "      <td>52</td>\n",
              "      <td>Vinho e Queijo</td>\n",
              "      <td>EUA</td>\n",
              "      <td>Desconhecido</td>\n",
              "    </tr>\n",
              "    <tr>\n",
              "      <th>Britney Spears</th>\n",
              "      <td>39</td>\n",
              "      <td>Chocolate</td>\n",
              "      <td>EUA</td>\n",
              "      <td>Desconhecido</td>\n",
              "    </tr>\n",
              "  </tbody>\n",
              "</table>\n",
              "</div>"
            ],
            "text/plain": [
              "                 Idade  Comida Preferida  Região        Cidade\n",
              "NOME                                                          \n",
              "Pedro Hortêncio     22             Todas  Brasil       Goiânia\n",
              "Jorge Henrique      17        McDonald's  Brasil       Goiânia\n",
              "Maria Joaquina      13  Comida da Disney  Brasil     São Paulo\n",
              "Emma Watson         30          Mexicana     EUA  Desconhecido\n",
              "Hugh Jackman        52    Vinho e Queijo     EUA  Desconhecido\n",
              "Britney Spears      39         Chocolate     EUA  Desconhecido"
            ]
          },
          "metadata": {
            "tags": []
          },
          "execution_count": 38
        }
      ]
    },
    {
      "cell_type": "markdown",
      "metadata": {
        "id": "LgQc4mDP6iwX"
      },
      "source": [
        "## Querry"
      ]
    },
    {
      "cell_type": "code",
      "metadata": {
        "id": "_hRg9-OA6kNr"
      },
      "source": [
        "# Recriando o DataFrame de exemplo\n",
        "\n",
        "data = {'Nome':['Pedro', 'Jorge', 'Maria Joaquina', 'Emma Watson', 'Hugh Jackman', 'Britney Spears'],\n",
        "        'Idade':[22, 17, 13, 30, 52, 39],\n",
        "        'Comida Preferida':['Todas', \"McDonald's\", 'Comida da Disney', 'Mexicana', 'Vinho e Queijo', 'Chocolate'],\n",
        "        'País':['Brasil', 'Brasil', 'Brasil', 'EUA', 'EUA', 'EUA']}\n",
        "\n",
        "df1 = pd.DataFrame(data)"
      ],
      "execution_count": 39,
      "outputs": []
    },
    {
      "cell_type": "code",
      "metadata": {
        "colab": {
          "base_uri": "https://localhost:8080/",
          "height": 142
        },
        "id": "pc2Hl1959Ceb",
        "outputId": "d751274b-d338-4d21-a370-092c527a06b8"
      },
      "source": [
        "df1.head(3)"
      ],
      "execution_count": 40,
      "outputs": [
        {
          "output_type": "execute_result",
          "data": {
            "text/html": [
              "<div>\n",
              "<style scoped>\n",
              "    .dataframe tbody tr th:only-of-type {\n",
              "        vertical-align: middle;\n",
              "    }\n",
              "\n",
              "    .dataframe tbody tr th {\n",
              "        vertical-align: top;\n",
              "    }\n",
              "\n",
              "    .dataframe thead th {\n",
              "        text-align: right;\n",
              "    }\n",
              "</style>\n",
              "<table border=\"1\" class=\"dataframe\">\n",
              "  <thead>\n",
              "    <tr style=\"text-align: right;\">\n",
              "      <th></th>\n",
              "      <th>Nome</th>\n",
              "      <th>Idade</th>\n",
              "      <th>Comida Preferida</th>\n",
              "      <th>País</th>\n",
              "    </tr>\n",
              "  </thead>\n",
              "  <tbody>\n",
              "    <tr>\n",
              "      <th>0</th>\n",
              "      <td>Pedro</td>\n",
              "      <td>22</td>\n",
              "      <td>Todas</td>\n",
              "      <td>Brasil</td>\n",
              "    </tr>\n",
              "    <tr>\n",
              "      <th>1</th>\n",
              "      <td>Jorge</td>\n",
              "      <td>17</td>\n",
              "      <td>McDonald's</td>\n",
              "      <td>Brasil</td>\n",
              "    </tr>\n",
              "    <tr>\n",
              "      <th>2</th>\n",
              "      <td>Maria Joaquina</td>\n",
              "      <td>13</td>\n",
              "      <td>Comida da Disney</td>\n",
              "      <td>Brasil</td>\n",
              "    </tr>\n",
              "  </tbody>\n",
              "</table>\n",
              "</div>"
            ],
            "text/plain": [
              "             Nome  Idade  Comida Preferida    País\n",
              "0           Pedro     22             Todas  Brasil\n",
              "1           Jorge     17        McDonald's  Brasil\n",
              "2  Maria Joaquina     13  Comida da Disney  Brasil"
            ]
          },
          "metadata": {
            "tags": []
          },
          "execution_count": 40
        }
      ]
    },
    {
      "cell_type": "markdown",
      "metadata": {
        "id": "K79M3uPvBBty"
      },
      "source": [
        "> Selecionar colunas"
      ]
    },
    {
      "cell_type": "code",
      "metadata": {
        "colab": {
          "base_uri": "https://localhost:8080/"
        },
        "id": "smA-_fyyBDF0",
        "outputId": "a2adf25c-8c96-4c30-a650-00544ba114c7"
      },
      "source": [
        "df1['Nome']"
      ],
      "execution_count": 41,
      "outputs": [
        {
          "output_type": "execute_result",
          "data": {
            "text/plain": [
              "0             Pedro\n",
              "1             Jorge\n",
              "2    Maria Joaquina\n",
              "3       Emma Watson\n",
              "4      Hugh Jackman\n",
              "5    Britney Spears\n",
              "Name: Nome, dtype: object"
            ]
          },
          "metadata": {
            "tags": []
          },
          "execution_count": 41
        }
      ]
    },
    {
      "cell_type": "code",
      "metadata": {
        "colab": {
          "base_uri": "https://localhost:8080/",
          "height": 235
        },
        "id": "JQUaNAekBE4M",
        "outputId": "e4f4f643-be6e-4dbd-f76e-59a97704f59d"
      },
      "source": [
        "df1[['Idade', 'Comida Preferida']]"
      ],
      "execution_count": 42,
      "outputs": [
        {
          "output_type": "execute_result",
          "data": {
            "text/html": [
              "<div>\n",
              "<style scoped>\n",
              "    .dataframe tbody tr th:only-of-type {\n",
              "        vertical-align: middle;\n",
              "    }\n",
              "\n",
              "    .dataframe tbody tr th {\n",
              "        vertical-align: top;\n",
              "    }\n",
              "\n",
              "    .dataframe thead th {\n",
              "        text-align: right;\n",
              "    }\n",
              "</style>\n",
              "<table border=\"1\" class=\"dataframe\">\n",
              "  <thead>\n",
              "    <tr style=\"text-align: right;\">\n",
              "      <th></th>\n",
              "      <th>Idade</th>\n",
              "      <th>Comida Preferida</th>\n",
              "    </tr>\n",
              "  </thead>\n",
              "  <tbody>\n",
              "    <tr>\n",
              "      <th>0</th>\n",
              "      <td>22</td>\n",
              "      <td>Todas</td>\n",
              "    </tr>\n",
              "    <tr>\n",
              "      <th>1</th>\n",
              "      <td>17</td>\n",
              "      <td>McDonald's</td>\n",
              "    </tr>\n",
              "    <tr>\n",
              "      <th>2</th>\n",
              "      <td>13</td>\n",
              "      <td>Comida da Disney</td>\n",
              "    </tr>\n",
              "    <tr>\n",
              "      <th>3</th>\n",
              "      <td>30</td>\n",
              "      <td>Mexicana</td>\n",
              "    </tr>\n",
              "    <tr>\n",
              "      <th>4</th>\n",
              "      <td>52</td>\n",
              "      <td>Vinho e Queijo</td>\n",
              "    </tr>\n",
              "    <tr>\n",
              "      <th>5</th>\n",
              "      <td>39</td>\n",
              "      <td>Chocolate</td>\n",
              "    </tr>\n",
              "  </tbody>\n",
              "</table>\n",
              "</div>"
            ],
            "text/plain": [
              "   Idade  Comida Preferida\n",
              "0     22             Todas\n",
              "1     17        McDonald's\n",
              "2     13  Comida da Disney\n",
              "3     30          Mexicana\n",
              "4     52    Vinho e Queijo\n",
              "5     39         Chocolate"
            ]
          },
          "metadata": {
            "tags": []
          },
          "execution_count": 42
        }
      ]
    },
    {
      "cell_type": "markdown",
      "metadata": {
        "id": "-uiXyW-R9hKj"
      },
      "source": [
        "### Diferença entre loc e iloc\n",
        "\n",
        "[Mais Detalhes](https://campus.datacamp.com/courses/intermediate-python/dictionaries-pandas?ex=17#:~:text=loc%20is%20label%2Dbased%2C%20which,did%20in%20the%20previous%20exercise.)"
      ]
    },
    {
      "cell_type": "code",
      "metadata": {
        "colab": {
          "base_uri": "https://localhost:8080/"
        },
        "id": "-lw4ZMVR6pYr",
        "outputId": "94d94625-5253-4fd1-f783-b32e2e5de7ba"
      },
      "source": [
        "df1.loc[0]"
      ],
      "execution_count": 43,
      "outputs": [
        {
          "output_type": "execute_result",
          "data": {
            "text/plain": [
              "Nome                 Pedro\n",
              "Idade                   22\n",
              "Comida Preferida     Todas\n",
              "País                Brasil\n",
              "Name: 0, dtype: object"
            ]
          },
          "metadata": {
            "tags": []
          },
          "execution_count": 43
        }
      ]
    },
    {
      "cell_type": "code",
      "metadata": {
        "colab": {
          "base_uri": "https://localhost:8080/"
        },
        "id": "FnxhYzMs9MWE",
        "outputId": "4e4e50ab-9008-44e3-adeb-c7795f124833"
      },
      "source": [
        "df1.iloc[0]"
      ],
      "execution_count": 44,
      "outputs": [
        {
          "output_type": "execute_result",
          "data": {
            "text/plain": [
              "Nome                 Pedro\n",
              "Idade                   22\n",
              "Comida Preferida     Todas\n",
              "País                Brasil\n",
              "Name: 0, dtype: object"
            ]
          },
          "metadata": {
            "tags": []
          },
          "execution_count": 44
        }
      ]
    },
    {
      "cell_type": "code",
      "metadata": {
        "colab": {
          "base_uri": "https://localhost:8080/",
          "height": 142
        },
        "id": "9yI_QlXTAoZ4",
        "outputId": "cde2631e-f4fd-4557-e7a0-0be074d2e8be"
      },
      "source": [
        "df1.iloc[0:3]"
      ],
      "execution_count": 45,
      "outputs": [
        {
          "output_type": "execute_result",
          "data": {
            "text/html": [
              "<div>\n",
              "<style scoped>\n",
              "    .dataframe tbody tr th:only-of-type {\n",
              "        vertical-align: middle;\n",
              "    }\n",
              "\n",
              "    .dataframe tbody tr th {\n",
              "        vertical-align: top;\n",
              "    }\n",
              "\n",
              "    .dataframe thead th {\n",
              "        text-align: right;\n",
              "    }\n",
              "</style>\n",
              "<table border=\"1\" class=\"dataframe\">\n",
              "  <thead>\n",
              "    <tr style=\"text-align: right;\">\n",
              "      <th></th>\n",
              "      <th>Nome</th>\n",
              "      <th>Idade</th>\n",
              "      <th>Comida Preferida</th>\n",
              "      <th>País</th>\n",
              "    </tr>\n",
              "  </thead>\n",
              "  <tbody>\n",
              "    <tr>\n",
              "      <th>0</th>\n",
              "      <td>Pedro</td>\n",
              "      <td>22</td>\n",
              "      <td>Todas</td>\n",
              "      <td>Brasil</td>\n",
              "    </tr>\n",
              "    <tr>\n",
              "      <th>1</th>\n",
              "      <td>Jorge</td>\n",
              "      <td>17</td>\n",
              "      <td>McDonald's</td>\n",
              "      <td>Brasil</td>\n",
              "    </tr>\n",
              "    <tr>\n",
              "      <th>2</th>\n",
              "      <td>Maria Joaquina</td>\n",
              "      <td>13</td>\n",
              "      <td>Comida da Disney</td>\n",
              "      <td>Brasil</td>\n",
              "    </tr>\n",
              "  </tbody>\n",
              "</table>\n",
              "</div>"
            ],
            "text/plain": [
              "             Nome  Idade  Comida Preferida    País\n",
              "0           Pedro     22             Todas  Brasil\n",
              "1           Jorge     17        McDonald's  Brasil\n",
              "2  Maria Joaquina     13  Comida da Disney  Brasil"
            ]
          },
          "metadata": {
            "tags": []
          },
          "execution_count": 45
        }
      ]
    },
    {
      "cell_type": "code",
      "metadata": {
        "colab": {
          "base_uri": "https://localhost:8080/",
          "height": 173
        },
        "id": "kOlzt3l9Al0v",
        "outputId": "b5ea99d7-bbf3-4642-bee1-d7a9c982eb97"
      },
      "source": [
        "df1.loc[0:3]"
      ],
      "execution_count": 46,
      "outputs": [
        {
          "output_type": "execute_result",
          "data": {
            "text/html": [
              "<div>\n",
              "<style scoped>\n",
              "    .dataframe tbody tr th:only-of-type {\n",
              "        vertical-align: middle;\n",
              "    }\n",
              "\n",
              "    .dataframe tbody tr th {\n",
              "        vertical-align: top;\n",
              "    }\n",
              "\n",
              "    .dataframe thead th {\n",
              "        text-align: right;\n",
              "    }\n",
              "</style>\n",
              "<table border=\"1\" class=\"dataframe\">\n",
              "  <thead>\n",
              "    <tr style=\"text-align: right;\">\n",
              "      <th></th>\n",
              "      <th>Nome</th>\n",
              "      <th>Idade</th>\n",
              "      <th>Comida Preferida</th>\n",
              "      <th>País</th>\n",
              "    </tr>\n",
              "  </thead>\n",
              "  <tbody>\n",
              "    <tr>\n",
              "      <th>0</th>\n",
              "      <td>Pedro</td>\n",
              "      <td>22</td>\n",
              "      <td>Todas</td>\n",
              "      <td>Brasil</td>\n",
              "    </tr>\n",
              "    <tr>\n",
              "      <th>1</th>\n",
              "      <td>Jorge</td>\n",
              "      <td>17</td>\n",
              "      <td>McDonald's</td>\n",
              "      <td>Brasil</td>\n",
              "    </tr>\n",
              "    <tr>\n",
              "      <th>2</th>\n",
              "      <td>Maria Joaquina</td>\n",
              "      <td>13</td>\n",
              "      <td>Comida da Disney</td>\n",
              "      <td>Brasil</td>\n",
              "    </tr>\n",
              "    <tr>\n",
              "      <th>3</th>\n",
              "      <td>Emma Watson</td>\n",
              "      <td>30</td>\n",
              "      <td>Mexicana</td>\n",
              "      <td>EUA</td>\n",
              "    </tr>\n",
              "  </tbody>\n",
              "</table>\n",
              "</div>"
            ],
            "text/plain": [
              "             Nome  Idade  Comida Preferida    País\n",
              "0           Pedro     22             Todas  Brasil\n",
              "1           Jorge     17        McDonald's  Brasil\n",
              "2  Maria Joaquina     13  Comida da Disney  Brasil\n",
              "3     Emma Watson     30          Mexicana     EUA"
            ]
          },
          "metadata": {
            "tags": []
          },
          "execution_count": 46
        }
      ]
    },
    {
      "cell_type": "code",
      "metadata": {
        "colab": {
          "base_uri": "https://localhost:8080/",
          "height": 142
        },
        "id": "fumaN1Qv9qPa",
        "outputId": "79705f0e-6d9f-4616-de4e-a8008c8e6b19"
      },
      "source": [
        "df1.index = ['Pedro Hortêncio', 'Jorge Henrique', 'Maria Joaquina', 'Emma Watson', 'Hugh Jackman',\n",
        "       'Britney Spears']\n",
        "df1.head(3)"
      ],
      "execution_count": 47,
      "outputs": [
        {
          "output_type": "execute_result",
          "data": {
            "text/html": [
              "<div>\n",
              "<style scoped>\n",
              "    .dataframe tbody tr th:only-of-type {\n",
              "        vertical-align: middle;\n",
              "    }\n",
              "\n",
              "    .dataframe tbody tr th {\n",
              "        vertical-align: top;\n",
              "    }\n",
              "\n",
              "    .dataframe thead th {\n",
              "        text-align: right;\n",
              "    }\n",
              "</style>\n",
              "<table border=\"1\" class=\"dataframe\">\n",
              "  <thead>\n",
              "    <tr style=\"text-align: right;\">\n",
              "      <th></th>\n",
              "      <th>Nome</th>\n",
              "      <th>Idade</th>\n",
              "      <th>Comida Preferida</th>\n",
              "      <th>País</th>\n",
              "    </tr>\n",
              "  </thead>\n",
              "  <tbody>\n",
              "    <tr>\n",
              "      <th>Pedro Hortêncio</th>\n",
              "      <td>Pedro</td>\n",
              "      <td>22</td>\n",
              "      <td>Todas</td>\n",
              "      <td>Brasil</td>\n",
              "    </tr>\n",
              "    <tr>\n",
              "      <th>Jorge Henrique</th>\n",
              "      <td>Jorge</td>\n",
              "      <td>17</td>\n",
              "      <td>McDonald's</td>\n",
              "      <td>Brasil</td>\n",
              "    </tr>\n",
              "    <tr>\n",
              "      <th>Maria Joaquina</th>\n",
              "      <td>Maria Joaquina</td>\n",
              "      <td>13</td>\n",
              "      <td>Comida da Disney</td>\n",
              "      <td>Brasil</td>\n",
              "    </tr>\n",
              "  </tbody>\n",
              "</table>\n",
              "</div>"
            ],
            "text/plain": [
              "                           Nome  Idade  Comida Preferida    País\n",
              "Pedro Hortêncio           Pedro     22             Todas  Brasil\n",
              "Jorge Henrique            Jorge     17        McDonald's  Brasil\n",
              "Maria Joaquina   Maria Joaquina     13  Comida da Disney  Brasil"
            ]
          },
          "metadata": {
            "tags": []
          },
          "execution_count": 47
        }
      ]
    },
    {
      "cell_type": "code",
      "metadata": {
        "colab": {
          "base_uri": "https://localhost:8080/"
        },
        "id": "l5srPueh9wU6",
        "outputId": "e68824e8-4c76-4cfd-9310-1ba8cbe47e45"
      },
      "source": [
        "df1.iloc[0]"
      ],
      "execution_count": 48,
      "outputs": [
        {
          "output_type": "execute_result",
          "data": {
            "text/plain": [
              "Nome                 Pedro\n",
              "Idade                   22\n",
              "Comida Preferida     Todas\n",
              "País                Brasil\n",
              "Name: Pedro Hortêncio, dtype: object"
            ]
          },
          "metadata": {
            "tags": []
          },
          "execution_count": 48
        }
      ]
    },
    {
      "cell_type": "code",
      "metadata": {
        "colab": {
          "base_uri": "https://localhost:8080/"
        },
        "id": "P2-HXZ8E9zSj",
        "outputId": "67d17655-16ff-48dd-e963-f11152bad80a"
      },
      "source": [
        "#df1.loc[0]\n",
        "df1.loc['Pedro Hortêncio']"
      ],
      "execution_count": 49,
      "outputs": [
        {
          "output_type": "execute_result",
          "data": {
            "text/plain": [
              "Nome                 Pedro\n",
              "Idade                   22\n",
              "Comida Preferida     Todas\n",
              "País                Brasil\n",
              "Name: Pedro Hortêncio, dtype: object"
            ]
          },
          "metadata": {
            "tags": []
          },
          "execution_count": 49
        }
      ]
    },
    {
      "cell_type": "markdown",
      "metadata": {
        "id": "MQ9qkBqV-5zc"
      },
      "source": [
        "> Diferença entre .at e .loc\n",
        "\n",
        "> \"[at is] Similar to loc, in that both provide label-based lookups. Use at if you only need to get or set a single value in a DataFrame or Series.\" [pandas.DataFrame.at Documentation](https://pandas.pydata.org/docs/reference/api/pandas.DataFrame.at.html)"
      ]
    },
    {
      "cell_type": "code",
      "metadata": {
        "colab": {
          "base_uri": "https://localhost:8080/",
          "height": 35
        },
        "id": "Cvb4DinC-CzB",
        "outputId": "74fa6973-5f81-4c8d-d1bc-2b80ad8abf44"
      },
      "source": [
        "# .at requer que seja fornecido, além do Index, a coluna. É uma forma otimizada de acessar valores específicos do DataFrame\n",
        "df1.at['Pedro Hortêncio', 'Nome']"
      ],
      "execution_count": 50,
      "outputs": [
        {
          "output_type": "execute_result",
          "data": {
            "application/vnd.google.colaboratory.intrinsic+json": {
              "type": "string"
            },
            "text/plain": [
              "'Pedro'"
            ]
          },
          "metadata": {
            "tags": []
          },
          "execution_count": 50
        }
      ]
    },
    {
      "cell_type": "code",
      "metadata": {
        "colab": {
          "base_uri": "https://localhost:8080/",
          "height": 142
        },
        "id": "b8b8qm2l-Pub",
        "outputId": "5a637733-9f65-4a8f-f0e8-875e244090b1"
      },
      "source": [
        "df1.index = ['Pedro Hortêncio', 'Pedro Hortêncio', 'Maria Joaquina', 'Emma Watson', 'Hugh Jackman',\n",
        "       'Britney Spears']\n",
        "df1.head(3)"
      ],
      "execution_count": 51,
      "outputs": [
        {
          "output_type": "execute_result",
          "data": {
            "text/html": [
              "<div>\n",
              "<style scoped>\n",
              "    .dataframe tbody tr th:only-of-type {\n",
              "        vertical-align: middle;\n",
              "    }\n",
              "\n",
              "    .dataframe tbody tr th {\n",
              "        vertical-align: top;\n",
              "    }\n",
              "\n",
              "    .dataframe thead th {\n",
              "        text-align: right;\n",
              "    }\n",
              "</style>\n",
              "<table border=\"1\" class=\"dataframe\">\n",
              "  <thead>\n",
              "    <tr style=\"text-align: right;\">\n",
              "      <th></th>\n",
              "      <th>Nome</th>\n",
              "      <th>Idade</th>\n",
              "      <th>Comida Preferida</th>\n",
              "      <th>País</th>\n",
              "    </tr>\n",
              "  </thead>\n",
              "  <tbody>\n",
              "    <tr>\n",
              "      <th>Pedro Hortêncio</th>\n",
              "      <td>Pedro</td>\n",
              "      <td>22</td>\n",
              "      <td>Todas</td>\n",
              "      <td>Brasil</td>\n",
              "    </tr>\n",
              "    <tr>\n",
              "      <th>Pedro Hortêncio</th>\n",
              "      <td>Jorge</td>\n",
              "      <td>17</td>\n",
              "      <td>McDonald's</td>\n",
              "      <td>Brasil</td>\n",
              "    </tr>\n",
              "    <tr>\n",
              "      <th>Maria Joaquina</th>\n",
              "      <td>Maria Joaquina</td>\n",
              "      <td>13</td>\n",
              "      <td>Comida da Disney</td>\n",
              "      <td>Brasil</td>\n",
              "    </tr>\n",
              "  </tbody>\n",
              "</table>\n",
              "</div>"
            ],
            "text/plain": [
              "                           Nome  Idade  Comida Preferida    País\n",
              "Pedro Hortêncio           Pedro     22             Todas  Brasil\n",
              "Pedro Hortêncio           Jorge     17        McDonald's  Brasil\n",
              "Maria Joaquina   Maria Joaquina     13  Comida da Disney  Brasil"
            ]
          },
          "metadata": {
            "tags": []
          },
          "execution_count": 51
        }
      ]
    },
    {
      "cell_type": "code",
      "metadata": {
        "colab": {
          "base_uri": "https://localhost:8080/"
        },
        "id": "MB-Vy58v-S36",
        "outputId": "d22f8c6d-9ad1-4ca7-c55d-ff27213eed75"
      },
      "source": [
        "df1.at['Pedro Hortêncio', 'Nome']"
      ],
      "execution_count": 52,
      "outputs": [
        {
          "output_type": "execute_result",
          "data": {
            "text/plain": [
              "Pedro Hortêncio    Pedro\n",
              "Pedro Hortêncio    Jorge\n",
              "Name: Nome, dtype: object"
            ]
          },
          "metadata": {
            "tags": []
          },
          "execution_count": 52
        }
      ]
    },
    {
      "cell_type": "code",
      "metadata": {
        "colab": {
          "base_uri": "https://localhost:8080/"
        },
        "id": "073LWwYu-U8F",
        "outputId": "c0c994e7-a5cc-4422-c334-958dcd77a49d"
      },
      "source": [
        "df1.loc['Pedro Hortêncio', 'Nome']"
      ],
      "execution_count": 53,
      "outputs": [
        {
          "output_type": "execute_result",
          "data": {
            "text/plain": [
              "Pedro Hortêncio    Pedro\n",
              "Pedro Hortêncio    Jorge\n",
              "Name: Nome, dtype: object"
            ]
          },
          "metadata": {
            "tags": []
          },
          "execution_count": 53
        }
      ]
    },
    {
      "cell_type": "markdown",
      "metadata": {
        "id": "YlBqw_tK_SeT"
      },
      "source": [
        "> Reset do Index:"
      ]
    },
    {
      "cell_type": "code",
      "metadata": {
        "colab": {
          "base_uri": "https://localhost:8080/",
          "height": 235
        },
        "id": "4CJ5OSIS_TsT",
        "outputId": "f8cc8f75-be42-4aff-e5da-278a41a2a8c5"
      },
      "source": [
        "df1.reset_index(drop=True, inplace=True)\n",
        "df1"
      ],
      "execution_count": 54,
      "outputs": [
        {
          "output_type": "execute_result",
          "data": {
            "text/html": [
              "<div>\n",
              "<style scoped>\n",
              "    .dataframe tbody tr th:only-of-type {\n",
              "        vertical-align: middle;\n",
              "    }\n",
              "\n",
              "    .dataframe tbody tr th {\n",
              "        vertical-align: top;\n",
              "    }\n",
              "\n",
              "    .dataframe thead th {\n",
              "        text-align: right;\n",
              "    }\n",
              "</style>\n",
              "<table border=\"1\" class=\"dataframe\">\n",
              "  <thead>\n",
              "    <tr style=\"text-align: right;\">\n",
              "      <th></th>\n",
              "      <th>Nome</th>\n",
              "      <th>Idade</th>\n",
              "      <th>Comida Preferida</th>\n",
              "      <th>País</th>\n",
              "    </tr>\n",
              "  </thead>\n",
              "  <tbody>\n",
              "    <tr>\n",
              "      <th>0</th>\n",
              "      <td>Pedro</td>\n",
              "      <td>22</td>\n",
              "      <td>Todas</td>\n",
              "      <td>Brasil</td>\n",
              "    </tr>\n",
              "    <tr>\n",
              "      <th>1</th>\n",
              "      <td>Jorge</td>\n",
              "      <td>17</td>\n",
              "      <td>McDonald's</td>\n",
              "      <td>Brasil</td>\n",
              "    </tr>\n",
              "    <tr>\n",
              "      <th>2</th>\n",
              "      <td>Maria Joaquina</td>\n",
              "      <td>13</td>\n",
              "      <td>Comida da Disney</td>\n",
              "      <td>Brasil</td>\n",
              "    </tr>\n",
              "    <tr>\n",
              "      <th>3</th>\n",
              "      <td>Emma Watson</td>\n",
              "      <td>30</td>\n",
              "      <td>Mexicana</td>\n",
              "      <td>EUA</td>\n",
              "    </tr>\n",
              "    <tr>\n",
              "      <th>4</th>\n",
              "      <td>Hugh Jackman</td>\n",
              "      <td>52</td>\n",
              "      <td>Vinho e Queijo</td>\n",
              "      <td>EUA</td>\n",
              "    </tr>\n",
              "    <tr>\n",
              "      <th>5</th>\n",
              "      <td>Britney Spears</td>\n",
              "      <td>39</td>\n",
              "      <td>Chocolate</td>\n",
              "      <td>EUA</td>\n",
              "    </tr>\n",
              "  </tbody>\n",
              "</table>\n",
              "</div>"
            ],
            "text/plain": [
              "             Nome  Idade  Comida Preferida    País\n",
              "0           Pedro     22             Todas  Brasil\n",
              "1           Jorge     17        McDonald's  Brasil\n",
              "2  Maria Joaquina     13  Comida da Disney  Brasil\n",
              "3     Emma Watson     30          Mexicana     EUA\n",
              "4    Hugh Jackman     52    Vinho e Queijo     EUA\n",
              "5  Britney Spears     39         Chocolate     EUA"
            ]
          },
          "metadata": {
            "tags": []
          },
          "execution_count": 54
        }
      ]
    },
    {
      "cell_type": "markdown",
      "metadata": {
        "id": "CsdHBMpuBQq-"
      },
      "source": [
        "### Filtros Lógicos"
      ]
    },
    {
      "cell_type": "markdown",
      "metadata": {
        "id": "xD9zpXz14tpM"
      },
      "source": [
        "É possível verar filtros lógicos de diversas formas no pandas:"
      ]
    },
    {
      "cell_type": "code",
      "metadata": {
        "colab": {
          "base_uri": "https://localhost:8080/"
        },
        "id": "-xHdkgsL4yJh",
        "outputId": "53a3e857-fdd8-4f4d-b1ff-ee78f446df8f"
      },
      "source": [
        "df1['Idade'] > 20"
      ],
      "execution_count": 55,
      "outputs": [
        {
          "output_type": "execute_result",
          "data": {
            "text/plain": [
              "0     True\n",
              "1    False\n",
              "2    False\n",
              "3     True\n",
              "4     True\n",
              "5     True\n",
              "Name: Idade, dtype: bool"
            ]
          },
          "metadata": {
            "tags": []
          },
          "execution_count": 55
        }
      ]
    },
    {
      "cell_type": "code",
      "metadata": {
        "colab": {
          "base_uri": "https://localhost:8080/"
        },
        "id": "nswVjZsg42sc",
        "outputId": "9fc519b9-6d21-4f7e-cc73-6dbf126a5912"
      },
      "source": [
        "df1['Nome'] == 'Pedro'"
      ],
      "execution_count": 61,
      "outputs": [
        {
          "output_type": "execute_result",
          "data": {
            "text/plain": [
              "0     True\n",
              "1    False\n",
              "2    False\n",
              "3    False\n",
              "4    False\n",
              "5    False\n",
              "Name: Nome, dtype: bool"
            ]
          },
          "metadata": {
            "tags": []
          },
          "execution_count": 61
        }
      ]
    },
    {
      "cell_type": "markdown",
      "metadata": {
        "id": "ATlauFre5Ip8"
      },
      "source": [
        "Um DataFrame pode aceitar esses filtros lógicos para retornar apenas uma seleção de linhas:"
      ]
    },
    {
      "cell_type": "code",
      "metadata": {
        "colab": {
          "base_uri": "https://localhost:8080/",
          "height": 173
        },
        "id": "FEEMkocj5GMs",
        "outputId": "35708ca7-7a38-4353-d05f-4ea852bf62b2"
      },
      "source": [
        "df1[df1['Idade'] > 20]"
      ],
      "execution_count": 62,
      "outputs": [
        {
          "output_type": "execute_result",
          "data": {
            "text/html": [
              "<div>\n",
              "<style scoped>\n",
              "    .dataframe tbody tr th:only-of-type {\n",
              "        vertical-align: middle;\n",
              "    }\n",
              "\n",
              "    .dataframe tbody tr th {\n",
              "        vertical-align: top;\n",
              "    }\n",
              "\n",
              "    .dataframe thead th {\n",
              "        text-align: right;\n",
              "    }\n",
              "</style>\n",
              "<table border=\"1\" class=\"dataframe\">\n",
              "  <thead>\n",
              "    <tr style=\"text-align: right;\">\n",
              "      <th></th>\n",
              "      <th>Nome</th>\n",
              "      <th>Idade</th>\n",
              "      <th>Comida Preferida</th>\n",
              "      <th>País</th>\n",
              "    </tr>\n",
              "  </thead>\n",
              "  <tbody>\n",
              "    <tr>\n",
              "      <th>0</th>\n",
              "      <td>Pedro</td>\n",
              "      <td>22</td>\n",
              "      <td>Todas</td>\n",
              "      <td>Brasil</td>\n",
              "    </tr>\n",
              "    <tr>\n",
              "      <th>3</th>\n",
              "      <td>Emma Watson</td>\n",
              "      <td>30</td>\n",
              "      <td>Mexicana</td>\n",
              "      <td>EUA</td>\n",
              "    </tr>\n",
              "    <tr>\n",
              "      <th>4</th>\n",
              "      <td>Hugh Jackman</td>\n",
              "      <td>52</td>\n",
              "      <td>Vinho e Queijo</td>\n",
              "      <td>EUA</td>\n",
              "    </tr>\n",
              "    <tr>\n",
              "      <th>5</th>\n",
              "      <td>Britney Spears</td>\n",
              "      <td>39</td>\n",
              "      <td>Chocolate</td>\n",
              "      <td>EUA</td>\n",
              "    </tr>\n",
              "  </tbody>\n",
              "</table>\n",
              "</div>"
            ],
            "text/plain": [
              "             Nome  Idade Comida Preferida    País\n",
              "0           Pedro     22            Todas  Brasil\n",
              "3     Emma Watson     30         Mexicana     EUA\n",
              "4    Hugh Jackman     52   Vinho e Queijo     EUA\n",
              "5  Britney Spears     39        Chocolate     EUA"
            ]
          },
          "metadata": {
            "tags": []
          },
          "execution_count": 62
        }
      ]
    },
    {
      "cell_type": "code",
      "metadata": {
        "id": "O-XJVecEBS3S",
        "colab": {
          "base_uri": "https://localhost:8080/",
          "height": 80
        },
        "outputId": "2b16f7f2-8b58-4ead-a4b4-03e1027ba862"
      },
      "source": [
        "df1[df1['Nome'] == 'Pedro']"
      ],
      "execution_count": 63,
      "outputs": [
        {
          "output_type": "execute_result",
          "data": {
            "text/html": [
              "<div>\n",
              "<style scoped>\n",
              "    .dataframe tbody tr th:only-of-type {\n",
              "        vertical-align: middle;\n",
              "    }\n",
              "\n",
              "    .dataframe tbody tr th {\n",
              "        vertical-align: top;\n",
              "    }\n",
              "\n",
              "    .dataframe thead th {\n",
              "        text-align: right;\n",
              "    }\n",
              "</style>\n",
              "<table border=\"1\" class=\"dataframe\">\n",
              "  <thead>\n",
              "    <tr style=\"text-align: right;\">\n",
              "      <th></th>\n",
              "      <th>Nome</th>\n",
              "      <th>Idade</th>\n",
              "      <th>Comida Preferida</th>\n",
              "      <th>País</th>\n",
              "    </tr>\n",
              "  </thead>\n",
              "  <tbody>\n",
              "    <tr>\n",
              "      <th>0</th>\n",
              "      <td>Pedro</td>\n",
              "      <td>22</td>\n",
              "      <td>Todas</td>\n",
              "      <td>Brasil</td>\n",
              "    </tr>\n",
              "  </tbody>\n",
              "</table>\n",
              "</div>"
            ],
            "text/plain": [
              "    Nome  Idade Comida Preferida    País\n",
              "0  Pedro     22            Todas  Brasil"
            ]
          },
          "metadata": {
            "tags": []
          },
          "execution_count": 63
        }
      ]
    },
    {
      "cell_type": "markdown",
      "metadata": {
        "id": "r7kFXxPk5cQ1"
      },
      "source": [
        "##GroupBy"
      ]
    },
    {
      "cell_type": "markdown",
      "metadata": {
        "id": "tnx4UGQH7M8E"
      },
      "source": [
        "O mecanismo _GroupBy_ é, provavelmente, uma das ferramentas mais poderosas (e misteriosas) do _pandas_. \n",
        "\n",
        "Nasceu graças ao conceito de: _split-apply-combine_.\n",
        "\n",
        "* Split: é a primeira etapa da operação. Os dados (tanto em uma Series quanto um DataFrame) são separados (_split_) com base em uma ou mais _keys_ passadas. São criados grupos com bases nessa separação.\n",
        "* Apply: então, é aplicada uma função em cada um dos grupos gerados, produzindo um novo valor.\n",
        "* Combine: por fim, os resultados das funções são combinados em um objeto resultante.\n",
        "\n",
        "Como o nosso dataset de exemplo é muito simples, não há como exemplificar todas as funções do GroupBy."
      ]
    },
    {
      "cell_type": "code",
      "metadata": {
        "colab": {
          "base_uri": "https://localhost:8080/"
        },
        "id": "3LXsLsKY5fTv",
        "outputId": "a6e58ff5-9c38-40a5-ea2d-a9085d6e6187"
      },
      "source": [
        "# Um exemplo básico:\n",
        "df1.groupby(\"País\")[\"Nome\"].count()\n",
        "\n",
        "# É equivalente ao seguinte SQL:\n",
        "\n",
        "#   SELECT País, count(Nome)\n",
        "#   FROM df1\n",
        "#   GROUP BY País\n",
        "#   ORDER BY País"
      ],
      "execution_count": 68,
      "outputs": [
        {
          "output_type": "execute_result",
          "data": {
            "text/plain": [
              "País\n",
              "Brasil    3\n",
              "EUA       3\n",
              "Name: Nome, dtype: int64"
            ]
          },
          "metadata": {
            "tags": []
          },
          "execution_count": 68
        }
      ]
    },
    {
      "cell_type": "markdown",
      "metadata": {
        "id": "2mytusmpDtMu"
      },
      "source": [
        "Maiores informações sobre o GroupBy:\n",
        "\n",
        "* [Pandas GroupBy: A Guide](https://realpython.com/pandas-groupby/)\n",
        "* [Documentação GroupBy](https://pandas.pydata.org/pandas-docs/stable/reference/api/pandas.DataFrame.groupby.html)\n",
        "* Capítulo 10 do livro _Python for Data Analysis_ cobre funções de agrupamento no _pandas_, inclusive o GroupBy."
      ]
    },
    {
      "cell_type": "markdown",
      "metadata": {
        "id": "nTOf9qMg2VDS"
      },
      "source": [
        "# Exemplo Prático"
      ]
    },
    {
      "cell_type": "code",
      "metadata": {
        "id": "AxCwPGY52X9E"
      },
      "source": [
        ""
      ],
      "execution_count": null,
      "outputs": []
    },
    {
      "cell_type": "markdown",
      "metadata": {
        "id": "vguFQMnLiHj-"
      },
      "source": [
        "#Matplotlib"
      ]
    },
    {
      "cell_type": "code",
      "metadata": {
        "id": "BWtoAjqrd8Dt"
      },
      "source": [
        ""
      ],
      "execution_count": null,
      "outputs": []
    },
    {
      "cell_type": "markdown",
      "metadata": {
        "id": "ottVS8HAeDMW"
      },
      "source": [
        "# Referências"
      ]
    },
    {
      "cell_type": "markdown",
      "metadata": {
        "id": "vKLi4ExzeHa1"
      },
      "source": [
        "* [Livro: Python for Data Science - 2nd Edition](https://www.amazon.com.br/Python-Data-Analysis-Wes-Mckinney/dp/1491957662) (Escrito pelo criador do pandas, Wes McKinney)\n",
        "* [Cursos 1 e 2 da Especialização _Applied Data Science with Python_](https://www.coursera.org/specializations/data-science-python#courses)\n",
        "* [Documentação Pandas](https://pandas.pydata.org/docs/user_guide/index.html)\n",
        "* [Documentação Matplolib](https://matplotlib.org/)\n",
        "* [Documentação Seaborn](https://seaborn.pydata.org/)"
      ]
    }
  ]
}