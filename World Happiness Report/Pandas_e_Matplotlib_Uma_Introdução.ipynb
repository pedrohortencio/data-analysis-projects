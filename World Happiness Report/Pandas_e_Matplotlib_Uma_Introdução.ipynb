{
  "nbformat": 4,
  "nbformat_minor": 0,
  "metadata": {
    "colab": {
      "name": "Pandas e Matplotlib: Uma Introdução.ipynb",
      "provenance": [],
      "collapsed_sections": [],
      "authorship_tag": "ABX9TyPQgnRp3DwBtV4BNFNLn5LJ",
      "include_colab_link": true
    },
    "kernelspec": {
      "name": "python3",
      "display_name": "Python 3"
    },
    "language_info": {
      "name": "python"
    }
  },
  "cells": [
    {
      "cell_type": "markdown",
      "metadata": {
        "id": "view-in-github",
        "colab_type": "text"
      },
      "source": [
        "<a href=\"https://colab.research.google.com/github/pedrohortencio/data-analysis-projects/blob/main/World%20Happiness%20Report/Pandas_e_Matplotlib_Uma_Introdu%C3%A7%C3%A3o.ipynb\" target=\"_parent\"><img src=\"https://colab.research.google.com/assets/colab-badge.svg\" alt=\"Open In Colab\"/></a>"
      ]
    },
    {
      "cell_type": "markdown",
      "metadata": {
        "id": "V1LkcOOieE8H"
      },
      "source": [
        "#_pandas_\n"
      ]
    },
    {
      "cell_type": "markdown",
      "metadata": {
        "id": "Efqunea7r8NJ"
      },
      "source": [
        "\n",
        "_pandas_ é tanto uma forma resumida de _\"panel data\"_, que em estatística e econometria significa dados longitudinais e multidimensionais que representam medidas em relação ao tempo, quanto uma abreviação de _\"Python data analysis\"_.\n",
        "\n",
        "A versão curta: a biblioteca é utilizada para manipulação de dados tabulares.\n",
        "\n",
        "Já para uma versão não tão curta, é preciso buscar referências. Segundo a própria documentação do _pandas_, a biblioteca é utilizada em diversos casos:\n",
        "* Importação e exportação de dados em diversos formatos (CSV, Excel, Hierarchical Data Format [(HDF5)](https://pt.wikipedia.org/wiki/Hierarchical_Data_Format#:~:text=Hierarchical%20Data%20Format%20(HDF%2C%20HDF4,grandes%20quantidades%20de%20dados%20num%C3%A9ricos.), estruturas do Python e arquivos de texto);\n",
        "* Manipulação de dados;\n",
        "* Alinhamento e limpeza de dados;\n",
        "* Tratamento de grandes quantidades de dados;\n",
        "* Agregação de dados;\n",
        "* Todo o processo de [_data wrangling_](https://oestatistico.com.br/data-wrangling-dados/);\n",
        "\n",
        "Ou seja: o _pandas_ abriga todo o processo de análise de dados, desde a importação dos dados, passando por todas as etapas de processamento, até a exportação final. Inclusive há suporte para a ingestão desses dados em sistemas de Big Data e de Machine Learning.\n",
        "\n",
        "A biblioteca nasceu, em 2008, a partir da necessidade de cientistas de dados da empresa [AQR Capital Management](https://www.aqr.com/) terem ferramentas que automatizem certas tarefas (como, por exemplo, a manipulação de datasets que contenham [_missing values_](https://isitics.com/2018/10/05/o-que-sao-missing-values/)). Se tornou open source em 2010 e, hoje, conta com mais de 800 contribuidores. É praticamente uma linguagem por si só.\n",
        "\n",
        "Um resumo do motivo da existência da biblioteca pode ser encontrado na sua \"Missão\", descrita na documentação:\n",
        "\n",
        "> \"_pandas_ tem o objetivo de ser o bloco de alto nível fundamental para a realização de análise de dados prática, no mundo real, com Python. Adicionalmente, há o objetivo mais geral de ser a ferrmanete open source de análise de dados mais flexível e poderosa em qualquer linguagem.\"\n",
        "\n",
        "Premissas ambiciosas. Condizentes com a realidade, pois **não existe projeto de análise de dados em Python que não utilize a biblioteca _pandas_**."
      ]
    },
    {
      "cell_type": "markdown",
      "metadata": {
        "id": "pPy-1QGiiJME"
      },
      "source": [
        "## Básico\n"
      ]
    },
    {
      "cell_type": "markdown",
      "metadata": {
        "id": "cyPVO0NnsAah"
      },
      "source": [
        "A primeira coisa a se ter em mente: a biblioteca é _extremamente_ densa. Existem diversas funções, vários métodos, extensas ferramentas para manipulação das duas estruturas de dados da biblioteca (_Series_ e _DataFrames_). A biblioteca possui, além disso, uma linguagem própria, com mecanismos próprios para executar determinadas ações.\n",
        "\n",
        "Como se não bastasse, é uma característica do _pandas_ possuir métodos e funções com **vários** argumentos. Isso surgiu da necessidade de se adequar a dados com diferentes formatações, erros, missing values e características. Um exemplo é a função que lê um arquivo csv:\n",
        "\n",
        "```pandas.read_csv(filepath_or_buffer, sep=<object object>, delimiter=None, header='infer', names=None, index_col=None, usecols=None, squeeze=False, prefix=None, mangle_dupe_cols=True, dtype=None, engine=None, converters=None, true_values=None, false_values=None, skipinitialspace=False, skiprows=None, skipfooter=0, nrows=None, na_values=None, keep_default_na=True, na_filter=True, verbose=False, skip_blank_lines=True, parse_dates=False, infer_datetime_format=False, keep_date_col=False, date_parser=None, dayfirst=False, cache_dates=True, iterator=False, chunksize=None, compression='infer', thousands=None, decimal='.', lineterminator=None, quotechar='\"', quoting=0, doublequote=True, escapechar=None, comment=None, encoding=None, dialect=None, error_bad_lines=True, warn_bad_lines=True, delim_whitespace=False, low_memory=True, memory_map=False, float_precision=None, storage_options=None)```\n",
        "\n",
        "Ou seja, é difícil (se não impossível) se tornar proficiente em _pandas_ sem prática. É necessário práticar com diferentes datasets, de diferentes fontes, para adquirir conhecimento sobre todas as funções do _pandas_.\n",
        "\n",
        "Isso se torna algo fácil pelo seguinte ponto: _pandas_ é uma biblioteca com **muito** suporte. A documentação é extensa e conta com exemplos e a comunidade no Stack Overflow é uma das mais ativas da plataforma. É extremamente comum, inclusive, encontrar questões respondidas pelos próprios criadores do _pandas_, que ativamente prestam suporte ao uso da biblioteca."
      ]
    },
    {
      "cell_type": "code",
      "metadata": {
        "id": "HvE209Apghwt"
      },
      "source": [
        "# Uma convenção:\n",
        "import pandas as pd"
      ],
      "execution_count": null,
      "outputs": []
    },
    {
      "cell_type": "markdown",
      "metadata": {
        "id": "6LSnGYiMtHyL"
      },
      "source": [
        "O pandas introduz dois tipos de estruturas de dados extremamente úteis: _Series_ e _DataFrames_. Um pode ser visto como complemento do outro."
      ]
    },
    {
      "cell_type": "markdown",
      "metadata": {
        "id": "qsEa7eI_iK71"
      },
      "source": [
        "### Séries"
      ]
    },
    {
      "cell_type": "markdown",
      "metadata": {
        "id": "3kpMBIEsurBJ"
      },
      "source": [
        "Series são objetos parecidos com arrays, de uma dimensão, que contém:\n",
        "\n",
        "* values: sequencia de valores\n",
        "* index: um array de labels para os valores\n",
        "\n",
        "Ambos, obrigatoriamente, do mesmo comprimeiro."
      ]
    },
    {
      "cell_type": "code",
      "metadata": {
        "id": "EyCbnxjCiMc9"
      },
      "source": [
        "serie1 = pd.Series([10, 73, 89, 1, 6, -20, -10, 8])\n",
        "serie1"
      ],
      "execution_count": null,
      "outputs": []
    },
    {
      "cell_type": "code",
      "metadata": {
        "id": "l7HOWVybvpA4"
      },
      "source": [
        "# Como dito anteriormente, toda série tem uma sequência de valores:\n",
        "serie1.values"
      ],
      "execution_count": null,
      "outputs": []
    },
    {
      "cell_type": "code",
      "metadata": {
        "id": "78R8cwK8vurY"
      },
      "source": [
        "# e um conjunto de labels:\n",
        "serie1.index    # parecido com o range(8)"
      ],
      "execution_count": null,
      "outputs": []
    },
    {
      "cell_type": "markdown",
      "metadata": {
        "id": "3qGzxIstwAS3"
      },
      "source": [
        "> É possível criar uma série e fornecer um index específico"
      ]
    },
    {
      "cell_type": "code",
      "metadata": {
        "id": "ESJUeyhPwAE3"
      },
      "source": [
        "serie2 = pd.Series(['p', 'a', 'n', 'd', 'a', 's'], index=['primeiro', 'segundo', 'terceiro', 'quarto', 'quinto', 'sexto'])\n",
        "serie2"
      ],
      "execution_count": null,
      "outputs": []
    },
    {
      "cell_type": "code",
      "metadata": {
        "id": "bJfg5UoLwVCC"
      },
      "source": [
        "serie2.values"
      ],
      "execution_count": null,
      "outputs": []
    },
    {
      "cell_type": "code",
      "metadata": {
        "id": "4t4xs6WiwW8p"
      },
      "source": [
        "serie2.index"
      ],
      "execution_count": null,
      "outputs": []
    },
    {
      "cell_type": "markdown",
      "metadata": {
        "id": "cFLKel4ntWV4"
      },
      "source": [
        "### DataFrame"
      ]
    },
    {
      "cell_type": "markdown",
      "metadata": {
        "id": "W6ksUYrbwhaH"
      },
      "source": [
        "Um DataFrame pode ser pensado como um conjunto de ao menos 2 séries, todas compartilhando do mesmo Index.\n",
        "\n",
        "Na prática, um DataFrame é uma tabela. Possui linhas, colunas e um índice. É possível, inclusive, ler tabelas em formato Excel e CSV com o _pandas_, transformando o arquivo em um DataFrame (e, assim, realizar as manipulações necessárias nos dados)."
      ]
    },
    {
      "cell_type": "code",
      "metadata": {
        "id": "5aN40RYotWFf"
      },
      "source": [
        "# Há várias formas de criar um DataFrame, vamos começar criando a partir de um dict:\n",
        "\n",
        "data = {'Nome':['Pedro', 'Jorge', 'Maria Joaquina', 'Emma Watson', 'Hugh Jackman', 'Britney Spears'],\n",
        "        'Idade':[22, 17, 13, 30, 52, 39],\n",
        "        'Comida Preferida':['Todas', \"McDonald's\", 'Comida da Disney', 'Mexicana', 'Vinho e Queijo', 'Chocolate'],\n",
        "        'País':['Brasil', 'Brasil', 'Brasil', 'EUA', 'EUA', 'EUA']}\n",
        "\n",
        "df1 = pd.DataFrame(data)"
      ],
      "execution_count": null,
      "outputs": []
    },
    {
      "cell_type": "code",
      "metadata": {
        "id": "BWU3iJFiyLIX"
      },
      "source": [
        "df1"
      ],
      "execution_count": null,
      "outputs": []
    },
    {
      "cell_type": "code",
      "metadata": {
        "id": "10NtkLY6yYBW"
      },
      "source": [
        "df1.head(2)"
      ],
      "execution_count": null,
      "outputs": []
    },
    {
      "cell_type": "code",
      "metadata": {
        "id": "VVisCMyDyZrI"
      },
      "source": [
        "df1.tail(2)"
      ],
      "execution_count": null,
      "outputs": []
    },
    {
      "cell_type": "code",
      "metadata": {
        "id": "Y4h_VrYeybam"
      },
      "source": [
        "df1.sample(2)"
      ],
      "execution_count": null,
      "outputs": []
    },
    {
      "cell_type": "code",
      "metadata": {
        "id": "4z6batLryizm"
      },
      "source": [
        "df1.País"
      ],
      "execution_count": null,
      "outputs": []
    },
    {
      "cell_type": "code",
      "metadata": {
        "id": "H45W96UCy0cl"
      },
      "source": [
        "df1[\"País\"]"
      ],
      "execution_count": null,
      "outputs": []
    },
    {
      "cell_type": "code",
      "metadata": {
        "id": "HjEokLmSywKu"
      },
      "source": [
        "print(type(df1.País))\n",
        "print(type(df1['País']))"
      ],
      "execution_count": null,
      "outputs": []
    },
    {
      "cell_type": "markdown",
      "metadata": {
        "id": "ThKZnvRHzUXA"
      },
      "source": [
        "> Há operações realizadas nos DataFrames (e em Séries também) que:\n",
        "* Alteram o DataFrame _inplace_\n",
        "* Retornam uma cópia do DataFrame, mantendo o original inalterado"
      ]
    },
    {
      "cell_type": "code",
      "metadata": {
        "id": "00frfcPmzGbm"
      },
      "source": [
        "df1['Nova Coluna'] = 'TESTE'\n",
        "df1"
      ],
      "execution_count": null,
      "outputs": []
    },
    {
      "cell_type": "code",
      "metadata": {
        "id": "cikflx1szM22"
      },
      "source": [
        "df1['Nova Coluna'] = 'DEU CERTO'\n",
        "df1"
      ],
      "execution_count": null,
      "outputs": []
    },
    {
      "cell_type": "code",
      "metadata": {
        "id": "Rktjz3Hozh-1"
      },
      "source": [
        "df1.drop(\"Nova Coluna\", axis=1)"
      ],
      "execution_count": null,
      "outputs": []
    },
    {
      "cell_type": "code",
      "metadata": {
        "id": "wgsVh8x5zmSt"
      },
      "source": [
        "df1"
      ],
      "execution_count": null,
      "outputs": []
    },
    {
      "cell_type": "code",
      "metadata": {
        "id": "RGLTamdczoFd"
      },
      "source": [
        "df1.drop(\"Nova Coluna\", axis=1, inplace=True)\n",
        "df1\n",
        "\n",
        "# Uma alternativa:\n",
        "#df1 = df1.drop(\"Nova Coluna\", axis=1)\n",
        "#df1"
      ],
      "execution_count": null,
      "outputs": []
    },
    {
      "cell_type": "markdown",
      "metadata": {
        "id": "SRfEoJhAz9nB"
      },
      "source": [
        "> É possível adicionar uma série a um DataFrame, como se fosse uma nova coluna:"
      ]
    },
    {
      "cell_type": "code",
      "metadata": {
        "id": "YY2Zd2Ubz9Ln"
      },
      "source": [
        "cidade = pd.Series(['Goiânia', 'Goiânia', 'São Paulo'], index=[0, 1, 2])\n",
        "\n",
        "df1['Cidade'] = cidade\n",
        "\n",
        "df1"
      ],
      "execution_count": null,
      "outputs": []
    },
    {
      "cell_type": "markdown",
      "metadata": {
        "id": "gOxFwscW0cpO"
      },
      "source": [
        "> Sempre que houver valores não preenchidos (ou com valores inválidos), eles serão inseridos como NaN (Not a Number). É um padrão estabelecido pela biblioteca NumPy, usada para identificar missing values."
      ]
    },
    {
      "cell_type": "markdown",
      "metadata": {
        "id": "XeReeYKK0-gn"
      },
      "source": [
        "> Existem várias formas de checar missing values (entradas marcadas como NaN no DataFrame ou Serie), como [nesses exemplos](https://datatofish.com/check-nan-pandas-dataframe/)."
      ]
    },
    {
      "cell_type": "code",
      "metadata": {
        "id": "kpdLfSE_0oNG"
      },
      "source": [
        "# Retorna a quantidade de valores NaN para cada coluna do DataFrame\n",
        "df1.isnull().sum()"
      ],
      "execution_count": null,
      "outputs": []
    },
    {
      "cell_type": "code",
      "metadata": {
        "id": "Z8xUbcwB0Z3n"
      },
      "source": [
        "# Retorna as linhas onde há valores NaN na coluna \"Cidade\" (mais detalhes na sessão \"Querry\")\n",
        "df1[df1['Cidade'].isnull()]"
      ],
      "execution_count": null,
      "outputs": []
    },
    {
      "cell_type": "code",
      "metadata": {
        "id": "8FEwaV3q1m_t"
      },
      "source": [
        "df1.fillna(value='Desconhecido')"
      ],
      "execution_count": null,
      "outputs": []
    },
    {
      "cell_type": "code",
      "metadata": {
        "id": "qSRagwol1qxk"
      },
      "source": [
        "df1"
      ],
      "execution_count": null,
      "outputs": []
    },
    {
      "cell_type": "code",
      "metadata": {
        "id": "dJ6tkl-D1sUV"
      },
      "source": [
        "df1.fillna(value='Desconhecido', inplace=True)\n",
        "df1"
      ],
      "execution_count": null,
      "outputs": []
    },
    {
      "cell_type": "markdown",
      "metadata": {
        "id": "qpWQW9mL4OOs"
      },
      "source": [
        "> Assim como uma Serie, um DF também tem métodos para exibir o Index e os valores. Há, também, método para exibir as colunas:"
      ]
    },
    {
      "cell_type": "code",
      "metadata": {
        "id": "R7NtdMR24UJ6"
      },
      "source": [
        "df1.values"
      ],
      "execution_count": null,
      "outputs": []
    },
    {
      "cell_type": "code",
      "metadata": {
        "id": "IAFVZG2_4Vt2"
      },
      "source": [
        "df1.index"
      ],
      "execution_count": null,
      "outputs": []
    },
    {
      "cell_type": "code",
      "metadata": {
        "id": "mX-oXEWX4W2d"
      },
      "source": [
        "df1.columns"
      ],
      "execution_count": null,
      "outputs": []
    },
    {
      "cell_type": "markdown",
      "metadata": {
        "id": "hQOJPO6K4ZP0"
      },
      "source": [
        "> Sendo objetos análogos ao NumPy, tanto DataFrames quanto Series possuem o método .shape, que retorna o formato do DataFrame:"
      ]
    },
    {
      "cell_type": "code",
      "metadata": {
        "id": "WgCnW6g74g41"
      },
      "source": [
        "df1.shape"
      ],
      "execution_count": null,
      "outputs": []
    },
    {
      "cell_type": "code",
      "metadata": {
        "id": "V8gXC0B_4s7O"
      },
      "source": [
        "# O método .describe() retorna estatísticas sobre as colunas que possuem valores numéricos:\n",
        "df1.describe()"
      ],
      "execution_count": null,
      "outputs": []
    },
    {
      "cell_type": "code",
      "metadata": {
        "id": "5UjbYrkfBb71"
      },
      "source": [
        "# df['Coluna'].unique() retorna os valores que ocorrem ao menos uma vez naquela coluna\n",
        "df1['País'].unique()"
      ],
      "execution_count": null,
      "outputs": []
    },
    {
      "cell_type": "markdown",
      "metadata": {
        "id": "DtOB-II9tg6S"
      },
      "source": [
        "### Index"
      ]
    },
    {
      "cell_type": "markdown",
      "metadata": {
        "id": "hO56SsXH15If"
      },
      "source": [
        "> Há várias operações envolvendo os Index."
      ]
    },
    {
      "cell_type": "code",
      "metadata": {
        "id": "IYQ-TWPkth-R"
      },
      "source": [
        "# O método .set_index(new_index) é usado para atualizar o index de um DF\n",
        "df1.set_index('Nome', inplace=True)     # transforma a coluna \"Nome\" em Index\n",
        "df1"
      ],
      "execution_count": null,
      "outputs": []
    },
    {
      "cell_type": "code",
      "metadata": {
        "id": "uwTJwVbo4I1t"
      },
      "source": [
        "df1.index"
      ],
      "execution_count": null,
      "outputs": []
    },
    {
      "cell_type": "code",
      "metadata": {
        "id": "0j-Oos-_4K2E"
      },
      "source": [
        "df1.values"
      ],
      "execution_count": null,
      "outputs": []
    },
    {
      "cell_type": "markdown",
      "metadata": {
        "id": "E7ppejAQ6VB_"
      },
      "source": [
        "> O Index também pode ser atualizado por atribuição"
      ]
    },
    {
      "cell_type": "code",
      "metadata": {
        "id": "Np9VywDd6Myz"
      },
      "source": [
        "df1.index = ['Pedro Hortêncio', 'Jorge Henrique', 'Maria Joaquina', 'Emma Watson', 'Hugh Jackman',\n",
        "       'Britney Spears']\n",
        "df1"
      ],
      "execution_count": null,
      "outputs": []
    },
    {
      "cell_type": "markdown",
      "metadata": {
        "id": "hh0ktgSA5CBU"
      },
      "source": [
        "> É possível alterar o nome do Index (e de colunas):"
      ]
    },
    {
      "cell_type": "code",
      "metadata": {
        "id": "VUPgx0_95FZF"
      },
      "source": [
        "df1.index.names = [\"NOME\"]\n",
        "df1"
      ],
      "execution_count": null,
      "outputs": []
    },
    {
      "cell_type": "code",
      "metadata": {
        "id": "31V1rcEL5uhZ"
      },
      "source": [
        "# Para colunas\n",
        "df1 = df1.rename(columns={\"País\": \"Região\"})\n",
        "df1"
      ],
      "execution_count": null,
      "outputs": []
    },
    {
      "cell_type": "markdown",
      "metadata": {
        "id": "LgQc4mDP6iwX"
      },
      "source": [
        "## Querry"
      ]
    },
    {
      "cell_type": "code",
      "metadata": {
        "id": "_hRg9-OA6kNr"
      },
      "source": [
        "# Recriando o DataFrame de exemplo\n",
        "\n",
        "data = {'Nome':['Pedro', 'Jorge', 'Maria Joaquina', 'Emma Watson', 'Hugh Jackman', 'Britney Spears'],\n",
        "        'Idade':[22, 17, 13, 30, 52, 39],\n",
        "        'Comida Preferida':['Todas', \"McDonald's\", 'Comida da Disney', 'Mexicana', 'Vinho e Queijo', 'Chocolate'],\n",
        "        'País':['Brasil', 'Brasil', 'Brasil', 'EUA', 'EUA', 'EUA']}\n",
        "\n",
        "df1 = pd.DataFrame(data)"
      ],
      "execution_count": null,
      "outputs": []
    },
    {
      "cell_type": "code",
      "metadata": {
        "id": "pc2Hl1959Ceb"
      },
      "source": [
        "df1.head(3)"
      ],
      "execution_count": null,
      "outputs": []
    },
    {
      "cell_type": "markdown",
      "metadata": {
        "id": "K79M3uPvBBty"
      },
      "source": [
        "> Selecionar colunas"
      ]
    },
    {
      "cell_type": "code",
      "metadata": {
        "id": "smA-_fyyBDF0"
      },
      "source": [
        "df1['Nome']"
      ],
      "execution_count": null,
      "outputs": []
    },
    {
      "cell_type": "code",
      "metadata": {
        "id": "JQUaNAekBE4M"
      },
      "source": [
        "df1[['Idade', 'Comida Preferida']]"
      ],
      "execution_count": null,
      "outputs": []
    },
    {
      "cell_type": "markdown",
      "metadata": {
        "id": "-uiXyW-R9hKj"
      },
      "source": [
        "### Diferença entre loc e iloc\n",
        "\n",
        "[Mais Detalhes](https://campus.datacamp.com/courses/intermediate-python/dictionaries-pandas?ex=17#:~:text=loc%20is%20label%2Dbased%2C%20which,did%20in%20the%20previous%20exercise.)"
      ]
    },
    {
      "cell_type": "code",
      "metadata": {
        "id": "-lw4ZMVR6pYr"
      },
      "source": [
        "df1.loc[0]"
      ],
      "execution_count": null,
      "outputs": []
    },
    {
      "cell_type": "code",
      "metadata": {
        "id": "FnxhYzMs9MWE"
      },
      "source": [
        "df1.iloc[0]"
      ],
      "execution_count": null,
      "outputs": []
    },
    {
      "cell_type": "code",
      "metadata": {
        "id": "9yI_QlXTAoZ4"
      },
      "source": [
        "df1.iloc[0:3]"
      ],
      "execution_count": null,
      "outputs": []
    },
    {
      "cell_type": "code",
      "metadata": {
        "id": "kOlzt3l9Al0v"
      },
      "source": [
        "df1.loc[0:3]"
      ],
      "execution_count": null,
      "outputs": []
    },
    {
      "cell_type": "code",
      "metadata": {
        "id": "fumaN1Qv9qPa"
      },
      "source": [
        "df1.index = ['Pedro Hortêncio', 'Jorge Henrique', 'Maria Joaquina', 'Emma Watson', 'Hugh Jackman',\n",
        "       'Britney Spears']\n",
        "df1.head(3)"
      ],
      "execution_count": null,
      "outputs": []
    },
    {
      "cell_type": "code",
      "metadata": {
        "id": "l5srPueh9wU6"
      },
      "source": [
        "df1.iloc[0]"
      ],
      "execution_count": null,
      "outputs": []
    },
    {
      "cell_type": "code",
      "metadata": {
        "id": "P2-HXZ8E9zSj"
      },
      "source": [
        "#df1.loc[0]\n",
        "df1.loc['Pedro Hortêncio']"
      ],
      "execution_count": null,
      "outputs": []
    },
    {
      "cell_type": "markdown",
      "metadata": {
        "id": "MQ9qkBqV-5zc"
      },
      "source": [
        "> Diferença entre .at e .loc\n",
        "\n",
        "> \"[at is] Similar to loc, in that both provide label-based lookups. Use at if you only need to get or set a single value in a DataFrame or Series.\" [pandas.DataFrame.at Documentation](https://pandas.pydata.org/docs/reference/api/pandas.DataFrame.at.html)"
      ]
    },
    {
      "cell_type": "code",
      "metadata": {
        "id": "Cvb4DinC-CzB"
      },
      "source": [
        "# .at requer que seja fornecido, além do Index, a coluna. É uma forma otimizada de acessar valores específicos do DataFrame\n",
        "df1.at['Pedro Hortêncio', 'Nome']"
      ],
      "execution_count": null,
      "outputs": []
    },
    {
      "cell_type": "code",
      "metadata": {
        "id": "b8b8qm2l-Pub"
      },
      "source": [
        "df1.index = ['Pedro Hortêncio', 'Pedro Hortêncio', 'Maria Joaquina', 'Emma Watson', 'Hugh Jackman',\n",
        "       'Britney Spears']\n",
        "df1.head(3)"
      ],
      "execution_count": null,
      "outputs": []
    },
    {
      "cell_type": "code",
      "metadata": {
        "id": "MB-Vy58v-S36"
      },
      "source": [
        "df1.at['Pedro Hortêncio', 'Nome']"
      ],
      "execution_count": null,
      "outputs": []
    },
    {
      "cell_type": "code",
      "metadata": {
        "id": "073LWwYu-U8F"
      },
      "source": [
        "df1.loc['Pedro Hortêncio', 'Nome']"
      ],
      "execution_count": null,
      "outputs": []
    },
    {
      "cell_type": "markdown",
      "metadata": {
        "id": "YlBqw_tK_SeT"
      },
      "source": [
        "> Reset do Index:"
      ]
    },
    {
      "cell_type": "code",
      "metadata": {
        "id": "4CJ5OSIS_TsT"
      },
      "source": [
        "df1.reset_index(drop=True, inplace=True)\n",
        "df1"
      ],
      "execution_count": null,
      "outputs": []
    },
    {
      "cell_type": "markdown",
      "metadata": {
        "id": "CsdHBMpuBQq-"
      },
      "source": [
        "### Filtros Lógicos"
      ]
    },
    {
      "cell_type": "markdown",
      "metadata": {
        "id": "xD9zpXz14tpM"
      },
      "source": [
        "É possível verar filtros lógicos de diversas formas no pandas:"
      ]
    },
    {
      "cell_type": "code",
      "metadata": {
        "id": "-xHdkgsL4yJh"
      },
      "source": [
        "df1['Idade'] > 20"
      ],
      "execution_count": null,
      "outputs": []
    },
    {
      "cell_type": "code",
      "metadata": {
        "id": "nswVjZsg42sc"
      },
      "source": [
        "df1['Nome'] == 'Pedro'"
      ],
      "execution_count": null,
      "outputs": []
    },
    {
      "cell_type": "markdown",
      "metadata": {
        "id": "ATlauFre5Ip8"
      },
      "source": [
        "Um DataFrame pode aceitar esses filtros lógicos para retornar apenas uma seleção de linhas:"
      ]
    },
    {
      "cell_type": "code",
      "metadata": {
        "id": "FEEMkocj5GMs"
      },
      "source": [
        "df1[df1['Idade'] > 20]"
      ],
      "execution_count": null,
      "outputs": []
    },
    {
      "cell_type": "code",
      "metadata": {
        "id": "O-XJVecEBS3S"
      },
      "source": [
        "df1[df1['Nome'] == 'Pedro']"
      ],
      "execution_count": null,
      "outputs": []
    },
    {
      "cell_type": "markdown",
      "metadata": {
        "id": "r7kFXxPk5cQ1"
      },
      "source": [
        "##GroupBy"
      ]
    },
    {
      "cell_type": "markdown",
      "metadata": {
        "id": "tnx4UGQH7M8E"
      },
      "source": [
        "O mecanismo _GroupBy_ é, provavelmente, uma das ferramentas mais poderosas (e misteriosas) do _pandas_. \n",
        "\n",
        "Nasceu graças ao conceito de: _split-apply-combine_.\n",
        "\n",
        "* Split: é a primeira etapa da operação. Os dados (tanto em uma Series quanto um DataFrame) são separados (_split_) com base em uma ou mais _keys_ passadas. São criados grupos com bases nessa separação.\n",
        "* Apply: então, é aplicada uma função em cada um dos grupos gerados, produzindo um novo valor.\n",
        "* Combine: por fim, os resultados das funções são combinados em um objeto resultante.\n",
        "\n",
        "Como o nosso dataset de exemplo é muito simples, não há como exemplificar todas as funções do GroupBy."
      ]
    },
    {
      "cell_type": "code",
      "metadata": {
        "id": "3LXsLsKY5fTv"
      },
      "source": [
        "# Um exemplo básico:\n",
        "df1.groupby(\"País\")[\"Nome\"].count()\n",
        "\n",
        "# É equivalente ao seguinte SQL:\n",
        "\n",
        "#   SELECT País, count(Nome)\n",
        "#   FROM df1\n",
        "#   GROUP BY País\n",
        "#   ORDER BY País"
      ],
      "execution_count": null,
      "outputs": []
    },
    {
      "cell_type": "markdown",
      "metadata": {
        "id": "2mytusmpDtMu"
      },
      "source": [
        "Maiores informações sobre o GroupBy:\n",
        "\n",
        "* [Pandas GroupBy: A Guide](https://realpython.com/pandas-groupby/)\n",
        "* [Documentação GroupBy](https://pandas.pydata.org/pandas-docs/stable/reference/api/pandas.DataFrame.groupby.html)\n",
        "* Capítulo 10 do livro _Python for Data Analysis_ cobre funções de agrupamento no _pandas_, inclusive o GroupBy."
      ]
    },
    {
      "cell_type": "markdown",
      "metadata": {
        "id": "nTOf9qMg2VDS"
      },
      "source": [
        "# Exemplo Prático"
      ]
    },
    {
      "cell_type": "code",
      "metadata": {
        "id": "AxCwPGY52X9E"
      },
      "source": [
        ""
      ],
      "execution_count": null,
      "outputs": []
    },
    {
      "cell_type": "markdown",
      "metadata": {
        "id": "vguFQMnLiHj-"
      },
      "source": [
        "#Matplotlib"
      ]
    },
    {
      "cell_type": "code",
      "metadata": {
        "id": "BWtoAjqrd8Dt"
      },
      "source": [
        ""
      ],
      "execution_count": null,
      "outputs": []
    },
    {
      "cell_type": "markdown",
      "metadata": {
        "id": "ottVS8HAeDMW"
      },
      "source": [
        "# Referências"
      ]
    },
    {
      "cell_type": "markdown",
      "metadata": {
        "id": "vKLi4ExzeHa1"
      },
      "source": [
        "* [Livro: Python for Data Science - 2nd Edition](https://www.amazon.com.br/Python-Data-Analysis-Wes-Mckinney/dp/1491957662) (Escrito pelo criador do pandas, Wes McKinney)\n",
        "* [Cursos 1 e 2 da Especialização _Applied Data Science with Python_](https://www.coursera.org/specializations/data-science-python#courses)\n",
        "* [Documentação Pandas](https://pandas.pydata.org/docs/user_guide/index.html)\n",
        "* [Documentação Matplolib](https://matplotlib.org/)\n",
        "* [Documentação Seaborn](https://seaborn.pydata.org/)"
      ]
    }
  ]
}