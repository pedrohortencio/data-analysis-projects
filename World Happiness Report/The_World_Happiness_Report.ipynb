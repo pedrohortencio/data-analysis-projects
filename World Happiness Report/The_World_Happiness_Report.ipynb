{
  "nbformat": 4,
  "nbformat_minor": 0,
  "metadata": {
    "colab": {
      "name": "The World Happiness Report.ipynb",
      "provenance": [],
      "authorship_tag": "ABX9TyPwPFEpkbN6pwRvFUlD6eL7",
      "include_colab_link": true
    },
    "kernelspec": {
      "name": "python3",
      "display_name": "Python 3"
    },
    "language_info": {
      "name": "python"
    }
  },
  "cells": [
    {
      "cell_type": "markdown",
      "metadata": {
        "id": "view-in-github",
        "colab_type": "text"
      },
      "source": [
        "<a href=\"https://colab.research.google.com/github/pedrohortencio/data-analysis-projects/blob/main/World%20Happiness%20Report/The_World_Happiness_Report.ipynb\" target=\"_parent\"><img src=\"https://colab.research.google.com/assets/colab-badge.svg\" alt=\"Open In Colab\"/></a>"
      ]
    },
    {
      "cell_type": "markdown",
      "metadata": {
        "id": "kVVE3vA6H3c3"
      },
      "source": [
        "# Sobre os Dados"
      ]
    },
    {
      "cell_type": "markdown",
      "metadata": {
        "id": "oXZLtwjkLsRU"
      },
      "source": [
        "![](https://olatorera.com/wp-content/uploads/2020/03/world-happiness-report.png)"
      ]
    },
    {
      "cell_type": "markdown",
      "metadata": {
        "id": "6mGXLuJkIGJG"
      },
      "source": [
        "Para exemplificar o uso do _pandas_ e suas funções, iremos utilizar os dados do relatório de felicidade global, feito com base em várias fontes e usado por alguns governos como guia de ações públicas.\n",
        "\n",
        "Serão duas tabelas (que vão ser convertidas em dataframe):\n",
        "\n",
        "* O relatório de 2021, com ranking.\n",
        "* O relatório com dados da série história, em alguns países com os indicadores de 2005 a 2020.\n",
        "\n",
        "Os dados podem ser obtidos de várias fontes confiáveis:\n",
        "\n",
        "* [Kaggle](https://www.kaggle.com/ajaypalsinghlo/world-happiness-report-2021?select=world-happiness-report.csv)\n",
        "* Do próprio site do [World Happiness Report](https://worldhappiness.report/ed/2021/#appendices-and-data), onde também é possível ler o relatório em formato PDF."
      ]
    },
    {
      "cell_type": "markdown",
      "metadata": {
        "id": "IF-LrDCNH5YY"
      },
      "source": [
        "# Importando Bibliotecas"
      ]
    },
    {
      "cell_type": "code",
      "metadata": {
        "id": "wHZzfHpBH8RF"
      },
      "source": [
        "import pandas as pd\n",
        "import numpy as np\n",
        "\n",
        "import matplotlib.pyplot as plt\n",
        "import seaborn as sns\n",
        "sns.set_theme()"
      ],
      "execution_count": 2,
      "outputs": []
    },
    {
      "cell_type": "markdown",
      "metadata": {
        "id": "yETRUsLKH8VB"
      },
      "source": [
        "# Baixando os Dados"
      ]
    },
    {
      "cell_type": "code",
      "metadata": {
        "colab": {
          "base_uri": "https://localhost:8080/",
          "height": 394
        },
        "id": "CM6o5NTcH-JI",
        "outputId": "98c10a42-8c26-4dee-f898-0ad2f4836bcd"
      },
      "source": [
        "df_2021 = pd.read_excel(\"https://happiness-report.s3.amazonaws.com/2021/DataForFigure2.1WHR2021C2.xls\")\n",
        "df_2021.head()"
      ],
      "execution_count": 4,
      "outputs": [
        {
          "output_type": "execute_result",
          "data": {
            "text/html": [
              "<div>\n",
              "<style scoped>\n",
              "    .dataframe tbody tr th:only-of-type {\n",
              "        vertical-align: middle;\n",
              "    }\n",
              "\n",
              "    .dataframe tbody tr th {\n",
              "        vertical-align: top;\n",
              "    }\n",
              "\n",
              "    .dataframe thead th {\n",
              "        text-align: right;\n",
              "    }\n",
              "</style>\n",
              "<table border=\"1\" class=\"dataframe\">\n",
              "  <thead>\n",
              "    <tr style=\"text-align: right;\">\n",
              "      <th></th>\n",
              "      <th>Country name</th>\n",
              "      <th>Regional indicator</th>\n",
              "      <th>Ladder score</th>\n",
              "      <th>Standard error of ladder score</th>\n",
              "      <th>upperwhisker</th>\n",
              "      <th>lowerwhisker</th>\n",
              "      <th>Logged GDP per capita</th>\n",
              "      <th>Social support</th>\n",
              "      <th>Healthy life expectancy</th>\n",
              "      <th>Freedom to make life choices</th>\n",
              "      <th>Generosity</th>\n",
              "      <th>Perceptions of corruption</th>\n",
              "      <th>Ladder score in Dystopia</th>\n",
              "      <th>Explained by: Log GDP per capita</th>\n",
              "      <th>Explained by: Social support</th>\n",
              "      <th>Explained by: Healthy life expectancy</th>\n",
              "      <th>Explained by: Freedom to make life choices</th>\n",
              "      <th>Explained by: Generosity</th>\n",
              "      <th>Explained by: Perceptions of corruption</th>\n",
              "      <th>Dystopia + residual</th>\n",
              "    </tr>\n",
              "  </thead>\n",
              "  <tbody>\n",
              "    <tr>\n",
              "      <th>0</th>\n",
              "      <td>Finland</td>\n",
              "      <td>Western Europe</td>\n",
              "      <td>7.8421</td>\n",
              "      <td>0.031646</td>\n",
              "      <td>7.904126</td>\n",
              "      <td>7.780075</td>\n",
              "      <td>10.775202</td>\n",
              "      <td>0.953603</td>\n",
              "      <td>72.000000</td>\n",
              "      <td>0.949268</td>\n",
              "      <td>-0.097760</td>\n",
              "      <td>0.185846</td>\n",
              "      <td>2.430343</td>\n",
              "      <td>1.446356</td>\n",
              "      <td>1.106192</td>\n",
              "      <td>0.740824</td>\n",
              "      <td>0.690577</td>\n",
              "      <td>0.124200</td>\n",
              "      <td>0.480524</td>\n",
              "      <td>3.253415</td>\n",
              "    </tr>\n",
              "    <tr>\n",
              "      <th>1</th>\n",
              "      <td>Denmark</td>\n",
              "      <td>Western Europe</td>\n",
              "      <td>7.6195</td>\n",
              "      <td>0.034657</td>\n",
              "      <td>7.687428</td>\n",
              "      <td>7.551572</td>\n",
              "      <td>10.933176</td>\n",
              "      <td>0.954410</td>\n",
              "      <td>72.699753</td>\n",
              "      <td>0.945639</td>\n",
              "      <td>0.030109</td>\n",
              "      <td>0.178838</td>\n",
              "      <td>2.430343</td>\n",
              "      <td>1.501548</td>\n",
              "      <td>1.108008</td>\n",
              "      <td>0.762862</td>\n",
              "      <td>0.686160</td>\n",
              "      <td>0.207615</td>\n",
              "      <td>0.484993</td>\n",
              "      <td>2.868296</td>\n",
              "    </tr>\n",
              "    <tr>\n",
              "      <th>2</th>\n",
              "      <td>Switzerland</td>\n",
              "      <td>Western Europe</td>\n",
              "      <td>7.5715</td>\n",
              "      <td>0.036243</td>\n",
              "      <td>7.642536</td>\n",
              "      <td>7.500463</td>\n",
              "      <td>11.117368</td>\n",
              "      <td>0.941742</td>\n",
              "      <td>74.400101</td>\n",
              "      <td>0.918788</td>\n",
              "      <td>0.024629</td>\n",
              "      <td>0.291698</td>\n",
              "      <td>2.430343</td>\n",
              "      <td>1.565899</td>\n",
              "      <td>1.079469</td>\n",
              "      <td>0.816415</td>\n",
              "      <td>0.653488</td>\n",
              "      <td>0.204040</td>\n",
              "      <td>0.413019</td>\n",
              "      <td>2.839148</td>\n",
              "    </tr>\n",
              "    <tr>\n",
              "      <th>3</th>\n",
              "      <td>Iceland</td>\n",
              "      <td>Western Europe</td>\n",
              "      <td>7.5539</td>\n",
              "      <td>0.059373</td>\n",
              "      <td>7.670271</td>\n",
              "      <td>7.437528</td>\n",
              "      <td>10.877768</td>\n",
              "      <td>0.982938</td>\n",
              "      <td>73.000000</td>\n",
              "      <td>0.955123</td>\n",
              "      <td>0.160274</td>\n",
              "      <td>0.672865</td>\n",
              "      <td>2.430343</td>\n",
              "      <td>1.482190</td>\n",
              "      <td>1.172279</td>\n",
              "      <td>0.772319</td>\n",
              "      <td>0.697701</td>\n",
              "      <td>0.292526</td>\n",
              "      <td>0.169940</td>\n",
              "      <td>2.966945</td>\n",
              "    </tr>\n",
              "    <tr>\n",
              "      <th>4</th>\n",
              "      <td>Netherlands</td>\n",
              "      <td>Western Europe</td>\n",
              "      <td>7.4640</td>\n",
              "      <td>0.027326</td>\n",
              "      <td>7.517559</td>\n",
              "      <td>7.410441</td>\n",
              "      <td>10.931812</td>\n",
              "      <td>0.941601</td>\n",
              "      <td>72.400116</td>\n",
              "      <td>0.913116</td>\n",
              "      <td>0.175404</td>\n",
              "      <td>0.337938</td>\n",
              "      <td>2.430343</td>\n",
              "      <td>1.501072</td>\n",
              "      <td>1.079151</td>\n",
              "      <td>0.753425</td>\n",
              "      <td>0.646585</td>\n",
              "      <td>0.302397</td>\n",
              "      <td>0.383531</td>\n",
              "      <td>2.797818</td>\n",
              "    </tr>\n",
              "  </tbody>\n",
              "</table>\n",
              "</div>"
            ],
            "text/plain": [
              "  Country name  ... Dystopia + residual\n",
              "0      Finland  ...            3.253415\n",
              "1      Denmark  ...            2.868296\n",
              "2  Switzerland  ...            2.839148\n",
              "3      Iceland  ...            2.966945\n",
              "4  Netherlands  ...            2.797818\n",
              "\n",
              "[5 rows x 20 columns]"
            ]
          },
          "metadata": {
            "tags": []
          },
          "execution_count": 4
        }
      ]
    },
    {
      "cell_type": "code",
      "metadata": {
        "colab": {
          "base_uri": "https://localhost:8080/",
          "height": 221
        },
        "id": "lIyNnyQQH1KD",
        "outputId": "7c066ea3-749d-4cae-866f-91a833fd4433"
      },
      "source": [
        "df_hist = pd.read_excel(\"https://happiness-report.s3.amazonaws.com/2021/DataPanelWHR2021C2.xls\")\n",
        "df_hist.head()"
      ],
      "execution_count": 5,
      "outputs": [
        {
          "output_type": "execute_result",
          "data": {
            "text/html": [
              "<div>\n",
              "<style scoped>\n",
              "    .dataframe tbody tr th:only-of-type {\n",
              "        vertical-align: middle;\n",
              "    }\n",
              "\n",
              "    .dataframe tbody tr th {\n",
              "        vertical-align: top;\n",
              "    }\n",
              "\n",
              "    .dataframe thead th {\n",
              "        text-align: right;\n",
              "    }\n",
              "</style>\n",
              "<table border=\"1\" class=\"dataframe\">\n",
              "  <thead>\n",
              "    <tr style=\"text-align: right;\">\n",
              "      <th></th>\n",
              "      <th>Country name</th>\n",
              "      <th>year</th>\n",
              "      <th>Life Ladder</th>\n",
              "      <th>Log GDP per capita</th>\n",
              "      <th>Social support</th>\n",
              "      <th>Healthy life expectancy at birth</th>\n",
              "      <th>Freedom to make life choices</th>\n",
              "      <th>Generosity</th>\n",
              "      <th>Perceptions of corruption</th>\n",
              "      <th>Positive affect</th>\n",
              "      <th>Negative affect</th>\n",
              "    </tr>\n",
              "  </thead>\n",
              "  <tbody>\n",
              "    <tr>\n",
              "      <th>0</th>\n",
              "      <td>Afghanistan</td>\n",
              "      <td>2008</td>\n",
              "      <td>3.723590</td>\n",
              "      <td>7.370100</td>\n",
              "      <td>0.450662</td>\n",
              "      <td>50.799999</td>\n",
              "      <td>0.718114</td>\n",
              "      <td>0.167640</td>\n",
              "      <td>0.881686</td>\n",
              "      <td>0.517637</td>\n",
              "      <td>0.258195</td>\n",
              "    </tr>\n",
              "    <tr>\n",
              "      <th>1</th>\n",
              "      <td>Afghanistan</td>\n",
              "      <td>2009</td>\n",
              "      <td>4.401778</td>\n",
              "      <td>7.539972</td>\n",
              "      <td>0.552308</td>\n",
              "      <td>51.200001</td>\n",
              "      <td>0.678896</td>\n",
              "      <td>0.190099</td>\n",
              "      <td>0.850035</td>\n",
              "      <td>0.583926</td>\n",
              "      <td>0.237092</td>\n",
              "    </tr>\n",
              "    <tr>\n",
              "      <th>2</th>\n",
              "      <td>Afghanistan</td>\n",
              "      <td>2010</td>\n",
              "      <td>4.758381</td>\n",
              "      <td>7.646709</td>\n",
              "      <td>0.539075</td>\n",
              "      <td>51.599998</td>\n",
              "      <td>0.600127</td>\n",
              "      <td>0.120590</td>\n",
              "      <td>0.706766</td>\n",
              "      <td>0.618265</td>\n",
              "      <td>0.275324</td>\n",
              "    </tr>\n",
              "    <tr>\n",
              "      <th>3</th>\n",
              "      <td>Afghanistan</td>\n",
              "      <td>2011</td>\n",
              "      <td>3.831719</td>\n",
              "      <td>7.619532</td>\n",
              "      <td>0.521104</td>\n",
              "      <td>51.919998</td>\n",
              "      <td>0.495901</td>\n",
              "      <td>0.162427</td>\n",
              "      <td>0.731109</td>\n",
              "      <td>0.611387</td>\n",
              "      <td>0.267175</td>\n",
              "    </tr>\n",
              "    <tr>\n",
              "      <th>4</th>\n",
              "      <td>Afghanistan</td>\n",
              "      <td>2012</td>\n",
              "      <td>3.782938</td>\n",
              "      <td>7.705479</td>\n",
              "      <td>0.520637</td>\n",
              "      <td>52.240002</td>\n",
              "      <td>0.530935</td>\n",
              "      <td>0.236032</td>\n",
              "      <td>0.775620</td>\n",
              "      <td>0.710385</td>\n",
              "      <td>0.267919</td>\n",
              "    </tr>\n",
              "  </tbody>\n",
              "</table>\n",
              "</div>"
            ],
            "text/plain": [
              "  Country name  year  ...  Positive affect  Negative affect\n",
              "0  Afghanistan  2008  ...         0.517637         0.258195\n",
              "1  Afghanistan  2009  ...         0.583926         0.237092\n",
              "2  Afghanistan  2010  ...         0.618265         0.275324\n",
              "3  Afghanistan  2011  ...         0.611387         0.267175\n",
              "4  Afghanistan  2012  ...         0.710385         0.267919\n",
              "\n",
              "[5 rows x 11 columns]"
            ]
          },
          "metadata": {
            "tags": []
          },
          "execution_count": 5
        }
      ]
    },
    {
      "cell_type": "code",
      "metadata": {
        "id": "Q-7h1lA9Kphl"
      },
      "source": [
        ""
      ],
      "execution_count": null,
      "outputs": []
    }
  ]
}