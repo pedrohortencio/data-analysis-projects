{
  "nbformat": 4,
  "nbformat_minor": 0,
  "metadata": {
    "colab": {
      "name": "The World Happiness Report.ipynb",
      "provenance": [],
      "collapsed_sections": [],
      "authorship_tag": "ABX9TyPKlOQ6cwZUAhuxk3mbc6Cc",
      "include_colab_link": true
    },
    "kernelspec": {
      "name": "python3",
      "display_name": "Python 3"
    },
    "language_info": {
      "name": "python"
    }
  },
  "cells": [
    {
      "cell_type": "markdown",
      "metadata": {
        "id": "view-in-github",
        "colab_type": "text"
      },
      "source": [
        "<a href=\"https://colab.research.google.com/github/pedrohortencio/data-analysis-projects/blob/main/World%20Happiness%20Report/The_World_Happiness_Report.ipynb\" target=\"_parent\"><img src=\"https://colab.research.google.com/assets/colab-badge.svg\" alt=\"Open In Colab\"/></a>"
      ]
    },
    {
      "cell_type": "markdown",
      "metadata": {
        "id": "kVVE3vA6H3c3"
      },
      "source": [
        "# Sobre os Dados"
      ]
    },
    {
      "cell_type": "markdown",
      "metadata": {
        "id": "oXZLtwjkLsRU"
      },
      "source": [
        "![](https://olatorera.com/wp-content/uploads/2020/03/world-happiness-report.png)"
      ]
    },
    {
      "cell_type": "markdown",
      "metadata": {
        "id": "6mGXLuJkIGJG"
      },
      "source": [
        "Para exemplificar o uso do _pandas_ e suas funções, iremos utilizar os dados do relatório de felicidade global, feito com base em várias fontes e usado por alguns governos como guia de ações públicas.\n",
        "\n",
        "Serão duas tabelas (que vão ser convertidas em dataframe):\n",
        "\n",
        "* O relatório de 2021, com ranking.\n",
        "* O relatório com dados da série história, em alguns países com os indicadores de 2005 a 2020.\n",
        "\n",
        "Os dados podem ser obtidos de várias fontes confiáveis:\n",
        "\n",
        "* [Kaggle](https://www.kaggle.com/ajaypalsinghlo/world-happiness-report-2021?select=world-happiness-report.csv)\n",
        "* Do próprio site do [World Happiness Report](https://worldhappiness.report/ed/2021/#appendices-and-data), onde também é possível ler o relatório em formato PDF."
      ]
    },
    {
      "cell_type": "markdown",
      "metadata": {
        "id": "IF-LrDCNH5YY"
      },
      "source": [
        "# Importando Bibliotecas"
      ]
    },
    {
      "cell_type": "code",
      "metadata": {
        "id": "wHZzfHpBH8RF"
      },
      "source": [
        "import pandas as pd\n",
        "import numpy as np\n",
        "\n",
        "import matplotlib.pyplot as plt\n",
        "import seaborn as sns\n",
        "sns.set_theme()"
      ],
      "execution_count": 2,
      "outputs": []
    },
    {
      "cell_type": "markdown",
      "metadata": {
        "id": "yETRUsLKH8VB"
      },
      "source": [
        "# Baixando os Dados"
      ]
    },
    {
      "cell_type": "code",
      "metadata": {
        "id": "CM6o5NTcH-JI"
      },
      "source": [
        "# O pandas é muito flexível. É possível criar dataframes inserindo apenas a URL do arquivo, sem a necessidade de baixar localmente.\n",
        "df_2021 = pd.read_excel(\"https://happiness-report.s3.amazonaws.com/2021/DataForFigure2.1WHR2021C2.xls\")\n",
        "df_hist = pd.read_excel(\"https://happiness-report.s3.amazonaws.com/2021/DataPanelWHR2021C2.xls\")"
      ],
      "execution_count": 8,
      "outputs": []
    },
    {
      "cell_type": "markdown",
      "metadata": {
        "id": "tvRWmWPcZ4_r"
      },
      "source": [
        "# EDA"
      ]
    },
    {
      "cell_type": "markdown",
      "metadata": {
        "id": "ZeznU8HjNzQO"
      },
      "source": [
        "> Por hora, vamos focar no relatório de 2021."
      ]
    },
    {
      "cell_type": "code",
      "metadata": {
        "id": "ffizFWiGNzF0"
      },
      "source": [
        "# A primeira coisa a se fazer é checar o DataFrame para verificar:\n",
        "    # 1) Se a criação foi feita com sucesso. Se não, é necessário voltar ao comando pd.read_excel() e alterar os parâmetros\n",
        "    # 2) Como os dados estão organizados"
      ],
      "execution_count": null,
      "outputs": []
    },
    {
      "cell_type": "code",
      "metadata": {
        "colab": {
          "base_uri": "https://localhost:8080/",
          "height": 394
        },
        "id": "CB3GoLA8NzDd",
        "outputId": "05f44e4d-054f-4740-e39e-f0055c8f5e9f"
      },
      "source": [
        "# vamos, simplesmente, imprimir as 5 primeiras linhas\n",
        "df_2021.head()"
      ],
      "execution_count": 9,
      "outputs": [
        {
          "output_type": "execute_result",
          "data": {
            "text/html": [
              "<div>\n",
              "<style scoped>\n",
              "    .dataframe tbody tr th:only-of-type {\n",
              "        vertical-align: middle;\n",
              "    }\n",
              "\n",
              "    .dataframe tbody tr th {\n",
              "        vertical-align: top;\n",
              "    }\n",
              "\n",
              "    .dataframe thead th {\n",
              "        text-align: right;\n",
              "    }\n",
              "</style>\n",
              "<table border=\"1\" class=\"dataframe\">\n",
              "  <thead>\n",
              "    <tr style=\"text-align: right;\">\n",
              "      <th></th>\n",
              "      <th>Country name</th>\n",
              "      <th>Regional indicator</th>\n",
              "      <th>Ladder score</th>\n",
              "      <th>Standard error of ladder score</th>\n",
              "      <th>upperwhisker</th>\n",
              "      <th>lowerwhisker</th>\n",
              "      <th>Logged GDP per capita</th>\n",
              "      <th>Social support</th>\n",
              "      <th>Healthy life expectancy</th>\n",
              "      <th>Freedom to make life choices</th>\n",
              "      <th>Generosity</th>\n",
              "      <th>Perceptions of corruption</th>\n",
              "      <th>Ladder score in Dystopia</th>\n",
              "      <th>Explained by: Log GDP per capita</th>\n",
              "      <th>Explained by: Social support</th>\n",
              "      <th>Explained by: Healthy life expectancy</th>\n",
              "      <th>Explained by: Freedom to make life choices</th>\n",
              "      <th>Explained by: Generosity</th>\n",
              "      <th>Explained by: Perceptions of corruption</th>\n",
              "      <th>Dystopia + residual</th>\n",
              "    </tr>\n",
              "  </thead>\n",
              "  <tbody>\n",
              "    <tr>\n",
              "      <th>0</th>\n",
              "      <td>Finland</td>\n",
              "      <td>Western Europe</td>\n",
              "      <td>7.8421</td>\n",
              "      <td>0.031646</td>\n",
              "      <td>7.904126</td>\n",
              "      <td>7.780075</td>\n",
              "      <td>10.775202</td>\n",
              "      <td>0.953603</td>\n",
              "      <td>72.000000</td>\n",
              "      <td>0.949268</td>\n",
              "      <td>-0.097760</td>\n",
              "      <td>0.185846</td>\n",
              "      <td>2.430343</td>\n",
              "      <td>1.446356</td>\n",
              "      <td>1.106192</td>\n",
              "      <td>0.740824</td>\n",
              "      <td>0.690577</td>\n",
              "      <td>0.124200</td>\n",
              "      <td>0.480524</td>\n",
              "      <td>3.253415</td>\n",
              "    </tr>\n",
              "    <tr>\n",
              "      <th>1</th>\n",
              "      <td>Denmark</td>\n",
              "      <td>Western Europe</td>\n",
              "      <td>7.6195</td>\n",
              "      <td>0.034657</td>\n",
              "      <td>7.687428</td>\n",
              "      <td>7.551572</td>\n",
              "      <td>10.933176</td>\n",
              "      <td>0.954410</td>\n",
              "      <td>72.699753</td>\n",
              "      <td>0.945639</td>\n",
              "      <td>0.030109</td>\n",
              "      <td>0.178838</td>\n",
              "      <td>2.430343</td>\n",
              "      <td>1.501548</td>\n",
              "      <td>1.108008</td>\n",
              "      <td>0.762862</td>\n",
              "      <td>0.686160</td>\n",
              "      <td>0.207615</td>\n",
              "      <td>0.484993</td>\n",
              "      <td>2.868296</td>\n",
              "    </tr>\n",
              "    <tr>\n",
              "      <th>2</th>\n",
              "      <td>Switzerland</td>\n",
              "      <td>Western Europe</td>\n",
              "      <td>7.5715</td>\n",
              "      <td>0.036243</td>\n",
              "      <td>7.642536</td>\n",
              "      <td>7.500463</td>\n",
              "      <td>11.117368</td>\n",
              "      <td>0.941742</td>\n",
              "      <td>74.400101</td>\n",
              "      <td>0.918788</td>\n",
              "      <td>0.024629</td>\n",
              "      <td>0.291698</td>\n",
              "      <td>2.430343</td>\n",
              "      <td>1.565899</td>\n",
              "      <td>1.079469</td>\n",
              "      <td>0.816415</td>\n",
              "      <td>0.653488</td>\n",
              "      <td>0.204040</td>\n",
              "      <td>0.413019</td>\n",
              "      <td>2.839148</td>\n",
              "    </tr>\n",
              "    <tr>\n",
              "      <th>3</th>\n",
              "      <td>Iceland</td>\n",
              "      <td>Western Europe</td>\n",
              "      <td>7.5539</td>\n",
              "      <td>0.059373</td>\n",
              "      <td>7.670271</td>\n",
              "      <td>7.437528</td>\n",
              "      <td>10.877768</td>\n",
              "      <td>0.982938</td>\n",
              "      <td>73.000000</td>\n",
              "      <td>0.955123</td>\n",
              "      <td>0.160274</td>\n",
              "      <td>0.672865</td>\n",
              "      <td>2.430343</td>\n",
              "      <td>1.482190</td>\n",
              "      <td>1.172279</td>\n",
              "      <td>0.772319</td>\n",
              "      <td>0.697701</td>\n",
              "      <td>0.292526</td>\n",
              "      <td>0.169940</td>\n",
              "      <td>2.966945</td>\n",
              "    </tr>\n",
              "    <tr>\n",
              "      <th>4</th>\n",
              "      <td>Netherlands</td>\n",
              "      <td>Western Europe</td>\n",
              "      <td>7.4640</td>\n",
              "      <td>0.027326</td>\n",
              "      <td>7.517559</td>\n",
              "      <td>7.410441</td>\n",
              "      <td>10.931812</td>\n",
              "      <td>0.941601</td>\n",
              "      <td>72.400116</td>\n",
              "      <td>0.913116</td>\n",
              "      <td>0.175404</td>\n",
              "      <td>0.337938</td>\n",
              "      <td>2.430343</td>\n",
              "      <td>1.501072</td>\n",
              "      <td>1.079151</td>\n",
              "      <td>0.753425</td>\n",
              "      <td>0.646585</td>\n",
              "      <td>0.302397</td>\n",
              "      <td>0.383531</td>\n",
              "      <td>2.797818</td>\n",
              "    </tr>\n",
              "  </tbody>\n",
              "</table>\n",
              "</div>"
            ],
            "text/plain": [
              "  Country name  ... Dystopia + residual\n",
              "0      Finland  ...            3.253415\n",
              "1      Denmark  ...            2.868296\n",
              "2  Switzerland  ...            2.839148\n",
              "3      Iceland  ...            2.966945\n",
              "4  Netherlands  ...            2.797818\n",
              "\n",
              "[5 rows x 20 columns]"
            ]
          },
          "metadata": {
            "tags": []
          },
          "execution_count": 9
        }
      ]
    },
    {
      "cell_type": "markdown",
      "metadata": {
        "id": "ys9OiKPtOoVc"
      },
      "source": [
        "> Nota-se que os dados estão ordenados com base nos valores da coluna _Ladder score_.\n",
        "\n",
        "Vamos checar os últimos valores do DataFrame:"
      ]
    },
    {
      "cell_type": "code",
      "metadata": {
        "colab": {
          "base_uri": "https://localhost:8080/",
          "height": 445
        },
        "id": "hBDr0ZM0Owj8",
        "outputId": "87b8405c-061c-4cc6-c8e8-f6a6fc3aaf23"
      },
      "source": [
        "df_2021.tail()"
      ],
      "execution_count": 10,
      "outputs": [
        {
          "output_type": "execute_result",
          "data": {
            "text/html": [
              "<div>\n",
              "<style scoped>\n",
              "    .dataframe tbody tr th:only-of-type {\n",
              "        vertical-align: middle;\n",
              "    }\n",
              "\n",
              "    .dataframe tbody tr th {\n",
              "        vertical-align: top;\n",
              "    }\n",
              "\n",
              "    .dataframe thead th {\n",
              "        text-align: right;\n",
              "    }\n",
              "</style>\n",
              "<table border=\"1\" class=\"dataframe\">\n",
              "  <thead>\n",
              "    <tr style=\"text-align: right;\">\n",
              "      <th></th>\n",
              "      <th>Country name</th>\n",
              "      <th>Regional indicator</th>\n",
              "      <th>Ladder score</th>\n",
              "      <th>Standard error of ladder score</th>\n",
              "      <th>upperwhisker</th>\n",
              "      <th>lowerwhisker</th>\n",
              "      <th>Logged GDP per capita</th>\n",
              "      <th>Social support</th>\n",
              "      <th>Healthy life expectancy</th>\n",
              "      <th>Freedom to make life choices</th>\n",
              "      <th>Generosity</th>\n",
              "      <th>Perceptions of corruption</th>\n",
              "      <th>Ladder score in Dystopia</th>\n",
              "      <th>Explained by: Log GDP per capita</th>\n",
              "      <th>Explained by: Social support</th>\n",
              "      <th>Explained by: Healthy life expectancy</th>\n",
              "      <th>Explained by: Freedom to make life choices</th>\n",
              "      <th>Explained by: Generosity</th>\n",
              "      <th>Explained by: Perceptions of corruption</th>\n",
              "      <th>Dystopia + residual</th>\n",
              "    </tr>\n",
              "  </thead>\n",
              "  <tbody>\n",
              "    <tr>\n",
              "      <th>144</th>\n",
              "      <td>Lesotho</td>\n",
              "      <td>Sub-Saharan Africa</td>\n",
              "      <td>3.5118</td>\n",
              "      <td>0.120454</td>\n",
              "      <td>3.747890</td>\n",
              "      <td>3.275710</td>\n",
              "      <td>7.925777</td>\n",
              "      <td>0.786871</td>\n",
              "      <td>48.700001</td>\n",
              "      <td>0.714954</td>\n",
              "      <td>-0.130536</td>\n",
              "      <td>0.915377</td>\n",
              "      <td>2.430343</td>\n",
              "      <td>0.450848</td>\n",
              "      <td>0.730561</td>\n",
              "      <td>0.006992</td>\n",
              "      <td>0.405455</td>\n",
              "      <td>0.102819</td>\n",
              "      <td>0.015284</td>\n",
              "      <td>1.799821</td>\n",
              "    </tr>\n",
              "    <tr>\n",
              "      <th>145</th>\n",
              "      <td>Botswana</td>\n",
              "      <td>Sub-Saharan Africa</td>\n",
              "      <td>3.4665</td>\n",
              "      <td>0.073872</td>\n",
              "      <td>3.611289</td>\n",
              "      <td>3.321711</td>\n",
              "      <td>9.781536</td>\n",
              "      <td>0.784171</td>\n",
              "      <td>59.269188</td>\n",
              "      <td>0.824394</td>\n",
              "      <td>-0.246159</td>\n",
              "      <td>0.800619</td>\n",
              "      <td>2.430343</td>\n",
              "      <td>1.099198</td>\n",
              "      <td>0.724478</td>\n",
              "      <td>0.339868</td>\n",
              "      <td>0.538626</td>\n",
              "      <td>0.027394</td>\n",
              "      <td>0.088468</td>\n",
              "      <td>0.648460</td>\n",
              "    </tr>\n",
              "    <tr>\n",
              "      <th>146</th>\n",
              "      <td>Rwanda</td>\n",
              "      <td>Sub-Saharan Africa</td>\n",
              "      <td>3.4147</td>\n",
              "      <td>0.067830</td>\n",
              "      <td>3.547647</td>\n",
              "      <td>3.281753</td>\n",
              "      <td>7.676118</td>\n",
              "      <td>0.552339</td>\n",
              "      <td>61.399727</td>\n",
              "      <td>0.896758</td>\n",
              "      <td>0.060526</td>\n",
              "      <td>0.166801</td>\n",
              "      <td>2.430343</td>\n",
              "      <td>0.363624</td>\n",
              "      <td>0.202183</td>\n",
              "      <td>0.406969</td>\n",
              "      <td>0.626681</td>\n",
              "      <td>0.227457</td>\n",
              "      <td>0.492669</td>\n",
              "      <td>1.095149</td>\n",
              "    </tr>\n",
              "    <tr>\n",
              "      <th>147</th>\n",
              "      <td>Zimbabwe</td>\n",
              "      <td>Sub-Saharan Africa</td>\n",
              "      <td>3.1448</td>\n",
              "      <td>0.058443</td>\n",
              "      <td>3.259349</td>\n",
              "      <td>3.030251</td>\n",
              "      <td>7.942595</td>\n",
              "      <td>0.750470</td>\n",
              "      <td>56.200840</td>\n",
              "      <td>0.676700</td>\n",
              "      <td>-0.047346</td>\n",
              "      <td>0.820999</td>\n",
              "      <td>2.430343</td>\n",
              "      <td>0.456724</td>\n",
              "      <td>0.648552</td>\n",
              "      <td>0.243230</td>\n",
              "      <td>0.358907</td>\n",
              "      <td>0.157088</td>\n",
              "      <td>0.075471</td>\n",
              "      <td>1.204845</td>\n",
              "    </tr>\n",
              "    <tr>\n",
              "      <th>148</th>\n",
              "      <td>Afghanistan</td>\n",
              "      <td>South Asia</td>\n",
              "      <td>2.5229</td>\n",
              "      <td>0.037535</td>\n",
              "      <td>2.596468</td>\n",
              "      <td>2.449332</td>\n",
              "      <td>7.694710</td>\n",
              "      <td>0.462596</td>\n",
              "      <td>52.492615</td>\n",
              "      <td>0.381749</td>\n",
              "      <td>-0.101684</td>\n",
              "      <td>0.924338</td>\n",
              "      <td>2.430343</td>\n",
              "      <td>0.370120</td>\n",
              "      <td>0.000000</td>\n",
              "      <td>0.126440</td>\n",
              "      <td>0.000000</td>\n",
              "      <td>0.121641</td>\n",
              "      <td>0.009569</td>\n",
              "      <td>1.895141</td>\n",
              "    </tr>\n",
              "  </tbody>\n",
              "</table>\n",
              "</div>"
            ],
            "text/plain": [
              "    Country name  ... Dystopia + residual\n",
              "144      Lesotho  ...            1.799821\n",
              "145     Botswana  ...            0.648460\n",
              "146       Rwanda  ...            1.095149\n",
              "147     Zimbabwe  ...            1.204845\n",
              "148  Afghanistan  ...            1.895141\n",
              "\n",
              "[5 rows x 20 columns]"
            ]
          },
          "metadata": {
            "tags": []
          },
          "execution_count": 10
        }
      ]
    },
    {
      "cell_type": "code",
      "metadata": {
        "colab": {
          "base_uri": "https://localhost:8080/"
        },
        "id": "JNudoSBHXhSr",
        "outputId": "fe887e1e-3e9c-42f5-c2b5-7d1e93b0d56e"
      },
      "source": [
        "# Vamos ver o tamanho do dataset\n",
        "df_2021.shape"
      ],
      "execution_count": 18,
      "outputs": [
        {
          "output_type": "execute_result",
          "data": {
            "text/plain": [
              "(149, 20)"
            ]
          },
          "metadata": {
            "tags": []
          },
          "execution_count": 18
        }
      ]
    },
    {
      "cell_type": "markdown",
      "metadata": {
        "id": "ENRBG2_tZ00Y"
      },
      "source": [
        "### Investigando as Colunas"
      ]
    },
    {
      "cell_type": "markdown",
      "metadata": {
        "id": "v2v_qX1wO0Rk"
      },
      "source": [
        "> Sempre é uma boa ideia verificar as colunas e entender qual o dado de cada uma:"
      ]
    },
    {
      "cell_type": "code",
      "metadata": {
        "colab": {
          "base_uri": "https://localhost:8080/"
        },
        "id": "iMG3nS5tPFlm",
        "outputId": "c918dc89-e798-4c47-81e1-4f708d1bdf34"
      },
      "source": [
        "# Podemos fazer isso assim:\n",
        "df_2021.columns"
      ],
      "execution_count": 14,
      "outputs": [
        {
          "output_type": "execute_result",
          "data": {
            "text/plain": [
              "Index(['Country name', 'Regional indicator', 'Ladder score',\n",
              "       'Standard error of ladder score', 'upperwhisker', 'lowerwhisker',\n",
              "       'Logged GDP per capita', 'Social support', 'Healthy life expectancy',\n",
              "       'Freedom to make life choices', 'Generosity',\n",
              "       'Perceptions of corruption', 'Ladder score in Dystopia',\n",
              "       'Explained by: Log GDP per capita', 'Explained by: Social support',\n",
              "       'Explained by: Healthy life expectancy',\n",
              "       'Explained by: Freedom to make life choices',\n",
              "       'Explained by: Generosity', 'Explained by: Perceptions of corruption',\n",
              "       'Dystopia + residual'],\n",
              "      dtype='object')"
            ]
          },
          "metadata": {
            "tags": []
          },
          "execution_count": 14
        }
      ]
    },
    {
      "cell_type": "code",
      "metadata": {
        "colab": {
          "base_uri": "https://localhost:8080/"
        },
        "id": "JA4vcqtmOoJk",
        "outputId": "2de35e04-5e04-46fa-a372-590dc44956ff"
      },
      "source": [
        "# Mas um jeito melhor é:\n",
        "df_2021.dtypes"
      ],
      "execution_count": 13,
      "outputs": [
        {
          "output_type": "execute_result",
          "data": {
            "text/plain": [
              "Country name                                   object\n",
              "Regional indicator                             object\n",
              "Ladder score                                  float64\n",
              "Standard error of ladder score                float64\n",
              "upperwhisker                                  float64\n",
              "lowerwhisker                                  float64\n",
              "Logged GDP per capita                         float64\n",
              "Social support                                float64\n",
              "Healthy life expectancy                       float64\n",
              "Freedom to make life choices                  float64\n",
              "Generosity                                    float64\n",
              "Perceptions of corruption                     float64\n",
              "Ladder score in Dystopia                      float64\n",
              "Explained by: Log GDP per capita              float64\n",
              "Explained by: Social support                  float64\n",
              "Explained by: Healthy life expectancy         float64\n",
              "Explained by: Freedom to make life choices    float64\n",
              "Explained by: Generosity                      float64\n",
              "Explained by: Perceptions of corruption       float64\n",
              "Dystopia + residual                           float64\n",
              "dtype: object"
            ]
          },
          "metadata": {
            "tags": []
          },
          "execution_count": 13
        }
      ]
    },
    {
      "cell_type": "markdown",
      "metadata": {
        "id": "itJ0wKmLPZ-M"
      },
      "source": [
        "Hora de consultar a documentação para entender alguns pontos-chave:\n",
        "\n",
        "* Ladder score: _\"[...] This is called the Cantril ladder: it asks respondents to think of a ladder, with the best possible life for them being a 10, and the worst possible life being a 0. They are then asked to rate their own current lives on that 0 to 10 scale.\"_\n",
        "\n",
        "* Dystopia: _a hypothetical country that has values equal to the world’s lowest national averages for each of the six factors (levels of GDP, life expectancy, generosity, social support, freedom, and corruption)_\n",
        "\n",
        "* Colunas com \"Explained by\": são valores corrigidos, pois continham _missing values_, especialmente nas colunas relacionadas a dados de corrupção. A explicação oficial:\n",
        "\n",
        "_We do not make use of any imputed missing values in our rankings of happiness and\n",
        "its supporting factors. The only place where we make use of imputation is when\n",
        "we try to decompose a country’s average ladder score into components explained by\n",
        "six hypothesized underlying determinants (GDP per person, healthy life expectancy,\n",
        "social support, perceived freedom to make life choice, generosity and perception of\n",
        "corruption). A small number of countries have missing values in one or more of these\n",
        "factors. The most prominent is about the perception of corruption in businesses\n",
        "and governments. In several countries, the relevant questions were not asked in\n",
        "the Gallup World Poll. For these countries we impute the missing values using the\n",
        "“control of corruption” indicator from the Worldwide Governance Indicators (WGI)\n",
        "project._ [WHR Statistical Appendix 1 - PDF](https://happiness-report.s3.amazonaws.com/2021/Appendix1WHR2021C2.pdf)\n",
        "\n",
        "* Residuals: _The residuals, or unexplained components, differ for each country, reflecting the extent to which the six variables either over- or under-explain average 2018-2020 life evaluations. These residuals have an average value of approximately zero over the whole set of countries. The difference between what is attributed to the six factors and the total life evaluations is the sum of two parts. These are the average life evaluations in Dystopia, and each country’s residual._ \n"
      ]
    },
    {
      "cell_type": "markdown",
      "metadata": {
        "id": "ZIhVLukAQ-JM"
      },
      "source": [
        "--------------\n",
        "* Upper whisker and Lower whisker: tem relação com estatística. Ver abaixo.\n",
        "\n",
        "Todo [boxplot](https://en.wikipedia.org/wiki/Box_plot) (diagrama de caixa) possui retas que se extendem em ambos os lados, chamadas de _whisker_ (ou simplesmente retas ou fios de bigode). Eles indicam a variação fora do quartil superior e do quartil inferior.\n",
        "\n",
        "_O que é um quartil?_\n",
        "\n",
        "É simplesmente uma divisão dos dados seguindo uma distribuição estatística. Cada quartil tem, usualmente, 25% dos dados. No caso da distribuição chamada de _bell curve_ (gaussiana/normal), os quartis são os seguintes:\n",
        "\n",
        "![](https://www.researchgate.net/publication/324532937/figure/fig2/AS:615815585992705@1523833285991/Relationship-of-quartiles-and-inter-quartile-range-Legends-Q-1-first-quartile-Q-3.png)\n",
        "\n",
        "![](https://www.simplypsychology.org/boxplot.jpg)\n",
        "\n",
        "_OK. O que os whisker indicam?_\n",
        "\n",
        "_In summary, if there are no individual data points plotted, the whiskers indicate data’s minimum and maximum. If there are individual data points plotted, the whiskers indicate the largest/lowest points inside the range defined by 1st or 3rd quartile plus 1.5 times IQR (interquartile range)._ [Fonte](https://muse.union.edu/dvorakt/what-drives-the-length-of-whiskers-in-a-box-plot/)"
      ]
    },
    {
      "cell_type": "markdown",
      "metadata": {
        "id": "YOwJva0UY-J4"
      },
      "source": [
        "### Melhores 10 Países"
      ]
    },
    {
      "cell_type": "code",
      "metadata": {
        "colab": {
          "base_uri": "https://localhost:8080/",
          "height": 651
        },
        "id": "VfXraIdvNzA9",
        "outputId": "66b48221-550b-476c-a1a4-8826f4a82d8f"
      },
      "source": [
        "df_2021[:10]"
      ],
      "execution_count": 19,
      "outputs": [
        {
          "output_type": "execute_result",
          "data": {
            "text/html": [
              "<div>\n",
              "<style scoped>\n",
              "    .dataframe tbody tr th:only-of-type {\n",
              "        vertical-align: middle;\n",
              "    }\n",
              "\n",
              "    .dataframe tbody tr th {\n",
              "        vertical-align: top;\n",
              "    }\n",
              "\n",
              "    .dataframe thead th {\n",
              "        text-align: right;\n",
              "    }\n",
              "</style>\n",
              "<table border=\"1\" class=\"dataframe\">\n",
              "  <thead>\n",
              "    <tr style=\"text-align: right;\">\n",
              "      <th></th>\n",
              "      <th>Country name</th>\n",
              "      <th>Regional indicator</th>\n",
              "      <th>Ladder score</th>\n",
              "      <th>Standard error of ladder score</th>\n",
              "      <th>upperwhisker</th>\n",
              "      <th>lowerwhisker</th>\n",
              "      <th>Logged GDP per capita</th>\n",
              "      <th>Social support</th>\n",
              "      <th>Healthy life expectancy</th>\n",
              "      <th>Freedom to make life choices</th>\n",
              "      <th>Generosity</th>\n",
              "      <th>Perceptions of corruption</th>\n",
              "      <th>Ladder score in Dystopia</th>\n",
              "      <th>Explained by: Log GDP per capita</th>\n",
              "      <th>Explained by: Social support</th>\n",
              "      <th>Explained by: Healthy life expectancy</th>\n",
              "      <th>Explained by: Freedom to make life choices</th>\n",
              "      <th>Explained by: Generosity</th>\n",
              "      <th>Explained by: Perceptions of corruption</th>\n",
              "      <th>Dystopia + residual</th>\n",
              "    </tr>\n",
              "  </thead>\n",
              "  <tbody>\n",
              "    <tr>\n",
              "      <th>0</th>\n",
              "      <td>Finland</td>\n",
              "      <td>Western Europe</td>\n",
              "      <td>7.8421</td>\n",
              "      <td>0.031646</td>\n",
              "      <td>7.904126</td>\n",
              "      <td>7.780075</td>\n",
              "      <td>10.775202</td>\n",
              "      <td>0.953603</td>\n",
              "      <td>72.000000</td>\n",
              "      <td>0.949268</td>\n",
              "      <td>-0.097760</td>\n",
              "      <td>0.185846</td>\n",
              "      <td>2.430343</td>\n",
              "      <td>1.446356</td>\n",
              "      <td>1.106192</td>\n",
              "      <td>0.740824</td>\n",
              "      <td>0.690577</td>\n",
              "      <td>0.124200</td>\n",
              "      <td>0.480524</td>\n",
              "      <td>3.253415</td>\n",
              "    </tr>\n",
              "    <tr>\n",
              "      <th>1</th>\n",
              "      <td>Denmark</td>\n",
              "      <td>Western Europe</td>\n",
              "      <td>7.6195</td>\n",
              "      <td>0.034657</td>\n",
              "      <td>7.687428</td>\n",
              "      <td>7.551572</td>\n",
              "      <td>10.933176</td>\n",
              "      <td>0.954410</td>\n",
              "      <td>72.699753</td>\n",
              "      <td>0.945639</td>\n",
              "      <td>0.030109</td>\n",
              "      <td>0.178838</td>\n",
              "      <td>2.430343</td>\n",
              "      <td>1.501548</td>\n",
              "      <td>1.108008</td>\n",
              "      <td>0.762862</td>\n",
              "      <td>0.686160</td>\n",
              "      <td>0.207615</td>\n",
              "      <td>0.484993</td>\n",
              "      <td>2.868296</td>\n",
              "    </tr>\n",
              "    <tr>\n",
              "      <th>2</th>\n",
              "      <td>Switzerland</td>\n",
              "      <td>Western Europe</td>\n",
              "      <td>7.5715</td>\n",
              "      <td>0.036243</td>\n",
              "      <td>7.642536</td>\n",
              "      <td>7.500463</td>\n",
              "      <td>11.117368</td>\n",
              "      <td>0.941742</td>\n",
              "      <td>74.400101</td>\n",
              "      <td>0.918788</td>\n",
              "      <td>0.024629</td>\n",
              "      <td>0.291698</td>\n",
              "      <td>2.430343</td>\n",
              "      <td>1.565899</td>\n",
              "      <td>1.079469</td>\n",
              "      <td>0.816415</td>\n",
              "      <td>0.653488</td>\n",
              "      <td>0.204040</td>\n",
              "      <td>0.413019</td>\n",
              "      <td>2.839148</td>\n",
              "    </tr>\n",
              "    <tr>\n",
              "      <th>3</th>\n",
              "      <td>Iceland</td>\n",
              "      <td>Western Europe</td>\n",
              "      <td>7.5539</td>\n",
              "      <td>0.059373</td>\n",
              "      <td>7.670271</td>\n",
              "      <td>7.437528</td>\n",
              "      <td>10.877768</td>\n",
              "      <td>0.982938</td>\n",
              "      <td>73.000000</td>\n",
              "      <td>0.955123</td>\n",
              "      <td>0.160274</td>\n",
              "      <td>0.672865</td>\n",
              "      <td>2.430343</td>\n",
              "      <td>1.482190</td>\n",
              "      <td>1.172279</td>\n",
              "      <td>0.772319</td>\n",
              "      <td>0.697701</td>\n",
              "      <td>0.292526</td>\n",
              "      <td>0.169940</td>\n",
              "      <td>2.966945</td>\n",
              "    </tr>\n",
              "    <tr>\n",
              "      <th>4</th>\n",
              "      <td>Netherlands</td>\n",
              "      <td>Western Europe</td>\n",
              "      <td>7.4640</td>\n",
              "      <td>0.027326</td>\n",
              "      <td>7.517559</td>\n",
              "      <td>7.410441</td>\n",
              "      <td>10.931812</td>\n",
              "      <td>0.941601</td>\n",
              "      <td>72.400116</td>\n",
              "      <td>0.913116</td>\n",
              "      <td>0.175404</td>\n",
              "      <td>0.337938</td>\n",
              "      <td>2.430343</td>\n",
              "      <td>1.501072</td>\n",
              "      <td>1.079151</td>\n",
              "      <td>0.753425</td>\n",
              "      <td>0.646585</td>\n",
              "      <td>0.302397</td>\n",
              "      <td>0.383531</td>\n",
              "      <td>2.797818</td>\n",
              "    </tr>\n",
              "    <tr>\n",
              "      <th>5</th>\n",
              "      <td>Norway</td>\n",
              "      <td>Western Europe</td>\n",
              "      <td>7.3925</td>\n",
              "      <td>0.035449</td>\n",
              "      <td>7.461979</td>\n",
              "      <td>7.323021</td>\n",
              "      <td>11.053126</td>\n",
              "      <td>0.954445</td>\n",
              "      <td>73.300011</td>\n",
              "      <td>0.959588</td>\n",
              "      <td>0.093426</td>\n",
              "      <td>0.270028</td>\n",
              "      <td>2.430343</td>\n",
              "      <td>1.543455</td>\n",
              "      <td>1.108088</td>\n",
              "      <td>0.781768</td>\n",
              "      <td>0.703135</td>\n",
              "      <td>0.248919</td>\n",
              "      <td>0.426839</td>\n",
              "      <td>2.580301</td>\n",
              "    </tr>\n",
              "    <tr>\n",
              "      <th>6</th>\n",
              "      <td>Sweden</td>\n",
              "      <td>Western Europe</td>\n",
              "      <td>7.3627</td>\n",
              "      <td>0.035700</td>\n",
              "      <td>7.432671</td>\n",
              "      <td>7.292729</td>\n",
              "      <td>10.866995</td>\n",
              "      <td>0.933805</td>\n",
              "      <td>72.700050</td>\n",
              "      <td>0.944604</td>\n",
              "      <td>0.086223</td>\n",
              "      <td>0.237460</td>\n",
              "      <td>2.430343</td>\n",
              "      <td>1.478426</td>\n",
              "      <td>1.061588</td>\n",
              "      <td>0.762872</td>\n",
              "      <td>0.684902</td>\n",
              "      <td>0.244220</td>\n",
              "      <td>0.447608</td>\n",
              "      <td>2.683093</td>\n",
              "    </tr>\n",
              "    <tr>\n",
              "      <th>7</th>\n",
              "      <td>Luxembourg</td>\n",
              "      <td>Western Europe</td>\n",
              "      <td>7.3244</td>\n",
              "      <td>0.036685</td>\n",
              "      <td>7.396303</td>\n",
              "      <td>7.252497</td>\n",
              "      <td>11.646564</td>\n",
              "      <td>0.907790</td>\n",
              "      <td>72.599998</td>\n",
              "      <td>0.907180</td>\n",
              "      <td>-0.033566</td>\n",
              "      <td>0.386419</td>\n",
              "      <td>2.430343</td>\n",
              "      <td>1.750786</td>\n",
              "      <td>1.002978</td>\n",
              "      <td>0.759721</td>\n",
              "      <td>0.639363</td>\n",
              "      <td>0.166077</td>\n",
              "      <td>0.352614</td>\n",
              "      <td>2.652866</td>\n",
              "    </tr>\n",
              "    <tr>\n",
              "      <th>8</th>\n",
              "      <td>New Zealand</td>\n",
              "      <td>North America and ANZ</td>\n",
              "      <td>7.2766</td>\n",
              "      <td>0.040186</td>\n",
              "      <td>7.355364</td>\n",
              "      <td>7.197836</td>\n",
              "      <td>10.642713</td>\n",
              "      <td>0.948148</td>\n",
              "      <td>73.400146</td>\n",
              "      <td>0.928580</td>\n",
              "      <td>0.134256</td>\n",
              "      <td>0.241641</td>\n",
              "      <td>2.430343</td>\n",
              "      <td>1.400068</td>\n",
              "      <td>1.093900</td>\n",
              "      <td>0.784921</td>\n",
              "      <td>0.665403</td>\n",
              "      <td>0.275554</td>\n",
              "      <td>0.444942</td>\n",
              "      <td>2.611801</td>\n",
              "    </tr>\n",
              "    <tr>\n",
              "      <th>9</th>\n",
              "      <td>Austria</td>\n",
              "      <td>Western Europe</td>\n",
              "      <td>7.2678</td>\n",
              "      <td>0.035523</td>\n",
              "      <td>7.337424</td>\n",
              "      <td>7.198175</td>\n",
              "      <td>10.906316</td>\n",
              "      <td>0.934176</td>\n",
              "      <td>73.299721</td>\n",
              "      <td>0.907691</td>\n",
              "      <td>0.041568</td>\n",
              "      <td>0.481378</td>\n",
              "      <td>2.430343</td>\n",
              "      <td>1.492164</td>\n",
              "      <td>1.062423</td>\n",
              "      <td>0.781758</td>\n",
              "      <td>0.639984</td>\n",
              "      <td>0.215090</td>\n",
              "      <td>0.292056</td>\n",
              "      <td>2.784285</td>\n",
              "    </tr>\n",
              "  </tbody>\n",
              "</table>\n",
              "</div>"
            ],
            "text/plain": [
              "  Country name  ... Dystopia + residual\n",
              "0      Finland  ...            3.253415\n",
              "1      Denmark  ...            2.868296\n",
              "2  Switzerland  ...            2.839148\n",
              "3      Iceland  ...            2.966945\n",
              "4  Netherlands  ...            2.797818\n",
              "5       Norway  ...            2.580301\n",
              "6       Sweden  ...            2.683093\n",
              "7   Luxembourg  ...            2.652866\n",
              "8  New Zealand  ...            2.611801\n",
              "9      Austria  ...            2.784285\n",
              "\n",
              "[10 rows x 20 columns]"
            ]
          },
          "metadata": {
            "tags": []
          },
          "execution_count": 19
        }
      ]
    },
    {
      "cell_type": "code",
      "metadata": {
        "colab": {
          "base_uri": "https://localhost:8080/"
        },
        "id": "lIyNnyQQH1KD",
        "outputId": "1f6c3829-3d5b-4683-b927-94da18015ff1"
      },
      "source": [
        "df_2021[:10].groupby(\"Regional indicator\")[\"Regional indicator\"].count()"
      ],
      "execution_count": 27,
      "outputs": [
        {
          "output_type": "execute_result",
          "data": {
            "text/plain": [
              "Regional indicator\n",
              "North America and ANZ    1\n",
              "Western Europe           9\n",
              "Name: Regional indicator, dtype: int64"
            ]
          },
          "metadata": {
            "tags": []
          },
          "execution_count": 27
        }
      ]
    },
    {
      "cell_type": "code",
      "metadata": {
        "colab": {
          "base_uri": "https://localhost:8080/"
        },
        "id": "a10als95Zj5Y",
        "outputId": "e79f3a9e-66fe-4dbd-d72d-95967103258c"
      },
      "source": [
        "# O pandas possui várias alternativas para fazer a mesma operação. Uma alternativa para gerar a contagem de valores acima é:\n",
        "\n",
        "df_2021[:10][\"Regional indicator\"].value_counts()"
      ],
      "execution_count": 44,
      "outputs": [
        {
          "output_type": "execute_result",
          "data": {
            "text/plain": [
              "Western Europe           9\n",
              "North America and ANZ    1\n",
              "Name: Regional indicator, dtype: int64"
            ]
          },
          "metadata": {
            "tags": []
          },
          "execution_count": 44
        }
      ]
    },
    {
      "cell_type": "code",
      "metadata": {
        "colab": {
          "base_uri": "https://localhost:8080/",
          "height": 248
        },
        "id": "Q-7h1lA9Kphl",
        "outputId": "ff4c29e8-b15c-42a0-aae3-036fb6421d64"
      },
      "source": [
        "top10 = df_2021[:10].groupby(\"Regional indicator\")[\"Regional indicator\"].count()\n",
        "ax = top10.plot.pie(autopct='%1.0f%%')\n",
        "ax.set(xlabel='', ylabel='')\n",
        "plt.show();"
      ],
      "execution_count": 41,
      "outputs": [
        {
          "output_type": "display_data",
          "data": {
            "image/png": "[encoded data removed]",
            "text/plain": [
              "<Figure size 432x288 with 1 Axes>"
            ]
          },
          "metadata": {
            "tags": []
          }
        }
      ]
    },
    {
      "cell_type": "markdown",
      "metadata": {
        "id": "8spBeFomZAnx"
      },
      "source": [
        "### Piores 10 Países"
      ]
    },
    {
      "cell_type": "code",
      "metadata": {
        "colab": {
          "base_uri": "https://localhost:8080/",
          "height": 804
        },
        "id": "3daZA9myY4Y5",
        "outputId": "72df7b5b-681c-407b-d61b-1b0951c5a2e4"
      },
      "source": [
        "df_2021[-10:]"
      ],
      "execution_count": 34,
      "outputs": [
        {
          "output_type": "execute_result",
          "data": {
            "text/html": [
              "<div>\n",
              "<style scoped>\n",
              "    .dataframe tbody tr th:only-of-type {\n",
              "        vertical-align: middle;\n",
              "    }\n",
              "\n",
              "    .dataframe tbody tr th {\n",
              "        vertical-align: top;\n",
              "    }\n",
              "\n",
              "    .dataframe thead th {\n",
              "        text-align: right;\n",
              "    }\n",
              "</style>\n",
              "<table border=\"1\" class=\"dataframe\">\n",
              "  <thead>\n",
              "    <tr style=\"text-align: right;\">\n",
              "      <th></th>\n",
              "      <th>Country name</th>\n",
              "      <th>Regional indicator</th>\n",
              "      <th>Ladder score</th>\n",
              "      <th>Standard error of ladder score</th>\n",
              "      <th>upperwhisker</th>\n",
              "      <th>lowerwhisker</th>\n",
              "      <th>Logged GDP per capita</th>\n",
              "      <th>Social support</th>\n",
              "      <th>Healthy life expectancy</th>\n",
              "      <th>Freedom to make life choices</th>\n",
              "      <th>Generosity</th>\n",
              "      <th>Perceptions of corruption</th>\n",
              "      <th>Ladder score in Dystopia</th>\n",
              "      <th>Explained by: Log GDP per capita</th>\n",
              "      <th>Explained by: Social support</th>\n",
              "      <th>Explained by: Healthy life expectancy</th>\n",
              "      <th>Explained by: Freedom to make life choices</th>\n",
              "      <th>Explained by: Generosity</th>\n",
              "      <th>Explained by: Perceptions of corruption</th>\n",
              "      <th>Dystopia + residual</th>\n",
              "    </tr>\n",
              "  </thead>\n",
              "  <tbody>\n",
              "    <tr>\n",
              "      <th>139</th>\n",
              "      <td>Burundi</td>\n",
              "      <td>Sub-Saharan Africa</td>\n",
              "      <td>3.7753</td>\n",
              "      <td>0.107122</td>\n",
              "      <td>3.985260</td>\n",
              "      <td>3.565340</td>\n",
              "      <td>6.635322</td>\n",
              "      <td>0.490326</td>\n",
              "      <td>53.400002</td>\n",
              "      <td>0.626350</td>\n",
              "      <td>-0.023876</td>\n",
              "      <td>0.606935</td>\n",
              "      <td>2.430343</td>\n",
              "      <td>0.000000</td>\n",
              "      <td>0.062473</td>\n",
              "      <td>0.155018</td>\n",
              "      <td>0.297640</td>\n",
              "      <td>0.172398</td>\n",
              "      <td>0.211985</td>\n",
              "      <td>2.875769</td>\n",
              "    </tr>\n",
              "    <tr>\n",
              "      <th>140</th>\n",
              "      <td>Yemen</td>\n",
              "      <td>Middle East and North Africa</td>\n",
              "      <td>3.6579</td>\n",
              "      <td>0.069600</td>\n",
              "      <td>3.794316</td>\n",
              "      <td>3.521484</td>\n",
              "      <td>7.578437</td>\n",
              "      <td>0.831537</td>\n",
              "      <td>57.121571</td>\n",
              "      <td>0.602157</td>\n",
              "      <td>-0.146712</td>\n",
              "      <td>0.800288</td>\n",
              "      <td>2.430343</td>\n",
              "      <td>0.329497</td>\n",
              "      <td>0.831189</td>\n",
              "      <td>0.272229</td>\n",
              "      <td>0.268200</td>\n",
              "      <td>0.092267</td>\n",
              "      <td>0.088679</td>\n",
              "      <td>1.775873</td>\n",
              "    </tr>\n",
              "    <tr>\n",
              "      <th>141</th>\n",
              "      <td>Tanzania</td>\n",
              "      <td>Sub-Saharan Africa</td>\n",
              "      <td>3.6232</td>\n",
              "      <td>0.070709</td>\n",
              "      <td>3.761789</td>\n",
              "      <td>3.484611</td>\n",
              "      <td>7.875572</td>\n",
              "      <td>0.702071</td>\n",
              "      <td>57.998993</td>\n",
              "      <td>0.833137</td>\n",
              "      <td>0.183150</td>\n",
              "      <td>0.576986</td>\n",
              "      <td>2.430343</td>\n",
              "      <td>0.433308</td>\n",
              "      <td>0.539514</td>\n",
              "      <td>0.299863</td>\n",
              "      <td>0.549264</td>\n",
              "      <td>0.307449</td>\n",
              "      <td>0.231084</td>\n",
              "      <td>1.262726</td>\n",
              "    </tr>\n",
              "    <tr>\n",
              "      <th>142</th>\n",
              "      <td>Haiti</td>\n",
              "      <td>Latin America and Caribbean</td>\n",
              "      <td>3.6149</td>\n",
              "      <td>0.172664</td>\n",
              "      <td>3.953322</td>\n",
              "      <td>3.276479</td>\n",
              "      <td>7.477138</td>\n",
              "      <td>0.539504</td>\n",
              "      <td>55.700001</td>\n",
              "      <td>0.593356</td>\n",
              "      <td>0.421520</td>\n",
              "      <td>0.721049</td>\n",
              "      <td>2.430343</td>\n",
              "      <td>0.294107</td>\n",
              "      <td>0.173267</td>\n",
              "      <td>0.227456</td>\n",
              "      <td>0.257491</td>\n",
              "      <td>0.462948</td>\n",
              "      <td>0.139211</td>\n",
              "      <td>2.060448</td>\n",
              "    </tr>\n",
              "    <tr>\n",
              "      <th>143</th>\n",
              "      <td>Malawi</td>\n",
              "      <td>Sub-Saharan Africa</td>\n",
              "      <td>3.6000</td>\n",
              "      <td>0.092112</td>\n",
              "      <td>3.780540</td>\n",
              "      <td>3.419460</td>\n",
              "      <td>6.957525</td>\n",
              "      <td>0.536995</td>\n",
              "      <td>57.947525</td>\n",
              "      <td>0.779703</td>\n",
              "      <td>0.038402</td>\n",
              "      <td>0.729065</td>\n",
              "      <td>2.430343</td>\n",
              "      <td>0.112568</td>\n",
              "      <td>0.167614</td>\n",
              "      <td>0.298242</td>\n",
              "      <td>0.484245</td>\n",
              "      <td>0.213025</td>\n",
              "      <td>0.134099</td>\n",
              "      <td>2.190198</td>\n",
              "    </tr>\n",
              "    <tr>\n",
              "      <th>144</th>\n",
              "      <td>Lesotho</td>\n",
              "      <td>Sub-Saharan Africa</td>\n",
              "      <td>3.5118</td>\n",
              "      <td>0.120454</td>\n",
              "      <td>3.747890</td>\n",
              "      <td>3.275710</td>\n",
              "      <td>7.925777</td>\n",
              "      <td>0.786871</td>\n",
              "      <td>48.700001</td>\n",
              "      <td>0.714954</td>\n",
              "      <td>-0.130536</td>\n",
              "      <td>0.915377</td>\n",
              "      <td>2.430343</td>\n",
              "      <td>0.450848</td>\n",
              "      <td>0.730561</td>\n",
              "      <td>0.006992</td>\n",
              "      <td>0.405455</td>\n",
              "      <td>0.102819</td>\n",
              "      <td>0.015284</td>\n",
              "      <td>1.799821</td>\n",
              "    </tr>\n",
              "    <tr>\n",
              "      <th>145</th>\n",
              "      <td>Botswana</td>\n",
              "      <td>Sub-Saharan Africa</td>\n",
              "      <td>3.4665</td>\n",
              "      <td>0.073872</td>\n",
              "      <td>3.611289</td>\n",
              "      <td>3.321711</td>\n",
              "      <td>9.781536</td>\n",
              "      <td>0.784171</td>\n",
              "      <td>59.269188</td>\n",
              "      <td>0.824394</td>\n",
              "      <td>-0.246159</td>\n",
              "      <td>0.800619</td>\n",
              "      <td>2.430343</td>\n",
              "      <td>1.099198</td>\n",
              "      <td>0.724478</td>\n",
              "      <td>0.339868</td>\n",
              "      <td>0.538626</td>\n",
              "      <td>0.027394</td>\n",
              "      <td>0.088468</td>\n",
              "      <td>0.648460</td>\n",
              "    </tr>\n",
              "    <tr>\n",
              "      <th>146</th>\n",
              "      <td>Rwanda</td>\n",
              "      <td>Sub-Saharan Africa</td>\n",
              "      <td>3.4147</td>\n",
              "      <td>0.067830</td>\n",
              "      <td>3.547647</td>\n",
              "      <td>3.281753</td>\n",
              "      <td>7.676118</td>\n",
              "      <td>0.552339</td>\n",
              "      <td>61.399727</td>\n",
              "      <td>0.896758</td>\n",
              "      <td>0.060526</td>\n",
              "      <td>0.166801</td>\n",
              "      <td>2.430343</td>\n",
              "      <td>0.363624</td>\n",
              "      <td>0.202183</td>\n",
              "      <td>0.406969</td>\n",
              "      <td>0.626681</td>\n",
              "      <td>0.227457</td>\n",
              "      <td>0.492669</td>\n",
              "      <td>1.095149</td>\n",
              "    </tr>\n",
              "    <tr>\n",
              "      <th>147</th>\n",
              "      <td>Zimbabwe</td>\n",
              "      <td>Sub-Saharan Africa</td>\n",
              "      <td>3.1448</td>\n",
              "      <td>0.058443</td>\n",
              "      <td>3.259349</td>\n",
              "      <td>3.030251</td>\n",
              "      <td>7.942595</td>\n",
              "      <td>0.750470</td>\n",
              "      <td>56.200840</td>\n",
              "      <td>0.676700</td>\n",
              "      <td>-0.047346</td>\n",
              "      <td>0.820999</td>\n",
              "      <td>2.430343</td>\n",
              "      <td>0.456724</td>\n",
              "      <td>0.648552</td>\n",
              "      <td>0.243230</td>\n",
              "      <td>0.358907</td>\n",
              "      <td>0.157088</td>\n",
              "      <td>0.075471</td>\n",
              "      <td>1.204845</td>\n",
              "    </tr>\n",
              "    <tr>\n",
              "      <th>148</th>\n",
              "      <td>Afghanistan</td>\n",
              "      <td>South Asia</td>\n",
              "      <td>2.5229</td>\n",
              "      <td>0.037535</td>\n",
              "      <td>2.596468</td>\n",
              "      <td>2.449332</td>\n",
              "      <td>7.694710</td>\n",
              "      <td>0.462596</td>\n",
              "      <td>52.492615</td>\n",
              "      <td>0.381749</td>\n",
              "      <td>-0.101684</td>\n",
              "      <td>0.924338</td>\n",
              "      <td>2.430343</td>\n",
              "      <td>0.370120</td>\n",
              "      <td>0.000000</td>\n",
              "      <td>0.126440</td>\n",
              "      <td>0.000000</td>\n",
              "      <td>0.121641</td>\n",
              "      <td>0.009569</td>\n",
              "      <td>1.895141</td>\n",
              "    </tr>\n",
              "  </tbody>\n",
              "</table>\n",
              "</div>"
            ],
            "text/plain": [
              "    Country name  ... Dystopia + residual\n",
              "139      Burundi  ...            2.875769\n",
              "140        Yemen  ...            1.775873\n",
              "141     Tanzania  ...            1.262726\n",
              "142        Haiti  ...            2.060448\n",
              "143       Malawi  ...            2.190198\n",
              "144      Lesotho  ...            1.799821\n",
              "145     Botswana  ...            0.648460\n",
              "146       Rwanda  ...            1.095149\n",
              "147     Zimbabwe  ...            1.204845\n",
              "148  Afghanistan  ...            1.895141\n",
              "\n",
              "[10 rows x 20 columns]"
            ]
          },
          "metadata": {
            "tags": []
          },
          "execution_count": 34
        }
      ]
    },
    {
      "cell_type": "code",
      "metadata": {
        "colab": {
          "base_uri": "https://localhost:8080/"
        },
        "id": "QbIYX3A0ZJjR",
        "outputId": "7de160d0-882f-496b-ccc2-f955e6e211ce"
      },
      "source": [
        "df_2021[-10:].groupby(\"Regional indicator\")[\"Regional indicator\"].count()"
      ],
      "execution_count": 38,
      "outputs": [
        {
          "output_type": "execute_result",
          "data": {
            "text/plain": [
              "Regional indicator\n",
              "Latin America and Caribbean     1\n",
              "Middle East and North Africa    1\n",
              "South Asia                      1\n",
              "Sub-Saharan Africa              7\n",
              "Name: Regional indicator, dtype: int64"
            ]
          },
          "metadata": {
            "tags": []
          },
          "execution_count": 38
        }
      ]
    },
    {
      "cell_type": "code",
      "metadata": {
        "colab": {
          "base_uri": "https://localhost:8080/",
          "height": 248
        },
        "id": "nPe54gmDZWfY",
        "outputId": "08e299fe-437e-4738-8fcc-0ed65ef5e5ab"
      },
      "source": [
        "ultimos10 = df_2021[-10:].groupby(\"Regional indicator\")[\"Regional indicator\"].count()\n",
        "ax = ultimos10.plot.pie(autopct='%1.0f%%')\n",
        "ax.set(xlabel='', ylabel='')\n",
        "plt.show();"
      ],
      "execution_count": 40,
      "outputs": [
        {
          "output_type": "display_data",
          "data": {
            "image/png": "[encoded data removed]",
            "text/plain": [
              "<Figure size 432x288 with 1 Axes>"
            ]
          },
          "metadata": {
            "tags": []
          }
        }
      ]
    }
  ]
}