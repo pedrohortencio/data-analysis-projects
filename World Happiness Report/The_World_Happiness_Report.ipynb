{
  "nbformat": 4,
  "nbformat_minor": 0,
  "metadata": {
    "colab": {
      "name": "The World Happiness Report.ipynb",
      "provenance": [],
      "collapsed_sections": [],
      "authorship_tag": "ABX9TyOQdr0t251cPegi+UvgZ9BF",
      "include_colab_link": true
    },
    "kernelspec": {
      "name": "python3",
      "display_name": "Python 3"
    },
    "language_info": {
      "name": "python"
    }
  },
  "cells": [
    {
      "cell_type": "markdown",
      "metadata": {
        "id": "view-in-github",
        "colab_type": "text"
      },
      "source": [
        "<a href=\"https://colab.research.google.com/github/pedrohortencio/data-analysis-projects/blob/main/World%20Happiness%20Report/The_World_Happiness_Report.ipynb\" target=\"_parent\"><img src=\"https://colab.research.google.com/assets/colab-badge.svg\" alt=\"Open In Colab\"/></a>"
      ]
    },
    {
      "cell_type": "markdown",
      "metadata": {
        "id": "kVVE3vA6H3c3"
      },
      "source": [
        "# Sobre os Dados"
      ]
    },
    {
      "cell_type": "markdown",
      "metadata": {
        "id": "oXZLtwjkLsRU"
      },
      "source": [
        "![](https://olatorera.com/wp-content/uploads/2020/03/world-happiness-report.png)"
      ]
    },
    {
      "cell_type": "markdown",
      "metadata": {
        "id": "6mGXLuJkIGJG"
      },
      "source": [
        "Para exemplificar o uso do _pandas_ e suas funções, iremos utilizar os dados do relatório de felicidade global, feito com base em várias fontes e usado por alguns governos como guia de ações públicas.\n",
        "\n",
        "Serão duas tabelas (que vão ser convertidas em dataframe):\n",
        "\n",
        "* O relatório de 2021, com ranking.\n",
        "* O relatório com dados da série história, em alguns países com os indicadores de 2005 a 2020.\n",
        "\n",
        "Os dados podem ser obtidos de várias fontes confiáveis:\n",
        "\n",
        "* [Kaggle](https://www.kaggle.com/ajaypalsinghlo/world-happiness-report-2021?select=world-happiness-report.csv)\n",
        "* Do próprio site do [World Happiness Report](https://worldhappiness.report/ed/2021/#appendices-and-data), onde também é possível ler o relatório em formato PDF."
      ]
    },
    {
      "cell_type": "markdown",
      "metadata": {
        "id": "IF-LrDCNH5YY"
      },
      "source": [
        "# Importando Bibliotecas"
      ]
    },
    {
      "cell_type": "code",
      "metadata": {
        "id": "wHZzfHpBH8RF"
      },
      "source": [
        "import pandas as pd\n",
        "import numpy as np\n",
        "\n",
        "import matplotlib.pyplot as plt\n",
        "import seaborn as sns\n",
        "sns.set_theme()"
      ],
      "execution_count": null,
      "outputs": []
    },
    {
      "cell_type": "markdown",
      "metadata": {
        "id": "yETRUsLKH8VB"
      },
      "source": [
        "# Baixando os Dados"
      ]
    },
    {
      "cell_type": "code",
      "metadata": {
        "id": "CM6o5NTcH-JI"
      },
      "source": [
        "# O pandas é muito flexível. É possível criar dataframes inserindo apenas a URL do arquivo, sem a necessidade de baixar localmente.\n",
        "df_2021 = pd.read_excel(\"https://happiness-report.s3.amazonaws.com/2021/DataForFigure2.1WHR2021C2.xls\")\n",
        "df_hist = pd.read_excel(\"https://happiness-report.s3.amazonaws.com/2021/DataPanelWHR2021C2.xls\")"
      ],
      "execution_count": null,
      "outputs": []
    },
    {
      "cell_type": "markdown",
      "metadata": {
        "id": "tvRWmWPcZ4_r"
      },
      "source": [
        "# EDA"
      ]
    },
    {
      "cell_type": "markdown",
      "metadata": {
        "id": "ZeznU8HjNzQO"
      },
      "source": [
        "> Por hora, vamos focar no relatório de 2021."
      ]
    },
    {
      "cell_type": "code",
      "metadata": {
        "id": "ffizFWiGNzF0"
      },
      "source": [
        "# A primeira coisa a se fazer é checar o DataFrame para verificar:\n",
        "    # 1) Se a criação foi feita com sucesso. Se não, é necessário voltar ao comando pd.read_excel() e alterar os parâmetros\n",
        "    # 2) Como os dados estão organizados"
      ],
      "execution_count": null,
      "outputs": []
    },
    {
      "cell_type": "code",
      "metadata": {
        "id": "CB3GoLA8NzDd"
      },
      "source": [
        "# vamos, simplesmente, imprimir as 5 primeiras linhas\n",
        "df_2021.head()"
      ],
      "execution_count": null,
      "outputs": []
    },
    {
      "cell_type": "markdown",
      "metadata": {
        "id": "ys9OiKPtOoVc"
      },
      "source": [
        "> Nota-se que os dados estão ordenados com base nos valores da coluna _Ladder score_.\n",
        "\n",
        "Vamos checar os últimos valores do DataFrame:"
      ]
    },
    {
      "cell_type": "code",
      "metadata": {
        "id": "hBDr0ZM0Owj8"
      },
      "source": [
        "df_2021.tail()"
      ],
      "execution_count": null,
      "outputs": []
    },
    {
      "cell_type": "code",
      "metadata": {
        "id": "JNudoSBHXhSr"
      },
      "source": [
        "# Vamos ver o tamanho do dataset\n",
        "df_2021.shape"
      ],
      "execution_count": null,
      "outputs": []
    },
    {
      "cell_type": "markdown",
      "metadata": {
        "id": "ENRBG2_tZ00Y"
      },
      "source": [
        "### Investigando as Colunas"
      ]
    },
    {
      "cell_type": "markdown",
      "metadata": {
        "id": "v2v_qX1wO0Rk"
      },
      "source": [
        "> Sempre é uma boa ideia verificar as colunas e entender qual o dado de cada uma:"
      ]
    },
    {
      "cell_type": "code",
      "metadata": {
        "id": "iMG3nS5tPFlm"
      },
      "source": [
        "# Podemos fazer isso assim:\n",
        "df_2021.columns"
      ],
      "execution_count": null,
      "outputs": []
    },
    {
      "cell_type": "code",
      "metadata": {
        "id": "JA4vcqtmOoJk"
      },
      "source": [
        "# Mas um jeito melhor é:\n",
        "df_2021.dtypes"
      ],
      "execution_count": null,
      "outputs": []
    },
    {
      "cell_type": "code",
      "metadata": {
        "id": "YvT2_5mVa0xg"
      },
      "source": [
        "# E há um outro jeito, que mostra ainda mais informações:\n",
        "df_2021.info()"
      ],
      "execution_count": null,
      "outputs": []
    },
    {
      "cell_type": "markdown",
      "metadata": {
        "id": "itJ0wKmLPZ-M"
      },
      "source": [
        "Hora de consultar a documentação para entender alguns pontos-chave:\n",
        "\n",
        "* Ladder score: _\"[...] This is called the Cantril ladder: it asks respondents to think of a ladder, with the best possible life for them being a 10, and the worst possible life being a 0. They are then asked to rate their own current lives on that 0 to 10 scale.\"_\n",
        "\n",
        "* Dystopia: _a hypothetical country that has values equal to the world’s lowest national averages for each of the six factors (levels of GDP, life expectancy, generosity, social support, freedom, and corruption)_\n",
        "\n",
        "* Colunas com \"Explained by\": são valores corrigidos, pois continham _missing values_, especialmente nas colunas relacionadas a dados de corrupção. A explicação oficial:\n",
        "\n",
        "_We do not make use of any imputed missing values in our rankings of happiness and\n",
        "its supporting factors. The only place where we make use of imputation is when\n",
        "we try to decompose a country’s average ladder score into components explained by\n",
        "six hypothesized underlying determinants (GDP per person, healthy life expectancy,\n",
        "social support, perceived freedom to make life choice, generosity and perception of\n",
        "corruption). A small number of countries have missing values in one or more of these\n",
        "factors. The most prominent is about the perception of corruption in businesses\n",
        "and governments. In several countries, the relevant questions were not asked in\n",
        "the Gallup World Poll. For these countries we impute the missing values using the\n",
        "“control of corruption” indicator from the Worldwide Governance Indicators (WGI)\n",
        "project._ [WHR Statistical Appendix 1 - PDF](https://happiness-report.s3.amazonaws.com/2021/Appendix1WHR2021C2.pdf)\n",
        "\n",
        "* Residuals: _The residuals, or unexplained components, differ for each country, reflecting the extent to which the six variables either over- or under-explain average 2018-2020 life evaluations. These residuals have an average value of approximately zero over the whole set of countries. The difference between what is attributed to the six factors and the total life evaluations is the sum of two parts. These are the average life evaluations in Dystopia, and each country’s residual._ \n"
      ]
    },
    {
      "cell_type": "markdown",
      "metadata": {
        "id": "ZIhVLukAQ-JM"
      },
      "source": [
        "--------------\n",
        "* Upper whisker and Lower whisker: tem relação com estatística. Ver abaixo.\n",
        "\n",
        "Todo [boxplot](https://en.wikipedia.org/wiki/Box_plot) (diagrama de caixa) possui retas que se extendem em ambos os lados, chamadas de _whisker_ (ou simplesmente retas ou fios de bigode). Eles indicam a variação fora do quartil superior e do quartil inferior.\n",
        "\n",
        "_O que é um quartil?_\n",
        "\n",
        "É simplesmente uma divisão dos dados seguindo uma distribuição estatística. Cada quartil tem, usualmente, 25% dos dados. No caso da distribuição chamada de _bell curve_ (gaussiana/normal), os quartis são os seguintes:\n",
        "\n",
        "![](https://www.researchgate.net/publication/324532937/figure/fig2/AS:615815585992705@1523833285991/Relationship-of-quartiles-and-inter-quartile-range-Legends-Q-1-first-quartile-Q-3.png)\n",
        "\n",
        "![](https://www.simplypsychology.org/boxplot.jpg)\n",
        "\n",
        "_OK. O que os whisker indicam?_\n",
        "\n",
        "_In summary, if there are no individual data points plotted, the whiskers indicate data’s minimum and maximum. If there are individual data points plotted, the whiskers indicate the largest/lowest points inside the range defined by 1st or 3rd quartile plus 1.5 times IQR (interquartile range)._ [Fonte](https://muse.union.edu/dvorakt/what-drives-the-length-of-whiskers-in-a-box-plot/)"
      ]
    },
    {
      "cell_type": "markdown",
      "metadata": {
        "id": "YOwJva0UY-J4"
      },
      "source": [
        "### Melhores 10 Países"
      ]
    },
    {
      "cell_type": "code",
      "metadata": {
        "id": "VfXraIdvNzA9"
      },
      "source": [
        "df_2021[:10]"
      ],
      "execution_count": null,
      "outputs": []
    },
    {
      "cell_type": "code",
      "metadata": {
        "id": "lIyNnyQQH1KD"
      },
      "source": [
        "df_2021[:10].groupby(\"Regional indicator\")[\"Regional indicator\"].count()"
      ],
      "execution_count": null,
      "outputs": []
    },
    {
      "cell_type": "code",
      "metadata": {
        "id": "a10als95Zj5Y"
      },
      "source": [
        "# O pandas possui várias alternativas para fazer a mesma operação. Uma alternativa para gerar a contagem de valores acima é:\n",
        "\n",
        "df_2021[:10][\"Regional indicator\"].value_counts()"
      ],
      "execution_count": null,
      "outputs": []
    },
    {
      "cell_type": "code",
      "metadata": {
        "id": "Q-7h1lA9Kphl"
      },
      "source": [
        "top10 = df_2021[:10].groupby(\"Regional indicator\")[\"Regional indicator\"].count()\n",
        "ax = top10.plot.pie(autopct='%1.0f%%')\n",
        "ax.set(xlabel='', ylabel='')\n",
        "plt.show();"
      ],
      "execution_count": null,
      "outputs": []
    },
    {
      "cell_type": "markdown",
      "metadata": {
        "id": "8spBeFomZAnx"
      },
      "source": [
        "### Piores 10 Países"
      ]
    },
    {
      "cell_type": "code",
      "metadata": {
        "id": "3daZA9myY4Y5"
      },
      "source": [
        "df_2021[-10:]"
      ],
      "execution_count": null,
      "outputs": []
    },
    {
      "cell_type": "code",
      "metadata": {
        "id": "QbIYX3A0ZJjR"
      },
      "source": [
        "df_2021[-10:].groupby(\"Regional indicator\")[\"Regional indicator\"].count()"
      ],
      "execution_count": null,
      "outputs": []
    },
    {
      "cell_type": "code",
      "metadata": {
        "id": "nPe54gmDZWfY"
      },
      "source": [
        "ultimos10 = df_2021[-10:].groupby(\"Regional indicator\")[\"Regional indicator\"].count()\n",
        "ax = ultimos10.plot.pie(autopct='%1.0f%%')\n",
        "ax.set(xlabel='', ylabel='')\n",
        "plt.show();"
      ],
      "execution_count": null,
      "outputs": []
    },
    {
      "cell_type": "markdown",
      "metadata": {
        "id": "yLbNAvVIaOTA"
      },
      "source": [
        "> M.O.:\n",
        "1. Filtrar os dados\n",
        "2. Procurar padrões\n",
        "3. Plotar\n",
        "4. Investigar correlações"
      ]
    },
    {
      "cell_type": "markdown",
      "metadata": {
        "id": "MrYdSismaXfX"
      },
      "source": [
        "## Investigando as Colunas PT2"
      ]
    },
    {
      "cell_type": "code",
      "metadata": {
        "id": "yjZmgxVEaX5X"
      },
      "source": [
        "df_2021.head(2)"
      ],
      "execution_count": null,
      "outputs": []
    },
    {
      "cell_type": "code",
      "metadata": {
        "id": "T1u8-_lZafG4"
      },
      "source": [
        "df_2021[\"Ladder score\"].describe()"
      ],
      "execution_count": null,
      "outputs": []
    },
    {
      "cell_type": "code",
      "metadata": {
        "id": "ujpOMMIDaomv"
      },
      "source": [
        "df_2021.describe()"
      ],
      "execution_count": null,
      "outputs": []
    },
    {
      "cell_type": "code",
      "metadata": {
        "id": "NGJN4DsoaJCG"
      },
      "source": [
        "df_2021.head(2)"
      ],
      "execution_count": null,
      "outputs": []
    },
    {
      "cell_type": "code",
      "metadata": {
        "id": "2cwgamAqaGkv"
      },
      "source": [
        "df_2021[df_2021['Country name'] == 'Brazil']"
      ],
      "execution_count": null,
      "outputs": []
    },
    {
      "cell_type": "code",
      "metadata": {
        "id": "xTaGEKl3aP9W"
      },
      "source": [
        "df_2021.loc[df_2021['Country name'] == 'Brazil', ]"
      ],
      "execution_count": null,
      "outputs": []
    },
    {
      "cell_type": "code",
      "metadata": {
        "id": "ol6tKePVai83"
      },
      "source": [
        "plt.bar(x=df_2021[:40]['Country name'], height=df_2021[:40]['Ladder score']);"
      ],
      "execution_count": null,
      "outputs": []
    },
    {
      "cell_type": "code",
      "metadata": {
        "id": "XTHOVOZSbrTD"
      },
      "source": [
        "fig = plt.figure(figsize=(18, 9))\n",
        "fig.patch.set_facecolor('#eaeaf2')\n",
        "\n",
        "ax = plt.bar(x=df_2021[:40]['Country name'], height=df_2021[:40]['Ladder score'])\n",
        "\n",
        "plt.box(False)\n",
        "plt.show();"
      ],
      "execution_count": null,
      "outputs": []
    },
    {
      "cell_type": "code",
      "metadata": {
        "id": "B5HpyI5cc7RR"
      },
      "source": [
        "fig = plt.figure(figsize=(18, 9))\n",
        "fig.patch.set_facecolor('#eaeaf2')\n",
        "\n",
        "ax = plt.bar(x=df_2021[:40]['Country name'], height=df_2021[:40]['Ladder score'])\n",
        "\n",
        "plt.xticks(rotation=30, rotation_mode=\"anchor\", ha='right')\n",
        "\n",
        "plt.box(False)\n",
        "\n",
        "plt.show();"
      ],
      "execution_count": null,
      "outputs": []
    },
    {
      "cell_type": "code",
      "metadata": {
        "id": "O2pv1pmvdYQl"
      },
      "source": [
        "fig = plt.figure(figsize=(18, 9))\n",
        "fig.patch.set_facecolor('#eaeaf2')\n",
        "\n",
        "\n",
        "ax = plt.gca()\n",
        "plot = ax.bar(x=df_2021[:40]['Country name'], height=df_2021[:40]['Ladder score'])\n",
        "\n",
        "\n",
        "\n",
        "for r1 in plot.patches:\n",
        "    h1 = r1.get_height()\n",
        "\n",
        "    ax.annotate('{:.1f}'.format(h1),\n",
        "                    xy=(r1.get_x() + r1.get_width() / 2, h1),\n",
        "                    xytext=(0, 3),\n",
        "                    textcoords=\"offset points\",\n",
        "                    ha='center', va='bottom')\n",
        "\n",
        "plt.xticks(rotation=30, rotation_mode=\"anchor\", ha='right')\n",
        "\n",
        "plt.box(False)\n",
        "\n",
        "plt.show();"
      ],
      "execution_count": null,
      "outputs": []
    },
    {
      "cell_type": "code",
      "metadata": {
        "id": "cWLKe1T4d7Mt"
      },
      "source": [
        "fig = plt.figure(figsize=(18, 9))\n",
        "fig.patch.set_facecolor('#eaeaf2')\n",
        "\n",
        "\n",
        "ax = plt.gca()\n",
        "plot = ax.bar(x=df_2021[:40]['Country name'], height=df_2021[:40]['Ladder score'])\n",
        "\n",
        "\n",
        "\n",
        "for r1 in plot.patches:\n",
        "    h1 = r1.get_height()\n",
        "\n",
        "    ax.annotate('{:.1f}'.format(h1),\n",
        "                    xy=(r1.get_x() + r1.get_width() / 2, h1),\n",
        "                    xytext=(0, 3),\n",
        "                    textcoords=\"offset points\",\n",
        "                    ha='center', va='bottom')\n",
        "\n",
        "plt.xticks(rotation=30, rotation_mode=\"anchor\", ha='right')\n",
        "\n",
        "plt.box(False)\n",
        "ax.set_yticks([])\n",
        "ax.grid(False)\n",
        "\n",
        "plt.show();"
      ],
      "execution_count": null,
      "outputs": []
    },
    {
      "cell_type": "code",
      "metadata": {
        "id": "5nfUsG3HeDIV"
      },
      "source": [
        "fig = plt.figure(figsize=(18, 9))\n",
        "fig.patch.set_facecolor('#eaeaf2')\n",
        "\n",
        "\n",
        "ax = plt.gca()\n",
        "plot = ax.bar(x=df_2021[:40]['Country name'], height=df_2021[:40]['Ladder score'], color = sns.color_palette(\"ch:start=.2,rot=-.3_r\", n_colors=41))\n",
        "\n",
        "\n",
        "\n",
        "for r1 in plot.patches:\n",
        "    h1 = r1.get_height()\n",
        "\n",
        "    ax.annotate('{:.1f}'.format(h1),\n",
        "                    xy=(r1.get_x() + r1.get_width() / 2, h1),\n",
        "                    xytext=(0, 3),\n",
        "                    textcoords=\"offset points\",\n",
        "                    ha='center', va='bottom')\n",
        "\n",
        "plt.xticks(rotation=30, rotation_mode=\"anchor\", ha='right')\n",
        "\n",
        "plt.box(False)\n",
        "ax.set_yticks([])\n",
        "ax.grid(False)\n",
        "\n",
        "plt.show();"
      ],
      "execution_count": null,
      "outputs": []
    },
    {
      "cell_type": "code",
      "metadata": {
        "id": "e7DAy3cNexzl"
      },
      "source": [
        "fig = plt.figure(figsize=(18, 9))\n",
        "fig.patch.set_facecolor('#eaeaf2')\n",
        "\n",
        "\n",
        "ax = plt.gca()\n",
        "plot = ax.bar(x=df_2021[:40]['Country name'], height=df_2021[:40]['Ladder score'], color = sns.color_palette(\"ch:start=.5,rot=-.75\", n_colors=41))\n",
        "\n",
        "\n",
        "\n",
        "for r1 in plot.patches:\n",
        "    h1 = r1.get_height()\n",
        "\n",
        "    ax.annotate('{:.1f}'.format(h1),\n",
        "                    xy=(r1.get_x() + r1.get_width() / 2, h1),\n",
        "                    xytext=(0, 3),\n",
        "                    textcoords=\"offset points\",\n",
        "                    ha='center', va='bottom')\n",
        "\n",
        "plt.xticks(rotation=30, rotation_mode=\"anchor\", ha='right')\n",
        "\n",
        "plt.box(False)\n",
        "ax.set_yticks([])\n",
        "ax.grid(False)\n",
        "\n",
        "plt.title('40 Primeiros Países no World Happiness Report', size=22, alpha=0.8, y=1.02)\n",
        "\n",
        "plt.show();"
      ],
      "execution_count": null,
      "outputs": []
    },
    {
      "cell_type": "markdown",
      "metadata": {
        "id": "XhY-JTbqbGw_"
      },
      "source": [
        "### Boas Investigações Precisam de Plots"
      ]
    },
    {
      "cell_type": "code",
      "metadata": {
        "id": "XcenQBBfZPpu"
      },
      "source": [
        "df_hist.head()"
      ],
      "execution_count": null,
      "outputs": []
    },
    {
      "cell_type": "code",
      "metadata": {
        "id": "JSmVQnSoZMe4"
      },
      "source": [
        "df_hist.query(\"year == 2008\")['Log GDP per capita']"
      ],
      "execution_count": null,
      "outputs": []
    },
    {
      "cell_type": "code",
      "metadata": {
        "id": "V2hpSHg1bxOw"
      },
      "source": [
        "fig = plt.figure(figsize = (16, 18))\n",
        "\n",
        "plt.subplot(321)\n",
        "sns.set_style(\"white\")\n",
        "plt.title('GDP per capita', size = 17, y = 1.03, fontname = 'serif')\n",
        "plt.grid(color = 'gray', linestyle = ':', axis = 'x', alpha = 0.8, zorder = 0,  dashes = (1,7))\n",
        "a = sns.kdeplot(df_hist.query(\"year == 2008\")['Log GDP per capita'], color = '#347373', shade = True, label = '2008', alpha = 0.7)\n",
        "plt.axvline(df_hist.query(\"year == 2008\")['Log GDP per capita'].mean(), linestyle = '--', color = '#347373')\n",
        "sns.kdeplot(df_hist.query(\"year == 2020\")['Log GDP per capita'], color = '#2D3033', shade = True, label = '2020', alpha = 0.7)\n",
        "plt.axvline(df_hist.query(\"year == 2020\")['Log GDP per capita'].mean(), linestyle = '--', color = '#2D3033')\n",
        "plt.ylabel('')\n",
        "plt.xlabel('')\n",
        "plt.xticks(fontname = 'serif')\n",
        "plt.yticks([])\n",
        "plt.legend(['Mean', 'Mean', '2008', '2020'], bbox_to_anchor = (1.4, 1.2), ncol = 2, borderpad = 3, frameon = False, fontsize = 11)\n",
        "\n",
        "plt.subplot(322)\n",
        "plt.title('Social support', size = 17, y = 1.03, fontname = 'serif')\n",
        "plt.grid(color = 'gray', linestyle = ':', axis = 'x', alpha = 0.8, zorder = 0,  dashes = (1,7))\n",
        "b = sns.kdeplot(df_hist.query(\"year == 2008\")['Social support'], color = '#347373', shade = True, alpha = 0.7)\n",
        "plt.axvline(df_hist.query(\"year == 2008\")['Social support'].mean(), linestyle = '--', color = '#347373')\n",
        "sns.kdeplot(df_hist.query(\"year == 2020\")['Social support'], color = '#2D3033', shade = True, alpha = 0.7)\n",
        "plt.axvline(df_hist.query(\"year == 2020\")['Social support'].mean(), linestyle = '--', color = '#2D3033')\n",
        "plt.ylabel('')\n",
        "plt.xlabel('')\n",
        "plt.xticks(fontname = 'serif')\n",
        "plt.yticks([])\n",
        "\n",
        "plt.subplot(323)\n",
        "plt.title('Life expectancy', size = 17, y = 1.03, fontname = 'serif')\n",
        "plt.grid(color = 'gray', linestyle = ':', axis = 'x', alpha = 0.8, zorder = 0,  dashes = (1,7))\n",
        "t = sns.kdeplot(df_hist.query(\"year == 2008\")['Healthy life expectancy at birth'], color = '#347373', shade = True, alpha = 0.7)\n",
        "plt.axvline(df_hist.query(\"year == 2008\")['Healthy life expectancy at birth'].mean(), linestyle = '--', color = '#347373')\n",
        "sns.kdeplot(df_hist.query(\"year == 2020\")['Healthy life expectancy at birth'], color = '#2D3033', shade = True, alpha = 0.7)\n",
        "plt.axvline(df_hist.query(\"year == 2020\")['Healthy life expectancy at birth'].mean(), linestyle = '--', color = '#2D3033')\n",
        "plt.ylabel('')\n",
        "plt.xlabel('')\n",
        "plt.xticks(fontname = 'serif')\n",
        "plt.yticks([])\n",
        "\n",
        "plt.subplot(324)\n",
        "plt.title('Freedom', size = 17, y = 1.03, fontname = 'serif')\n",
        "plt.grid(color = 'gray', linestyle = ':', axis = 'x', alpha = 0.8, zorder = 0,  dashes = (1,7))\n",
        "d = sns.kdeplot(df_hist.query(\"year == 2008\")['Freedom to make life choices'], color = '#347373', shade = True, alpha = 0.7)\n",
        "plt.axvline(df_hist.query(\"year == 2008\")['Freedom to make life choices'].mean(), linestyle = '--', color = '#347373')\n",
        "sns.kdeplot(df_hist.query(\"year == 2020\")['Freedom to make life choices'], color = '#2D3033', shade = True, alpha = 0.7)\n",
        "plt.axvline(df_hist.query(\"year == 2020\")['Freedom to make life choices'].mean(), linestyle = '--', color = '#2D3033')\n",
        "plt.ylabel('')\n",
        "plt.xlabel('')\n",
        "plt.xticks(fontname = 'serif')\n",
        "plt.yticks([])\n",
        "\n",
        "plt.subplot(325)\n",
        "plt.title('Generosity', size = 17, y = 1.03, fontname = 'serif')\n",
        "plt.grid(color = 'gray', linestyle = ':', axis = 'x', alpha = 0.8, zorder = 0,  dashes = (1,7))\n",
        "e = sns.kdeplot(df_hist.query(\"year == 2008\")['Generosity'], color = '#347373', shade = True, alpha = 0.7)\n",
        "plt.axvline(df_hist.query(\"year == 2008\")['Generosity'].mean(), linestyle = '--', color = '#347373')\n",
        "sns.kdeplot(df_hist.query(\"year == 2020\")['Generosity'], color = '#2D3033', shade = True, alpha = 0.7)\n",
        "plt.axvline(df_hist.query(\"year == 2020\")['Generosity'].mean(), linestyle = '--', color = '#2D3033')\n",
        "plt.ylabel('')\n",
        "plt.xlabel('')\n",
        "plt.xticks(fontname = 'serif')\n",
        "plt.yticks([])\n",
        "\n",
        "plt.subplot(326)\n",
        "plt.title('Perceptions of corruption', size = 17, y = 1.03, fontname = 'serif')\n",
        "plt.grid(color = 'gray', linestyle = ':', axis = 'x', alpha = 0.8, zorder = 0,  dashes = (1,7))\n",
        "f = sns.kdeplot(df_hist.query(\"year == 2008\")['Perceptions of corruption'], color = '#347373', shade = True, alpha = 0.7)\n",
        "plt.axvline(df_hist.query(\"year == 2008\")['Perceptions of corruption'].mean(), linestyle = '--', color = '#347373')\n",
        "sns.kdeplot(df_hist.query(\"year == 2020\")['Perceptions of corruption'], color = '#2D3033', shade = True, alpha = 0.7)\n",
        "plt.axvline(df_hist.query(\"year == 2020\")['Perceptions of corruption'].mean(), linestyle = '--', color = '#2D3033')\n",
        "plt.ylabel('')\n",
        "plt.xlabel('')\n",
        "plt.xticks(fontname = 'serif')\n",
        "plt.yticks([])\n",
        "\n",
        "plt.figtext(0.2, 1.02, 'Global dynamics of all WHR metrics 2008-2020', fontsize = 30, fontname = 'serif')\n",
        "plt.figtext(0.01, 0.93, '+6.4%', fontsize = 18, fontname = 'serif')\n",
        "plt.figtext(0.93, 0.93, '+7.0%', fontsize = 18, fontname = 'serif')\n",
        "plt.figtext(0.01, 0.6, '+9.6%', fontsize = 18, fontname = 'serif')\n",
        "plt.figtext(0.92, 0.6, '+18.8%', fontsize = 18, fontname = 'serif')\n",
        "plt.figtext(0.01, 0.27, '-137.3%', fontsize = 18, fontname = 'serif')\n",
        "plt.figtext(0.94, 0.27, '-7.4%', fontsize = 18, fontname = 'serif')\n",
        "\n",
        "for i in [a,b,t,d,e,f]:\n",
        "    for j in ['right', 'left', 'top']:\n",
        "        i.spines[j].set_visible(False)\n",
        "        i.spines['bottom'].set_linewidth(1.5)\n",
        "        \n",
        "fig.tight_layout(h_pad = 3)\n",
        "\n",
        "plt.show()"
      ],
      "execution_count": null,
      "outputs": []
    }
  ]
}