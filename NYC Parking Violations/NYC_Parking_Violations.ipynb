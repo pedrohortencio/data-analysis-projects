{
  "nbformat": 4,
  "nbformat_minor": 0,
  "metadata": {
    "colab": {
      "name": "NYC Parking Violations.ipynb",
      "provenance": [],
      "collapsed_sections": [],
      "authorship_tag": "ABX9TyPupjEucrraUMzRM4yaM+c/",
      "include_colab_link": true
    },
    "kernelspec": {
      "display_name": "Python 3",
      "name": "python3"
    }
  },
  "cells": [
    {
      "cell_type": "markdown",
      "metadata": {
        "id": "view-in-github",
        "colab_type": "text"
      },
      "source": [
        "<a href=\"https://colab.research.google.com/github/pedrohortencio/data-analysis-projects/blob/main/NYC%20Parking%20Violations/NYC_Parking_Violations.ipynb\" target=\"_parent\"><img src=\"https://colab.research.google.com/assets/colab-badge.svg\" alt=\"Open In Colab\"/></a>"
      ]
    },
    {
      "cell_type": "markdown",
      "metadata": {
        "id": "jdiTFfxof4bt"
      },
      "source": [
        "[Full violations data from NYC Open Data](https://data.cityofnewyork.us/City-Government/Parking-Violations-Issued-Fiscal-Year-2021/pvqr-7yc4)\r\n",
        "\r\n",
        "[Raw .csv data (subset of 50,000 rows)](https://raw.githubusercontent.com/pedrohortencio/data-analysis-projects/main/NYC%20Parking%20Violations/violations.csv)\r\n",
        "\r\n",
        "\r\n",
        "[Original project](https://towardsdatascience.com/learn-python-data-analytics-by-example-ny-parking-violations-e1ce1847fa2)"
      ]
    },
    {
      "cell_type": "markdown",
      "metadata": {
        "id": "8tCa1_n3je5p"
      },
      "source": [
        "### Importing the data file"
      ]
    },
    {
      "cell_type": "code",
      "metadata": {
        "id": "OYvSErYTfXMm"
      },
      "source": [
        "import pandas as pd\r\n",
        "import numpy as np"
      ],
      "execution_count": 73,
      "outputs": []
    },
    {
      "cell_type": "code",
      "metadata": {
        "colab": {
          "base_uri": "https://localhost:8080/",
          "height": 462
        },
        "id": "Gz8KdOs7gIkd",
        "outputId": "fcd6105d-9088-4058-ef0c-1639dcc73f4d"
      },
      "source": [
        "url = 'https://raw.githubusercontent.com/pedrohortencio/data-analysis-projects/main/NYC%20Parking%20Violations/violations.csv'\r\n",
        "\r\n",
        "# Importing .csv from the URL\r\n",
        "df = pd.read_csv(url)\r\n",
        "df.head()"
      ],
      "execution_count": null,
      "outputs": [
        {
          "output_type": "execute_result",
          "data": {
            "text/html": [
              "<div>\n",
              "<style scoped>\n",
              "    .dataframe tbody tr th:only-of-type {\n",
              "        vertical-align: middle;\n",
              "    }\n",
              "\n",
              "    .dataframe tbody tr th {\n",
              "        vertical-align: top;\n",
              "    }\n",
              "\n",
              "    .dataframe thead th {\n",
              "        text-align: right;\n",
              "    }\n",
              "</style>\n",
              "<table border=\"1\" class=\"dataframe\">\n",
              "  <thead>\n",
              "    <tr style=\"text-align: right;\">\n",
              "      <th></th>\n",
              "      <th>Summons Number</th>\n",
              "      <th>Plate ID</th>\n",
              "      <th>Registration State</th>\n",
              "      <th>Plate Type</th>\n",
              "      <th>Issue Date</th>\n",
              "      <th>Violation Code</th>\n",
              "      <th>Vehicle Body Type</th>\n",
              "      <th>Vehicle Make</th>\n",
              "      <th>Issuing Agency</th>\n",
              "      <th>Street Code1</th>\n",
              "      <th>Street Code2</th>\n",
              "      <th>Street Code3</th>\n",
              "      <th>Vehicle Expiration Date</th>\n",
              "      <th>Violation Location</th>\n",
              "      <th>Violation Precinct</th>\n",
              "      <th>Issuer Precinct</th>\n",
              "      <th>Issuer Code</th>\n",
              "      <th>Issuer Command</th>\n",
              "      <th>Issuer Squad</th>\n",
              "      <th>Violation Time</th>\n",
              "      <th>Time First Observed</th>\n",
              "      <th>Violation County</th>\n",
              "      <th>Violation In Front Of Or Opposite</th>\n",
              "      <th>House Number</th>\n",
              "      <th>Street Name</th>\n",
              "      <th>Intersecting Street</th>\n",
              "      <th>Date First Observed</th>\n",
              "      <th>Law Section</th>\n",
              "      <th>Sub Division</th>\n",
              "      <th>Violation Legal Code</th>\n",
              "      <th>Days Parking In Effect</th>\n",
              "      <th>From Hours In Effect</th>\n",
              "      <th>To Hours In Effect</th>\n",
              "      <th>Vehicle Color</th>\n",
              "      <th>Unregistered Vehicle?</th>\n",
              "      <th>Vehicle Year</th>\n",
              "      <th>Meter Number</th>\n",
              "      <th>Feet From Curb</th>\n",
              "      <th>Violation Post Code</th>\n",
              "      <th>Violation Description</th>\n",
              "      <th>No Standing or Stopping Violation</th>\n",
              "      <th>Hydrant Violation</th>\n",
              "      <th>Double Parking Violation</th>\n",
              "    </tr>\n",
              "  </thead>\n",
              "  <tbody>\n",
              "    <tr>\n",
              "      <th>0</th>\n",
              "      <td>4714702166</td>\n",
              "      <td>KGK6659</td>\n",
              "      <td>NY</td>\n",
              "      <td>PAS</td>\n",
              "      <td>11/12/2020</td>\n",
              "      <td>36</td>\n",
              "      <td>4DSD</td>\n",
              "      <td>BMW</td>\n",
              "      <td>V</td>\n",
              "      <td>0</td>\n",
              "      <td>0</td>\n",
              "      <td>0</td>\n",
              "      <td>0</td>\n",
              "      <td>NaN</td>\n",
              "      <td>0</td>\n",
              "      <td>0</td>\n",
              "      <td>0</td>\n",
              "      <td>NaN</td>\n",
              "      <td>NaN</td>\n",
              "      <td>0637P</td>\n",
              "      <td>NaN</td>\n",
              "      <td>BK</td>\n",
              "      <td>NaN</td>\n",
              "      <td>NaN</td>\n",
              "      <td>WB ATLANTIC AVE @ SH</td>\n",
              "      <td>EPHERD AVE</td>\n",
              "      <td>0</td>\n",
              "      <td>1180</td>\n",
              "      <td>B</td>\n",
              "      <td>T</td>\n",
              "      <td>NaN</td>\n",
              "      <td>NaN</td>\n",
              "      <td>NaN</td>\n",
              "      <td>GY</td>\n",
              "      <td>NaN</td>\n",
              "      <td>2007</td>\n",
              "      <td>NaN</td>\n",
              "      <td>0</td>\n",
              "      <td>NaN</td>\n",
              "      <td>PHTO SCHOOL ZN SPEED VIOLATION</td>\n",
              "      <td>NaN</td>\n",
              "      <td>NaN</td>\n",
              "      <td>NaN</td>\n",
              "    </tr>\n",
              "    <tr>\n",
              "      <th>1</th>\n",
              "      <td>8793684599</td>\n",
              "      <td>L5232HY</td>\n",
              "      <td>TN</td>\n",
              "      <td>PAS</td>\n",
              "      <td>09/14/2020</td>\n",
              "      <td>21</td>\n",
              "      <td>TRAC</td>\n",
              "      <td>INTER</td>\n",
              "      <td>T</td>\n",
              "      <td>60790</td>\n",
              "      <td>31140</td>\n",
              "      <td>31190</td>\n",
              "      <td>20200888</td>\n",
              "      <td>101.0</td>\n",
              "      <td>101</td>\n",
              "      <td>101</td>\n",
              "      <td>367421</td>\n",
              "      <td>T402</td>\n",
              "      <td>N</td>\n",
              "      <td>0853A</td>\n",
              "      <td>NaN</td>\n",
              "      <td>Q</td>\n",
              "      <td>O</td>\n",
              "      <td>4212</td>\n",
              "      <td>Rockaway Beach Blvd</td>\n",
              "      <td>NaN</td>\n",
              "      <td>0</td>\n",
              "      <td>408</td>\n",
              "      <td>D1</td>\n",
              "      <td>NaN</td>\n",
              "      <td>Y</td>\n",
              "      <td>0830A</td>\n",
              "      <td>1000A</td>\n",
              "      <td>WHITE</td>\n",
              "      <td>NaN</td>\n",
              "      <td>0</td>\n",
              "      <td>NaN</td>\n",
              "      <td>0</td>\n",
              "      <td>W</td>\n",
              "      <td>NaN</td>\n",
              "      <td>NaN</td>\n",
              "      <td>NaN</td>\n",
              "      <td>NaN</td>\n",
              "    </tr>\n",
              "    <tr>\n",
              "      <th>2</th>\n",
              "      <td>8864757053</td>\n",
              "      <td>BPMN76</td>\n",
              "      <td>FL</td>\n",
              "      <td>PAS</td>\n",
              "      <td>11/25/2020</td>\n",
              "      <td>20</td>\n",
              "      <td>SUBN</td>\n",
              "      <td>NISSA</td>\n",
              "      <td>T</td>\n",
              "      <td>36030</td>\n",
              "      <td>31190</td>\n",
              "      <td>10610</td>\n",
              "      <td>20200688</td>\n",
              "      <td>28.0</td>\n",
              "      <td>28</td>\n",
              "      <td>28</td>\n",
              "      <td>367911</td>\n",
              "      <td>T103</td>\n",
              "      <td>FF</td>\n",
              "      <td>0853A</td>\n",
              "      <td>NaN</td>\n",
              "      <td>NY</td>\n",
              "      <td>F</td>\n",
              "      <td>130</td>\n",
              "      <td>W 113th St</td>\n",
              "      <td>NaN</td>\n",
              "      <td>0</td>\n",
              "      <td>408</td>\n",
              "      <td>d</td>\n",
              "      <td>NaN</td>\n",
              "      <td>YYYYYYY</td>\n",
              "      <td>NaN</td>\n",
              "      <td>NaN</td>\n",
              "      <td>BLACK</td>\n",
              "      <td>NaN</td>\n",
              "      <td>0</td>\n",
              "      <td>NaN</td>\n",
              "      <td>0</td>\n",
              "      <td>49</td>\n",
              "      <td>20A-No Parking (Non-COM)</td>\n",
              "      <td>NaN</td>\n",
              "      <td>NaN</td>\n",
              "      <td>NaN</td>\n",
              "    </tr>\n",
              "    <tr>\n",
              "      <th>3</th>\n",
              "      <td>8778326047</td>\n",
              "      <td>57387MJ</td>\n",
              "      <td>NY</td>\n",
              "      <td>COM</td>\n",
              "      <td>08/20/2020</td>\n",
              "      <td>38</td>\n",
              "      <td>VAN</td>\n",
              "      <td>NaN</td>\n",
              "      <td>T</td>\n",
              "      <td>34430</td>\n",
              "      <td>10410</td>\n",
              "      <td>13610</td>\n",
              "      <td>20211231</td>\n",
              "      <td>13.0</td>\n",
              "      <td>13</td>\n",
              "      <td>13</td>\n",
              "      <td>368567</td>\n",
              "      <td>T506</td>\n",
              "      <td>X</td>\n",
              "      <td>0444P</td>\n",
              "      <td>NaN</td>\n",
              "      <td>NY</td>\n",
              "      <td>F</td>\n",
              "      <td>4</td>\n",
              "      <td>W 33rd St</td>\n",
              "      <td>NaN</td>\n",
              "      <td>0</td>\n",
              "      <td>408</td>\n",
              "      <td>I3</td>\n",
              "      <td>NaN</td>\n",
              "      <td>YYYYY</td>\n",
              "      <td>0700A</td>\n",
              "      <td>0700P</td>\n",
              "      <td>WH</td>\n",
              "      <td>NaN</td>\n",
              "      <td>2016</td>\n",
              "      <td>NaN</td>\n",
              "      <td>0</td>\n",
              "      <td>01</td>\n",
              "      <td>NaN</td>\n",
              "      <td>NaN</td>\n",
              "      <td>NaN</td>\n",
              "      <td>NaN</td>\n",
              "    </tr>\n",
              "    <tr>\n",
              "      <th>4</th>\n",
              "      <td>4706640702</td>\n",
              "      <td>M81KFJ</td>\n",
              "      <td>NJ</td>\n",
              "      <td>PAS</td>\n",
              "      <td>09/09/2020</td>\n",
              "      <td>36</td>\n",
              "      <td>UT</td>\n",
              "      <td>TOYOT</td>\n",
              "      <td>V</td>\n",
              "      <td>0</td>\n",
              "      <td>0</td>\n",
              "      <td>0</td>\n",
              "      <td>0</td>\n",
              "      <td>NaN</td>\n",
              "      <td>0</td>\n",
              "      <td>0</td>\n",
              "      <td>0</td>\n",
              "      <td>NaN</td>\n",
              "      <td>NaN</td>\n",
              "      <td>0723A</td>\n",
              "      <td>NaN</td>\n",
              "      <td>BK</td>\n",
              "      <td>NaN</td>\n",
              "      <td>NaN</td>\n",
              "      <td>WB FOSTER AVE @ E 18</td>\n",
              "      <td>TH ST</td>\n",
              "      <td>0</td>\n",
              "      <td>1180</td>\n",
              "      <td>B</td>\n",
              "      <td>T</td>\n",
              "      <td>NaN</td>\n",
              "      <td>NaN</td>\n",
              "      <td>NaN</td>\n",
              "      <td>NaN</td>\n",
              "      <td>NaN</td>\n",
              "      <td>2002</td>\n",
              "      <td>NaN</td>\n",
              "      <td>0</td>\n",
              "      <td>NaN</td>\n",
              "      <td>PHTO SCHOOL ZN SPEED VIOLATION</td>\n",
              "      <td>NaN</td>\n",
              "      <td>NaN</td>\n",
              "      <td>NaN</td>\n",
              "    </tr>\n",
              "  </tbody>\n",
              "</table>\n",
              "</div>"
            ],
            "text/plain": [
              "   Summons Number Plate ID  ... Hydrant Violation Double Parking Violation\n",
              "0      4714702166  KGK6659  ...               NaN                      NaN\n",
              "1      8793684599  L5232HY  ...               NaN                      NaN\n",
              "2      8864757053   BPMN76  ...               NaN                      NaN\n",
              "3      8778326047  57387MJ  ...               NaN                      NaN\n",
              "4      4706640702   M81KFJ  ...               NaN                      NaN\n",
              "\n",
              "[5 rows x 43 columns]"
            ]
          },
          "metadata": {
            "tags": []
          },
          "execution_count": 32
        }
      ]
    },
    {
      "cell_type": "code",
      "metadata": {
        "colab": {
          "base_uri": "https://localhost:8080/"
        },
        "id": "lXVKYot_guvg",
        "outputId": "5fc7f5a8-9bbe-47d6-d49b-25a58ef41110"
      },
      "source": [
        "rows, columns = df.shape\r\n",
        "print(\"Number of rows:\", rows)\r\n",
        "print(\"Number of columns:\", columns)"
      ],
      "execution_count": null,
      "outputs": [
        {
          "output_type": "stream",
          "text": [
            "Number of rows: 50000\n",
            "Number of columns: 43\n"
          ],
          "name": "stdout"
        }
      ]
    },
    {
      "cell_type": "markdown",
      "metadata": {
        "id": "fgN2S6fujizt"
      },
      "source": [
        "### Changing the 'Issue Date' column to a date format."
      ]
    },
    {
      "cell_type": "code",
      "metadata": {
        "colab": {
          "base_uri": "https://localhost:8080/"
        },
        "id": "xOawtKGDgYmf",
        "outputId": "cbcb1760-73ac-4a7c-f236-94c12e5861e2"
      },
      "source": [
        "df['Issue Date'].dtype\r\n",
        "# The 'Issue Data' is in a MM/DD/YYYY format,\r\n",
        "# but pandas is treating it like a general object dtype"
      ],
      "execution_count": null,
      "outputs": [
        {
          "output_type": "execute_result",
          "data": {
            "text/plain": [
              "dtype('O')"
            ]
          },
          "metadata": {
            "tags": []
          },
          "execution_count": 34
        }
      ]
    },
    {
      "cell_type": "code",
      "metadata": {
        "colab": {
          "base_uri": "https://localhost:8080/"
        },
        "id": "Ogu6zrHfgnOE",
        "outputId": "1debe7f0-0739-4e8a-8aae-61d835b2fe95"
      },
      "source": [
        "# To fix this, a simple method is to use .to_datetime\r\n",
        "df['Issue Date'] = pd.to_datetime(df['Issue Date'])\r\n",
        "df['Issue Date'].dtype"
      ],
      "execution_count": null,
      "outputs": [
        {
          "output_type": "execute_result",
          "data": {
            "text/plain": [
              "dtype('<M8[ns]')"
            ]
          },
          "metadata": {
            "tags": []
          },
          "execution_count": 35
        }
      ]
    },
    {
      "cell_type": "code",
      "metadata": {
        "colab": {
          "base_uri": "https://localhost:8080/",
          "height": 479
        },
        "id": "Z7JaqODJh0uq",
        "outputId": "2f064a08-c969-4235-b17b-aec79c4be01d"
      },
      "source": [
        "# Let's take a look\r\n",
        "df.head()"
      ],
      "execution_count": null,
      "outputs": [
        {
          "output_type": "execute_result",
          "data": {
            "text/html": [
              "<div>\n",
              "<style scoped>\n",
              "    .dataframe tbody tr th:only-of-type {\n",
              "        vertical-align: middle;\n",
              "    }\n",
              "\n",
              "    .dataframe tbody tr th {\n",
              "        vertical-align: top;\n",
              "    }\n",
              "\n",
              "    .dataframe thead th {\n",
              "        text-align: right;\n",
              "    }\n",
              "</style>\n",
              "<table border=\"1\" class=\"dataframe\">\n",
              "  <thead>\n",
              "    <tr style=\"text-align: right;\">\n",
              "      <th></th>\n",
              "      <th>Summons Number</th>\n",
              "      <th>Plate ID</th>\n",
              "      <th>Registration State</th>\n",
              "      <th>Plate Type</th>\n",
              "      <th>Issue Date</th>\n",
              "      <th>Violation Code</th>\n",
              "      <th>Vehicle Body Type</th>\n",
              "      <th>Vehicle Make</th>\n",
              "      <th>Issuing Agency</th>\n",
              "      <th>Street Code1</th>\n",
              "      <th>Street Code2</th>\n",
              "      <th>Street Code3</th>\n",
              "      <th>Vehicle Expiration Date</th>\n",
              "      <th>Violation Location</th>\n",
              "      <th>Violation Precinct</th>\n",
              "      <th>Issuer Precinct</th>\n",
              "      <th>Issuer Code</th>\n",
              "      <th>Issuer Command</th>\n",
              "      <th>Issuer Squad</th>\n",
              "      <th>Violation Time</th>\n",
              "      <th>Time First Observed</th>\n",
              "      <th>Violation County</th>\n",
              "      <th>Violation In Front Of Or Opposite</th>\n",
              "      <th>House Number</th>\n",
              "      <th>Street Name</th>\n",
              "      <th>Intersecting Street</th>\n",
              "      <th>Date First Observed</th>\n",
              "      <th>Law Section</th>\n",
              "      <th>Sub Division</th>\n",
              "      <th>Violation Legal Code</th>\n",
              "      <th>Days Parking In Effect</th>\n",
              "      <th>From Hours In Effect</th>\n",
              "      <th>To Hours In Effect</th>\n",
              "      <th>Vehicle Color</th>\n",
              "      <th>Unregistered Vehicle?</th>\n",
              "      <th>Vehicle Year</th>\n",
              "      <th>Meter Number</th>\n",
              "      <th>Feet From Curb</th>\n",
              "      <th>Violation Post Code</th>\n",
              "      <th>Violation Description</th>\n",
              "      <th>No Standing or Stopping Violation</th>\n",
              "      <th>Hydrant Violation</th>\n",
              "      <th>Double Parking Violation</th>\n",
              "    </tr>\n",
              "  </thead>\n",
              "  <tbody>\n",
              "    <tr>\n",
              "      <th>0</th>\n",
              "      <td>4714702166</td>\n",
              "      <td>KGK6659</td>\n",
              "      <td>NY</td>\n",
              "      <td>PAS</td>\n",
              "      <td>2020-11-12</td>\n",
              "      <td>36</td>\n",
              "      <td>4DSD</td>\n",
              "      <td>BMW</td>\n",
              "      <td>V</td>\n",
              "      <td>0</td>\n",
              "      <td>0</td>\n",
              "      <td>0</td>\n",
              "      <td>0</td>\n",
              "      <td>NaN</td>\n",
              "      <td>0</td>\n",
              "      <td>0</td>\n",
              "      <td>0</td>\n",
              "      <td>NaN</td>\n",
              "      <td>NaN</td>\n",
              "      <td>0637P</td>\n",
              "      <td>NaN</td>\n",
              "      <td>BK</td>\n",
              "      <td>NaN</td>\n",
              "      <td>NaN</td>\n",
              "      <td>WB ATLANTIC AVE @ SH</td>\n",
              "      <td>EPHERD AVE</td>\n",
              "      <td>0</td>\n",
              "      <td>1180</td>\n",
              "      <td>B</td>\n",
              "      <td>T</td>\n",
              "      <td>NaN</td>\n",
              "      <td>NaN</td>\n",
              "      <td>NaN</td>\n",
              "      <td>GY</td>\n",
              "      <td>NaN</td>\n",
              "      <td>2007</td>\n",
              "      <td>NaN</td>\n",
              "      <td>0</td>\n",
              "      <td>NaN</td>\n",
              "      <td>PHTO SCHOOL ZN SPEED VIOLATION</td>\n",
              "      <td>NaN</td>\n",
              "      <td>NaN</td>\n",
              "      <td>NaN</td>\n",
              "    </tr>\n",
              "    <tr>\n",
              "      <th>1</th>\n",
              "      <td>8793684599</td>\n",
              "      <td>L5232HY</td>\n",
              "      <td>TN</td>\n",
              "      <td>PAS</td>\n",
              "      <td>2020-09-14</td>\n",
              "      <td>21</td>\n",
              "      <td>TRAC</td>\n",
              "      <td>INTER</td>\n",
              "      <td>T</td>\n",
              "      <td>60790</td>\n",
              "      <td>31140</td>\n",
              "      <td>31190</td>\n",
              "      <td>20200888</td>\n",
              "      <td>101.0</td>\n",
              "      <td>101</td>\n",
              "      <td>101</td>\n",
              "      <td>367421</td>\n",
              "      <td>T402</td>\n",
              "      <td>N</td>\n",
              "      <td>0853A</td>\n",
              "      <td>NaN</td>\n",
              "      <td>Q</td>\n",
              "      <td>O</td>\n",
              "      <td>4212</td>\n",
              "      <td>Rockaway Beach Blvd</td>\n",
              "      <td>NaN</td>\n",
              "      <td>0</td>\n",
              "      <td>408</td>\n",
              "      <td>D1</td>\n",
              "      <td>NaN</td>\n",
              "      <td>Y</td>\n",
              "      <td>0830A</td>\n",
              "      <td>1000A</td>\n",
              "      <td>WHITE</td>\n",
              "      <td>NaN</td>\n",
              "      <td>0</td>\n",
              "      <td>NaN</td>\n",
              "      <td>0</td>\n",
              "      <td>W</td>\n",
              "      <td>NaN</td>\n",
              "      <td>NaN</td>\n",
              "      <td>NaN</td>\n",
              "      <td>NaN</td>\n",
              "    </tr>\n",
              "    <tr>\n",
              "      <th>2</th>\n",
              "      <td>8864757053</td>\n",
              "      <td>BPMN76</td>\n",
              "      <td>FL</td>\n",
              "      <td>PAS</td>\n",
              "      <td>2020-11-25</td>\n",
              "      <td>20</td>\n",
              "      <td>SUBN</td>\n",
              "      <td>NISSA</td>\n",
              "      <td>T</td>\n",
              "      <td>36030</td>\n",
              "      <td>31190</td>\n",
              "      <td>10610</td>\n",
              "      <td>20200688</td>\n",
              "      <td>28.0</td>\n",
              "      <td>28</td>\n",
              "      <td>28</td>\n",
              "      <td>367911</td>\n",
              "      <td>T103</td>\n",
              "      <td>FF</td>\n",
              "      <td>0853A</td>\n",
              "      <td>NaN</td>\n",
              "      <td>NY</td>\n",
              "      <td>F</td>\n",
              "      <td>130</td>\n",
              "      <td>W 113th St</td>\n",
              "      <td>NaN</td>\n",
              "      <td>0</td>\n",
              "      <td>408</td>\n",
              "      <td>d</td>\n",
              "      <td>NaN</td>\n",
              "      <td>YYYYYYY</td>\n",
              "      <td>NaN</td>\n",
              "      <td>NaN</td>\n",
              "      <td>BLACK</td>\n",
              "      <td>NaN</td>\n",
              "      <td>0</td>\n",
              "      <td>NaN</td>\n",
              "      <td>0</td>\n",
              "      <td>49</td>\n",
              "      <td>20A-No Parking (Non-COM)</td>\n",
              "      <td>NaN</td>\n",
              "      <td>NaN</td>\n",
              "      <td>NaN</td>\n",
              "    </tr>\n",
              "    <tr>\n",
              "      <th>3</th>\n",
              "      <td>8778326047</td>\n",
              "      <td>57387MJ</td>\n",
              "      <td>NY</td>\n",
              "      <td>COM</td>\n",
              "      <td>2020-08-20</td>\n",
              "      <td>38</td>\n",
              "      <td>VAN</td>\n",
              "      <td>NaN</td>\n",
              "      <td>T</td>\n",
              "      <td>34430</td>\n",
              "      <td>10410</td>\n",
              "      <td>13610</td>\n",
              "      <td>20211231</td>\n",
              "      <td>13.0</td>\n",
              "      <td>13</td>\n",
              "      <td>13</td>\n",
              "      <td>368567</td>\n",
              "      <td>T506</td>\n",
              "      <td>X</td>\n",
              "      <td>0444P</td>\n",
              "      <td>NaN</td>\n",
              "      <td>NY</td>\n",
              "      <td>F</td>\n",
              "      <td>4</td>\n",
              "      <td>W 33rd St</td>\n",
              "      <td>NaN</td>\n",
              "      <td>0</td>\n",
              "      <td>408</td>\n",
              "      <td>I3</td>\n",
              "      <td>NaN</td>\n",
              "      <td>YYYYY</td>\n",
              "      <td>0700A</td>\n",
              "      <td>0700P</td>\n",
              "      <td>WH</td>\n",
              "      <td>NaN</td>\n",
              "      <td>2016</td>\n",
              "      <td>NaN</td>\n",
              "      <td>0</td>\n",
              "      <td>01</td>\n",
              "      <td>NaN</td>\n",
              "      <td>NaN</td>\n",
              "      <td>NaN</td>\n",
              "      <td>NaN</td>\n",
              "    </tr>\n",
              "    <tr>\n",
              "      <th>4</th>\n",
              "      <td>4706640702</td>\n",
              "      <td>M81KFJ</td>\n",
              "      <td>NJ</td>\n",
              "      <td>PAS</td>\n",
              "      <td>2020-09-09</td>\n",
              "      <td>36</td>\n",
              "      <td>UT</td>\n",
              "      <td>TOYOT</td>\n",
              "      <td>V</td>\n",
              "      <td>0</td>\n",
              "      <td>0</td>\n",
              "      <td>0</td>\n",
              "      <td>0</td>\n",
              "      <td>NaN</td>\n",
              "      <td>0</td>\n",
              "      <td>0</td>\n",
              "      <td>0</td>\n",
              "      <td>NaN</td>\n",
              "      <td>NaN</td>\n",
              "      <td>0723A</td>\n",
              "      <td>NaN</td>\n",
              "      <td>BK</td>\n",
              "      <td>NaN</td>\n",
              "      <td>NaN</td>\n",
              "      <td>WB FOSTER AVE @ E 18</td>\n",
              "      <td>TH ST</td>\n",
              "      <td>0</td>\n",
              "      <td>1180</td>\n",
              "      <td>B</td>\n",
              "      <td>T</td>\n",
              "      <td>NaN</td>\n",
              "      <td>NaN</td>\n",
              "      <td>NaN</td>\n",
              "      <td>NaN</td>\n",
              "      <td>NaN</td>\n",
              "      <td>2002</td>\n",
              "      <td>NaN</td>\n",
              "      <td>0</td>\n",
              "      <td>NaN</td>\n",
              "      <td>PHTO SCHOOL ZN SPEED VIOLATION</td>\n",
              "      <td>NaN</td>\n",
              "      <td>NaN</td>\n",
              "      <td>NaN</td>\n",
              "    </tr>\n",
              "  </tbody>\n",
              "</table>\n",
              "</div>"
            ],
            "text/plain": [
              "   Summons Number Plate ID  ... Hydrant Violation Double Parking Violation\n",
              "0      4714702166  KGK6659  ...               NaN                      NaN\n",
              "1      8793684599  L5232HY  ...               NaN                      NaN\n",
              "2      8864757053   BPMN76  ...               NaN                      NaN\n",
              "3      8778326047  57387MJ  ...               NaN                      NaN\n",
              "4      4706640702   M81KFJ  ...               NaN                      NaN\n",
              "\n",
              "[5 rows x 43 columns]"
            ]
          },
          "metadata": {
            "tags": []
          },
          "execution_count": 36
        }
      ]
    },
    {
      "cell_type": "markdown",
      "metadata": {
        "id": "Am_C6ENIj7Rs"
      },
      "source": [
        "### Searching for invalid data"
      ]
    },
    {
      "cell_type": "code",
      "metadata": {
        "colab": {
          "base_uri": "https://localhost:8080/"
        },
        "id": "RFBmYJs_j7wz",
        "outputId": "54b15d00-8231-440f-f173-4973d2527532"
      },
      "source": [
        "# Searching for missing values\r\n",
        "df.isna().sum()"
      ],
      "execution_count": null,
      "outputs": [
        {
          "output_type": "execute_result",
          "data": {
            "text/plain": [
              "Summons Number                           0\n",
              "Plate ID                                 0\n",
              "Registration State                       0\n",
              "Plate Type                               0\n",
              "Issue Date                               0\n",
              "Violation Code                           0\n",
              "Vehicle Body Type                      145\n",
              "Vehicle Make                           136\n",
              "Issuing Agency                           0\n",
              "Street Code1                             0\n",
              "Street Code2                             0\n",
              "Street Code3                             0\n",
              "Vehicle Expiration Date                  0\n",
              "Violation Location                   17893\n",
              "Violation Precinct                       0\n",
              "Issuer Precinct                          0\n",
              "Issuer Code                              0\n",
              "Issuer Command                       17857\n",
              "Issuer Squad                         17857\n",
              "Violation Time                           1\n",
              "Time First Observed                  48111\n",
              "Violation County                       117\n",
              "Violation In Front Of Or Opposite    18068\n",
              "House Number                         18272\n",
              "Street Name                             10\n",
              "Intersecting Street                  27283\n",
              "Date First Observed                      0\n",
              "Law Section                              0\n",
              "Sub Division                             2\n",
              "Violation Legal Code                 32143\n",
              "Days Parking In Effect               17857\n",
              "From Hours In Effect                 30394\n",
              "To Hours In Effect                   30394\n",
              "Vehicle Color                         2417\n",
              "Unregistered Vehicle?                47892\n",
              "Vehicle Year                             0\n",
              "Meter Number                         47850\n",
              "Feet From Curb                           0\n",
              "Violation Post Code                  19965\n",
              "Violation Description                27198\n",
              "No Standing or Stopping Violation    50000\n",
              "Hydrant Violation                    50000\n",
              "Double Parking Violation             50000\n",
              "dtype: int64"
            ]
          },
          "metadata": {
            "tags": []
          },
          "execution_count": 37
        }
      ]
    },
    {
      "cell_type": "markdown",
      "metadata": {
        "id": "rhwsT44GnS81"
      },
      "source": [
        "There are a bunch of columns with huge number of NaN entries.\r\n",
        "\r\n",
        "```No Standing or Stopping Violation```, ```Hydrant Violation ``` and ```Double Parking Violation``` have all rows with NaN values.\r\n",
        "\r\n",
        "```Meter Number```, ```Unregistered Vehicle? ``` and ```Time First Observed``` have over 47k rows with missing values.\r\n",
        "\r\n",
        "```Violation Legal Code ```, ```From Hours In Effect  ``` and ```To Hours In Effect ``` have over 30k rows with missing values."
      ]
    },
    {
      "cell_type": "markdown",
      "metadata": {
        "id": "elQ9KXN6pWDH"
      },
      "source": [
        "As most of these problematic columns aren't useful for my analysis, I'll drop all of them and those I don't consider useful right now."
      ]
    },
    {
      "cell_type": "code",
      "metadata": {
        "colab": {
          "base_uri": "https://localhost:8080/",
          "height": 204
        },
        "id": "0vlCAT85ork_",
        "outputId": "334cdde8-2dc0-4ad5-89e0-5e0fb8667073"
      },
      "source": [
        "columns_to_keep = ['Summons Number', 'Violation Code', 'Vehicle Make',\r\n",
        "                   'Issue Date', 'Plate Type', 'Vehicle Year',\r\n",
        "                   'Violation Time', 'Registration State']\r\n",
        "\r\n",
        "df.drop(df.columns.difference(columns_to_keep), 1, inplace=True)\r\n",
        "\r\n",
        "df.head()"
      ],
      "execution_count": null,
      "outputs": [
        {
          "output_type": "execute_result",
          "data": {
            "text/html": [
              "<div>\n",
              "<style scoped>\n",
              "    .dataframe tbody tr th:only-of-type {\n",
              "        vertical-align: middle;\n",
              "    }\n",
              "\n",
              "    .dataframe tbody tr th {\n",
              "        vertical-align: top;\n",
              "    }\n",
              "\n",
              "    .dataframe thead th {\n",
              "        text-align: right;\n",
              "    }\n",
              "</style>\n",
              "<table border=\"1\" class=\"dataframe\">\n",
              "  <thead>\n",
              "    <tr style=\"text-align: right;\">\n",
              "      <th></th>\n",
              "      <th>Summons Number</th>\n",
              "      <th>Registration State</th>\n",
              "      <th>Plate Type</th>\n",
              "      <th>Issue Date</th>\n",
              "      <th>Violation Code</th>\n",
              "      <th>Vehicle Make</th>\n",
              "      <th>Violation Time</th>\n",
              "      <th>Vehicle Year</th>\n",
              "    </tr>\n",
              "  </thead>\n",
              "  <tbody>\n",
              "    <tr>\n",
              "      <th>0</th>\n",
              "      <td>4714702166</td>\n",
              "      <td>NY</td>\n",
              "      <td>PAS</td>\n",
              "      <td>2020-11-12</td>\n",
              "      <td>36</td>\n",
              "      <td>BMW</td>\n",
              "      <td>0637P</td>\n",
              "      <td>2007</td>\n",
              "    </tr>\n",
              "    <tr>\n",
              "      <th>1</th>\n",
              "      <td>8793684599</td>\n",
              "      <td>TN</td>\n",
              "      <td>PAS</td>\n",
              "      <td>2020-09-14</td>\n",
              "      <td>21</td>\n",
              "      <td>INTER</td>\n",
              "      <td>0853A</td>\n",
              "      <td>0</td>\n",
              "    </tr>\n",
              "    <tr>\n",
              "      <th>2</th>\n",
              "      <td>8864757053</td>\n",
              "      <td>FL</td>\n",
              "      <td>PAS</td>\n",
              "      <td>2020-11-25</td>\n",
              "      <td>20</td>\n",
              "      <td>NISSA</td>\n",
              "      <td>0853A</td>\n",
              "      <td>0</td>\n",
              "    </tr>\n",
              "    <tr>\n",
              "      <th>3</th>\n",
              "      <td>8778326047</td>\n",
              "      <td>NY</td>\n",
              "      <td>COM</td>\n",
              "      <td>2020-08-20</td>\n",
              "      <td>38</td>\n",
              "      <td>NaN</td>\n",
              "      <td>0444P</td>\n",
              "      <td>2016</td>\n",
              "    </tr>\n",
              "    <tr>\n",
              "      <th>4</th>\n",
              "      <td>4706640702</td>\n",
              "      <td>NJ</td>\n",
              "      <td>PAS</td>\n",
              "      <td>2020-09-09</td>\n",
              "      <td>36</td>\n",
              "      <td>TOYOT</td>\n",
              "      <td>0723A</td>\n",
              "      <td>2002</td>\n",
              "    </tr>\n",
              "  </tbody>\n",
              "</table>\n",
              "</div>"
            ],
            "text/plain": [
              "   Summons Number Registration State  ... Violation Time Vehicle Year\n",
              "0      4714702166                 NY  ...          0637P         2007\n",
              "1      8793684599                 TN  ...          0853A            0\n",
              "2      8864757053                 FL  ...          0853A            0\n",
              "3      8778326047                 NY  ...          0444P         2016\n",
              "4      4706640702                 NJ  ...          0723A         2002\n",
              "\n",
              "[5 rows x 8 columns]"
            ]
          },
          "metadata": {
            "tags": []
          },
          "execution_count": 38
        }
      ]
    },
    {
      "cell_type": "code",
      "metadata": {
        "colab": {
          "base_uri": "https://localhost:8080/"
        },
        "id": "fTkqIYpAqMaY",
        "outputId": "0575cc88-e39d-4eba-a492-ac26dea81f7c"
      },
      "source": [
        "# Checking missing values again:\r\n",
        "df.isna().sum()"
      ],
      "execution_count": null,
      "outputs": [
        {
          "output_type": "execute_result",
          "data": {
            "text/plain": [
              "Summons Number          0\n",
              "Registration State      0\n",
              "Plate Type              0\n",
              "Issue Date              0\n",
              "Violation Code          0\n",
              "Vehicle Make          136\n",
              "Violation Time          1\n",
              "Vehicle Year            0\n",
              "dtype: int64"
            ]
          },
          "metadata": {
            "tags": []
          },
          "execution_count": 39
        }
      ]
    },
    {
      "cell_type": "code",
      "metadata": {
        "colab": {
          "base_uri": "https://localhost:8080/"
        },
        "id": "hJDQPfBdVfHx",
        "outputId": "d5349519-b432-4062-c06c-d692ca121047"
      },
      "source": [
        "# Inspecting the 'Registration State' column\r\n",
        "df[\"Registration State\"].unique()\r\n",
        "# The '99' entry doesn't mean anything and it's possible a missing value."
      ],
      "execution_count": null,
      "outputs": [
        {
          "output_type": "execute_result",
          "data": {
            "text/plain": [
              "array(['NY', 'TN', 'FL', 'NJ', 'MA', 'PA', 'MD', 'CT', 'TX', 'CA', 'IL',\n",
              "       'IN', 'OR', 'AZ', 'QB', 'WA', 'GA', 'CO', 'GV', 'NC', 'ME', 'DE',\n",
              "       'VA', 'MN', '99', 'WV', 'OH', 'NH', 'AR', 'DC', 'SC', 'NV', 'SD',\n",
              "       'RI', 'MO', 'LA', 'NM', 'OK', 'AL', 'IA', 'MT', 'MI', 'NE', 'ID',\n",
              "       'KY', 'VT', 'WI', 'MS', 'ON', 'HI', 'KS', 'UT', 'AK', 'FO', 'PR',\n",
              "       'DP', 'WY', 'AB', 'ND'], dtype=object)"
            ]
          },
          "metadata": {
            "tags": []
          },
          "execution_count": 40
        }
      ]
    },
    {
      "cell_type": "code",
      "metadata": {
        "colab": {
          "base_uri": "https://localhost:8080/",
          "height": 419
        },
        "id": "cPprGujGVRPS",
        "outputId": "c18d2840-dd49-485c-b9de-2393c0a3c655"
      },
      "source": [
        "# Examining the rows where \"Registration State\" is 99 we can see that the \"Plate Type\"\r\n",
        "# also has a missing value entry: '999'\r\n",
        "df[df['Registration State'] == \"99\"]"
      ],
      "execution_count": null,
      "outputs": [
        {
          "output_type": "execute_result",
          "data": {
            "text/html": [
              "<div>\n",
              "<style scoped>\n",
              "    .dataframe tbody tr th:only-of-type {\n",
              "        vertical-align: middle;\n",
              "    }\n",
              "\n",
              "    .dataframe tbody tr th {\n",
              "        vertical-align: top;\n",
              "    }\n",
              "\n",
              "    .dataframe thead th {\n",
              "        text-align: right;\n",
              "    }\n",
              "</style>\n",
              "<table border=\"1\" class=\"dataframe\">\n",
              "  <thead>\n",
              "    <tr style=\"text-align: right;\">\n",
              "      <th></th>\n",
              "      <th>Summons Number</th>\n",
              "      <th>Registration State</th>\n",
              "      <th>Plate Type</th>\n",
              "      <th>Issue Date</th>\n",
              "      <th>Violation Code</th>\n",
              "      <th>Vehicle Make</th>\n",
              "      <th>Violation Time</th>\n",
              "      <th>Vehicle Year</th>\n",
              "    </tr>\n",
              "  </thead>\n",
              "  <tbody>\n",
              "    <tr>\n",
              "      <th>450</th>\n",
              "      <td>8558998905</td>\n",
              "      <td>99</td>\n",
              "      <td>999</td>\n",
              "      <td>2020-09-08</td>\n",
              "      <td>20</td>\n",
              "      <td>FORD</td>\n",
              "      <td>0258P</td>\n",
              "      <td>0</td>\n",
              "    </tr>\n",
              "    <tr>\n",
              "      <th>8177</th>\n",
              "      <td>1473591405</td>\n",
              "      <td>99</td>\n",
              "      <td>999</td>\n",
              "      <td>2020-10-06</td>\n",
              "      <td>74</td>\n",
              "      <td>HONDA</td>\n",
              "      <td>0123P</td>\n",
              "      <td>2009</td>\n",
              "    </tr>\n",
              "    <tr>\n",
              "      <th>8371</th>\n",
              "      <td>1473889406</td>\n",
              "      <td>99</td>\n",
              "      <td>999</td>\n",
              "      <td>2020-07-22</td>\n",
              "      <td>70</td>\n",
              "      <td>MITSU</td>\n",
              "      <td>1050P</td>\n",
              "      <td>2008</td>\n",
              "    </tr>\n",
              "    <tr>\n",
              "      <th>9097</th>\n",
              "      <td>1478640340</td>\n",
              "      <td>99</td>\n",
              "      <td>999</td>\n",
              "      <td>2020-08-04</td>\n",
              "      <td>21</td>\n",
              "      <td>INTER</td>\n",
              "      <td>0839A</td>\n",
              "      <td>0</td>\n",
              "    </tr>\n",
              "    <tr>\n",
              "      <th>10194</th>\n",
              "      <td>1478349232</td>\n",
              "      <td>99</td>\n",
              "      <td>COM</td>\n",
              "      <td>2020-08-29</td>\n",
              "      <td>21</td>\n",
              "      <td>FORD</td>\n",
              "      <td>0820A</td>\n",
              "      <td>2010</td>\n",
              "    </tr>\n",
              "    <tr>\n",
              "      <th>...</th>\n",
              "      <td>...</td>\n",
              "      <td>...</td>\n",
              "      <td>...</td>\n",
              "      <td>...</td>\n",
              "      <td>...</td>\n",
              "      <td>...</td>\n",
              "      <td>...</td>\n",
              "      <td>...</td>\n",
              "    </tr>\n",
              "    <tr>\n",
              "      <th>47496</th>\n",
              "      <td>1477643310</td>\n",
              "      <td>99</td>\n",
              "      <td>999</td>\n",
              "      <td>2020-07-11</td>\n",
              "      <td>51</td>\n",
              "      <td>HONDA</td>\n",
              "      <td>0955A</td>\n",
              "      <td>0</td>\n",
              "    </tr>\n",
              "    <tr>\n",
              "      <th>48018</th>\n",
              "      <td>1474455141</td>\n",
              "      <td>99</td>\n",
              "      <td>PAS</td>\n",
              "      <td>2020-10-11</td>\n",
              "      <td>14</td>\n",
              "      <td>CHEVR</td>\n",
              "      <td>1240A</td>\n",
              "      <td>2014</td>\n",
              "    </tr>\n",
              "    <tr>\n",
              "      <th>49639</th>\n",
              "      <td>1479532290</td>\n",
              "      <td>99</td>\n",
              "      <td>PAS</td>\n",
              "      <td>2020-09-03</td>\n",
              "      <td>21</td>\n",
              "      <td>TOYOT</td>\n",
              "      <td>0904A</td>\n",
              "      <td>0</td>\n",
              "    </tr>\n",
              "    <tr>\n",
              "      <th>49653</th>\n",
              "      <td>1472860378</td>\n",
              "      <td>99</td>\n",
              "      <td>PAS</td>\n",
              "      <td>2020-07-15</td>\n",
              "      <td>17</td>\n",
              "      <td>CHEVR</td>\n",
              "      <td>0825A</td>\n",
              "      <td>0</td>\n",
              "    </tr>\n",
              "    <tr>\n",
              "      <th>49959</th>\n",
              "      <td>8833558344</td>\n",
              "      <td>99</td>\n",
              "      <td>999</td>\n",
              "      <td>2020-10-07</td>\n",
              "      <td>74</td>\n",
              "      <td>VESPA</td>\n",
              "      <td>0117P</td>\n",
              "      <td>0</td>\n",
              "    </tr>\n",
              "  </tbody>\n",
              "</table>\n",
              "<p>70 rows × 8 columns</p>\n",
              "</div>"
            ],
            "text/plain": [
              "       Summons Number Registration State  ... Violation Time Vehicle Year\n",
              "450        8558998905                 99  ...          0258P            0\n",
              "8177       1473591405                 99  ...          0123P         2009\n",
              "8371       1473889406                 99  ...          1050P         2008\n",
              "9097       1478640340                 99  ...          0839A            0\n",
              "10194      1478349232                 99  ...          0820A         2010\n",
              "...               ...                ...  ...            ...          ...\n",
              "47496      1477643310                 99  ...          0955A            0\n",
              "48018      1474455141                 99  ...          1240A         2014\n",
              "49639      1479532290                 99  ...          0904A            0\n",
              "49653      1472860378                 99  ...          0825A            0\n",
              "49959      8833558344                 99  ...          0117P            0\n",
              "\n",
              "[70 rows x 8 columns]"
            ]
          },
          "metadata": {
            "tags": []
          },
          "execution_count": 41
        }
      ]
    },
    {
      "cell_type": "code",
      "metadata": {
        "id": "aCg0bTGGYBZk"
      },
      "source": [
        "# Let's discart these rows, along with the ones that have some column with NaN value:\r\n",
        "\r\n",
        "df = df[(df['Registration State'] != \"99\") \r\n",
        "    & (df['Plate Type'] != \"999\")\r\n",
        "    & (df['Vehicle Make'].notnull()) \r\n",
        "    & (df['Violation Time'].notnull())]"
      ],
      "execution_count": null,
      "outputs": []
    },
    {
      "cell_type": "code",
      "metadata": {
        "colab": {
          "base_uri": "https://localhost:8080/",
          "height": 49
        },
        "id": "A-Zz-66dYbG-",
        "outputId": "9f67263c-ec94-473e-8d26-a355cf467f1c"
      },
      "source": [
        "# Sanity check\r\n",
        "df[df['Registration State'] == \"99\"]"
      ],
      "execution_count": null,
      "outputs": [
        {
          "output_type": "execute_result",
          "data": {
            "text/html": [
              "<div>\n",
              "<style scoped>\n",
              "    .dataframe tbody tr th:only-of-type {\n",
              "        vertical-align: middle;\n",
              "    }\n",
              "\n",
              "    .dataframe tbody tr th {\n",
              "        vertical-align: top;\n",
              "    }\n",
              "\n",
              "    .dataframe thead th {\n",
              "        text-align: right;\n",
              "    }\n",
              "</style>\n",
              "<table border=\"1\" class=\"dataframe\">\n",
              "  <thead>\n",
              "    <tr style=\"text-align: right;\">\n",
              "      <th></th>\n",
              "      <th>Summons Number</th>\n",
              "      <th>Registration State</th>\n",
              "      <th>Plate Type</th>\n",
              "      <th>Issue Date</th>\n",
              "      <th>Violation Code</th>\n",
              "      <th>Vehicle Make</th>\n",
              "      <th>Violation Time</th>\n",
              "      <th>Vehicle Year</th>\n",
              "    </tr>\n",
              "  </thead>\n",
              "  <tbody>\n",
              "  </tbody>\n",
              "</table>\n",
              "</div>"
            ],
            "text/plain": [
              "Empty DataFrame\n",
              "Columns: [Summons Number, Registration State, Plate Type, Issue Date, Violation Code, Vehicle Make, Violation Time, Vehicle Year]\n",
              "Index: []"
            ]
          },
          "metadata": {
            "tags": []
          },
          "execution_count": 43
        }
      ]
    },
    {
      "cell_type": "markdown",
      "metadata": {
        "id": "HkoCJTV5YwMz"
      },
      "source": [
        "Let's see if there are wrong dates in the \"Issue Date\" column"
      ]
    },
    {
      "cell_type": "code",
      "metadata": {
        "colab": {
          "base_uri": "https://localhost:8080/",
          "height": 142
        },
        "id": "5aRpU55-UdeA",
        "outputId": "131c0598-848c-4e15-edb8-22f88cd7b93e"
      },
      "source": [
        "# Dates before 04/01/2020 (beggining of the fiscal year)\r\n",
        "df[df[\"Issue Date\"] <= '2020-04-01']"
      ],
      "execution_count": null,
      "outputs": [
        {
          "output_type": "execute_result",
          "data": {
            "text/html": [
              "<div>\n",
              "<style scoped>\n",
              "    .dataframe tbody tr th:only-of-type {\n",
              "        vertical-align: middle;\n",
              "    }\n",
              "\n",
              "    .dataframe tbody tr th {\n",
              "        vertical-align: top;\n",
              "    }\n",
              "\n",
              "    .dataframe thead th {\n",
              "        text-align: right;\n",
              "    }\n",
              "</style>\n",
              "<table border=\"1\" class=\"dataframe\">\n",
              "  <thead>\n",
              "    <tr style=\"text-align: right;\">\n",
              "      <th></th>\n",
              "      <th>Summons Number</th>\n",
              "      <th>Registration State</th>\n",
              "      <th>Plate Type</th>\n",
              "      <th>Issue Date</th>\n",
              "      <th>Violation Code</th>\n",
              "      <th>Vehicle Make</th>\n",
              "      <th>Violation Time</th>\n",
              "      <th>Vehicle Year</th>\n",
              "    </tr>\n",
              "  </thead>\n",
              "  <tbody>\n",
              "    <tr>\n",
              "      <th>5478</th>\n",
              "      <td>1434778198</td>\n",
              "      <td>NY</td>\n",
              "      <td>PAS</td>\n",
              "      <td>2019-12-13</td>\n",
              "      <td>17</td>\n",
              "      <td>MITSU</td>\n",
              "      <td>0743A</td>\n",
              "      <td>2006</td>\n",
              "    </tr>\n",
              "    <tr>\n",
              "      <th>38476</th>\n",
              "      <td>1479597715</td>\n",
              "      <td>NY</td>\n",
              "      <td>PAS</td>\n",
              "      <td>2010-10-22</td>\n",
              "      <td>19</td>\n",
              "      <td>BMW</td>\n",
              "      <td>0354P</td>\n",
              "      <td>2019</td>\n",
              "    </tr>\n",
              "    <tr>\n",
              "      <th>39623</th>\n",
              "      <td>1476478417</td>\n",
              "      <td>NY</td>\n",
              "      <td>PAS</td>\n",
              "      <td>2020-02-26</td>\n",
              "      <td>20</td>\n",
              "      <td>BMW</td>\n",
              "      <td>0939A</td>\n",
              "      <td>2007</td>\n",
              "    </tr>\n",
              "  </tbody>\n",
              "</table>\n",
              "</div>"
            ],
            "text/plain": [
              "       Summons Number Registration State  ... Violation Time Vehicle Year\n",
              "5478       1434778198                 NY  ...          0743A         2006\n",
              "38476      1479597715                 NY  ...          0354P         2019\n",
              "39623      1476478417                 NY  ...          0939A         2007\n",
              "\n",
              "[3 rows x 8 columns]"
            ]
          },
          "metadata": {
            "tags": []
          },
          "execution_count": 44
        }
      ]
    },
    {
      "cell_type": "code",
      "metadata": {
        "colab": {
          "base_uri": "https://localhost:8080/",
          "height": 173
        },
        "id": "Yl6B0rIdYour",
        "outputId": "fe3e8886-bba8-430f-e0f1-bc331459a1cd"
      },
      "source": [
        "# Dates after 11/30/2020 (the end of the fiscal year)\r\n",
        "df[df[\"Issue Date\"] >= '2020-11-30']"
      ],
      "execution_count": null,
      "outputs": [
        {
          "output_type": "execute_result",
          "data": {
            "text/html": [
              "<div>\n",
              "<style scoped>\n",
              "    .dataframe tbody tr th:only-of-type {\n",
              "        vertical-align: middle;\n",
              "    }\n",
              "\n",
              "    .dataframe tbody tr th {\n",
              "        vertical-align: top;\n",
              "    }\n",
              "\n",
              "    .dataframe thead th {\n",
              "        text-align: right;\n",
              "    }\n",
              "</style>\n",
              "<table border=\"1\" class=\"dataframe\">\n",
              "  <thead>\n",
              "    <tr style=\"text-align: right;\">\n",
              "      <th></th>\n",
              "      <th>Summons Number</th>\n",
              "      <th>Registration State</th>\n",
              "      <th>Plate Type</th>\n",
              "      <th>Issue Date</th>\n",
              "      <th>Violation Code</th>\n",
              "      <th>Vehicle Make</th>\n",
              "      <th>Violation Time</th>\n",
              "      <th>Vehicle Year</th>\n",
              "    </tr>\n",
              "  </thead>\n",
              "  <tbody>\n",
              "    <tr>\n",
              "      <th>26544</th>\n",
              "      <td>1477685066</td>\n",
              "      <td>NY</td>\n",
              "      <td>PAS</td>\n",
              "      <td>2030-08-06</td>\n",
              "      <td>21</td>\n",
              "      <td>TOYOT</td>\n",
              "      <td>0954A</td>\n",
              "      <td>2014</td>\n",
              "    </tr>\n",
              "    <tr>\n",
              "      <th>29120</th>\n",
              "      <td>1479952205</td>\n",
              "      <td>NY</td>\n",
              "      <td>PAS</td>\n",
              "      <td>2021-11-04</td>\n",
              "      <td>21</td>\n",
              "      <td>CHEVR</td>\n",
              "      <td>1123A</td>\n",
              "      <td>0</td>\n",
              "    </tr>\n",
              "    <tr>\n",
              "      <th>29947</th>\n",
              "      <td>1480015891</td>\n",
              "      <td>NY</td>\n",
              "      <td>PAS</td>\n",
              "      <td>2022-10-20</td>\n",
              "      <td>21</td>\n",
              "      <td>SUBAR</td>\n",
              "      <td>1206P</td>\n",
              "      <td>2014</td>\n",
              "    </tr>\n",
              "    <tr>\n",
              "      <th>48186</th>\n",
              "      <td>1476825312</td>\n",
              "      <td>NY</td>\n",
              "      <td>PAS</td>\n",
              "      <td>2026-09-16</td>\n",
              "      <td>21</td>\n",
              "      <td>HONDA</td>\n",
              "      <td>0739A</td>\n",
              "      <td>2003</td>\n",
              "    </tr>\n",
              "  </tbody>\n",
              "</table>\n",
              "</div>"
            ],
            "text/plain": [
              "       Summons Number Registration State  ... Violation Time Vehicle Year\n",
              "26544      1477685066                 NY  ...          0954A         2014\n",
              "29120      1479952205                 NY  ...          1123A            0\n",
              "29947      1480015891                 NY  ...          1206P         2014\n",
              "48186      1476825312                 NY  ...          0739A         2003\n",
              "\n",
              "[4 rows x 8 columns]"
            ]
          },
          "metadata": {
            "tags": []
          },
          "execution_count": 45
        }
      ]
    },
    {
      "cell_type": "code",
      "metadata": {
        "id": "NSPFC-2CZY0M"
      },
      "source": [
        "# Let's discard these rows:\r\n",
        "\r\n",
        "df = df[(df['Issue Date'] >= '2020-04-01') \r\n",
        "        & (df['Issue Date'] <= '2020-11-30')]"
      ],
      "execution_count": null,
      "outputs": []
    },
    {
      "cell_type": "markdown",
      "metadata": {
        "id": "nBOUxiS5Zkau"
      },
      "source": [
        "Dealing with the other two columns"
      ]
    },
    {
      "cell_type": "code",
      "metadata": {
        "colab": {
          "base_uri": "https://localhost:8080/"
        },
        "id": "Res46o4pZOOV",
        "outputId": "8ac394f2-c0c2-45b3-e393-d7fcf3f51b4a"
      },
      "source": [
        "# \"Violation Code\"\r\n",
        "\r\n",
        "df['Violation Code'].unique()\r\n",
        "# it looks alright"
      ],
      "execution_count": null,
      "outputs": [
        {
          "output_type": "execute_result",
          "data": {
            "text/plain": [
              "array([36, 21, 20, 74, 38, 14,  7, 40, 31, 16, 50, 69, 68, 17, 46, 84, 19,\n",
              "       42,  5, 37, 33, 10, 78, 70, 51, 47, 82, 66, 61, 98, 53, 94, 71,  8,\n",
              "       41, 45, 72, 99, 12, 18, 77,  9, 48, 83, 22, 67, 39, 85, 76, 13, 52,\n",
              "       60,  6, 24, 75, 64, 11, 73,  4, 87, 54, 35, 56, 62, 27, 96, 91, 44,\n",
              "       26, 49, 89, 80, 95, 79, 63,  1, 59])"
            ]
          },
          "metadata": {
            "tags": []
          },
          "execution_count": 47
        }
      ]
    },
    {
      "cell_type": "code",
      "metadata": {
        "colab": {
          "base_uri": "https://localhost:8080/"
        },
        "id": "fevU-1AcZv57",
        "outputId": "2ddbafcb-9de5-41c8-9c32-1440c071446d"
      },
      "source": [
        "# \"Vehicle Year\"\r\n",
        "df['Vehicle Year'].unique()\r\n",
        "# definitely numbers like 0 and bigger than 2020 shouldn't be here"
      ],
      "execution_count": null,
      "outputs": [
        {
          "output_type": "execute_result",
          "data": {
            "text/plain": [
              "array([2007,    0, 2002, 2017, 2008, 2016, 2018, 2006, 2019, 2013, 2004,\n",
              "       2005, 2010, 2020, 1997, 2012, 2009, 2015, 2014, 2011, 2003, 2021,\n",
              "       2001, 1991, 1998, 1995, 1999, 1994, 1990, 1992, 1989, 1993, 1996,\n",
              "       1985, 2054, 1977, 1988, 1978, 1987, 2066, 1984, 1986, 1976, 1982,\n",
              "       1983, 2069, 1979, 2062])"
            ]
          },
          "metadata": {
            "tags": []
          },
          "execution_count": 48
        }
      ]
    },
    {
      "cell_type": "code",
      "metadata": {
        "id": "fEeOMZnSaXHE"
      },
      "source": [
        "df = df[(df['Vehicle Year'] != 0) \r\n",
        "    & (df['Vehicle Year'] <= 2020)]"
      ],
      "execution_count": null,
      "outputs": []
    },
    {
      "cell_type": "code",
      "metadata": {
        "colab": {
          "base_uri": "https://localhost:8080/"
        },
        "id": "sgzd_R7iagQj",
        "outputId": "39c8d526-17b7-4fae-b3dc-2a0ce0aa50aa"
      },
      "source": [
        "rows, columns = df.shape\r\n",
        "\r\n",
        "print(\"After data processing\")\r\n",
        "print(\"Rows:\", rows)\r\n",
        "print(\"Columns:\", columns)"
      ],
      "execution_count": null,
      "outputs": [
        {
          "output_type": "stream",
          "text": [
            "After data processing\n",
            "Rows: 38937\n",
            "Columns: 8\n"
          ],
          "name": "stdout"
        }
      ]
    },
    {
      "cell_type": "markdown",
      "metadata": {
        "id": "Fui0w9owa7OR"
      },
      "source": [
        "11063 rows were discarted."
      ]
    },
    {
      "cell_type": "markdown",
      "metadata": {
        "id": "XHBSFRiDa_1z"
      },
      "source": [
        "###Plotting"
      ]
    },
    {
      "cell_type": "code",
      "metadata": {
        "id": "V62QTgbOm83u"
      },
      "source": [
        "violations_by_vehicle_year = df.groupby('Vehicle Year')['Summons Number'].count()"
      ],
      "execution_count": 77,
      "outputs": []
    },
    {
      "cell_type": "code",
      "metadata": {
        "colab": {
          "base_uri": "https://localhost:8080/"
        },
        "id": "RwCpQ_bWrU6O",
        "outputId": "ce17fc73-8924-4afb-b820-48da9a5dd45a"
      },
      "source": [
        "violations_by_vehicle_year"
      ],
      "execution_count": 91,
      "outputs": [
        {
          "output_type": "execute_result",
          "data": {
            "text/plain": [
              "Vehicle Year\n",
              "1976       1\n",
              "1977       1\n",
              "1978       1\n",
              "1979       1\n",
              "1982       3\n",
              "1983       2\n",
              "1984       4\n",
              "1985       7\n",
              "1986       5\n",
              "1987       8\n",
              "1988      10\n",
              "1989      10\n",
              "1990       9\n",
              "1991      13\n",
              "1992      24\n",
              "1993      18\n",
              "1994      21\n",
              "1995      76\n",
              "1996      43\n",
              "1997     144\n",
              "1998     124\n",
              "1999     157\n",
              "2001     349\n",
              "2002     440\n",
              "2003     654\n",
              "2004     832\n",
              "2005     997\n",
              "2006    1185\n",
              "2007    1388\n",
              "2008    1354\n",
              "2009    1105\n",
              "2010    1207\n",
              "2011    1456\n",
              "2012    1626\n",
              "2013    1880\n",
              "2014    1946\n",
              "2015    2658\n",
              "2016    2841\n",
              "2017    3575\n",
              "2018    4106\n",
              "2019    5064\n",
              "2020    3592\n",
              "Name: Summons Number, dtype: int64"
            ]
          },
          "metadata": {
            "tags": []
          },
          "execution_count": 91
        }
      ]
    },
    {
      "cell_type": "code",
      "metadata": {
        "id": "VMAhp835l5KE"
      },
      "source": [
        "import seaborn as sns\r\n",
        "import matplotlib.pyplot as plt\r\n",
        "\r\n",
        "sns.set_theme()"
      ],
      "execution_count": 104,
      "outputs": []
    },
    {
      "cell_type": "markdown",
      "metadata": {
        "id": "iJuIlJLhkHRU"
      },
      "source": [
        "A plot that shows the number of parking violations issued for each vehicle year:"
      ]
    },
    {
      "cell_type": "code",
      "metadata": {
        "colab": {
          "base_uri": "https://localhost:8080/",
          "height": 586
        },
        "id": "ReFoSwlNsgAx",
        "outputId": "ef13b030-028d-4209-f6ff-ee4389a7f616"
      },
      "source": [
        "fig = plt.figure(figsize=(18, 9))\r\n",
        "fig.patch.set_facecolor('#eaeaf2')\r\n",
        "plt.box(False)\r\n",
        "\r\n",
        "ax = sns.lineplot(x=violations_by_vehicle_year.index, y=violations_by_vehicle_year.values)\r\n",
        "\r\n",
        "\r\n",
        "#years = [1976, 1980, 1985, 1990, 1995, 2000, 2004, 2006, 2008, 2010, 2012, 2014, 2016, 2018, 2020]\r\n",
        "#years = [1975, 1980, 1985, 1990, 1995, 2000, 2005, 2010, 2015, 2020]\r\n",
        "years = [x for x in range(1976, 2021, 2)]\r\n",
        "\r\n",
        "ax.set_xticks(years)\r\n",
        "ax.set(xlabel='Vehicle Year', ylabel='Number of Violations')\r\n",
        "\r\n",
        "plt.title('Parking Violations Issued for Vehicle Year',\r\n",
        "          size=18, alpha=0.8, y=1.02)\r\n",
        "\r\n",
        "plt.show();"
      ],
      "execution_count": 112,
      "outputs": [
        {
          "output_type": "display_data",
          "data": {
            "image/png": "[encoded data removed]",
            "text/plain": [
              "<Figure size 1296x648 with 1 Axes>"
            ]
          },
          "metadata": {
            "tags": []
          }
        }
      ]
    },
    {
      "cell_type": "markdown",
      "metadata": {
        "id": "workznto0fFH"
      },
      "source": [
        "Top 5 violation codes"
      ]
    },
    {
      "cell_type": "code",
      "metadata": {
        "colab": {
          "base_uri": "https://localhost:8080/",
          "height": 136
        },
        "id": "8giYjHYj0LQ-",
        "outputId": "5cc518e1-a45c-4e0d-dd06-6858d8d7c31b"
      },
      "source": [
        "top_5_violations = df.groupby('Violation Code')['Summons Number'].count().nlargest(5)\r\n",
        "display(top_5_violations)"
      ],
      "execution_count": 123,
      "outputs": [
        {
          "output_type": "display_data",
          "data": {
            "text/plain": [
              "Violation Code\n",
              "36    14318\n",
              "21     4319\n",
              "38     2939\n",
              "14     2143\n",
              "20     2013\n",
              "Name: Summons Number, dtype: int64"
            ]
          },
          "metadata": {
            "tags": []
          }
        }
      ]
    },
    {
      "cell_type": "code",
      "metadata": {
        "colab": {
          "base_uri": "https://localhost:8080/",
          "height": 429
        },
        "id": "EVLOgRR-1VIe",
        "outputId": "e51eed5c-e836-4bc0-ebcf-0def4d76ebaa"
      },
      "source": [
        "fig = plt.figure(figsize=(15, 7))\r\n",
        "\r\n",
        "ax = top_5_violations.plot.pie()\r\n",
        "ax.set(xlabel='', ylabel='')\r\n",
        "\r\n",
        "plt.title('Proportion of the top 5 violations',\r\n",
        "          size=16, alpha=0.8);\r\n",
        "\r\n",
        "plt.show();"
      ],
      "execution_count": 127,
      "outputs": [
        {
          "output_type": "display_data",
          "data": {
            "image/png": "[encoded data removed]",
            "text/plain": [
              "<Figure size 1080x504 with 1 Axes>"
            ]
          },
          "metadata": {
            "tags": []
          }
        }
      ]
    },
    {
      "cell_type": "markdown",
      "metadata": {
        "id": "jPcuVC92kG3q"
      },
      "source": [
        "List the top 5 violation codes for vehicles that are registered in states other than NY."
      ]
    },
    {
      "cell_type": "code",
      "metadata": {
        "colab": {
          "base_uri": "https://localhost:8080/"
        },
        "id": "4WpT33wdz1lG",
        "outputId": "12ce843c-f3ac-46c2-ed12-a0017be9cc42"
      },
      "source": [
        "top_5_no_NY = df[df['Registration State'] != 'NY'].groupby('Violation Code')['Summons Number'].count().nlargest(5)\r\n",
        "top_5_no_NY"
      ],
      "execution_count": 131,
      "outputs": [
        {
          "output_type": "execute_result",
          "data": {
            "text/plain": [
              "Violation Code\n",
              "36    2772\n",
              "5      365\n",
              "7      350\n",
              "12      62\n",
              "21      30\n",
              "Name: Summons Number, dtype: int64"
            ]
          },
          "metadata": {
            "tags": []
          },
          "execution_count": 131
        }
      ]
    },
    {
      "cell_type": "code",
      "metadata": {
        "colab": {
          "base_uri": "https://localhost:8080/",
          "height": 427
        },
        "id": "9U5ErlDc2Nj6",
        "outputId": "9647163c-ef33-442b-a869-3f52a30a5eb5"
      },
      "source": [
        "fig = plt.figure(figsize=(15, 7))\r\n",
        "\r\n",
        "ax = top_5_no_NY.plot.pie()\r\n",
        "ax.set(xlabel='', ylabel='')\r\n",
        "\r\n",
        "plt.title('Proportion of the top 5 violations (excluding New York registered cars)',\r\n",
        "          size=12, alpha=0.8);\r\n",
        "\r\n",
        "plt.show();"
      ],
      "execution_count": 132,
      "outputs": [
        {
          "output_type": "display_data",
          "data": {
            "image/png": "[encoded data removed]",
            "text/plain": [
              "<Figure size 1080x504 with 1 Axes>"
            ]
          },
          "metadata": {
            "tags": []
          }
        }
      ]
    }
  ]
}