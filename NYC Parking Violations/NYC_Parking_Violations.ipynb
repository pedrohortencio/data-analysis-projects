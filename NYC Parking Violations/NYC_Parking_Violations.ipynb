{
  "nbformat": 4,
  "nbformat_minor": 0,
  "metadata": {
    "colab": {
      "name": "NYC Parking Violations.ipynb",
      "provenance": [],
      "collapsed_sections": [],
      "authorship_tag": "ABX9TyOvYcNBVWkRX4jn3zuhzYRD",
      "include_colab_link": true
    },
    "kernelspec": {
      "display_name": "Python 3",
      "name": "python3"
    }
  },
  "cells": [
    {
      "cell_type": "markdown",
      "metadata": {
        "id": "view-in-github",
        "colab_type": "text"
      },
      "source": [
        "<a href=\"https://colab.research.google.com/github/pedrohortencio/data-analysis-projects/blob/main/NYC%20Parking%20Violations/NYC_Parking_Violations.ipynb\" target=\"_parent\"><img src=\"https://colab.research.google.com/assets/colab-badge.svg\" alt=\"Open In Colab\"/></a>"
      ]
    },
    {
      "cell_type": "markdown",
      "metadata": {
        "id": "jdiTFfxof4bt"
      },
      "source": [
        "[Full violations data from NYC Open Data](https://data.cityofnewyork.us/City-Government/Parking-Violations-Issued-Fiscal-Year-2021/pvqr-7yc4)\r\n",
        "\r\n",
        "[Raw .csv data (subset of 50,000 rows)](https://raw.githubusercontent.com/pedrohortencio/data-analysis-projects/main/NYC%20Parking%20Violations/violations.csv)\r\n",
        "\r\n",
        "\r\n",
        "[Original project](https://towardsdatascience.com/learn-python-data-analytics-by-example-ny-parking-violations-e1ce1847fa2)"
      ]
    },
    {
      "cell_type": "markdown",
      "metadata": {
        "id": "8tCa1_n3je5p"
      },
      "source": [
        "### Importing the data file"
      ]
    },
    {
      "cell_type": "code",
      "metadata": {
        "id": "OYvSErYTfXMm"
      },
      "source": [
        "import pandas as pd\r\n",
        "import numpy as np"
      ],
      "execution_count": 1,
      "outputs": []
    },
    {
      "cell_type": "code",
      "metadata": {
        "colab": {
          "base_uri": "https://localhost:8080/",
          "height": 462
        },
        "id": "Gz8KdOs7gIkd",
        "outputId": "3883a538-1d43-48ec-e17f-6d5d340d5270"
      },
      "source": [
        "url = 'https://raw.githubusercontent.com/pedrohortencio/data-analysis-projects/main/NYC%20Parking%20Violations/violations.csv'\r\n",
        "\r\n",
        "# Importing .csv from the URL\r\n",
        "df = pd.read_csv(url)\r\n",
        "df.head()"
      ],
      "execution_count": 2,
      "outputs": [
        {
          "output_type": "execute_result",
          "data": {
            "text/html": [
              "<div>\n",
              "<style scoped>\n",
              "    .dataframe tbody tr th:only-of-type {\n",
              "        vertical-align: middle;\n",
              "    }\n",
              "\n",
              "    .dataframe tbody tr th {\n",
              "        vertical-align: top;\n",
              "    }\n",
              "\n",
              "    .dataframe thead th {\n",
              "        text-align: right;\n",
              "    }\n",
              "</style>\n",
              "<table border=\"1\" class=\"dataframe\">\n",
              "  <thead>\n",
              "    <tr style=\"text-align: right;\">\n",
              "      <th></th>\n",
              "      <th>Summons Number</th>\n",
              "      <th>Plate ID</th>\n",
              "      <th>Registration State</th>\n",
              "      <th>Plate Type</th>\n",
              "      <th>Issue Date</th>\n",
              "      <th>Violation Code</th>\n",
              "      <th>Vehicle Body Type</th>\n",
              "      <th>Vehicle Make</th>\n",
              "      <th>Issuing Agency</th>\n",
              "      <th>Street Code1</th>\n",
              "      <th>Street Code2</th>\n",
              "      <th>Street Code3</th>\n",
              "      <th>Vehicle Expiration Date</th>\n",
              "      <th>Violation Location</th>\n",
              "      <th>Violation Precinct</th>\n",
              "      <th>Issuer Precinct</th>\n",
              "      <th>Issuer Code</th>\n",
              "      <th>Issuer Command</th>\n",
              "      <th>Issuer Squad</th>\n",
              "      <th>Violation Time</th>\n",
              "      <th>Time First Observed</th>\n",
              "      <th>Violation County</th>\n",
              "      <th>Violation In Front Of Or Opposite</th>\n",
              "      <th>House Number</th>\n",
              "      <th>Street Name</th>\n",
              "      <th>Intersecting Street</th>\n",
              "      <th>Date First Observed</th>\n",
              "      <th>Law Section</th>\n",
              "      <th>Sub Division</th>\n",
              "      <th>Violation Legal Code</th>\n",
              "      <th>Days Parking In Effect</th>\n",
              "      <th>From Hours In Effect</th>\n",
              "      <th>To Hours In Effect</th>\n",
              "      <th>Vehicle Color</th>\n",
              "      <th>Unregistered Vehicle?</th>\n",
              "      <th>Vehicle Year</th>\n",
              "      <th>Meter Number</th>\n",
              "      <th>Feet From Curb</th>\n",
              "      <th>Violation Post Code</th>\n",
              "      <th>Violation Description</th>\n",
              "      <th>No Standing or Stopping Violation</th>\n",
              "      <th>Hydrant Violation</th>\n",
              "      <th>Double Parking Violation</th>\n",
              "    </tr>\n",
              "  </thead>\n",
              "  <tbody>\n",
              "    <tr>\n",
              "      <th>0</th>\n",
              "      <td>4714702166</td>\n",
              "      <td>KGK6659</td>\n",
              "      <td>NY</td>\n",
              "      <td>PAS</td>\n",
              "      <td>11/12/2020</td>\n",
              "      <td>36</td>\n",
              "      <td>4DSD</td>\n",
              "      <td>BMW</td>\n",
              "      <td>V</td>\n",
              "      <td>0</td>\n",
              "      <td>0</td>\n",
              "      <td>0</td>\n",
              "      <td>0</td>\n",
              "      <td>NaN</td>\n",
              "      <td>0</td>\n",
              "      <td>0</td>\n",
              "      <td>0</td>\n",
              "      <td>NaN</td>\n",
              "      <td>NaN</td>\n",
              "      <td>0637P</td>\n",
              "      <td>NaN</td>\n",
              "      <td>BK</td>\n",
              "      <td>NaN</td>\n",
              "      <td>NaN</td>\n",
              "      <td>WB ATLANTIC AVE @ SH</td>\n",
              "      <td>EPHERD AVE</td>\n",
              "      <td>0</td>\n",
              "      <td>1180</td>\n",
              "      <td>B</td>\n",
              "      <td>T</td>\n",
              "      <td>NaN</td>\n",
              "      <td>NaN</td>\n",
              "      <td>NaN</td>\n",
              "      <td>GY</td>\n",
              "      <td>NaN</td>\n",
              "      <td>2007</td>\n",
              "      <td>NaN</td>\n",
              "      <td>0</td>\n",
              "      <td>NaN</td>\n",
              "      <td>PHTO SCHOOL ZN SPEED VIOLATION</td>\n",
              "      <td>NaN</td>\n",
              "      <td>NaN</td>\n",
              "      <td>NaN</td>\n",
              "    </tr>\n",
              "    <tr>\n",
              "      <th>1</th>\n",
              "      <td>8793684599</td>\n",
              "      <td>L5232HY</td>\n",
              "      <td>TN</td>\n",
              "      <td>PAS</td>\n",
              "      <td>09/14/2020</td>\n",
              "      <td>21</td>\n",
              "      <td>TRAC</td>\n",
              "      <td>INTER</td>\n",
              "      <td>T</td>\n",
              "      <td>60790</td>\n",
              "      <td>31140</td>\n",
              "      <td>31190</td>\n",
              "      <td>20200888</td>\n",
              "      <td>101.0</td>\n",
              "      <td>101</td>\n",
              "      <td>101</td>\n",
              "      <td>367421</td>\n",
              "      <td>T402</td>\n",
              "      <td>N</td>\n",
              "      <td>0853A</td>\n",
              "      <td>NaN</td>\n",
              "      <td>Q</td>\n",
              "      <td>O</td>\n",
              "      <td>4212</td>\n",
              "      <td>Rockaway Beach Blvd</td>\n",
              "      <td>NaN</td>\n",
              "      <td>0</td>\n",
              "      <td>408</td>\n",
              "      <td>D1</td>\n",
              "      <td>NaN</td>\n",
              "      <td>Y</td>\n",
              "      <td>0830A</td>\n",
              "      <td>1000A</td>\n",
              "      <td>WHITE</td>\n",
              "      <td>NaN</td>\n",
              "      <td>0</td>\n",
              "      <td>NaN</td>\n",
              "      <td>0</td>\n",
              "      <td>W</td>\n",
              "      <td>NaN</td>\n",
              "      <td>NaN</td>\n",
              "      <td>NaN</td>\n",
              "      <td>NaN</td>\n",
              "    </tr>\n",
              "    <tr>\n",
              "      <th>2</th>\n",
              "      <td>8864757053</td>\n",
              "      <td>BPMN76</td>\n",
              "      <td>FL</td>\n",
              "      <td>PAS</td>\n",
              "      <td>11/25/2020</td>\n",
              "      <td>20</td>\n",
              "      <td>SUBN</td>\n",
              "      <td>NISSA</td>\n",
              "      <td>T</td>\n",
              "      <td>36030</td>\n",
              "      <td>31190</td>\n",
              "      <td>10610</td>\n",
              "      <td>20200688</td>\n",
              "      <td>28.0</td>\n",
              "      <td>28</td>\n",
              "      <td>28</td>\n",
              "      <td>367911</td>\n",
              "      <td>T103</td>\n",
              "      <td>FF</td>\n",
              "      <td>0853A</td>\n",
              "      <td>NaN</td>\n",
              "      <td>NY</td>\n",
              "      <td>F</td>\n",
              "      <td>130</td>\n",
              "      <td>W 113th St</td>\n",
              "      <td>NaN</td>\n",
              "      <td>0</td>\n",
              "      <td>408</td>\n",
              "      <td>d</td>\n",
              "      <td>NaN</td>\n",
              "      <td>YYYYYYY</td>\n",
              "      <td>NaN</td>\n",
              "      <td>NaN</td>\n",
              "      <td>BLACK</td>\n",
              "      <td>NaN</td>\n",
              "      <td>0</td>\n",
              "      <td>NaN</td>\n",
              "      <td>0</td>\n",
              "      <td>49</td>\n",
              "      <td>20A-No Parking (Non-COM)</td>\n",
              "      <td>NaN</td>\n",
              "      <td>NaN</td>\n",
              "      <td>NaN</td>\n",
              "    </tr>\n",
              "    <tr>\n",
              "      <th>3</th>\n",
              "      <td>8778326047</td>\n",
              "      <td>57387MJ</td>\n",
              "      <td>NY</td>\n",
              "      <td>COM</td>\n",
              "      <td>08/20/2020</td>\n",
              "      <td>38</td>\n",
              "      <td>VAN</td>\n",
              "      <td>NaN</td>\n",
              "      <td>T</td>\n",
              "      <td>34430</td>\n",
              "      <td>10410</td>\n",
              "      <td>13610</td>\n",
              "      <td>20211231</td>\n",
              "      <td>13.0</td>\n",
              "      <td>13</td>\n",
              "      <td>13</td>\n",
              "      <td>368567</td>\n",
              "      <td>T506</td>\n",
              "      <td>X</td>\n",
              "      <td>0444P</td>\n",
              "      <td>NaN</td>\n",
              "      <td>NY</td>\n",
              "      <td>F</td>\n",
              "      <td>4</td>\n",
              "      <td>W 33rd St</td>\n",
              "      <td>NaN</td>\n",
              "      <td>0</td>\n",
              "      <td>408</td>\n",
              "      <td>I3</td>\n",
              "      <td>NaN</td>\n",
              "      <td>YYYYY</td>\n",
              "      <td>0700A</td>\n",
              "      <td>0700P</td>\n",
              "      <td>WH</td>\n",
              "      <td>NaN</td>\n",
              "      <td>2016</td>\n",
              "      <td>NaN</td>\n",
              "      <td>0</td>\n",
              "      <td>01</td>\n",
              "      <td>NaN</td>\n",
              "      <td>NaN</td>\n",
              "      <td>NaN</td>\n",
              "      <td>NaN</td>\n",
              "    </tr>\n",
              "    <tr>\n",
              "      <th>4</th>\n",
              "      <td>4706640702</td>\n",
              "      <td>M81KFJ</td>\n",
              "      <td>NJ</td>\n",
              "      <td>PAS</td>\n",
              "      <td>09/09/2020</td>\n",
              "      <td>36</td>\n",
              "      <td>UT</td>\n",
              "      <td>TOYOT</td>\n",
              "      <td>V</td>\n",
              "      <td>0</td>\n",
              "      <td>0</td>\n",
              "      <td>0</td>\n",
              "      <td>0</td>\n",
              "      <td>NaN</td>\n",
              "      <td>0</td>\n",
              "      <td>0</td>\n",
              "      <td>0</td>\n",
              "      <td>NaN</td>\n",
              "      <td>NaN</td>\n",
              "      <td>0723A</td>\n",
              "      <td>NaN</td>\n",
              "      <td>BK</td>\n",
              "      <td>NaN</td>\n",
              "      <td>NaN</td>\n",
              "      <td>WB FOSTER AVE @ E 18</td>\n",
              "      <td>TH ST</td>\n",
              "      <td>0</td>\n",
              "      <td>1180</td>\n",
              "      <td>B</td>\n",
              "      <td>T</td>\n",
              "      <td>NaN</td>\n",
              "      <td>NaN</td>\n",
              "      <td>NaN</td>\n",
              "      <td>NaN</td>\n",
              "      <td>NaN</td>\n",
              "      <td>2002</td>\n",
              "      <td>NaN</td>\n",
              "      <td>0</td>\n",
              "      <td>NaN</td>\n",
              "      <td>PHTO SCHOOL ZN SPEED VIOLATION</td>\n",
              "      <td>NaN</td>\n",
              "      <td>NaN</td>\n",
              "      <td>NaN</td>\n",
              "    </tr>\n",
              "  </tbody>\n",
              "</table>\n",
              "</div>"
            ],
            "text/plain": [
              "   Summons Number Plate ID  ... Hydrant Violation Double Parking Violation\n",
              "0      4714702166  KGK6659  ...               NaN                      NaN\n",
              "1      8793684599  L5232HY  ...               NaN                      NaN\n",
              "2      8864757053   BPMN76  ...               NaN                      NaN\n",
              "3      8778326047  57387MJ  ...               NaN                      NaN\n",
              "4      4706640702   M81KFJ  ...               NaN                      NaN\n",
              "\n",
              "[5 rows x 43 columns]"
            ]
          },
          "metadata": {
            "tags": []
          },
          "execution_count": 2
        }
      ]
    },
    {
      "cell_type": "code",
      "metadata": {
        "colab": {
          "base_uri": "https://localhost:8080/"
        },
        "id": "lXVKYot_guvg",
        "outputId": "be5c49e8-2c3a-471e-fada-ced069e263a2"
      },
      "source": [
        "rows, columns = df.shape\r\n",
        "print(\"Number of rows:\", rows)\r\n",
        "print(\"Number of columns:\", columns)"
      ],
      "execution_count": 3,
      "outputs": [
        {
          "output_type": "stream",
          "text": [
            "Number of rows: 50000\n",
            "Number of columns: 43\n"
          ],
          "name": "stdout"
        }
      ]
    },
    {
      "cell_type": "markdown",
      "metadata": {
        "id": "fgN2S6fujizt"
      },
      "source": [
        "### Changing the 'Issue Date' column to a date format."
      ]
    },
    {
      "cell_type": "code",
      "metadata": {
        "colab": {
          "base_uri": "https://localhost:8080/"
        },
        "id": "xOawtKGDgYmf",
        "outputId": "d9485b8d-1c9f-4eda-bf12-4c0eadf19f71"
      },
      "source": [
        "df['Issue Date'].dtype\r\n",
        "# The 'Issue Data' is in a MM/DD/YYYY format,\r\n",
        "# but pandas is treating it like a general object dtype"
      ],
      "execution_count": 4,
      "outputs": [
        {
          "output_type": "execute_result",
          "data": {
            "text/plain": [
              "dtype('O')"
            ]
          },
          "metadata": {
            "tags": []
          },
          "execution_count": 4
        }
      ]
    },
    {
      "cell_type": "code",
      "metadata": {
        "colab": {
          "base_uri": "https://localhost:8080/"
        },
        "id": "Ogu6zrHfgnOE",
        "outputId": "572d5987-a291-47d3-eae4-0a9940c511cf"
      },
      "source": [
        "# To fix this, a simple method is to use .to_datetime\r\n",
        "df['Issue Date'] = pd.to_datetime(df['Issue Date'])\r\n",
        "df['Issue Date'].dtype"
      ],
      "execution_count": 5,
      "outputs": [
        {
          "output_type": "execute_result",
          "data": {
            "text/plain": [
              "dtype('<M8[ns]')"
            ]
          },
          "metadata": {
            "tags": []
          },
          "execution_count": 5
        }
      ]
    },
    {
      "cell_type": "code",
      "metadata": {
        "colab": {
          "base_uri": "https://localhost:8080/",
          "height": 479
        },
        "id": "Z7JaqODJh0uq",
        "outputId": "ee87a34a-5567-4cd3-d5f1-04f6ca9c49d1"
      },
      "source": [
        "# Let's take a look\r\n",
        "df.head()"
      ],
      "execution_count": 6,
      "outputs": [
        {
          "output_type": "execute_result",
          "data": {
            "text/html": [
              "<div>\n",
              "<style scoped>\n",
              "    .dataframe tbody tr th:only-of-type {\n",
              "        vertical-align: middle;\n",
              "    }\n",
              "\n",
              "    .dataframe tbody tr th {\n",
              "        vertical-align: top;\n",
              "    }\n",
              "\n",
              "    .dataframe thead th {\n",
              "        text-align: right;\n",
              "    }\n",
              "</style>\n",
              "<table border=\"1\" class=\"dataframe\">\n",
              "  <thead>\n",
              "    <tr style=\"text-align: right;\">\n",
              "      <th></th>\n",
              "      <th>Summons Number</th>\n",
              "      <th>Plate ID</th>\n",
              "      <th>Registration State</th>\n",
              "      <th>Plate Type</th>\n",
              "      <th>Issue Date</th>\n",
              "      <th>Violation Code</th>\n",
              "      <th>Vehicle Body Type</th>\n",
              "      <th>Vehicle Make</th>\n",
              "      <th>Issuing Agency</th>\n",
              "      <th>Street Code1</th>\n",
              "      <th>Street Code2</th>\n",
              "      <th>Street Code3</th>\n",
              "      <th>Vehicle Expiration Date</th>\n",
              "      <th>Violation Location</th>\n",
              "      <th>Violation Precinct</th>\n",
              "      <th>Issuer Precinct</th>\n",
              "      <th>Issuer Code</th>\n",
              "      <th>Issuer Command</th>\n",
              "      <th>Issuer Squad</th>\n",
              "      <th>Violation Time</th>\n",
              "      <th>Time First Observed</th>\n",
              "      <th>Violation County</th>\n",
              "      <th>Violation In Front Of Or Opposite</th>\n",
              "      <th>House Number</th>\n",
              "      <th>Street Name</th>\n",
              "      <th>Intersecting Street</th>\n",
              "      <th>Date First Observed</th>\n",
              "      <th>Law Section</th>\n",
              "      <th>Sub Division</th>\n",
              "      <th>Violation Legal Code</th>\n",
              "      <th>Days Parking In Effect</th>\n",
              "      <th>From Hours In Effect</th>\n",
              "      <th>To Hours In Effect</th>\n",
              "      <th>Vehicle Color</th>\n",
              "      <th>Unregistered Vehicle?</th>\n",
              "      <th>Vehicle Year</th>\n",
              "      <th>Meter Number</th>\n",
              "      <th>Feet From Curb</th>\n",
              "      <th>Violation Post Code</th>\n",
              "      <th>Violation Description</th>\n",
              "      <th>No Standing or Stopping Violation</th>\n",
              "      <th>Hydrant Violation</th>\n",
              "      <th>Double Parking Violation</th>\n",
              "    </tr>\n",
              "  </thead>\n",
              "  <tbody>\n",
              "    <tr>\n",
              "      <th>0</th>\n",
              "      <td>4714702166</td>\n",
              "      <td>KGK6659</td>\n",
              "      <td>NY</td>\n",
              "      <td>PAS</td>\n",
              "      <td>2020-11-12</td>\n",
              "      <td>36</td>\n",
              "      <td>4DSD</td>\n",
              "      <td>BMW</td>\n",
              "      <td>V</td>\n",
              "      <td>0</td>\n",
              "      <td>0</td>\n",
              "      <td>0</td>\n",
              "      <td>0</td>\n",
              "      <td>NaN</td>\n",
              "      <td>0</td>\n",
              "      <td>0</td>\n",
              "      <td>0</td>\n",
              "      <td>NaN</td>\n",
              "      <td>NaN</td>\n",
              "      <td>0637P</td>\n",
              "      <td>NaN</td>\n",
              "      <td>BK</td>\n",
              "      <td>NaN</td>\n",
              "      <td>NaN</td>\n",
              "      <td>WB ATLANTIC AVE @ SH</td>\n",
              "      <td>EPHERD AVE</td>\n",
              "      <td>0</td>\n",
              "      <td>1180</td>\n",
              "      <td>B</td>\n",
              "      <td>T</td>\n",
              "      <td>NaN</td>\n",
              "      <td>NaN</td>\n",
              "      <td>NaN</td>\n",
              "      <td>GY</td>\n",
              "      <td>NaN</td>\n",
              "      <td>2007</td>\n",
              "      <td>NaN</td>\n",
              "      <td>0</td>\n",
              "      <td>NaN</td>\n",
              "      <td>PHTO SCHOOL ZN SPEED VIOLATION</td>\n",
              "      <td>NaN</td>\n",
              "      <td>NaN</td>\n",
              "      <td>NaN</td>\n",
              "    </tr>\n",
              "    <tr>\n",
              "      <th>1</th>\n",
              "      <td>8793684599</td>\n",
              "      <td>L5232HY</td>\n",
              "      <td>TN</td>\n",
              "      <td>PAS</td>\n",
              "      <td>2020-09-14</td>\n",
              "      <td>21</td>\n",
              "      <td>TRAC</td>\n",
              "      <td>INTER</td>\n",
              "      <td>T</td>\n",
              "      <td>60790</td>\n",
              "      <td>31140</td>\n",
              "      <td>31190</td>\n",
              "      <td>20200888</td>\n",
              "      <td>101.0</td>\n",
              "      <td>101</td>\n",
              "      <td>101</td>\n",
              "      <td>367421</td>\n",
              "      <td>T402</td>\n",
              "      <td>N</td>\n",
              "      <td>0853A</td>\n",
              "      <td>NaN</td>\n",
              "      <td>Q</td>\n",
              "      <td>O</td>\n",
              "      <td>4212</td>\n",
              "      <td>Rockaway Beach Blvd</td>\n",
              "      <td>NaN</td>\n",
              "      <td>0</td>\n",
              "      <td>408</td>\n",
              "      <td>D1</td>\n",
              "      <td>NaN</td>\n",
              "      <td>Y</td>\n",
              "      <td>0830A</td>\n",
              "      <td>1000A</td>\n",
              "      <td>WHITE</td>\n",
              "      <td>NaN</td>\n",
              "      <td>0</td>\n",
              "      <td>NaN</td>\n",
              "      <td>0</td>\n",
              "      <td>W</td>\n",
              "      <td>NaN</td>\n",
              "      <td>NaN</td>\n",
              "      <td>NaN</td>\n",
              "      <td>NaN</td>\n",
              "    </tr>\n",
              "    <tr>\n",
              "      <th>2</th>\n",
              "      <td>8864757053</td>\n",
              "      <td>BPMN76</td>\n",
              "      <td>FL</td>\n",
              "      <td>PAS</td>\n",
              "      <td>2020-11-25</td>\n",
              "      <td>20</td>\n",
              "      <td>SUBN</td>\n",
              "      <td>NISSA</td>\n",
              "      <td>T</td>\n",
              "      <td>36030</td>\n",
              "      <td>31190</td>\n",
              "      <td>10610</td>\n",
              "      <td>20200688</td>\n",
              "      <td>28.0</td>\n",
              "      <td>28</td>\n",
              "      <td>28</td>\n",
              "      <td>367911</td>\n",
              "      <td>T103</td>\n",
              "      <td>FF</td>\n",
              "      <td>0853A</td>\n",
              "      <td>NaN</td>\n",
              "      <td>NY</td>\n",
              "      <td>F</td>\n",
              "      <td>130</td>\n",
              "      <td>W 113th St</td>\n",
              "      <td>NaN</td>\n",
              "      <td>0</td>\n",
              "      <td>408</td>\n",
              "      <td>d</td>\n",
              "      <td>NaN</td>\n",
              "      <td>YYYYYYY</td>\n",
              "      <td>NaN</td>\n",
              "      <td>NaN</td>\n",
              "      <td>BLACK</td>\n",
              "      <td>NaN</td>\n",
              "      <td>0</td>\n",
              "      <td>NaN</td>\n",
              "      <td>0</td>\n",
              "      <td>49</td>\n",
              "      <td>20A-No Parking (Non-COM)</td>\n",
              "      <td>NaN</td>\n",
              "      <td>NaN</td>\n",
              "      <td>NaN</td>\n",
              "    </tr>\n",
              "    <tr>\n",
              "      <th>3</th>\n",
              "      <td>8778326047</td>\n",
              "      <td>57387MJ</td>\n",
              "      <td>NY</td>\n",
              "      <td>COM</td>\n",
              "      <td>2020-08-20</td>\n",
              "      <td>38</td>\n",
              "      <td>VAN</td>\n",
              "      <td>NaN</td>\n",
              "      <td>T</td>\n",
              "      <td>34430</td>\n",
              "      <td>10410</td>\n",
              "      <td>13610</td>\n",
              "      <td>20211231</td>\n",
              "      <td>13.0</td>\n",
              "      <td>13</td>\n",
              "      <td>13</td>\n",
              "      <td>368567</td>\n",
              "      <td>T506</td>\n",
              "      <td>X</td>\n",
              "      <td>0444P</td>\n",
              "      <td>NaN</td>\n",
              "      <td>NY</td>\n",
              "      <td>F</td>\n",
              "      <td>4</td>\n",
              "      <td>W 33rd St</td>\n",
              "      <td>NaN</td>\n",
              "      <td>0</td>\n",
              "      <td>408</td>\n",
              "      <td>I3</td>\n",
              "      <td>NaN</td>\n",
              "      <td>YYYYY</td>\n",
              "      <td>0700A</td>\n",
              "      <td>0700P</td>\n",
              "      <td>WH</td>\n",
              "      <td>NaN</td>\n",
              "      <td>2016</td>\n",
              "      <td>NaN</td>\n",
              "      <td>0</td>\n",
              "      <td>01</td>\n",
              "      <td>NaN</td>\n",
              "      <td>NaN</td>\n",
              "      <td>NaN</td>\n",
              "      <td>NaN</td>\n",
              "    </tr>\n",
              "    <tr>\n",
              "      <th>4</th>\n",
              "      <td>4706640702</td>\n",
              "      <td>M81KFJ</td>\n",
              "      <td>NJ</td>\n",
              "      <td>PAS</td>\n",
              "      <td>2020-09-09</td>\n",
              "      <td>36</td>\n",
              "      <td>UT</td>\n",
              "      <td>TOYOT</td>\n",
              "      <td>V</td>\n",
              "      <td>0</td>\n",
              "      <td>0</td>\n",
              "      <td>0</td>\n",
              "      <td>0</td>\n",
              "      <td>NaN</td>\n",
              "      <td>0</td>\n",
              "      <td>0</td>\n",
              "      <td>0</td>\n",
              "      <td>NaN</td>\n",
              "      <td>NaN</td>\n",
              "      <td>0723A</td>\n",
              "      <td>NaN</td>\n",
              "      <td>BK</td>\n",
              "      <td>NaN</td>\n",
              "      <td>NaN</td>\n",
              "      <td>WB FOSTER AVE @ E 18</td>\n",
              "      <td>TH ST</td>\n",
              "      <td>0</td>\n",
              "      <td>1180</td>\n",
              "      <td>B</td>\n",
              "      <td>T</td>\n",
              "      <td>NaN</td>\n",
              "      <td>NaN</td>\n",
              "      <td>NaN</td>\n",
              "      <td>NaN</td>\n",
              "      <td>NaN</td>\n",
              "      <td>2002</td>\n",
              "      <td>NaN</td>\n",
              "      <td>0</td>\n",
              "      <td>NaN</td>\n",
              "      <td>PHTO SCHOOL ZN SPEED VIOLATION</td>\n",
              "      <td>NaN</td>\n",
              "      <td>NaN</td>\n",
              "      <td>NaN</td>\n",
              "    </tr>\n",
              "  </tbody>\n",
              "</table>\n",
              "</div>"
            ],
            "text/plain": [
              "   Summons Number Plate ID  ... Hydrant Violation Double Parking Violation\n",
              "0      4714702166  KGK6659  ...               NaN                      NaN\n",
              "1      8793684599  L5232HY  ...               NaN                      NaN\n",
              "2      8864757053   BPMN76  ...               NaN                      NaN\n",
              "3      8778326047  57387MJ  ...               NaN                      NaN\n",
              "4      4706640702   M81KFJ  ...               NaN                      NaN\n",
              "\n",
              "[5 rows x 43 columns]"
            ]
          },
          "metadata": {
            "tags": []
          },
          "execution_count": 6
        }
      ]
    },
    {
      "cell_type": "markdown",
      "metadata": {
        "id": "Am_C6ENIj7Rs"
      },
      "source": [
        "### Searching for invalid data"
      ]
    },
    {
      "cell_type": "code",
      "metadata": {
        "colab": {
          "base_uri": "https://localhost:8080/"
        },
        "id": "RFBmYJs_j7wz",
        "outputId": "4402ecfd-0660-43de-e2d3-ea5ec7e86bd1"
      },
      "source": [
        "# Searching for missing values\r\n",
        "df.isna().sum()"
      ],
      "execution_count": 7,
      "outputs": [
        {
          "output_type": "execute_result",
          "data": {
            "text/plain": [
              "Summons Number                           0\n",
              "Plate ID                                 0\n",
              "Registration State                       0\n",
              "Plate Type                               0\n",
              "Issue Date                               0\n",
              "Violation Code                           0\n",
              "Vehicle Body Type                      145\n",
              "Vehicle Make                           136\n",
              "Issuing Agency                           0\n",
              "Street Code1                             0\n",
              "Street Code2                             0\n",
              "Street Code3                             0\n",
              "Vehicle Expiration Date                  0\n",
              "Violation Location                   17893\n",
              "Violation Precinct                       0\n",
              "Issuer Precinct                          0\n",
              "Issuer Code                              0\n",
              "Issuer Command                       17857\n",
              "Issuer Squad                         17857\n",
              "Violation Time                           1\n",
              "Time First Observed                  48111\n",
              "Violation County                       117\n",
              "Violation In Front Of Or Opposite    18068\n",
              "House Number                         18272\n",
              "Street Name                             10\n",
              "Intersecting Street                  27283\n",
              "Date First Observed                      0\n",
              "Law Section                              0\n",
              "Sub Division                             2\n",
              "Violation Legal Code                 32143\n",
              "Days Parking In Effect               17857\n",
              "From Hours In Effect                 30394\n",
              "To Hours In Effect                   30394\n",
              "Vehicle Color                         2417\n",
              "Unregistered Vehicle?                47892\n",
              "Vehicle Year                             0\n",
              "Meter Number                         47850\n",
              "Feet From Curb                           0\n",
              "Violation Post Code                  19965\n",
              "Violation Description                27198\n",
              "No Standing or Stopping Violation    50000\n",
              "Hydrant Violation                    50000\n",
              "Double Parking Violation             50000\n",
              "dtype: int64"
            ]
          },
          "metadata": {
            "tags": []
          },
          "execution_count": 7
        }
      ]
    },
    {
      "cell_type": "markdown",
      "metadata": {
        "id": "rhwsT44GnS81"
      },
      "source": [
        "There are a bunch of columns with huge number of NaN entries.\r\n",
        "\r\n",
        "```No Standing or Stopping Violation```, ```Hydrant Violation ``` and ```Double Parking Violation``` have all rows with NaN values.\r\n",
        "\r\n",
        "```Meter Number```, ```Unregistered Vehicle? ``` and ```Time First Observed``` have over 47k rows with missing values.\r\n",
        "\r\n",
        "```Violation Legal Code ```, ```From Hours In Effect  ``` and ```To Hours In Effect ``` have over 30k rows with missing values."
      ]
    },
    {
      "cell_type": "markdown",
      "metadata": {
        "id": "elQ9KXN6pWDH"
      },
      "source": [
        "As most of these problematic columns aren't useful for my analysis, I'll drop all of them and those I don't consider useful right now."
      ]
    },
    {
      "cell_type": "code",
      "metadata": {
        "colab": {
          "base_uri": "https://localhost:8080/",
          "height": 204
        },
        "id": "0vlCAT85ork_",
        "outputId": "669a17c8-b23a-4089-a982-b7050b3c78f5"
      },
      "source": [
        "columns_to_keep = ['Summons Number', 'Violation Code', 'Vehicle Make',\r\n",
        "                   'Issue Date', 'Plate Type', 'Vehicle Year',\r\n",
        "                   'Violation Time', 'Registration State', 'Street Name']\r\n",
        "\r\n",
        "df.drop(df.columns.difference(columns_to_keep), 1, inplace=True)\r\n",
        "\r\n",
        "df.head()"
      ],
      "execution_count": 8,
      "outputs": [
        {
          "output_type": "execute_result",
          "data": {
            "text/html": [
              "<div>\n",
              "<style scoped>\n",
              "    .dataframe tbody tr th:only-of-type {\n",
              "        vertical-align: middle;\n",
              "    }\n",
              "\n",
              "    .dataframe tbody tr th {\n",
              "        vertical-align: top;\n",
              "    }\n",
              "\n",
              "    .dataframe thead th {\n",
              "        text-align: right;\n",
              "    }\n",
              "</style>\n",
              "<table border=\"1\" class=\"dataframe\">\n",
              "  <thead>\n",
              "    <tr style=\"text-align: right;\">\n",
              "      <th></th>\n",
              "      <th>Summons Number</th>\n",
              "      <th>Registration State</th>\n",
              "      <th>Plate Type</th>\n",
              "      <th>Issue Date</th>\n",
              "      <th>Violation Code</th>\n",
              "      <th>Vehicle Make</th>\n",
              "      <th>Violation Time</th>\n",
              "      <th>Street Name</th>\n",
              "      <th>Vehicle Year</th>\n",
              "    </tr>\n",
              "  </thead>\n",
              "  <tbody>\n",
              "    <tr>\n",
              "      <th>0</th>\n",
              "      <td>4714702166</td>\n",
              "      <td>NY</td>\n",
              "      <td>PAS</td>\n",
              "      <td>2020-11-12</td>\n",
              "      <td>36</td>\n",
              "      <td>BMW</td>\n",
              "      <td>0637P</td>\n",
              "      <td>WB ATLANTIC AVE @ SH</td>\n",
              "      <td>2007</td>\n",
              "    </tr>\n",
              "    <tr>\n",
              "      <th>1</th>\n",
              "      <td>8793684599</td>\n",
              "      <td>TN</td>\n",
              "      <td>PAS</td>\n",
              "      <td>2020-09-14</td>\n",
              "      <td>21</td>\n",
              "      <td>INTER</td>\n",
              "      <td>0853A</td>\n",
              "      <td>Rockaway Beach Blvd</td>\n",
              "      <td>0</td>\n",
              "    </tr>\n",
              "    <tr>\n",
              "      <th>2</th>\n",
              "      <td>8864757053</td>\n",
              "      <td>FL</td>\n",
              "      <td>PAS</td>\n",
              "      <td>2020-11-25</td>\n",
              "      <td>20</td>\n",
              "      <td>NISSA</td>\n",
              "      <td>0853A</td>\n",
              "      <td>W 113th St</td>\n",
              "      <td>0</td>\n",
              "    </tr>\n",
              "    <tr>\n",
              "      <th>3</th>\n",
              "      <td>8778326047</td>\n",
              "      <td>NY</td>\n",
              "      <td>COM</td>\n",
              "      <td>2020-08-20</td>\n",
              "      <td>38</td>\n",
              "      <td>NaN</td>\n",
              "      <td>0444P</td>\n",
              "      <td>W 33rd St</td>\n",
              "      <td>2016</td>\n",
              "    </tr>\n",
              "    <tr>\n",
              "      <th>4</th>\n",
              "      <td>4706640702</td>\n",
              "      <td>NJ</td>\n",
              "      <td>PAS</td>\n",
              "      <td>2020-09-09</td>\n",
              "      <td>36</td>\n",
              "      <td>TOYOT</td>\n",
              "      <td>0723A</td>\n",
              "      <td>WB FOSTER AVE @ E 18</td>\n",
              "      <td>2002</td>\n",
              "    </tr>\n",
              "  </tbody>\n",
              "</table>\n",
              "</div>"
            ],
            "text/plain": [
              "   Summons Number Registration State  ...           Street Name Vehicle Year\n",
              "0      4714702166                 NY  ...  WB ATLANTIC AVE @ SH         2007\n",
              "1      8793684599                 TN  ...   Rockaway Beach Blvd            0\n",
              "2      8864757053                 FL  ...            W 113th St            0\n",
              "3      8778326047                 NY  ...             W 33rd St         2016\n",
              "4      4706640702                 NJ  ...  WB FOSTER AVE @ E 18         2002\n",
              "\n",
              "[5 rows x 9 columns]"
            ]
          },
          "metadata": {
            "tags": []
          },
          "execution_count": 8
        }
      ]
    },
    {
      "cell_type": "code",
      "metadata": {
        "colab": {
          "base_uri": "https://localhost:8080/"
        },
        "id": "fTkqIYpAqMaY",
        "outputId": "53c38fb8-359f-43fe-ca38-58b5e9b24186"
      },
      "source": [
        "# Checking missing values again:\r\n",
        "df.isna().sum()"
      ],
      "execution_count": 9,
      "outputs": [
        {
          "output_type": "execute_result",
          "data": {
            "text/plain": [
              "Summons Number          0\n",
              "Registration State      0\n",
              "Plate Type              0\n",
              "Issue Date              0\n",
              "Violation Code          0\n",
              "Vehicle Make          136\n",
              "Violation Time          1\n",
              "Street Name            10\n",
              "Vehicle Year            0\n",
              "dtype: int64"
            ]
          },
          "metadata": {
            "tags": []
          },
          "execution_count": 9
        }
      ]
    },
    {
      "cell_type": "code",
      "metadata": {
        "colab": {
          "base_uri": "https://localhost:8080/"
        },
        "id": "hJDQPfBdVfHx",
        "outputId": "b891d856-de6c-4888-8282-817fed0c66d3"
      },
      "source": [
        "# Inspecting the 'Registration State' column\r\n",
        "df[\"Registration State\"].unique()\r\n",
        "# The '99' entry doesn't mean anything and it's possible a missing value."
      ],
      "execution_count": 10,
      "outputs": [
        {
          "output_type": "execute_result",
          "data": {
            "text/plain": [
              "array(['NY', 'TN', 'FL', 'NJ', 'MA', 'PA', 'MD', 'CT', 'TX', 'CA', 'IL',\n",
              "       'IN', 'OR', 'AZ', 'QB', 'WA', 'GA', 'CO', 'GV', 'NC', 'ME', 'DE',\n",
              "       'VA', 'MN', '99', 'WV', 'OH', 'NH', 'AR', 'DC', 'SC', 'NV', 'SD',\n",
              "       'RI', 'MO', 'LA', 'NM', 'OK', 'AL', 'IA', 'MT', 'MI', 'NE', 'ID',\n",
              "       'KY', 'VT', 'WI', 'MS', 'ON', 'HI', 'KS', 'UT', 'AK', 'FO', 'PR',\n",
              "       'DP', 'WY', 'AB', 'ND'], dtype=object)"
            ]
          },
          "metadata": {
            "tags": []
          },
          "execution_count": 10
        }
      ]
    },
    {
      "cell_type": "code",
      "metadata": {
        "colab": {
          "base_uri": "https://localhost:8080/",
          "height": 419
        },
        "id": "cPprGujGVRPS",
        "outputId": "7d1b2a2e-027c-4c6e-fae1-a93209fe49cf"
      },
      "source": [
        "# Examining the rows where \"Registration State\" is 99 we can see that the \"Plate Type\"\r\n",
        "# also has a missing value entry: '999'\r\n",
        "df[df['Registration State'] == \"99\"]"
      ],
      "execution_count": 11,
      "outputs": [
        {
          "output_type": "execute_result",
          "data": {
            "text/html": [
              "<div>\n",
              "<style scoped>\n",
              "    .dataframe tbody tr th:only-of-type {\n",
              "        vertical-align: middle;\n",
              "    }\n",
              "\n",
              "    .dataframe tbody tr th {\n",
              "        vertical-align: top;\n",
              "    }\n",
              "\n",
              "    .dataframe thead th {\n",
              "        text-align: right;\n",
              "    }\n",
              "</style>\n",
              "<table border=\"1\" class=\"dataframe\">\n",
              "  <thead>\n",
              "    <tr style=\"text-align: right;\">\n",
              "      <th></th>\n",
              "      <th>Summons Number</th>\n",
              "      <th>Registration State</th>\n",
              "      <th>Plate Type</th>\n",
              "      <th>Issue Date</th>\n",
              "      <th>Violation Code</th>\n",
              "      <th>Vehicle Make</th>\n",
              "      <th>Violation Time</th>\n",
              "      <th>Street Name</th>\n",
              "      <th>Vehicle Year</th>\n",
              "    </tr>\n",
              "  </thead>\n",
              "  <tbody>\n",
              "    <tr>\n",
              "      <th>450</th>\n",
              "      <td>8558998905</td>\n",
              "      <td>99</td>\n",
              "      <td>999</td>\n",
              "      <td>2020-09-08</td>\n",
              "      <td>20</td>\n",
              "      <td>FORD</td>\n",
              "      <td>0258P</td>\n",
              "      <td>49th Ave</td>\n",
              "      <td>0</td>\n",
              "    </tr>\n",
              "    <tr>\n",
              "      <th>8177</th>\n",
              "      <td>1473591405</td>\n",
              "      <td>99</td>\n",
              "      <td>999</td>\n",
              "      <td>2020-10-06</td>\n",
              "      <td>74</td>\n",
              "      <td>HONDA</td>\n",
              "      <td>0123P</td>\n",
              "      <td>E 178 STREET</td>\n",
              "      <td>2009</td>\n",
              "    </tr>\n",
              "    <tr>\n",
              "      <th>8371</th>\n",
              "      <td>1473889406</td>\n",
              "      <td>99</td>\n",
              "      <td>999</td>\n",
              "      <td>2020-07-22</td>\n",
              "      <td>70</td>\n",
              "      <td>MITSU</td>\n",
              "      <td>1050P</td>\n",
              "      <td>BOSTON RD</td>\n",
              "      <td>2008</td>\n",
              "    </tr>\n",
              "    <tr>\n",
              "      <th>9097</th>\n",
              "      <td>1478640340</td>\n",
              "      <td>99</td>\n",
              "      <td>999</td>\n",
              "      <td>2020-08-04</td>\n",
              "      <td>21</td>\n",
              "      <td>INTER</td>\n",
              "      <td>0839A</td>\n",
              "      <td>7TH AVENUE</td>\n",
              "      <td>0</td>\n",
              "    </tr>\n",
              "    <tr>\n",
              "      <th>10194</th>\n",
              "      <td>1478349232</td>\n",
              "      <td>99</td>\n",
              "      <td>COM</td>\n",
              "      <td>2020-08-29</td>\n",
              "      <td>21</td>\n",
              "      <td>FORD</td>\n",
              "      <td>0820A</td>\n",
              "      <td>GRAND AVENUE</td>\n",
              "      <td>2010</td>\n",
              "    </tr>\n",
              "    <tr>\n",
              "      <th>...</th>\n",
              "      <td>...</td>\n",
              "      <td>...</td>\n",
              "      <td>...</td>\n",
              "      <td>...</td>\n",
              "      <td>...</td>\n",
              "      <td>...</td>\n",
              "      <td>...</td>\n",
              "      <td>...</td>\n",
              "      <td>...</td>\n",
              "    </tr>\n",
              "    <tr>\n",
              "      <th>47496</th>\n",
              "      <td>1477643310</td>\n",
              "      <td>99</td>\n",
              "      <td>999</td>\n",
              "      <td>2020-07-11</td>\n",
              "      <td>51</td>\n",
              "      <td>HONDA</td>\n",
              "      <td>0955A</td>\n",
              "      <td>CHESTNUT ST</td>\n",
              "      <td>0</td>\n",
              "    </tr>\n",
              "    <tr>\n",
              "      <th>48018</th>\n",
              "      <td>1474455141</td>\n",
              "      <td>99</td>\n",
              "      <td>PAS</td>\n",
              "      <td>2020-10-11</td>\n",
              "      <td>14</td>\n",
              "      <td>CHEVR</td>\n",
              "      <td>1240A</td>\n",
              "      <td>W 202 ST</td>\n",
              "      <td>2014</td>\n",
              "    </tr>\n",
              "    <tr>\n",
              "      <th>49639</th>\n",
              "      <td>1479532290</td>\n",
              "      <td>99</td>\n",
              "      <td>PAS</td>\n",
              "      <td>2020-09-03</td>\n",
              "      <td>21</td>\n",
              "      <td>TOYOT</td>\n",
              "      <td>0904A</td>\n",
              "      <td>OVINGTON AVE</td>\n",
              "      <td>0</td>\n",
              "    </tr>\n",
              "    <tr>\n",
              "      <th>49653</th>\n",
              "      <td>1472860378</td>\n",
              "      <td>99</td>\n",
              "      <td>PAS</td>\n",
              "      <td>2020-07-15</td>\n",
              "      <td>17</td>\n",
              "      <td>CHEVR</td>\n",
              "      <td>0825A</td>\n",
              "      <td>PACIFIC</td>\n",
              "      <td>0</td>\n",
              "    </tr>\n",
              "    <tr>\n",
              "      <th>49959</th>\n",
              "      <td>8833558344</td>\n",
              "      <td>99</td>\n",
              "      <td>999</td>\n",
              "      <td>2020-10-07</td>\n",
              "      <td>74</td>\n",
              "      <td>VESPA</td>\n",
              "      <td>0117P</td>\n",
              "      <td>7th Ave</td>\n",
              "      <td>0</td>\n",
              "    </tr>\n",
              "  </tbody>\n",
              "</table>\n",
              "<p>70 rows × 9 columns</p>\n",
              "</div>"
            ],
            "text/plain": [
              "       Summons Number Registration State  ...   Street Name Vehicle Year\n",
              "450        8558998905                 99  ...      49th Ave            0\n",
              "8177       1473591405                 99  ...  E 178 STREET         2009\n",
              "8371       1473889406                 99  ...     BOSTON RD         2008\n",
              "9097       1478640340                 99  ...    7TH AVENUE            0\n",
              "10194      1478349232                 99  ...  GRAND AVENUE         2010\n",
              "...               ...                ...  ...           ...          ...\n",
              "47496      1477643310                 99  ...   CHESTNUT ST            0\n",
              "48018      1474455141                 99  ...      W 202 ST         2014\n",
              "49639      1479532290                 99  ...  OVINGTON AVE            0\n",
              "49653      1472860378                 99  ...       PACIFIC            0\n",
              "49959      8833558344                 99  ...       7th Ave            0\n",
              "\n",
              "[70 rows x 9 columns]"
            ]
          },
          "metadata": {
            "tags": []
          },
          "execution_count": 11
        }
      ]
    },
    {
      "cell_type": "code",
      "metadata": {
        "id": "aCg0bTGGYBZk"
      },
      "source": [
        "# Let's discart these rows, along with the ones that have some column with NaN value:\r\n",
        "\r\n",
        "df = df[(df['Registration State'] != \"99\") \r\n",
        "    & (df['Plate Type'] != \"999\")\r\n",
        "    & (df['Vehicle Make'].notnull()) \r\n",
        "    & (df['Violation Time'].notnull())]"
      ],
      "execution_count": 12,
      "outputs": []
    },
    {
      "cell_type": "code",
      "metadata": {
        "colab": {
          "base_uri": "https://localhost:8080/",
          "height": 49
        },
        "id": "A-Zz-66dYbG-",
        "outputId": "6f2ad069-8b5b-4588-d46b-3f446deb7d60"
      },
      "source": [
        "# Sanity check\r\n",
        "df[df['Registration State'] == \"99\"]"
      ],
      "execution_count": 13,
      "outputs": [
        {
          "output_type": "execute_result",
          "data": {
            "text/html": [
              "<div>\n",
              "<style scoped>\n",
              "    .dataframe tbody tr th:only-of-type {\n",
              "        vertical-align: middle;\n",
              "    }\n",
              "\n",
              "    .dataframe tbody tr th {\n",
              "        vertical-align: top;\n",
              "    }\n",
              "\n",
              "    .dataframe thead th {\n",
              "        text-align: right;\n",
              "    }\n",
              "</style>\n",
              "<table border=\"1\" class=\"dataframe\">\n",
              "  <thead>\n",
              "    <tr style=\"text-align: right;\">\n",
              "      <th></th>\n",
              "      <th>Summons Number</th>\n",
              "      <th>Registration State</th>\n",
              "      <th>Plate Type</th>\n",
              "      <th>Issue Date</th>\n",
              "      <th>Violation Code</th>\n",
              "      <th>Vehicle Make</th>\n",
              "      <th>Violation Time</th>\n",
              "      <th>Street Name</th>\n",
              "      <th>Vehicle Year</th>\n",
              "    </tr>\n",
              "  </thead>\n",
              "  <tbody>\n",
              "  </tbody>\n",
              "</table>\n",
              "</div>"
            ],
            "text/plain": [
              "Empty DataFrame\n",
              "Columns: [Summons Number, Registration State, Plate Type, Issue Date, Violation Code, Vehicle Make, Violation Time, Street Name, Vehicle Year]\n",
              "Index: []"
            ]
          },
          "metadata": {
            "tags": []
          },
          "execution_count": 13
        }
      ]
    },
    {
      "cell_type": "markdown",
      "metadata": {
        "id": "HkoCJTV5YwMz"
      },
      "source": [
        "Let's see if there are wrong dates in the \"Issue Date\" column"
      ]
    },
    {
      "cell_type": "code",
      "metadata": {
        "colab": {
          "base_uri": "https://localhost:8080/",
          "height": 142
        },
        "id": "5aRpU55-UdeA",
        "outputId": "224b3219-2fa8-4684-c7e5-ea5a6d3a81b4"
      },
      "source": [
        "# Dates before 04/01/2020 (beggining of the fiscal year)\r\n",
        "df[df[\"Issue Date\"] <= '2020-04-01']"
      ],
      "execution_count": 14,
      "outputs": [
        {
          "output_type": "execute_result",
          "data": {
            "text/html": [
              "<div>\n",
              "<style scoped>\n",
              "    .dataframe tbody tr th:only-of-type {\n",
              "        vertical-align: middle;\n",
              "    }\n",
              "\n",
              "    .dataframe tbody tr th {\n",
              "        vertical-align: top;\n",
              "    }\n",
              "\n",
              "    .dataframe thead th {\n",
              "        text-align: right;\n",
              "    }\n",
              "</style>\n",
              "<table border=\"1\" class=\"dataframe\">\n",
              "  <thead>\n",
              "    <tr style=\"text-align: right;\">\n",
              "      <th></th>\n",
              "      <th>Summons Number</th>\n",
              "      <th>Registration State</th>\n",
              "      <th>Plate Type</th>\n",
              "      <th>Issue Date</th>\n",
              "      <th>Violation Code</th>\n",
              "      <th>Vehicle Make</th>\n",
              "      <th>Violation Time</th>\n",
              "      <th>Street Name</th>\n",
              "      <th>Vehicle Year</th>\n",
              "    </tr>\n",
              "  </thead>\n",
              "  <tbody>\n",
              "    <tr>\n",
              "      <th>5478</th>\n",
              "      <td>1434778198</td>\n",
              "      <td>NY</td>\n",
              "      <td>PAS</td>\n",
              "      <td>2019-12-13</td>\n",
              "      <td>17</td>\n",
              "      <td>MITSU</td>\n",
              "      <td>0743A</td>\n",
              "      <td>GRAND CONCOURSE</td>\n",
              "      <td>2006</td>\n",
              "    </tr>\n",
              "    <tr>\n",
              "      <th>38476</th>\n",
              "      <td>1479597715</td>\n",
              "      <td>NY</td>\n",
              "      <td>PAS</td>\n",
              "      <td>2010-10-22</td>\n",
              "      <td>19</td>\n",
              "      <td>BMW</td>\n",
              "      <td>0354P</td>\n",
              "      <td>BRIGHTON BEACH AVE</td>\n",
              "      <td>2019</td>\n",
              "    </tr>\n",
              "    <tr>\n",
              "      <th>39623</th>\n",
              "      <td>1476478417</td>\n",
              "      <td>NY</td>\n",
              "      <td>PAS</td>\n",
              "      <td>2020-02-26</td>\n",
              "      <td>20</td>\n",
              "      <td>BMW</td>\n",
              "      <td>0939A</td>\n",
              "      <td>MORRIS AVE</td>\n",
              "      <td>2007</td>\n",
              "    </tr>\n",
              "  </tbody>\n",
              "</table>\n",
              "</div>"
            ],
            "text/plain": [
              "       Summons Number Registration State  ...         Street Name Vehicle Year\n",
              "5478       1434778198                 NY  ...     GRAND CONCOURSE         2006\n",
              "38476      1479597715                 NY  ...  BRIGHTON BEACH AVE         2019\n",
              "39623      1476478417                 NY  ...          MORRIS AVE         2007\n",
              "\n",
              "[3 rows x 9 columns]"
            ]
          },
          "metadata": {
            "tags": []
          },
          "execution_count": 14
        }
      ]
    },
    {
      "cell_type": "code",
      "metadata": {
        "colab": {
          "base_uri": "https://localhost:8080/",
          "height": 173
        },
        "id": "Yl6B0rIdYour",
        "outputId": "ddeb5079-8ed9-47a6-9e46-a6036b534847"
      },
      "source": [
        "# Dates after 11/30/2020 (the end of the fiscal year)\r\n",
        "df[df[\"Issue Date\"] >= '2020-11-30']"
      ],
      "execution_count": 15,
      "outputs": [
        {
          "output_type": "execute_result",
          "data": {
            "text/html": [
              "<div>\n",
              "<style scoped>\n",
              "    .dataframe tbody tr th:only-of-type {\n",
              "        vertical-align: middle;\n",
              "    }\n",
              "\n",
              "    .dataframe tbody tr th {\n",
              "        vertical-align: top;\n",
              "    }\n",
              "\n",
              "    .dataframe thead th {\n",
              "        text-align: right;\n",
              "    }\n",
              "</style>\n",
              "<table border=\"1\" class=\"dataframe\">\n",
              "  <thead>\n",
              "    <tr style=\"text-align: right;\">\n",
              "      <th></th>\n",
              "      <th>Summons Number</th>\n",
              "      <th>Registration State</th>\n",
              "      <th>Plate Type</th>\n",
              "      <th>Issue Date</th>\n",
              "      <th>Violation Code</th>\n",
              "      <th>Vehicle Make</th>\n",
              "      <th>Violation Time</th>\n",
              "      <th>Street Name</th>\n",
              "      <th>Vehicle Year</th>\n",
              "    </tr>\n",
              "  </thead>\n",
              "  <tbody>\n",
              "    <tr>\n",
              "      <th>26544</th>\n",
              "      <td>1477685066</td>\n",
              "      <td>NY</td>\n",
              "      <td>PAS</td>\n",
              "      <td>2030-08-06</td>\n",
              "      <td>21</td>\n",
              "      <td>TOYOT</td>\n",
              "      <td>0954A</td>\n",
              "      <td>38 AVE</td>\n",
              "      <td>2014</td>\n",
              "    </tr>\n",
              "    <tr>\n",
              "      <th>29120</th>\n",
              "      <td>1479952205</td>\n",
              "      <td>NY</td>\n",
              "      <td>PAS</td>\n",
              "      <td>2021-11-04</td>\n",
              "      <td>21</td>\n",
              "      <td>CHEVR</td>\n",
              "      <td>1123A</td>\n",
              "      <td>74 AVE</td>\n",
              "      <td>0</td>\n",
              "    </tr>\n",
              "    <tr>\n",
              "      <th>29947</th>\n",
              "      <td>1480015891</td>\n",
              "      <td>NY</td>\n",
              "      <td>PAS</td>\n",
              "      <td>2022-10-20</td>\n",
              "      <td>21</td>\n",
              "      <td>SUBAR</td>\n",
              "      <td>1206P</td>\n",
              "      <td>NORWOOD AVE</td>\n",
              "      <td>2014</td>\n",
              "    </tr>\n",
              "    <tr>\n",
              "      <th>48186</th>\n",
              "      <td>1476825312</td>\n",
              "      <td>NY</td>\n",
              "      <td>PAS</td>\n",
              "      <td>2026-09-16</td>\n",
              "      <td>21</td>\n",
              "      <td>HONDA</td>\n",
              "      <td>0739A</td>\n",
              "      <td>13TH AV</td>\n",
              "      <td>2003</td>\n",
              "    </tr>\n",
              "  </tbody>\n",
              "</table>\n",
              "</div>"
            ],
            "text/plain": [
              "       Summons Number Registration State  ...  Street Name Vehicle Year\n",
              "26544      1477685066                 NY  ...       38 AVE         2014\n",
              "29120      1479952205                 NY  ...       74 AVE            0\n",
              "29947      1480015891                 NY  ...  NORWOOD AVE         2014\n",
              "48186      1476825312                 NY  ...      13TH AV         2003\n",
              "\n",
              "[4 rows x 9 columns]"
            ]
          },
          "metadata": {
            "tags": []
          },
          "execution_count": 15
        }
      ]
    },
    {
      "cell_type": "code",
      "metadata": {
        "id": "NSPFC-2CZY0M"
      },
      "source": [
        "# Let's discard these rows:\r\n",
        "\r\n",
        "df = df[(df['Issue Date'] >= '2020-04-01') \r\n",
        "        & (df['Issue Date'] <= '2020-11-30')]"
      ],
      "execution_count": 16,
      "outputs": []
    },
    {
      "cell_type": "markdown",
      "metadata": {
        "id": "nBOUxiS5Zkau"
      },
      "source": [
        "Dealing with the other three columns"
      ]
    },
    {
      "cell_type": "code",
      "metadata": {
        "colab": {
          "base_uri": "https://localhost:8080/"
        },
        "id": "Res46o4pZOOV",
        "outputId": "901e2a5e-7092-4973-dcfb-2cc14cff55ad"
      },
      "source": [
        "# \"Violation Code\"\r\n",
        "\r\n",
        "df['Violation Code'].unique()\r\n",
        "# it looks alright"
      ],
      "execution_count": 17,
      "outputs": [
        {
          "output_type": "execute_result",
          "data": {
            "text/plain": [
              "array([36, 21, 20, 74, 38, 14,  7, 40, 31, 16, 50, 69, 68, 17, 46, 84, 19,\n",
              "       42,  5, 37, 33, 10, 78, 70, 51, 47, 82, 66, 61, 98, 53, 94, 71,  8,\n",
              "       41, 45, 72, 99, 12, 18, 77,  9, 48, 83, 22, 67, 39, 85, 76, 13, 52,\n",
              "       60,  6, 24, 75, 64, 11, 73,  4, 87, 54, 35, 56, 62, 27, 96, 91, 44,\n",
              "       26, 49, 89, 80, 95, 79, 63,  1, 59])"
            ]
          },
          "metadata": {
            "tags": []
          },
          "execution_count": 17
        }
      ]
    },
    {
      "cell_type": "code",
      "metadata": {
        "colab": {
          "base_uri": "https://localhost:8080/"
        },
        "id": "fevU-1AcZv57",
        "outputId": "8c82ef65-8bad-4977-de5f-56ef6a902969"
      },
      "source": [
        "# \"Vehicle Year\"\r\n",
        "df['Vehicle Year'].unique()\r\n",
        "# definitely numbers like 0 and bigger than 2020 shouldn't be here"
      ],
      "execution_count": 18,
      "outputs": [
        {
          "output_type": "execute_result",
          "data": {
            "text/plain": [
              "array([2007,    0, 2002, 2017, 2008, 2016, 2018, 2006, 2019, 2013, 2004,\n",
              "       2005, 2010, 2020, 1997, 2012, 2009, 2015, 2014, 2011, 2003, 2021,\n",
              "       2001, 1991, 1998, 1995, 1999, 1994, 1990, 1992, 1989, 1993, 1996,\n",
              "       1985, 2054, 1977, 1988, 1978, 1987, 2066, 1984, 1986, 1976, 1982,\n",
              "       1983, 2069, 1979, 2062])"
            ]
          },
          "metadata": {
            "tags": []
          },
          "execution_count": 18
        }
      ]
    },
    {
      "cell_type": "code",
      "metadata": {
        "id": "fEeOMZnSaXHE"
      },
      "source": [
        "df = df[(df['Vehicle Year'] != 0) \r\n",
        "    & (df['Vehicle Year'] <= 2020)]"
      ],
      "execution_count": 19,
      "outputs": []
    },
    {
      "cell_type": "code",
      "metadata": {
        "colab": {
          "base_uri": "https://localhost:8080/",
          "height": 204
        },
        "id": "fUmOrrT5IUj8",
        "outputId": "cb81eab2-8c95-447c-8505-d9cfcbf91675"
      },
      "source": [
        "df[df['Street Name'].isna()]\r\n",
        "# There are some entries with NaN values"
      ],
      "execution_count": 20,
      "outputs": [
        {
          "output_type": "execute_result",
          "data": {
            "text/html": [
              "<div>\n",
              "<style scoped>\n",
              "    .dataframe tbody tr th:only-of-type {\n",
              "        vertical-align: middle;\n",
              "    }\n",
              "\n",
              "    .dataframe tbody tr th {\n",
              "        vertical-align: top;\n",
              "    }\n",
              "\n",
              "    .dataframe thead th {\n",
              "        text-align: right;\n",
              "    }\n",
              "</style>\n",
              "<table border=\"1\" class=\"dataframe\">\n",
              "  <thead>\n",
              "    <tr style=\"text-align: right;\">\n",
              "      <th></th>\n",
              "      <th>Summons Number</th>\n",
              "      <th>Registration State</th>\n",
              "      <th>Plate Type</th>\n",
              "      <th>Issue Date</th>\n",
              "      <th>Violation Code</th>\n",
              "      <th>Vehicle Make</th>\n",
              "      <th>Violation Time</th>\n",
              "      <th>Street Name</th>\n",
              "      <th>Vehicle Year</th>\n",
              "    </tr>\n",
              "  </thead>\n",
              "  <tbody>\n",
              "    <tr>\n",
              "      <th>302</th>\n",
              "      <td>6021023640</td>\n",
              "      <td>NY</td>\n",
              "      <td>PAS</td>\n",
              "      <td>2020-07-09</td>\n",
              "      <td>94</td>\n",
              "      <td>NISSA</td>\n",
              "      <td>1033A</td>\n",
              "      <td>NaN</td>\n",
              "      <td>2018</td>\n",
              "    </tr>\n",
              "    <tr>\n",
              "      <th>10070</th>\n",
              "      <td>6021024539</td>\n",
              "      <td>NY</td>\n",
              "      <td>PAS</td>\n",
              "      <td>2020-11-23</td>\n",
              "      <td>94</td>\n",
              "      <td>DODGE</td>\n",
              "      <td>0930A</td>\n",
              "      <td>NaN</td>\n",
              "      <td>2019</td>\n",
              "    </tr>\n",
              "    <tr>\n",
              "      <th>13984</th>\n",
              "      <td>8570063805</td>\n",
              "      <td>NY</td>\n",
              "      <td>PAS</td>\n",
              "      <td>2020-10-15</td>\n",
              "      <td>31</td>\n",
              "      <td>HONDA</td>\n",
              "      <td>0418P</td>\n",
              "      <td>NaN</td>\n",
              "      <td>2015</td>\n",
              "    </tr>\n",
              "    <tr>\n",
              "      <th>34351</th>\n",
              "      <td>1472935044</td>\n",
              "      <td>NY</td>\n",
              "      <td>PAS</td>\n",
              "      <td>2020-11-01</td>\n",
              "      <td>98</td>\n",
              "      <td>HYUND</td>\n",
              "      <td>0701A</td>\n",
              "      <td>NaN</td>\n",
              "      <td>2004</td>\n",
              "    </tr>\n",
              "    <tr>\n",
              "      <th>41414</th>\n",
              "      <td>1478907058</td>\n",
              "      <td>NY</td>\n",
              "      <td>PAS</td>\n",
              "      <td>2020-10-19</td>\n",
              "      <td>21</td>\n",
              "      <td>HONDA</td>\n",
              "      <td>0940A</td>\n",
              "      <td>NaN</td>\n",
              "      <td>2016</td>\n",
              "    </tr>\n",
              "  </tbody>\n",
              "</table>\n",
              "</div>"
            ],
            "text/plain": [
              "       Summons Number Registration State  ... Street Name Vehicle Year\n",
              "302        6021023640                 NY  ...         NaN         2018\n",
              "10070      6021024539                 NY  ...         NaN         2019\n",
              "13984      8570063805                 NY  ...         NaN         2015\n",
              "34351      1472935044                 NY  ...         NaN         2004\n",
              "41414      1478907058                 NY  ...         NaN         2016\n",
              "\n",
              "[5 rows x 9 columns]"
            ]
          },
          "metadata": {
            "tags": []
          },
          "execution_count": 20
        }
      ]
    },
    {
      "cell_type": "code",
      "metadata": {
        "id": "gIfGo6cAIgBS"
      },
      "source": [
        "# Discarting the rows with NaN values in the 'Street Name' column\r\n",
        "df = df[df['Street Name'].notnull()]"
      ],
      "execution_count": 21,
      "outputs": []
    },
    {
      "cell_type": "code",
      "metadata": {
        "colab": {
          "base_uri": "https://localhost:8080/",
          "height": 49
        },
        "id": "U0qpINXWIjWy",
        "outputId": "8c563df0-8c49-4166-c1dc-b1df10c10562"
      },
      "source": [
        "# Sanity check\r\n",
        "df[df['Street Name'].isna()]"
      ],
      "execution_count": 22,
      "outputs": [
        {
          "output_type": "execute_result",
          "data": {
            "text/html": [
              "<div>\n",
              "<style scoped>\n",
              "    .dataframe tbody tr th:only-of-type {\n",
              "        vertical-align: middle;\n",
              "    }\n",
              "\n",
              "    .dataframe tbody tr th {\n",
              "        vertical-align: top;\n",
              "    }\n",
              "\n",
              "    .dataframe thead th {\n",
              "        text-align: right;\n",
              "    }\n",
              "</style>\n",
              "<table border=\"1\" class=\"dataframe\">\n",
              "  <thead>\n",
              "    <tr style=\"text-align: right;\">\n",
              "      <th></th>\n",
              "      <th>Summons Number</th>\n",
              "      <th>Registration State</th>\n",
              "      <th>Plate Type</th>\n",
              "      <th>Issue Date</th>\n",
              "      <th>Violation Code</th>\n",
              "      <th>Vehicle Make</th>\n",
              "      <th>Violation Time</th>\n",
              "      <th>Street Name</th>\n",
              "      <th>Vehicle Year</th>\n",
              "    </tr>\n",
              "  </thead>\n",
              "  <tbody>\n",
              "  </tbody>\n",
              "</table>\n",
              "</div>"
            ],
            "text/plain": [
              "Empty DataFrame\n",
              "Columns: [Summons Number, Registration State, Plate Type, Issue Date, Violation Code, Vehicle Make, Violation Time, Street Name, Vehicle Year]\n",
              "Index: []"
            ]
          },
          "metadata": {
            "tags": []
          },
          "execution_count": 22
        }
      ]
    },
    {
      "cell_type": "code",
      "metadata": {
        "colab": {
          "base_uri": "https://localhost:8080/"
        },
        "id": "sgzd_R7iagQj",
        "outputId": "6a1a3afc-ddd8-4947-e828-16a38e845c00"
      },
      "source": [
        "# Counting the number os rows and columns after the data processing\r\n",
        "rows, columns = df.shape\r\n",
        "\r\n",
        "print(\"After data processing\")\r\n",
        "print(\"Rows:\", rows)\r\n",
        "print(\"Columns:\", columns)"
      ],
      "execution_count": 23,
      "outputs": [
        {
          "output_type": "stream",
          "text": [
            "After data processing\n",
            "Rows: 38932\n",
            "Columns: 9\n"
          ],
          "name": "stdout"
        }
      ]
    },
    {
      "cell_type": "markdown",
      "metadata": {
        "id": "Fui0w9owa7OR"
      },
      "source": [
        "11068 rows were discarted."
      ]
    },
    {
      "cell_type": "markdown",
      "metadata": {
        "id": "XHBSFRiDa_1z"
      },
      "source": [
        "###Plotting"
      ]
    },
    {
      "cell_type": "code",
      "metadata": {
        "id": "VMAhp835l5KE"
      },
      "source": [
        "# Importing the libraries\r\n",
        "import seaborn as sns\r\n",
        "import matplotlib.pyplot as plt\r\n",
        "\r\n",
        "# Setting the seaborn default theme\r\n",
        "sns.set_theme()"
      ],
      "execution_count": 24,
      "outputs": []
    },
    {
      "cell_type": "code",
      "metadata": {
        "id": "V62QTgbOm83u"
      },
      "source": [
        "# Getting the number of violations by each vehicle fabrication year\r\n",
        "violations_by_vehicle_year = df.groupby('Vehicle Year')['Summons Number'].count()"
      ],
      "execution_count": 25,
      "outputs": []
    },
    {
      "cell_type": "code",
      "metadata": {
        "colab": {
          "base_uri": "https://localhost:8080/"
        },
        "id": "RwCpQ_bWrU6O",
        "outputId": "7f520671-cfbc-424d-9cb5-e2c33587810c"
      },
      "source": [
        "violations_by_vehicle_year.head()"
      ],
      "execution_count": 26,
      "outputs": [
        {
          "output_type": "execute_result",
          "data": {
            "text/plain": [
              "Vehicle Year\n",
              "1976    1\n",
              "1977    1\n",
              "1978    1\n",
              "1979    1\n",
              "1982    3\n",
              "Name: Summons Number, dtype: int64"
            ]
          },
          "metadata": {
            "tags": []
          },
          "execution_count": 26
        }
      ]
    },
    {
      "cell_type": "markdown",
      "metadata": {
        "id": "iJuIlJLhkHRU"
      },
      "source": [
        "A plot that shows the number of parking violations issued for each vehicle year:"
      ]
    },
    {
      "cell_type": "code",
      "metadata": {
        "colab": {
          "base_uri": "https://localhost:8080/",
          "height": 586
        },
        "id": "ReFoSwlNsgAx",
        "outputId": "1bd3900b-3991-4880-9bc2-c44962d4e22b"
      },
      "source": [
        "# set the figure size\r\n",
        "fig = plt.figure(figsize=(18, 9))\r\n",
        "# set the background color to mach the plot color\r\n",
        "fig.patch.set_facecolor('#eaeaf2')\r\n",
        "# disable the box around the plot\r\n",
        "plt.box(False)\r\n",
        "\r\n",
        "\r\n",
        "ax = sns.lineplot(x=violations_by_vehicle_year.index,\r\n",
        "                  y=violations_by_vehicle_year.values) #sns.lineplot returns an axes object\r\n",
        "\r\n",
        "# create two lists of labels\r\n",
        "years = [x for x in range(1976, 2021, 2)]\r\n",
        "ammount_violations = [1000, 2000, 3000, 4000, 5000]\r\n",
        "\r\n",
        "# set the xticks and yticks based on the lists created\r\n",
        "ax.set_xticks(years)\r\n",
        "ax.set_yticks(ammount_violations)\r\n",
        "\r\n",
        "# set the x and y labels and limits\r\n",
        "ax.set(xlabel='Vehicle Year', ylabel='Number of Violations', xlim = (1976, 2020), ylim = (-15, 5200))\r\n",
        "\r\n",
        "# add a title\r\n",
        "plt.title('Parking Violations Issued for Vehicle Year',\r\n",
        "          size=18, alpha=0.8, y=1.02)\r\n",
        "\r\n",
        "# disable the default seaborn grid\r\n",
        "ax.grid(False)\r\n",
        "\r\n",
        "# crate a custom grid\r\n",
        "plt.vlines(years, *ax.get_ylim(), color='k', linestyles='--', lw=0.3, alpha=0.4)\r\n",
        "plt.hlines(ammount_violations, *ax.get_xlim(), color='k', linestyles='--', lw=0.3, alpha=0.4)\r\n",
        "\r\n",
        "# show the plot\r\n",
        "plt.show();"
      ],
      "execution_count": 46,
      "outputs": [
        {
          "output_type": "display_data",
          "data": {
            "image/png": "[encoded data removed]",
            "text/plain": [
              "<Figure size 1296x648 with 1 Axes>"
            ]
          },
          "metadata": {
            "tags": []
          }
        }
      ]
    },
    {
      "cell_type": "markdown",
      "metadata": {
        "id": "workznto0fFH"
      },
      "source": [
        "Top 5 violation codes"
      ]
    },
    {
      "cell_type": "code",
      "metadata": {
        "colab": {
          "base_uri": "https://localhost:8080/",
          "height": 136
        },
        "id": "8giYjHYj0LQ-",
        "outputId": "6e9d1926-eaed-4880-c328-9cd324f7b0c4"
      },
      "source": [
        "# create a series containing the top 5 violations codes\r\n",
        "top_5_violations = df.groupby('Violation Code')['Summons Number'].count().nlargest(5)\r\n",
        "display(top_5_violations)"
      ],
      "execution_count": 29,
      "outputs": [
        {
          "output_type": "display_data",
          "data": {
            "text/plain": [
              "Violation Code\n",
              "36    14318\n",
              "21     4318\n",
              "38     2939\n",
              "14     2143\n",
              "20     2013\n",
              "Name: Summons Number, dtype: int64"
            ]
          },
          "metadata": {
            "tags": []
          }
        }
      ]
    },
    {
      "cell_type": "code",
      "metadata": {
        "colab": {
          "base_uri": "https://localhost:8080/",
          "height": 429
        },
        "id": "EVLOgRR-1VIe",
        "outputId": "e97dabdc-efcf-4adc-aa02-6deaf88d3722"
      },
      "source": [
        "# set the figure size\r\n",
        "fig = plt.figure(figsize=(15, 7))\r\n",
        "\r\n",
        "# create a plot and save the axes object it returns\r\n",
        "ax = top_5_violations.plot.pie()\r\n",
        "\r\n",
        "# set the labels\r\n",
        "ax.set(xlabel='', ylabel='')\r\n",
        "\r\n",
        "# set a title\r\n",
        "plt.title('Proportion of the top 5 violations',\r\n",
        "          size=16, alpha=0.8);\r\n",
        "\r\n",
        "# show the plot\r\n",
        "plt.show();"
      ],
      "execution_count": 30,
      "outputs": [
        {
          "output_type": "display_data",
          "data": {
            "image/png": "[encoded data removed]",
            "text/plain": [
              "<Figure size 1080x504 with 1 Axes>"
            ]
          },
          "metadata": {
            "tags": []
          }
        }
      ]
    },
    {
      "cell_type": "markdown",
      "metadata": {
        "id": "jPcuVC92kG3q"
      },
      "source": [
        "List the top 5 violation codes for vehicles that are registered in states other than NY."
      ]
    },
    {
      "cell_type": "code",
      "metadata": {
        "colab": {
          "base_uri": "https://localhost:8080/"
        },
        "id": "4WpT33wdz1lG",
        "outputId": "a20dd68d-35cc-413f-c124-22a0006d1678"
      },
      "source": [
        "# create a series of the 5 top violations codes made by cars registed outside NY\r\n",
        "top_5_no_NY = df[df['Registration State'] != 'NY'].groupby('Violation Code')['Summons Number'].count().nlargest(5)\r\n",
        "top_5_no_NY"
      ],
      "execution_count": 31,
      "outputs": [
        {
          "output_type": "execute_result",
          "data": {
            "text/plain": [
              "Violation Code\n",
              "36    2772\n",
              "5      365\n",
              "7      350\n",
              "12      62\n",
              "21      30\n",
              "Name: Summons Number, dtype: int64"
            ]
          },
          "metadata": {
            "tags": []
          },
          "execution_count": 31
        }
      ]
    },
    {
      "cell_type": "code",
      "metadata": {
        "colab": {
          "base_uri": "https://localhost:8080/",
          "height": 427
        },
        "id": "9U5ErlDc2Nj6",
        "outputId": "1ef70eb0-7b3f-4f20-86f3-4d0d83c997ba"
      },
      "source": [
        "fig = plt.figure(figsize=(15, 7))\r\n",
        "\r\n",
        "ax = top_5_no_NY.plot.pie()\r\n",
        "ax.set(xlabel='', ylabel='')\r\n",
        "\r\n",
        "plt.title('Proportion of the top 5 violations (excluding New York registered cars)',\r\n",
        "          size=12, alpha=0.8);\r\n",
        "\r\n",
        "plt.show();"
      ],
      "execution_count": 32,
      "outputs": [
        {
          "output_type": "display_data",
          "data": {
            "image/png": "[encoded data removed]",
            "text/plain": [
              "<Figure size 1080x504 with 1 Axes>"
            ]
          },
          "metadata": {
            "tags": []
          }
        }
      ]
    },
    {
      "cell_type": "markdown",
      "metadata": {
        "id": "RW7SA-l0C17T"
      },
      "source": [
        "Name the street where Hondas received the most parking violations."
      ]
    },
    {
      "cell_type": "code",
      "metadata": {
        "colab": {
          "base_uri": "https://localhost:8080/"
        },
        "id": "Lsix2-4gJ246",
        "outputId": "daa136e3-52c8-4ec6-86d1-56f755093b11"
      },
      "source": [
        "streets_hondas = df[df['Vehicle Make']=='HONDA'].groupby('Street Name')['Summons Number'].count().nlargest(5)\r\n",
        "streets_hondas"
      ],
      "execution_count": 35,
      "outputs": [
        {
          "output_type": "execute_result",
          "data": {
            "text/plain": [
              "Street Name\n",
              "Broadway                34\n",
              "WB CONDUIT BLVD @ LI    31\n",
              "WB QUEENS BLVD @ 72N    29\n",
              "NB WEST ST @ LEROY S    25\n",
              "EB W 14TH STREET @ 5    23\n",
              "Name: Summons Number, dtype: int64"
            ]
          },
          "metadata": {
            "tags": []
          },
          "execution_count": 35
        }
      ]
    },
    {
      "cell_type": "code",
      "metadata": {
        "colab": {
          "base_uri": "https://localhost:8080/",
          "height": 545
        },
        "id": "_mXMtgAhJ5Py",
        "outputId": "6abd1194-f756-43e4-f2f1-026790d3cf1e"
      },
      "source": [
        "# set the figure size\r\n",
        "fig = plt.figure(figsize=(15, 7))\r\n",
        "fig.patch.set_facecolor('#eaeaf2')\r\n",
        "\r\n",
        "# create a bar plot\r\n",
        "plt.bar(streets_hondas.index, streets_hondas.values)\r\n",
        "\r\n",
        "# rotate the xticks so they don't overlap\r\n",
        "plt.xticks(rotation=45, rotation_mode=\"anchor\", ha='right')\r\n",
        "\r\n",
        "# add a title\r\n",
        "plt.title('Streets were Hondas received the most parking violations',\r\n",
        "          size=16, alpha=0.8);\r\n",
        "\r\n",
        "# add a y label\r\n",
        "plt.ylabel('Number of Violations')\r\n",
        "\r\n",
        "# show the plot\r\n",
        "plt.show();"
      ],
      "execution_count": 36,
      "outputs": [
        {
          "output_type": "display_data",
          "data": {
            "image/png": "[encoded data removed]",
            "text/plain": [
              "<Figure size 1080x504 with 1 Axes>"
            ]
          },
          "metadata": {
            "tags": []
          }
        }
      ]
    }
  ]
}