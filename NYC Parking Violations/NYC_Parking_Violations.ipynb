{
  "nbformat": 4,
  "nbformat_minor": 0,
  "metadata": {
    "colab": {
      "name": "NYC Parking Violations.ipynb",
      "provenance": [],
      "collapsed_sections": [],
      "authorship_tag": "ABX9TyOdraTUxFoUu91tuzDwcbDq",
      "include_colab_link": true
    },
    "kernelspec": {
      "name": "python3",
      "display_name": "Python 3"
    }
  },
  "cells": [
    {
      "cell_type": "markdown",
      "metadata": {
        "id": "view-in-github",
        "colab_type": "text"
      },
      "source": [
        "<a href=\"https://colab.research.google.com/github/pedrohortencio/data-analysis-projects/blob/main/NYC%20Parking%20Violations/NYC_Parking_Violations.ipynb\" target=\"_parent\"><img src=\"https://colab.research.google.com/assets/colab-badge.svg\" alt=\"Open In Colab\"/></a>"
      ]
    },
    {
      "cell_type": "markdown",
      "metadata": {
        "id": "jdiTFfxof4bt"
      },
      "source": [
        "[Full violations data from NYC Open Data](https://data.cityofnewyork.us/City-Government/Parking-Violations-Issued-Fiscal-Year-2021/pvqr-7yc4)\r\n",
        "\r\n",
        "[Raw .csv data (subset of 50,000 rows)](https://raw.githubusercontent.com/pedrohortencio/data-analysis-projects/main/NYC%20Parking%20Violations/violations.csv)\r\n",
        "\r\n",
        "\r\n",
        "[Original project](https://towardsdatascience.com/learn-python-data-analytics-by-example-ny-parking-violations-e1ce1847fa2)"
      ]
    },
    {
      "cell_type": "markdown",
      "metadata": {
        "id": "8tCa1_n3je5p"
      },
      "source": [
        "### Importing the data file"
      ]
    },
    {
      "cell_type": "code",
      "metadata": {
        "id": "OYvSErYTfXMm"
      },
      "source": [
        "import pandas as pd\r\n",
        "import numpy as np\r\n",
        "import matplotlib.pyplot as plt"
      ],
      "execution_count": 22,
      "outputs": []
    },
    {
      "cell_type": "code",
      "metadata": {
        "colab": {
          "base_uri": "https://localhost:8080/",
          "height": 462
        },
        "id": "Gz8KdOs7gIkd",
        "outputId": "5d2ede2e-2e69-44e8-cf9d-a1beeebdc179"
      },
      "source": [
        "url = 'https://raw.githubusercontent.com/pedrohortencio/data-analysis-projects/main/NYC%20Parking%20Violations/violations.csv'\r\n",
        "\r\n",
        "# Importing .csv from the URL\r\n",
        "df = pd.read_csv(url)\r\n",
        "df.head()"
      ],
      "execution_count": 23,
      "outputs": [
        {
          "output_type": "execute_result",
          "data": {
            "text/html": [
              "<div>\n",
              "<style scoped>\n",
              "    .dataframe tbody tr th:only-of-type {\n",
              "        vertical-align: middle;\n",
              "    }\n",
              "\n",
              "    .dataframe tbody tr th {\n",
              "        vertical-align: top;\n",
              "    }\n",
              "\n",
              "    .dataframe thead th {\n",
              "        text-align: right;\n",
              "    }\n",
              "</style>\n",
              "<table border=\"1\" class=\"dataframe\">\n",
              "  <thead>\n",
              "    <tr style=\"text-align: right;\">\n",
              "      <th></th>\n",
              "      <th>Summons Number</th>\n",
              "      <th>Plate ID</th>\n",
              "      <th>Registration State</th>\n",
              "      <th>Plate Type</th>\n",
              "      <th>Issue Date</th>\n",
              "      <th>Violation Code</th>\n",
              "      <th>Vehicle Body Type</th>\n",
              "      <th>Vehicle Make</th>\n",
              "      <th>Issuing Agency</th>\n",
              "      <th>Street Code1</th>\n",
              "      <th>Street Code2</th>\n",
              "      <th>Street Code3</th>\n",
              "      <th>Vehicle Expiration Date</th>\n",
              "      <th>Violation Location</th>\n",
              "      <th>Violation Precinct</th>\n",
              "      <th>Issuer Precinct</th>\n",
              "      <th>Issuer Code</th>\n",
              "      <th>Issuer Command</th>\n",
              "      <th>Issuer Squad</th>\n",
              "      <th>Violation Time</th>\n",
              "      <th>Time First Observed</th>\n",
              "      <th>Violation County</th>\n",
              "      <th>Violation In Front Of Or Opposite</th>\n",
              "      <th>House Number</th>\n",
              "      <th>Street Name</th>\n",
              "      <th>Intersecting Street</th>\n",
              "      <th>Date First Observed</th>\n",
              "      <th>Law Section</th>\n",
              "      <th>Sub Division</th>\n",
              "      <th>Violation Legal Code</th>\n",
              "      <th>Days Parking In Effect</th>\n",
              "      <th>From Hours In Effect</th>\n",
              "      <th>To Hours In Effect</th>\n",
              "      <th>Vehicle Color</th>\n",
              "      <th>Unregistered Vehicle?</th>\n",
              "      <th>Vehicle Year</th>\n",
              "      <th>Meter Number</th>\n",
              "      <th>Feet From Curb</th>\n",
              "      <th>Violation Post Code</th>\n",
              "      <th>Violation Description</th>\n",
              "      <th>No Standing or Stopping Violation</th>\n",
              "      <th>Hydrant Violation</th>\n",
              "      <th>Double Parking Violation</th>\n",
              "    </tr>\n",
              "  </thead>\n",
              "  <tbody>\n",
              "    <tr>\n",
              "      <th>0</th>\n",
              "      <td>4714702166</td>\n",
              "      <td>KGK6659</td>\n",
              "      <td>NY</td>\n",
              "      <td>PAS</td>\n",
              "      <td>11/12/2020</td>\n",
              "      <td>36</td>\n",
              "      <td>4DSD</td>\n",
              "      <td>BMW</td>\n",
              "      <td>V</td>\n",
              "      <td>0</td>\n",
              "      <td>0</td>\n",
              "      <td>0</td>\n",
              "      <td>0</td>\n",
              "      <td>NaN</td>\n",
              "      <td>0</td>\n",
              "      <td>0</td>\n",
              "      <td>0</td>\n",
              "      <td>NaN</td>\n",
              "      <td>NaN</td>\n",
              "      <td>0637P</td>\n",
              "      <td>NaN</td>\n",
              "      <td>BK</td>\n",
              "      <td>NaN</td>\n",
              "      <td>NaN</td>\n",
              "      <td>WB ATLANTIC AVE @ SH</td>\n",
              "      <td>EPHERD AVE</td>\n",
              "      <td>0</td>\n",
              "      <td>1180</td>\n",
              "      <td>B</td>\n",
              "      <td>T</td>\n",
              "      <td>NaN</td>\n",
              "      <td>NaN</td>\n",
              "      <td>NaN</td>\n",
              "      <td>GY</td>\n",
              "      <td>NaN</td>\n",
              "      <td>2007</td>\n",
              "      <td>NaN</td>\n",
              "      <td>0</td>\n",
              "      <td>NaN</td>\n",
              "      <td>PHTO SCHOOL ZN SPEED VIOLATION</td>\n",
              "      <td>NaN</td>\n",
              "      <td>NaN</td>\n",
              "      <td>NaN</td>\n",
              "    </tr>\n",
              "    <tr>\n",
              "      <th>1</th>\n",
              "      <td>8793684599</td>\n",
              "      <td>L5232HY</td>\n",
              "      <td>TN</td>\n",
              "      <td>PAS</td>\n",
              "      <td>09/14/2020</td>\n",
              "      <td>21</td>\n",
              "      <td>TRAC</td>\n",
              "      <td>INTER</td>\n",
              "      <td>T</td>\n",
              "      <td>60790</td>\n",
              "      <td>31140</td>\n",
              "      <td>31190</td>\n",
              "      <td>20200888</td>\n",
              "      <td>101.0</td>\n",
              "      <td>101</td>\n",
              "      <td>101</td>\n",
              "      <td>367421</td>\n",
              "      <td>T402</td>\n",
              "      <td>N</td>\n",
              "      <td>0853A</td>\n",
              "      <td>NaN</td>\n",
              "      <td>Q</td>\n",
              "      <td>O</td>\n",
              "      <td>4212</td>\n",
              "      <td>Rockaway Beach Blvd</td>\n",
              "      <td>NaN</td>\n",
              "      <td>0</td>\n",
              "      <td>408</td>\n",
              "      <td>D1</td>\n",
              "      <td>NaN</td>\n",
              "      <td>Y</td>\n",
              "      <td>0830A</td>\n",
              "      <td>1000A</td>\n",
              "      <td>WHITE</td>\n",
              "      <td>NaN</td>\n",
              "      <td>0</td>\n",
              "      <td>NaN</td>\n",
              "      <td>0</td>\n",
              "      <td>W</td>\n",
              "      <td>NaN</td>\n",
              "      <td>NaN</td>\n",
              "      <td>NaN</td>\n",
              "      <td>NaN</td>\n",
              "    </tr>\n",
              "    <tr>\n",
              "      <th>2</th>\n",
              "      <td>8864757053</td>\n",
              "      <td>BPMN76</td>\n",
              "      <td>FL</td>\n",
              "      <td>PAS</td>\n",
              "      <td>11/25/2020</td>\n",
              "      <td>20</td>\n",
              "      <td>SUBN</td>\n",
              "      <td>NISSA</td>\n",
              "      <td>T</td>\n",
              "      <td>36030</td>\n",
              "      <td>31190</td>\n",
              "      <td>10610</td>\n",
              "      <td>20200688</td>\n",
              "      <td>28.0</td>\n",
              "      <td>28</td>\n",
              "      <td>28</td>\n",
              "      <td>367911</td>\n",
              "      <td>T103</td>\n",
              "      <td>FF</td>\n",
              "      <td>0853A</td>\n",
              "      <td>NaN</td>\n",
              "      <td>NY</td>\n",
              "      <td>F</td>\n",
              "      <td>130</td>\n",
              "      <td>W 113th St</td>\n",
              "      <td>NaN</td>\n",
              "      <td>0</td>\n",
              "      <td>408</td>\n",
              "      <td>d</td>\n",
              "      <td>NaN</td>\n",
              "      <td>YYYYYYY</td>\n",
              "      <td>NaN</td>\n",
              "      <td>NaN</td>\n",
              "      <td>BLACK</td>\n",
              "      <td>NaN</td>\n",
              "      <td>0</td>\n",
              "      <td>NaN</td>\n",
              "      <td>0</td>\n",
              "      <td>49</td>\n",
              "      <td>20A-No Parking (Non-COM)</td>\n",
              "      <td>NaN</td>\n",
              "      <td>NaN</td>\n",
              "      <td>NaN</td>\n",
              "    </tr>\n",
              "    <tr>\n",
              "      <th>3</th>\n",
              "      <td>8778326047</td>\n",
              "      <td>57387MJ</td>\n",
              "      <td>NY</td>\n",
              "      <td>COM</td>\n",
              "      <td>08/20/2020</td>\n",
              "      <td>38</td>\n",
              "      <td>VAN</td>\n",
              "      <td>NaN</td>\n",
              "      <td>T</td>\n",
              "      <td>34430</td>\n",
              "      <td>10410</td>\n",
              "      <td>13610</td>\n",
              "      <td>20211231</td>\n",
              "      <td>13.0</td>\n",
              "      <td>13</td>\n",
              "      <td>13</td>\n",
              "      <td>368567</td>\n",
              "      <td>T506</td>\n",
              "      <td>X</td>\n",
              "      <td>0444P</td>\n",
              "      <td>NaN</td>\n",
              "      <td>NY</td>\n",
              "      <td>F</td>\n",
              "      <td>4</td>\n",
              "      <td>W 33rd St</td>\n",
              "      <td>NaN</td>\n",
              "      <td>0</td>\n",
              "      <td>408</td>\n",
              "      <td>I3</td>\n",
              "      <td>NaN</td>\n",
              "      <td>YYYYY</td>\n",
              "      <td>0700A</td>\n",
              "      <td>0700P</td>\n",
              "      <td>WH</td>\n",
              "      <td>NaN</td>\n",
              "      <td>2016</td>\n",
              "      <td>NaN</td>\n",
              "      <td>0</td>\n",
              "      <td>01</td>\n",
              "      <td>NaN</td>\n",
              "      <td>NaN</td>\n",
              "      <td>NaN</td>\n",
              "      <td>NaN</td>\n",
              "    </tr>\n",
              "    <tr>\n",
              "      <th>4</th>\n",
              "      <td>4706640702</td>\n",
              "      <td>M81KFJ</td>\n",
              "      <td>NJ</td>\n",
              "      <td>PAS</td>\n",
              "      <td>09/09/2020</td>\n",
              "      <td>36</td>\n",
              "      <td>UT</td>\n",
              "      <td>TOYOT</td>\n",
              "      <td>V</td>\n",
              "      <td>0</td>\n",
              "      <td>0</td>\n",
              "      <td>0</td>\n",
              "      <td>0</td>\n",
              "      <td>NaN</td>\n",
              "      <td>0</td>\n",
              "      <td>0</td>\n",
              "      <td>0</td>\n",
              "      <td>NaN</td>\n",
              "      <td>NaN</td>\n",
              "      <td>0723A</td>\n",
              "      <td>NaN</td>\n",
              "      <td>BK</td>\n",
              "      <td>NaN</td>\n",
              "      <td>NaN</td>\n",
              "      <td>WB FOSTER AVE @ E 18</td>\n",
              "      <td>TH ST</td>\n",
              "      <td>0</td>\n",
              "      <td>1180</td>\n",
              "      <td>B</td>\n",
              "      <td>T</td>\n",
              "      <td>NaN</td>\n",
              "      <td>NaN</td>\n",
              "      <td>NaN</td>\n",
              "      <td>NaN</td>\n",
              "      <td>NaN</td>\n",
              "      <td>2002</td>\n",
              "      <td>NaN</td>\n",
              "      <td>0</td>\n",
              "      <td>NaN</td>\n",
              "      <td>PHTO SCHOOL ZN SPEED VIOLATION</td>\n",
              "      <td>NaN</td>\n",
              "      <td>NaN</td>\n",
              "      <td>NaN</td>\n",
              "    </tr>\n",
              "  </tbody>\n",
              "</table>\n",
              "</div>"
            ],
            "text/plain": [
              "   Summons Number Plate ID  ... Hydrant Violation Double Parking Violation\n",
              "0      4714702166  KGK6659  ...               NaN                      NaN\n",
              "1      8793684599  L5232HY  ...               NaN                      NaN\n",
              "2      8864757053   BPMN76  ...               NaN                      NaN\n",
              "3      8778326047  57387MJ  ...               NaN                      NaN\n",
              "4      4706640702   M81KFJ  ...               NaN                      NaN\n",
              "\n",
              "[5 rows x 43 columns]"
            ]
          },
          "metadata": {
            "tags": []
          },
          "execution_count": 23
        }
      ]
    },
    {
      "cell_type": "code",
      "metadata": {
        "colab": {
          "base_uri": "https://localhost:8080/"
        },
        "id": "lXVKYot_guvg",
        "outputId": "93f4930b-d31a-4ea6-93d8-62cb8b587590"
      },
      "source": [
        "rows, columns = df.shape\r\n",
        "print(\"Number of rows:\", rows)\r\n",
        "print(\"Number of columns:\", columns)"
      ],
      "execution_count": 24,
      "outputs": [
        {
          "output_type": "stream",
          "text": [
            "Number of rows: 50000\n",
            "Number of columns: 43\n"
          ],
          "name": "stdout"
        }
      ]
    },
    {
      "cell_type": "markdown",
      "metadata": {
        "id": "fgN2S6fujizt"
      },
      "source": [
        "### Changing the 'Issue Date' column to a date format."
      ]
    },
    {
      "cell_type": "code",
      "metadata": {
        "colab": {
          "base_uri": "https://localhost:8080/"
        },
        "id": "xOawtKGDgYmf",
        "outputId": "c735dede-efef-4bd5-9d54-9877a481a896"
      },
      "source": [
        "df['Issue Date'].dtype\r\n",
        "# The 'Issue Data' is in a MM/DD/YYYY format,\r\n",
        "# but pandas is treating it like a general object dtype"
      ],
      "execution_count": 25,
      "outputs": [
        {
          "output_type": "execute_result",
          "data": {
            "text/plain": [
              "dtype('O')"
            ]
          },
          "metadata": {
            "tags": []
          },
          "execution_count": 25
        }
      ]
    },
    {
      "cell_type": "code",
      "metadata": {
        "colab": {
          "base_uri": "https://localhost:8080/"
        },
        "id": "Ogu6zrHfgnOE",
        "outputId": "b0d9e52f-89b2-4955-ce1e-1868a04fc473"
      },
      "source": [
        "# To fix this, a simple method is to use .to_datetime\r\n",
        "df['Issue Date'] = pd.to_datetime(df['Issue Date'])\r\n",
        "df['Issue Date'].dtype"
      ],
      "execution_count": 26,
      "outputs": [
        {
          "output_type": "execute_result",
          "data": {
            "text/plain": [
              "dtype('<M8[ns]')"
            ]
          },
          "metadata": {
            "tags": []
          },
          "execution_count": 26
        }
      ]
    },
    {
      "cell_type": "code",
      "metadata": {
        "colab": {
          "base_uri": "https://localhost:8080/",
          "height": 479
        },
        "id": "Z7JaqODJh0uq",
        "outputId": "4e734959-119c-4c96-db62-b82a33d69b31"
      },
      "source": [
        "# Let's take a look\r\n",
        "df.head()"
      ],
      "execution_count": 27,
      "outputs": [
        {
          "output_type": "execute_result",
          "data": {
            "text/html": [
              "<div>\n",
              "<style scoped>\n",
              "    .dataframe tbody tr th:only-of-type {\n",
              "        vertical-align: middle;\n",
              "    }\n",
              "\n",
              "    .dataframe tbody tr th {\n",
              "        vertical-align: top;\n",
              "    }\n",
              "\n",
              "    .dataframe thead th {\n",
              "        text-align: right;\n",
              "    }\n",
              "</style>\n",
              "<table border=\"1\" class=\"dataframe\">\n",
              "  <thead>\n",
              "    <tr style=\"text-align: right;\">\n",
              "      <th></th>\n",
              "      <th>Summons Number</th>\n",
              "      <th>Plate ID</th>\n",
              "      <th>Registration State</th>\n",
              "      <th>Plate Type</th>\n",
              "      <th>Issue Date</th>\n",
              "      <th>Violation Code</th>\n",
              "      <th>Vehicle Body Type</th>\n",
              "      <th>Vehicle Make</th>\n",
              "      <th>Issuing Agency</th>\n",
              "      <th>Street Code1</th>\n",
              "      <th>Street Code2</th>\n",
              "      <th>Street Code3</th>\n",
              "      <th>Vehicle Expiration Date</th>\n",
              "      <th>Violation Location</th>\n",
              "      <th>Violation Precinct</th>\n",
              "      <th>Issuer Precinct</th>\n",
              "      <th>Issuer Code</th>\n",
              "      <th>Issuer Command</th>\n",
              "      <th>Issuer Squad</th>\n",
              "      <th>Violation Time</th>\n",
              "      <th>Time First Observed</th>\n",
              "      <th>Violation County</th>\n",
              "      <th>Violation In Front Of Or Opposite</th>\n",
              "      <th>House Number</th>\n",
              "      <th>Street Name</th>\n",
              "      <th>Intersecting Street</th>\n",
              "      <th>Date First Observed</th>\n",
              "      <th>Law Section</th>\n",
              "      <th>Sub Division</th>\n",
              "      <th>Violation Legal Code</th>\n",
              "      <th>Days Parking In Effect</th>\n",
              "      <th>From Hours In Effect</th>\n",
              "      <th>To Hours In Effect</th>\n",
              "      <th>Vehicle Color</th>\n",
              "      <th>Unregistered Vehicle?</th>\n",
              "      <th>Vehicle Year</th>\n",
              "      <th>Meter Number</th>\n",
              "      <th>Feet From Curb</th>\n",
              "      <th>Violation Post Code</th>\n",
              "      <th>Violation Description</th>\n",
              "      <th>No Standing or Stopping Violation</th>\n",
              "      <th>Hydrant Violation</th>\n",
              "      <th>Double Parking Violation</th>\n",
              "    </tr>\n",
              "  </thead>\n",
              "  <tbody>\n",
              "    <tr>\n",
              "      <th>0</th>\n",
              "      <td>4714702166</td>\n",
              "      <td>KGK6659</td>\n",
              "      <td>NY</td>\n",
              "      <td>PAS</td>\n",
              "      <td>2020-11-12</td>\n",
              "      <td>36</td>\n",
              "      <td>4DSD</td>\n",
              "      <td>BMW</td>\n",
              "      <td>V</td>\n",
              "      <td>0</td>\n",
              "      <td>0</td>\n",
              "      <td>0</td>\n",
              "      <td>0</td>\n",
              "      <td>NaN</td>\n",
              "      <td>0</td>\n",
              "      <td>0</td>\n",
              "      <td>0</td>\n",
              "      <td>NaN</td>\n",
              "      <td>NaN</td>\n",
              "      <td>0637P</td>\n",
              "      <td>NaN</td>\n",
              "      <td>BK</td>\n",
              "      <td>NaN</td>\n",
              "      <td>NaN</td>\n",
              "      <td>WB ATLANTIC AVE @ SH</td>\n",
              "      <td>EPHERD AVE</td>\n",
              "      <td>0</td>\n",
              "      <td>1180</td>\n",
              "      <td>B</td>\n",
              "      <td>T</td>\n",
              "      <td>NaN</td>\n",
              "      <td>NaN</td>\n",
              "      <td>NaN</td>\n",
              "      <td>GY</td>\n",
              "      <td>NaN</td>\n",
              "      <td>2007</td>\n",
              "      <td>NaN</td>\n",
              "      <td>0</td>\n",
              "      <td>NaN</td>\n",
              "      <td>PHTO SCHOOL ZN SPEED VIOLATION</td>\n",
              "      <td>NaN</td>\n",
              "      <td>NaN</td>\n",
              "      <td>NaN</td>\n",
              "    </tr>\n",
              "    <tr>\n",
              "      <th>1</th>\n",
              "      <td>8793684599</td>\n",
              "      <td>L5232HY</td>\n",
              "      <td>TN</td>\n",
              "      <td>PAS</td>\n",
              "      <td>2020-09-14</td>\n",
              "      <td>21</td>\n",
              "      <td>TRAC</td>\n",
              "      <td>INTER</td>\n",
              "      <td>T</td>\n",
              "      <td>60790</td>\n",
              "      <td>31140</td>\n",
              "      <td>31190</td>\n",
              "      <td>20200888</td>\n",
              "      <td>101.0</td>\n",
              "      <td>101</td>\n",
              "      <td>101</td>\n",
              "      <td>367421</td>\n",
              "      <td>T402</td>\n",
              "      <td>N</td>\n",
              "      <td>0853A</td>\n",
              "      <td>NaN</td>\n",
              "      <td>Q</td>\n",
              "      <td>O</td>\n",
              "      <td>4212</td>\n",
              "      <td>Rockaway Beach Blvd</td>\n",
              "      <td>NaN</td>\n",
              "      <td>0</td>\n",
              "      <td>408</td>\n",
              "      <td>D1</td>\n",
              "      <td>NaN</td>\n",
              "      <td>Y</td>\n",
              "      <td>0830A</td>\n",
              "      <td>1000A</td>\n",
              "      <td>WHITE</td>\n",
              "      <td>NaN</td>\n",
              "      <td>0</td>\n",
              "      <td>NaN</td>\n",
              "      <td>0</td>\n",
              "      <td>W</td>\n",
              "      <td>NaN</td>\n",
              "      <td>NaN</td>\n",
              "      <td>NaN</td>\n",
              "      <td>NaN</td>\n",
              "    </tr>\n",
              "    <tr>\n",
              "      <th>2</th>\n",
              "      <td>8864757053</td>\n",
              "      <td>BPMN76</td>\n",
              "      <td>FL</td>\n",
              "      <td>PAS</td>\n",
              "      <td>2020-11-25</td>\n",
              "      <td>20</td>\n",
              "      <td>SUBN</td>\n",
              "      <td>NISSA</td>\n",
              "      <td>T</td>\n",
              "      <td>36030</td>\n",
              "      <td>31190</td>\n",
              "      <td>10610</td>\n",
              "      <td>20200688</td>\n",
              "      <td>28.0</td>\n",
              "      <td>28</td>\n",
              "      <td>28</td>\n",
              "      <td>367911</td>\n",
              "      <td>T103</td>\n",
              "      <td>FF</td>\n",
              "      <td>0853A</td>\n",
              "      <td>NaN</td>\n",
              "      <td>NY</td>\n",
              "      <td>F</td>\n",
              "      <td>130</td>\n",
              "      <td>W 113th St</td>\n",
              "      <td>NaN</td>\n",
              "      <td>0</td>\n",
              "      <td>408</td>\n",
              "      <td>d</td>\n",
              "      <td>NaN</td>\n",
              "      <td>YYYYYYY</td>\n",
              "      <td>NaN</td>\n",
              "      <td>NaN</td>\n",
              "      <td>BLACK</td>\n",
              "      <td>NaN</td>\n",
              "      <td>0</td>\n",
              "      <td>NaN</td>\n",
              "      <td>0</td>\n",
              "      <td>49</td>\n",
              "      <td>20A-No Parking (Non-COM)</td>\n",
              "      <td>NaN</td>\n",
              "      <td>NaN</td>\n",
              "      <td>NaN</td>\n",
              "    </tr>\n",
              "    <tr>\n",
              "      <th>3</th>\n",
              "      <td>8778326047</td>\n",
              "      <td>57387MJ</td>\n",
              "      <td>NY</td>\n",
              "      <td>COM</td>\n",
              "      <td>2020-08-20</td>\n",
              "      <td>38</td>\n",
              "      <td>VAN</td>\n",
              "      <td>NaN</td>\n",
              "      <td>T</td>\n",
              "      <td>34430</td>\n",
              "      <td>10410</td>\n",
              "      <td>13610</td>\n",
              "      <td>20211231</td>\n",
              "      <td>13.0</td>\n",
              "      <td>13</td>\n",
              "      <td>13</td>\n",
              "      <td>368567</td>\n",
              "      <td>T506</td>\n",
              "      <td>X</td>\n",
              "      <td>0444P</td>\n",
              "      <td>NaN</td>\n",
              "      <td>NY</td>\n",
              "      <td>F</td>\n",
              "      <td>4</td>\n",
              "      <td>W 33rd St</td>\n",
              "      <td>NaN</td>\n",
              "      <td>0</td>\n",
              "      <td>408</td>\n",
              "      <td>I3</td>\n",
              "      <td>NaN</td>\n",
              "      <td>YYYYY</td>\n",
              "      <td>0700A</td>\n",
              "      <td>0700P</td>\n",
              "      <td>WH</td>\n",
              "      <td>NaN</td>\n",
              "      <td>2016</td>\n",
              "      <td>NaN</td>\n",
              "      <td>0</td>\n",
              "      <td>01</td>\n",
              "      <td>NaN</td>\n",
              "      <td>NaN</td>\n",
              "      <td>NaN</td>\n",
              "      <td>NaN</td>\n",
              "    </tr>\n",
              "    <tr>\n",
              "      <th>4</th>\n",
              "      <td>4706640702</td>\n",
              "      <td>M81KFJ</td>\n",
              "      <td>NJ</td>\n",
              "      <td>PAS</td>\n",
              "      <td>2020-09-09</td>\n",
              "      <td>36</td>\n",
              "      <td>UT</td>\n",
              "      <td>TOYOT</td>\n",
              "      <td>V</td>\n",
              "      <td>0</td>\n",
              "      <td>0</td>\n",
              "      <td>0</td>\n",
              "      <td>0</td>\n",
              "      <td>NaN</td>\n",
              "      <td>0</td>\n",
              "      <td>0</td>\n",
              "      <td>0</td>\n",
              "      <td>NaN</td>\n",
              "      <td>NaN</td>\n",
              "      <td>0723A</td>\n",
              "      <td>NaN</td>\n",
              "      <td>BK</td>\n",
              "      <td>NaN</td>\n",
              "      <td>NaN</td>\n",
              "      <td>WB FOSTER AVE @ E 18</td>\n",
              "      <td>TH ST</td>\n",
              "      <td>0</td>\n",
              "      <td>1180</td>\n",
              "      <td>B</td>\n",
              "      <td>T</td>\n",
              "      <td>NaN</td>\n",
              "      <td>NaN</td>\n",
              "      <td>NaN</td>\n",
              "      <td>NaN</td>\n",
              "      <td>NaN</td>\n",
              "      <td>2002</td>\n",
              "      <td>NaN</td>\n",
              "      <td>0</td>\n",
              "      <td>NaN</td>\n",
              "      <td>PHTO SCHOOL ZN SPEED VIOLATION</td>\n",
              "      <td>NaN</td>\n",
              "      <td>NaN</td>\n",
              "      <td>NaN</td>\n",
              "    </tr>\n",
              "  </tbody>\n",
              "</table>\n",
              "</div>"
            ],
            "text/plain": [
              "   Summons Number Plate ID  ... Hydrant Violation Double Parking Violation\n",
              "0      4714702166  KGK6659  ...               NaN                      NaN\n",
              "1      8793684599  L5232HY  ...               NaN                      NaN\n",
              "2      8864757053   BPMN76  ...               NaN                      NaN\n",
              "3      8778326047  57387MJ  ...               NaN                      NaN\n",
              "4      4706640702   M81KFJ  ...               NaN                      NaN\n",
              "\n",
              "[5 rows x 43 columns]"
            ]
          },
          "metadata": {
            "tags": []
          },
          "execution_count": 27
        }
      ]
    },
    {
      "cell_type": "markdown",
      "metadata": {
        "id": "Am_C6ENIj7Rs"
      },
      "source": [
        "### Searching for invalid data"
      ]
    },
    {
      "cell_type": "code",
      "metadata": {
        "colab": {
          "base_uri": "https://localhost:8080/"
        },
        "id": "RFBmYJs_j7wz",
        "outputId": "1029309e-825c-4373-9e05-0a3028b4dfc4"
      },
      "source": [
        "# Searching for missing values\r\n",
        "df.isna().sum()"
      ],
      "execution_count": 28,
      "outputs": [
        {
          "output_type": "execute_result",
          "data": {
            "text/plain": [
              "Summons Number                           0\n",
              "Plate ID                                 0\n",
              "Registration State                       0\n",
              "Plate Type                               0\n",
              "Issue Date                               0\n",
              "Violation Code                           0\n",
              "Vehicle Body Type                      145\n",
              "Vehicle Make                           136\n",
              "Issuing Agency                           0\n",
              "Street Code1                             0\n",
              "Street Code2                             0\n",
              "Street Code3                             0\n",
              "Vehicle Expiration Date                  0\n",
              "Violation Location                   17893\n",
              "Violation Precinct                       0\n",
              "Issuer Precinct                          0\n",
              "Issuer Code                              0\n",
              "Issuer Command                       17857\n",
              "Issuer Squad                         17857\n",
              "Violation Time                           1\n",
              "Time First Observed                  48111\n",
              "Violation County                       117\n",
              "Violation In Front Of Or Opposite    18068\n",
              "House Number                         18272\n",
              "Street Name                             10\n",
              "Intersecting Street                  27283\n",
              "Date First Observed                      0\n",
              "Law Section                              0\n",
              "Sub Division                             2\n",
              "Violation Legal Code                 32143\n",
              "Days Parking In Effect               17857\n",
              "From Hours In Effect                 30394\n",
              "To Hours In Effect                   30394\n",
              "Vehicle Color                         2417\n",
              "Unregistered Vehicle?                47892\n",
              "Vehicle Year                             0\n",
              "Meter Number                         47850\n",
              "Feet From Curb                           0\n",
              "Violation Post Code                  19965\n",
              "Violation Description                27198\n",
              "No Standing or Stopping Violation    50000\n",
              "Hydrant Violation                    50000\n",
              "Double Parking Violation             50000\n",
              "dtype: int64"
            ]
          },
          "metadata": {
            "tags": []
          },
          "execution_count": 28
        }
      ]
    },
    {
      "cell_type": "markdown",
      "metadata": {
        "id": "rhwsT44GnS81"
      },
      "source": [
        "There are a bunch of columns with huge number of NaN entries.\r\n",
        "\r\n",
        "```No Standing or Stopping Violation```, ```Hydrant Violation ``` and ```Double Parking Violation``` have all rows with NaN values.\r\n",
        "\r\n",
        "```Meter Number```, ```Unregistered Vehicle? ``` and ```Time First Observed``` have over 47k rows with missing values.\r\n",
        "\r\n",
        "```Violation Legal Code ```, ```From Hours In Effect  ``` and ```To Hours In Effect ``` have over 30k rows with missing values."
      ]
    },
    {
      "cell_type": "markdown",
      "metadata": {
        "id": "elQ9KXN6pWDH"
      },
      "source": [
        "As most of these problematic columns aren't useful for my analysis, I'll drop all of them and those I don't consider useful right now."
      ]
    },
    {
      "cell_type": "code",
      "metadata": {
        "colab": {
          "base_uri": "https://localhost:8080/",
          "height": 306
        },
        "id": "0vlCAT85ork_",
        "outputId": "0ad0cd61-7396-45ad-fb37-1d8f1a2224f5"
      },
      "source": [
        "columns_to_keep = ['Violation Code', 'Vehicle Make',\r\n",
        "                   'Issue Date', 'Plate Type', 'Vehicle Year',\r\n",
        "                   'Violation Time', 'Registration State']\r\n",
        "\r\n",
        "df.drop(df.columns.difference(columns_to_keep), 1, inplace=True)\r\n",
        "\r\n",
        "df.head()"
      ],
      "execution_count": 29,
      "outputs": [
        {
          "output_type": "execute_result",
          "data": {
            "text/html": [
              "<div>\n",
              "<style scoped>\n",
              "    .dataframe tbody tr th:only-of-type {\n",
              "        vertical-align: middle;\n",
              "    }\n",
              "\n",
              "    .dataframe tbody tr th {\n",
              "        vertical-align: top;\n",
              "    }\n",
              "\n",
              "    .dataframe thead th {\n",
              "        text-align: right;\n",
              "    }\n",
              "</style>\n",
              "<table border=\"1\" class=\"dataframe\">\n",
              "  <thead>\n",
              "    <tr style=\"text-align: right;\">\n",
              "      <th></th>\n",
              "      <th>Registration State</th>\n",
              "      <th>Plate Type</th>\n",
              "      <th>Issue Date</th>\n",
              "      <th>Violation Code</th>\n",
              "      <th>Vehicle Make</th>\n",
              "      <th>Violation Time</th>\n",
              "      <th>Vehicle Year</th>\n",
              "    </tr>\n",
              "  </thead>\n",
              "  <tbody>\n",
              "    <tr>\n",
              "      <th>0</th>\n",
              "      <td>NY</td>\n",
              "      <td>PAS</td>\n",
              "      <td>2020-11-12</td>\n",
              "      <td>36</td>\n",
              "      <td>BMW</td>\n",
              "      <td>0637P</td>\n",
              "      <td>2007</td>\n",
              "    </tr>\n",
              "    <tr>\n",
              "      <th>1</th>\n",
              "      <td>TN</td>\n",
              "      <td>PAS</td>\n",
              "      <td>2020-09-14</td>\n",
              "      <td>21</td>\n",
              "      <td>INTER</td>\n",
              "      <td>0853A</td>\n",
              "      <td>0</td>\n",
              "    </tr>\n",
              "    <tr>\n",
              "      <th>2</th>\n",
              "      <td>FL</td>\n",
              "      <td>PAS</td>\n",
              "      <td>2020-11-25</td>\n",
              "      <td>20</td>\n",
              "      <td>NISSA</td>\n",
              "      <td>0853A</td>\n",
              "      <td>0</td>\n",
              "    </tr>\n",
              "    <tr>\n",
              "      <th>3</th>\n",
              "      <td>NY</td>\n",
              "      <td>COM</td>\n",
              "      <td>2020-08-20</td>\n",
              "      <td>38</td>\n",
              "      <td>NaN</td>\n",
              "      <td>0444P</td>\n",
              "      <td>2016</td>\n",
              "    </tr>\n",
              "    <tr>\n",
              "      <th>4</th>\n",
              "      <td>NJ</td>\n",
              "      <td>PAS</td>\n",
              "      <td>2020-09-09</td>\n",
              "      <td>36</td>\n",
              "      <td>TOYOT</td>\n",
              "      <td>0723A</td>\n",
              "      <td>2002</td>\n",
              "    </tr>\n",
              "  </tbody>\n",
              "</table>\n",
              "</div>"
            ],
            "text/plain": [
              "  Registration State Plate Type  ... Violation Time  Vehicle Year\n",
              "0                 NY        PAS  ...          0637P          2007\n",
              "1                 TN        PAS  ...          0853A             0\n",
              "2                 FL        PAS  ...          0853A             0\n",
              "3                 NY        COM  ...          0444P          2016\n",
              "4                 NJ        PAS  ...          0723A          2002\n",
              "\n",
              "[5 rows x 7 columns]"
            ]
          },
          "metadata": {
            "tags": []
          },
          "execution_count": 29
        }
      ]
    },
    {
      "cell_type": "code",
      "metadata": {
        "colab": {
          "base_uri": "https://localhost:8080/"
        },
        "id": "fTkqIYpAqMaY",
        "outputId": "beac9eb9-0aaa-416e-8844-ce8b7c1ab318"
      },
      "source": [
        "# Checking missing values again:\r\n",
        "df.isna().sum()"
      ],
      "execution_count": 30,
      "outputs": [
        {
          "output_type": "execute_result",
          "data": {
            "text/plain": [
              "Registration State      0\n",
              "Plate Type              0\n",
              "Issue Date              0\n",
              "Violation Code          0\n",
              "Vehicle Make          136\n",
              "Violation Time          1\n",
              "Vehicle Year            0\n",
              "dtype: int64"
            ]
          },
          "metadata": {
            "tags": []
          },
          "execution_count": 30
        }
      ]
    },
    {
      "cell_type": "code",
      "metadata": {
        "colab": {
          "base_uri": "https://localhost:8080/"
        },
        "id": "hJDQPfBdVfHx",
        "outputId": "5a837759-940f-48fc-bfbf-1e6c08526766"
      },
      "source": [
        "# Inspecting the 'Registration State' column\r\n",
        "df[\"Registration State\"].unique()\r\n",
        "# The '99' entry doesn't mean anything and it's possible a missing value."
      ],
      "execution_count": 31,
      "outputs": [
        {
          "output_type": "execute_result",
          "data": {
            "text/plain": [
              "array(['NY', 'TN', 'FL', 'NJ', 'MA', 'PA', 'MD', 'CT', 'TX', 'CA', 'IL',\n",
              "       'IN', 'OR', 'AZ', 'QB', 'WA', 'GA', 'CO', 'GV', 'NC', 'ME', 'DE',\n",
              "       'VA', 'MN', '99', 'WV', 'OH', 'NH', 'AR', 'DC', 'SC', 'NV', 'SD',\n",
              "       'RI', 'MO', 'LA', 'NM', 'OK', 'AL', 'IA', 'MT', 'MI', 'NE', 'ID',\n",
              "       'KY', 'VT', 'WI', 'MS', 'ON', 'HI', 'KS', 'UT', 'AK', 'FO', 'PR',\n",
              "       'DP', 'WY', 'AB', 'ND'], dtype=object)"
            ]
          },
          "metadata": {
            "tags": []
          },
          "execution_count": 31
        }
      ]
    },
    {
      "cell_type": "code",
      "metadata": {
        "colab": {
          "base_uri": "https://localhost:8080/",
          "height": 606
        },
        "id": "cPprGujGVRPS",
        "outputId": "83821e03-e9ae-40bf-f836-0a2b0ecc80f0"
      },
      "source": [
        "# Examining the rows where \"Registration State\" is 99 we can see that the \"Plate Type\"\r\n",
        "# also has a missing value entry: '999'\r\n",
        "df[df['Registration State'] == \"99\"]"
      ],
      "execution_count": 32,
      "outputs": [
        {
          "output_type": "execute_result",
          "data": {
            "text/html": [
              "<div>\n",
              "<style scoped>\n",
              "    .dataframe tbody tr th:only-of-type {\n",
              "        vertical-align: middle;\n",
              "    }\n",
              "\n",
              "    .dataframe tbody tr th {\n",
              "        vertical-align: top;\n",
              "    }\n",
              "\n",
              "    .dataframe thead th {\n",
              "        text-align: right;\n",
              "    }\n",
              "</style>\n",
              "<table border=\"1\" class=\"dataframe\">\n",
              "  <thead>\n",
              "    <tr style=\"text-align: right;\">\n",
              "      <th></th>\n",
              "      <th>Registration State</th>\n",
              "      <th>Plate Type</th>\n",
              "      <th>Issue Date</th>\n",
              "      <th>Violation Code</th>\n",
              "      <th>Vehicle Make</th>\n",
              "      <th>Violation Time</th>\n",
              "      <th>Vehicle Year</th>\n",
              "    </tr>\n",
              "  </thead>\n",
              "  <tbody>\n",
              "    <tr>\n",
              "      <th>450</th>\n",
              "      <td>99</td>\n",
              "      <td>999</td>\n",
              "      <td>2020-09-08</td>\n",
              "      <td>20</td>\n",
              "      <td>FORD</td>\n",
              "      <td>0258P</td>\n",
              "      <td>0</td>\n",
              "    </tr>\n",
              "    <tr>\n",
              "      <th>8177</th>\n",
              "      <td>99</td>\n",
              "      <td>999</td>\n",
              "      <td>2020-10-06</td>\n",
              "      <td>74</td>\n",
              "      <td>HONDA</td>\n",
              "      <td>0123P</td>\n",
              "      <td>2009</td>\n",
              "    </tr>\n",
              "    <tr>\n",
              "      <th>8371</th>\n",
              "      <td>99</td>\n",
              "      <td>999</td>\n",
              "      <td>2020-07-22</td>\n",
              "      <td>70</td>\n",
              "      <td>MITSU</td>\n",
              "      <td>1050P</td>\n",
              "      <td>2008</td>\n",
              "    </tr>\n",
              "    <tr>\n",
              "      <th>9097</th>\n",
              "      <td>99</td>\n",
              "      <td>999</td>\n",
              "      <td>2020-08-04</td>\n",
              "      <td>21</td>\n",
              "      <td>INTER</td>\n",
              "      <td>0839A</td>\n",
              "      <td>0</td>\n",
              "    </tr>\n",
              "    <tr>\n",
              "      <th>10194</th>\n",
              "      <td>99</td>\n",
              "      <td>COM</td>\n",
              "      <td>2020-08-29</td>\n",
              "      <td>21</td>\n",
              "      <td>FORD</td>\n",
              "      <td>0820A</td>\n",
              "      <td>2010</td>\n",
              "    </tr>\n",
              "    <tr>\n",
              "      <th>...</th>\n",
              "      <td>...</td>\n",
              "      <td>...</td>\n",
              "      <td>...</td>\n",
              "      <td>...</td>\n",
              "      <td>...</td>\n",
              "      <td>...</td>\n",
              "      <td>...</td>\n",
              "    </tr>\n",
              "    <tr>\n",
              "      <th>47496</th>\n",
              "      <td>99</td>\n",
              "      <td>999</td>\n",
              "      <td>2020-07-11</td>\n",
              "      <td>51</td>\n",
              "      <td>HONDA</td>\n",
              "      <td>0955A</td>\n",
              "      <td>0</td>\n",
              "    </tr>\n",
              "    <tr>\n",
              "      <th>48018</th>\n",
              "      <td>99</td>\n",
              "      <td>PAS</td>\n",
              "      <td>2020-10-11</td>\n",
              "      <td>14</td>\n",
              "      <td>CHEVR</td>\n",
              "      <td>1240A</td>\n",
              "      <td>2014</td>\n",
              "    </tr>\n",
              "    <tr>\n",
              "      <th>49639</th>\n",
              "      <td>99</td>\n",
              "      <td>PAS</td>\n",
              "      <td>2020-09-03</td>\n",
              "      <td>21</td>\n",
              "      <td>TOYOT</td>\n",
              "      <td>0904A</td>\n",
              "      <td>0</td>\n",
              "    </tr>\n",
              "    <tr>\n",
              "      <th>49653</th>\n",
              "      <td>99</td>\n",
              "      <td>PAS</td>\n",
              "      <td>2020-07-15</td>\n",
              "      <td>17</td>\n",
              "      <td>CHEVR</td>\n",
              "      <td>0825A</td>\n",
              "      <td>0</td>\n",
              "    </tr>\n",
              "    <tr>\n",
              "      <th>49959</th>\n",
              "      <td>99</td>\n",
              "      <td>999</td>\n",
              "      <td>2020-10-07</td>\n",
              "      <td>74</td>\n",
              "      <td>VESPA</td>\n",
              "      <td>0117P</td>\n",
              "      <td>0</td>\n",
              "    </tr>\n",
              "  </tbody>\n",
              "</table>\n",
              "<p>70 rows × 7 columns</p>\n",
              "</div>"
            ],
            "text/plain": [
              "      Registration State Plate Type  ... Violation Time  Vehicle Year\n",
              "450                   99        999  ...          0258P             0\n",
              "8177                  99        999  ...          0123P          2009\n",
              "8371                  99        999  ...          1050P          2008\n",
              "9097                  99        999  ...          0839A             0\n",
              "10194                 99        COM  ...          0820A          2010\n",
              "...                  ...        ...  ...            ...           ...\n",
              "47496                 99        999  ...          0955A             0\n",
              "48018                 99        PAS  ...          1240A          2014\n",
              "49639                 99        PAS  ...          0904A             0\n",
              "49653                 99        PAS  ...          0825A             0\n",
              "49959                 99        999  ...          0117P             0\n",
              "\n",
              "[70 rows x 7 columns]"
            ]
          },
          "metadata": {
            "tags": []
          },
          "execution_count": 32
        }
      ]
    },
    {
      "cell_type": "code",
      "metadata": {
        "id": "aCg0bTGGYBZk"
      },
      "source": [
        "# Let's discart these rows, along with the ones that have some column with NaN value:\r\n",
        "\r\n",
        "df = df[(df['Registration State'] != \"99\") \r\n",
        "    & (df['Plate Type'] != \"999\")\r\n",
        "    & (df['Vehicle Make'].notnull()) \r\n",
        "    & (df['Violation Time'].notnull())]"
      ],
      "execution_count": 35,
      "outputs": []
    },
    {
      "cell_type": "code",
      "metadata": {
        "colab": {
          "base_uri": "https://localhost:8080/",
          "height": 66
        },
        "id": "A-Zz-66dYbG-",
        "outputId": "a5a8ba7b-1da4-498c-8849-946d98a7bfe5"
      },
      "source": [
        "# Sanity check\r\n",
        "df[df['Registration State'] == \"99\"]"
      ],
      "execution_count": 37,
      "outputs": [
        {
          "output_type": "execute_result",
          "data": {
            "text/html": [
              "<div>\n",
              "<style scoped>\n",
              "    .dataframe tbody tr th:only-of-type {\n",
              "        vertical-align: middle;\n",
              "    }\n",
              "\n",
              "    .dataframe tbody tr th {\n",
              "        vertical-align: top;\n",
              "    }\n",
              "\n",
              "    .dataframe thead th {\n",
              "        text-align: right;\n",
              "    }\n",
              "</style>\n",
              "<table border=\"1\" class=\"dataframe\">\n",
              "  <thead>\n",
              "    <tr style=\"text-align: right;\">\n",
              "      <th></th>\n",
              "      <th>Registration State</th>\n",
              "      <th>Plate Type</th>\n",
              "      <th>Issue Date</th>\n",
              "      <th>Violation Code</th>\n",
              "      <th>Vehicle Make</th>\n",
              "      <th>Violation Time</th>\n",
              "      <th>Vehicle Year</th>\n",
              "    </tr>\n",
              "  </thead>\n",
              "  <tbody>\n",
              "  </tbody>\n",
              "</table>\n",
              "</div>"
            ],
            "text/plain": [
              "Empty DataFrame\n",
              "Columns: [Registration State, Plate Type, Issue Date, Violation Code, Vehicle Make, Violation Time, Vehicle Year]\n",
              "Index: []"
            ]
          },
          "metadata": {
            "tags": []
          },
          "execution_count": 37
        }
      ]
    },
    {
      "cell_type": "markdown",
      "metadata": {
        "id": "HkoCJTV5YwMz"
      },
      "source": [
        "Let's see if there are wrong dates in the \"Issue Date\" column"
      ]
    },
    {
      "cell_type": "code",
      "metadata": {
        "colab": {
          "base_uri": "https://localhost:8080/",
          "height": 210
        },
        "id": "5aRpU55-UdeA",
        "outputId": "0f22bca0-46ca-48ef-c504-2cbd11d849c5"
      },
      "source": [
        "# Dates before 04/01/2020 (beggining of the fiscal year)\r\n",
        "df[df[\"Issue Date\"] <= '2020-04-01']"
      ],
      "execution_count": 38,
      "outputs": [
        {
          "output_type": "execute_result",
          "data": {
            "text/html": [
              "<div>\n",
              "<style scoped>\n",
              "    .dataframe tbody tr th:only-of-type {\n",
              "        vertical-align: middle;\n",
              "    }\n",
              "\n",
              "    .dataframe tbody tr th {\n",
              "        vertical-align: top;\n",
              "    }\n",
              "\n",
              "    .dataframe thead th {\n",
              "        text-align: right;\n",
              "    }\n",
              "</style>\n",
              "<table border=\"1\" class=\"dataframe\">\n",
              "  <thead>\n",
              "    <tr style=\"text-align: right;\">\n",
              "      <th></th>\n",
              "      <th>Registration State</th>\n",
              "      <th>Plate Type</th>\n",
              "      <th>Issue Date</th>\n",
              "      <th>Violation Code</th>\n",
              "      <th>Vehicle Make</th>\n",
              "      <th>Violation Time</th>\n",
              "      <th>Vehicle Year</th>\n",
              "    </tr>\n",
              "  </thead>\n",
              "  <tbody>\n",
              "    <tr>\n",
              "      <th>5478</th>\n",
              "      <td>NY</td>\n",
              "      <td>PAS</td>\n",
              "      <td>2019-12-13</td>\n",
              "      <td>17</td>\n",
              "      <td>MITSU</td>\n",
              "      <td>0743A</td>\n",
              "      <td>2006</td>\n",
              "    </tr>\n",
              "    <tr>\n",
              "      <th>38476</th>\n",
              "      <td>NY</td>\n",
              "      <td>PAS</td>\n",
              "      <td>2010-10-22</td>\n",
              "      <td>19</td>\n",
              "      <td>BMW</td>\n",
              "      <td>0354P</td>\n",
              "      <td>2019</td>\n",
              "    </tr>\n",
              "    <tr>\n",
              "      <th>39623</th>\n",
              "      <td>NY</td>\n",
              "      <td>PAS</td>\n",
              "      <td>2020-02-26</td>\n",
              "      <td>20</td>\n",
              "      <td>BMW</td>\n",
              "      <td>0939A</td>\n",
              "      <td>2007</td>\n",
              "    </tr>\n",
              "  </tbody>\n",
              "</table>\n",
              "</div>"
            ],
            "text/plain": [
              "      Registration State Plate Type  ... Violation Time  Vehicle Year\n",
              "5478                  NY        PAS  ...          0743A          2006\n",
              "38476                 NY        PAS  ...          0354P          2019\n",
              "39623                 NY        PAS  ...          0939A          2007\n",
              "\n",
              "[3 rows x 7 columns]"
            ]
          },
          "metadata": {
            "tags": []
          },
          "execution_count": 38
        }
      ]
    },
    {
      "cell_type": "code",
      "metadata": {
        "colab": {
          "base_uri": "https://localhost:8080/",
          "height": 258
        },
        "id": "Yl6B0rIdYour",
        "outputId": "65f938c6-700b-4cb8-c4b8-9394e465a8f9"
      },
      "source": [
        "# Dates after 11/30/2020 (the end of the fiscal year)\r\n",
        "df[df[\"Issue Date\"] >= '2020-11-30']"
      ],
      "execution_count": 39,
      "outputs": [
        {
          "output_type": "execute_result",
          "data": {
            "text/html": [
              "<div>\n",
              "<style scoped>\n",
              "    .dataframe tbody tr th:only-of-type {\n",
              "        vertical-align: middle;\n",
              "    }\n",
              "\n",
              "    .dataframe tbody tr th {\n",
              "        vertical-align: top;\n",
              "    }\n",
              "\n",
              "    .dataframe thead th {\n",
              "        text-align: right;\n",
              "    }\n",
              "</style>\n",
              "<table border=\"1\" class=\"dataframe\">\n",
              "  <thead>\n",
              "    <tr style=\"text-align: right;\">\n",
              "      <th></th>\n",
              "      <th>Registration State</th>\n",
              "      <th>Plate Type</th>\n",
              "      <th>Issue Date</th>\n",
              "      <th>Violation Code</th>\n",
              "      <th>Vehicle Make</th>\n",
              "      <th>Violation Time</th>\n",
              "      <th>Vehicle Year</th>\n",
              "    </tr>\n",
              "  </thead>\n",
              "  <tbody>\n",
              "    <tr>\n",
              "      <th>26544</th>\n",
              "      <td>NY</td>\n",
              "      <td>PAS</td>\n",
              "      <td>2030-08-06</td>\n",
              "      <td>21</td>\n",
              "      <td>TOYOT</td>\n",
              "      <td>0954A</td>\n",
              "      <td>2014</td>\n",
              "    </tr>\n",
              "    <tr>\n",
              "      <th>29120</th>\n",
              "      <td>NY</td>\n",
              "      <td>PAS</td>\n",
              "      <td>2021-11-04</td>\n",
              "      <td>21</td>\n",
              "      <td>CHEVR</td>\n",
              "      <td>1123A</td>\n",
              "      <td>0</td>\n",
              "    </tr>\n",
              "    <tr>\n",
              "      <th>29947</th>\n",
              "      <td>NY</td>\n",
              "      <td>PAS</td>\n",
              "      <td>2022-10-20</td>\n",
              "      <td>21</td>\n",
              "      <td>SUBAR</td>\n",
              "      <td>1206P</td>\n",
              "      <td>2014</td>\n",
              "    </tr>\n",
              "    <tr>\n",
              "      <th>48186</th>\n",
              "      <td>NY</td>\n",
              "      <td>PAS</td>\n",
              "      <td>2026-09-16</td>\n",
              "      <td>21</td>\n",
              "      <td>HONDA</td>\n",
              "      <td>0739A</td>\n",
              "      <td>2003</td>\n",
              "    </tr>\n",
              "  </tbody>\n",
              "</table>\n",
              "</div>"
            ],
            "text/plain": [
              "      Registration State Plate Type  ... Violation Time  Vehicle Year\n",
              "26544                 NY        PAS  ...          0954A          2014\n",
              "29120                 NY        PAS  ...          1123A             0\n",
              "29947                 NY        PAS  ...          1206P          2014\n",
              "48186                 NY        PAS  ...          0739A          2003\n",
              "\n",
              "[4 rows x 7 columns]"
            ]
          },
          "metadata": {
            "tags": []
          },
          "execution_count": 39
        }
      ]
    },
    {
      "cell_type": "code",
      "metadata": {
        "id": "NSPFC-2CZY0M"
      },
      "source": [
        "# Let's discard these rows:\r\n",
        "\r\n",
        "df = df[(df['Issue Date'] >= '2020-04-01') \r\n",
        "        & (df['Issue Date'] <= '2020-11-30')]"
      ],
      "execution_count": 40,
      "outputs": []
    },
    {
      "cell_type": "markdown",
      "metadata": {
        "id": "nBOUxiS5Zkau"
      },
      "source": [
        "Dealing with the other two columns"
      ]
    },
    {
      "cell_type": "code",
      "metadata": {
        "colab": {
          "base_uri": "https://localhost:8080/"
        },
        "id": "Res46o4pZOOV",
        "outputId": "35dd8426-bb60-4b01-e62d-64170e15008b"
      },
      "source": [
        "# \"Violation Code\"\r\n",
        "\r\n",
        "df['Violation Code'].unique()\r\n",
        "# it looks alright"
      ],
      "execution_count": 41,
      "outputs": [
        {
          "output_type": "execute_result",
          "data": {
            "text/plain": [
              "array([36, 21, 20, 74, 38, 14,  7, 40, 31, 16, 50, 69, 68, 17, 46, 84, 19,\n",
              "       42,  5, 37, 33, 10, 78, 70, 51, 47, 82, 66, 61, 98, 53, 94, 71,  8,\n",
              "       41, 45, 72, 99, 12, 18, 77,  9, 48, 83, 22, 67, 39, 85, 76, 13, 52,\n",
              "       60,  6, 24, 75, 64, 11, 73,  4, 87, 54, 35, 56, 62, 27, 96, 91, 44,\n",
              "       26, 49, 89, 80, 95, 79, 63,  1, 59])"
            ]
          },
          "metadata": {
            "tags": []
          },
          "execution_count": 41
        }
      ]
    },
    {
      "cell_type": "code",
      "metadata": {
        "colab": {
          "base_uri": "https://localhost:8080/"
        },
        "id": "fevU-1AcZv57",
        "outputId": "d126ab7b-1b1c-42df-d241-7543daa84f48"
      },
      "source": [
        "# \"Vehicle Year\"\r\n",
        "df['Vehicle Year'].unique()\r\n",
        "# definitely numbers like 0 and bigger than 2020 shouldn't be here"
      ],
      "execution_count": 43,
      "outputs": [
        {
          "output_type": "execute_result",
          "data": {
            "text/plain": [
              "array([2007,    0, 2002, 2017, 2008, 2016, 2018, 2006, 2019, 2013, 2004,\n",
              "       2005, 2010, 2020, 1997, 2012, 2009, 2015, 2014, 2011, 2003, 2021,\n",
              "       2001, 1991, 1998, 1995, 1999, 1994, 1990, 1992, 1989, 1993, 1996,\n",
              "       1985, 2054, 1977, 1988, 1978, 1987, 2066, 1984, 1986, 1976, 1982,\n",
              "       1983, 2069, 1979, 2062])"
            ]
          },
          "metadata": {
            "tags": []
          },
          "execution_count": 43
        }
      ]
    },
    {
      "cell_type": "code",
      "metadata": {
        "id": "fEeOMZnSaXHE"
      },
      "source": [
        "df = df[(df['Vehicle Year'] != 0) \r\n",
        "    & (df['Vehicle Year'] <= 2020)]"
      ],
      "execution_count": 44,
      "outputs": []
    },
    {
      "cell_type": "code",
      "metadata": {
        "colab": {
          "base_uri": "https://localhost:8080/"
        },
        "id": "sgzd_R7iagQj",
        "outputId": "50e62735-286a-4243-9c5a-859df3c41c51"
      },
      "source": [
        "rows, columns = df.shape\r\n",
        "\r\n",
        "print(\"After data processing\")\r\n",
        "print(\"Rows:\", rows)\r\n",
        "print(\"Columns:\", columns)"
      ],
      "execution_count": 47,
      "outputs": [
        {
          "output_type": "stream",
          "text": [
            "After data processing\n",
            "Rows: 38937\n",
            "Columns: 7\n"
          ],
          "name": "stdout"
        }
      ]
    },
    {
      "cell_type": "markdown",
      "metadata": {
        "id": "Fui0w9owa7OR"
      },
      "source": [
        "11063 rows were discarted."
      ]
    },
    {
      "cell_type": "markdown",
      "metadata": {
        "id": "XHBSFRiDa_1z"
      },
      "source": [
        "###Plotting"
      ]
    },
    {
      "cell_type": "code",
      "metadata": {
        "id": "HGIvrjYQbCMx"
      },
      "source": [
        ""
      ],
      "execution_count": null,
      "outputs": []
    }
  ]
}